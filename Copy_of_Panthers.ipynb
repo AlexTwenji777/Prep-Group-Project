{
  "nbformat": 4,
  "nbformat_minor": 0,
  "metadata": {
    "colab": {
      "name": "Copy of Panthers.ipynb",
      "provenance": [],
      "collapsed_sections": [
        "KC8jERBm7HiU",
        "J3PYw8kaoVyk",
        "BHwH3RUFbXu_",
        "zF8j5jhGh9nV",
        "OCSEa23F4dnt",
        "pgprBoRc4poC",
        "MKHIDZZJYKnF"
      ],
      "toc_visible": true
    },
    "kernelspec": {
      "name": "python3",
      "display_name": "Python 3"
    }
  },
  "cells": [
    {
      "cell_type": "markdown",
      "metadata": {
        "id": "osOCWUno68ZC"
      },
      "source": [
        "Kenya’s goal is to reach 100% electricity connectivity by 2022 while enabling a green, clean driven economy. This means 100% sustainable energy in terms of electricity generation and consumption. Additionally, in accordance with the Paris Agreement, Kenya committed itself to tackling climate change. The country’s determined contribution (National Determined Contribution), which is pegged on the 2013 Kenya Climate Change Action Plan, promises to reduce greenhouse gas (GHG) emissions by 30% by 2030 from 2015 (Ministry of Environment and Natural Resources 2015). There is a need to track the consumption of energy over the years."
      ]
    },
    {
      "cell_type": "markdown",
      "metadata": {
        "id": "KC8jERBm7HiU"
      },
      "source": [
        "# DATA PREPARATION"
      ]
    },
    {
      "cell_type": "code",
      "metadata": {
        "id": "W1tyOBER6sv-"
      },
      "source": [
        "# Loading libraries into our environment\n",
        "\n",
        "import pandas as pd\n",
        "import numpy as np\n",
        "import seaborn as sns\n",
        "import matplotlib.pyplot as plt\n",
        "%matplotlib inline"
      ],
      "execution_count": null,
      "outputs": []
    },
    {
      "cell_type": "code",
      "metadata": {
        "id": "_3303Vb97xKr"
      },
      "source": [
        "# Loading the datasets into the environment\n",
        "\n",
        "Energy_2020 = pd.read_csv('Energy_Main_Lighting_Energy_Sources.csv')\n",
        "Energy_2017 = pd.read_csv('Main_Lighting_Energy_Sources_averaged_to_Districts_in_2009.csv')"
      ],
      "execution_count": null,
      "outputs": []
    },
    {
      "cell_type": "code",
      "metadata": {
        "colab": {
          "base_uri": "https://localhost:8080/"
        },
        "id": "vSVR706m8I3W",
        "outputId": "47ccee5a-a80f-4836-eefe-1b31a3c5e5a0"
      },
      "source": [
        "# Previewing Energy 2020\n",
        "Energy_2020.head()"
      ],
      "execution_count": null,
      "outputs": [
        {
          "output_type": "execute_result",
          "data": {
            "text/html": [
              "<div>\n",
              "<style scoped>\n",
              "    .dataframe tbody tr th:only-of-type {\n",
              "        vertical-align: middle;\n",
              "    }\n",
              "\n",
              "    .dataframe tbody tr th {\n",
              "        vertical-align: top;\n",
              "    }\n",
              "\n",
              "    .dataframe thead th {\n",
              "        text-align: right;\n",
              "    }\n",
              "</style>\n",
              "<table border=\"1\" class=\"dataframe\">\n",
              "  <thead>\n",
              "    <tr style=\"text-align: right;\">\n",
              "      <th></th>\n",
              "      <th>OBJECTID</th>\n",
              "      <th>County</th>\n",
              "      <th>Electricty_percentage</th>\n",
              "      <th>Pressure_Lamp_percentage</th>\n",
              "      <th>Lantern_percentage</th>\n",
              "      <th>Tin_Lamp_percebntage</th>\n",
              "      <th>Gas_Lamp_percentage</th>\n",
              "      <th>Fuel_wood_percentage</th>\n",
              "      <th>Solar_percentage</th>\n",
              "      <th>Other_Lighting_percentage</th>\n",
              "      <th>Number_of_households_with_electricity</th>\n",
              "      <th>Number_of_households_with_Pressure_Lamp</th>\n",
              "      <th>Number_of_households_with_Lantern</th>\n",
              "      <th>Number_of_households_with_Tin_Lamp</th>\n",
              "      <th>Number_of_households_with_Gas_Lamp</th>\n",
              "      <th>Number_of_households_with_Fuel_wood</th>\n",
              "      <th>Number_of_households_with_Solar</th>\n",
              "      <th>Number_of_households_with_Other</th>\n",
              "      <th>Households</th>\n",
              "      <th>Shape_Length</th>\n",
              "      <th>Shape_Area</th>\n",
              "    </tr>\n",
              "  </thead>\n",
              "  <tbody>\n",
              "    <tr>\n",
              "      <th>0</th>\n",
              "      <td>1</td>\n",
              "      <td>BARINGO</td>\n",
              "      <td>10</td>\n",
              "      <td>0</td>\n",
              "      <td>39</td>\n",
              "      <td>20</td>\n",
              "      <td>1</td>\n",
              "      <td>2</td>\n",
              "      <td>28</td>\n",
              "      <td>0</td>\n",
              "      <td>10583</td>\n",
              "      <td>437</td>\n",
              "      <td>43488</td>\n",
              "      <td>22238</td>\n",
              "      <td>796</td>\n",
              "      <td>1902</td>\n",
              "      <td>30734</td>\n",
              "      <td>471</td>\n",
              "      <td>110649</td>\n",
              "      <td>6.333111</td>\n",
              "      <td>0.888242</td>\n",
              "    </tr>\n",
              "    <tr>\n",
              "      <th>1</th>\n",
              "      <td>2</td>\n",
              "      <td>BOMET</td>\n",
              "      <td>4</td>\n",
              "      <td>0</td>\n",
              "      <td>65</td>\n",
              "      <td>26</td>\n",
              "      <td>1</td>\n",
              "      <td>3</td>\n",
              "      <td>1</td>\n",
              "      <td>0</td>\n",
              "      <td>7552</td>\n",
              "      <td>581</td>\n",
              "      <td>113311</td>\n",
              "      <td>45434</td>\n",
              "      <td>1135</td>\n",
              "      <td>4958</td>\n",
              "      <td>1444</td>\n",
              "      <td>499</td>\n",
              "      <td>174914</td>\n",
              "      <td>2.101561</td>\n",
              "      <td>0.116672</td>\n",
              "    </tr>\n",
              "    <tr>\n",
              "      <th>2</th>\n",
              "      <td>3</td>\n",
              "      <td>BUNGOMA</td>\n",
              "      <td>5</td>\n",
              "      <td>1</td>\n",
              "      <td>27</td>\n",
              "      <td>67</td>\n",
              "      <td>1</td>\n",
              "      <td>0</td>\n",
              "      <td>1</td>\n",
              "      <td>0</td>\n",
              "      <td>12219</td>\n",
              "      <td>1351</td>\n",
              "      <td>72256</td>\n",
              "      <td>180120</td>\n",
              "      <td>1704</td>\n",
              "      <td>1223</td>\n",
              "      <td>1493</td>\n",
              "      <td>458</td>\n",
              "      <td>270824</td>\n",
              "      <td>3.173881</td>\n",
              "      <td>0.244750</td>\n",
              "    </tr>\n",
              "    <tr>\n",
              "      <th>3</th>\n",
              "      <td>4</td>\n",
              "      <td>BUSIA</td>\n",
              "      <td>6</td>\n",
              "      <td>0</td>\n",
              "      <td>22</td>\n",
              "      <td>71</td>\n",
              "      <td>0</td>\n",
              "      <td>0</td>\n",
              "      <td>0</td>\n",
              "      <td>0</td>\n",
              "      <td>9253</td>\n",
              "      <td>494</td>\n",
              "      <td>33283</td>\n",
              "      <td>108949</td>\n",
              "      <td>709</td>\n",
              "      <td>633</td>\n",
              "      <td>566</td>\n",
              "      <td>338</td>\n",
              "      <td>154225</td>\n",
              "      <td>3.009087</td>\n",
              "      <td>0.136848</td>\n",
              "    </tr>\n",
              "    <tr>\n",
              "      <th>4</th>\n",
              "      <td>5</td>\n",
              "      <td>EMBU</td>\n",
              "      <td>7</td>\n",
              "      <td>0</td>\n",
              "      <td>47</td>\n",
              "      <td>28</td>\n",
              "      <td>1</td>\n",
              "      <td>1</td>\n",
              "      <td>15</td>\n",
              "      <td>0</td>\n",
              "      <td>5547</td>\n",
              "      <td>220</td>\n",
              "      <td>36321</td>\n",
              "      <td>21891</td>\n",
              "      <td>449</td>\n",
              "      <td>1155</td>\n",
              "      <td>11744</td>\n",
              "      <td>228</td>\n",
              "      <td>77555</td>\n",
              "      <td>3.373973</td>\n",
              "      <td>0.227949</td>\n",
              "    </tr>\n",
              "  </tbody>\n",
              "</table>\n",
              "</div>"
            ],
            "text/plain": [
              "   OBJECTID   County  ...  Shape_Length  Shape_Area\n",
              "0         1  BARINGO  ...      6.333111    0.888242\n",
              "1         2    BOMET  ...      2.101561    0.116672\n",
              "2         3  BUNGOMA  ...      3.173881    0.244750\n",
              "3         4    BUSIA  ...      3.009087    0.136848\n",
              "4         5     EMBU  ...      3.373973    0.227949\n",
              "\n",
              "[5 rows x 21 columns]"
            ]
          },
          "metadata": {
            "tags": []
          },
          "execution_count": 208
        }
      ]
    },
    {
      "cell_type": "code",
      "metadata": {
        "colab": {
          "base_uri": "https://localhost:8080/"
        },
        "id": "xvpvHcvn8SPH",
        "outputId": "a904feed-920b-4a96-fc3e-549671611392"
      },
      "source": [
        "# Previewing Energy 2017\n",
        "Energy_2017.head()"
      ],
      "execution_count": null,
      "outputs": [
        {
          "output_type": "execute_result",
          "data": {
            "text/html": [
              "<div>\n",
              "<style scoped>\n",
              "    .dataframe tbody tr th:only-of-type {\n",
              "        vertical-align: middle;\n",
              "    }\n",
              "\n",
              "    .dataframe tbody tr th {\n",
              "        vertical-align: top;\n",
              "    }\n",
              "\n",
              "    .dataframe thead th {\n",
              "        text-align: right;\n",
              "    }\n",
              "</style>\n",
              "<table border=\"1\" class=\"dataframe\">\n",
              "  <thead>\n",
              "    <tr style=\"text-align: right;\">\n",
              "      <th></th>\n",
              "      <th>_District</th>\n",
              "      <th>Rural_/_Urban</th>\n",
              "      <th>%_of_households_with_electricty</th>\n",
              "      <th>%_of_households_with_Pressure_Lamp</th>\n",
              "      <th>%_of_households_with_Lantern</th>\n",
              "      <th>%_of_households_with_Tin_Lamp</th>\n",
              "      <th>%_of_households_with_Gas_Lamp</th>\n",
              "      <th>%_of_households_with_Fuel_wood</th>\n",
              "      <th>%_of_households_with_Solar</th>\n",
              "      <th>%_of_households_with_Other</th>\n",
              "      <th>Housheolds</th>\n",
              "      <th>No_of_households_with_electricity</th>\n",
              "      <th>No_of_households_with_Pressure_Lamp</th>\n",
              "      <th>No_of_households_with_Lantern</th>\n",
              "      <th>No_of_households_with_Tin_Lamp</th>\n",
              "      <th>No_of_households_with_Gas_Lamp</th>\n",
              "      <th>No_of_households_with_Fuel_wood</th>\n",
              "      <th>No_of_households_with_Solar</th>\n",
              "      <th>No_of_households_with_Other</th>\n",
              "      <th>Province</th>\n",
              "      <th>County</th>\n",
              "      <th>Census_Table</th>\n",
              "      <th>MTEF</th>\n",
              "      <th>MTP</th>\n",
              "      <th>Longtitude</th>\n",
              "      <th>Latitude</th>\n",
              "      <th>Geolocation</th>\n",
              "      <th>OBJECTID</th>\n",
              "    </tr>\n",
              "  </thead>\n",
              "  <tbody>\n",
              "    <tr>\n",
              "      <th>0</th>\n",
              "      <td>MERU CENTRAL</td>\n",
              "      <td>Urban</td>\n",
              "      <td>NaN</td>\n",
              "      <td>NaN</td>\n",
              "      <td>NaN</td>\n",
              "      <td>NaN</td>\n",
              "      <td>NaN</td>\n",
              "      <td>NaN</td>\n",
              "      <td>NaN</td>\n",
              "      <td>NaN</td>\n",
              "      <td>0</td>\n",
              "      <td>0</td>\n",
              "      <td>0</td>\n",
              "      <td>0</td>\n",
              "      <td>0</td>\n",
              "      <td>0</td>\n",
              "      <td>0</td>\n",
              "      <td>0</td>\n",
              "      <td>0</td>\n",
              "      <td>EASTERN</td>\n",
              "      <td>Meru</td>\n",
              "      <td>Table 10b: Urban Households by main type of Li...</td>\n",
              "      <td>Physical Infrastructure</td>\n",
              "      <td>Energy</td>\n",
              "      <td>37.583307</td>\n",
              "      <td>0.001444</td>\n",
              "      <td>(0.001443681, 37.58330732)</td>\n",
              "      <td>0</td>\n",
              "    </tr>\n",
              "    <tr>\n",
              "      <th>1</th>\n",
              "      <td>KAKAMEGA SOUTH</td>\n",
              "      <td>Urban</td>\n",
              "      <td>NaN</td>\n",
              "      <td>NaN</td>\n",
              "      <td>NaN</td>\n",
              "      <td>NaN</td>\n",
              "      <td>NaN</td>\n",
              "      <td>NaN</td>\n",
              "      <td>NaN</td>\n",
              "      <td>NaN</td>\n",
              "      <td>0</td>\n",
              "      <td>0</td>\n",
              "      <td>0</td>\n",
              "      <td>0</td>\n",
              "      <td>0</td>\n",
              "      <td>0</td>\n",
              "      <td>0</td>\n",
              "      <td>0</td>\n",
              "      <td>0</td>\n",
              "      <td>WESTERN</td>\n",
              "      <td>Kakamega</td>\n",
              "      <td>Table 10a: Rural Households by main type of Li...</td>\n",
              "      <td>Physical Infrastructure</td>\n",
              "      <td>Energy</td>\n",
              "      <td>34.707748</td>\n",
              "      <td>0.190562</td>\n",
              "      <td>(0.190561619, 34.7077479)</td>\n",
              "      <td>1</td>\n",
              "    </tr>\n",
              "    <tr>\n",
              "      <th>2</th>\n",
              "      <td>NYANDARUA NORTH</td>\n",
              "      <td>Urban</td>\n",
              "      <td>6.3%</td>\n",
              "      <td>0.6%</td>\n",
              "      <td>51.6%</td>\n",
              "      <td>32.1%</td>\n",
              "      <td>0.8%</td>\n",
              "      <td>0.4%</td>\n",
              "      <td>7.9%</td>\n",
              "      <td>0.2%</td>\n",
              "      <td>52503</td>\n",
              "      <td>3332</td>\n",
              "      <td>302</td>\n",
              "      <td>27102</td>\n",
              "      <td>16865</td>\n",
              "      <td>395</td>\n",
              "      <td>214</td>\n",
              "      <td>4173</td>\n",
              "      <td>120</td>\n",
              "      <td>CENTRAL</td>\n",
              "      <td>Nyandarua</td>\n",
              "      <td>Table 10b: Urban Households by main type of Li...</td>\n",
              "      <td>Physical Infrastructure</td>\n",
              "      <td>Energy</td>\n",
              "      <td>36.423431</td>\n",
              "      <td>-0.144561</td>\n",
              "      <td>(-0.144560572, 36.42343108)</td>\n",
              "      <td>2</td>\n",
              "    </tr>\n",
              "    <tr>\n",
              "      <th>3</th>\n",
              "      <td>NYANDARUA SOUTH</td>\n",
              "      <td>Urban</td>\n",
              "      <td>6%</td>\n",
              "      <td>0.6%</td>\n",
              "      <td>62.8%</td>\n",
              "      <td>24.3%</td>\n",
              "      <td>0.6%</td>\n",
              "      <td>0.2%</td>\n",
              "      <td>5.3%</td>\n",
              "      <td>0.1%</td>\n",
              "      <td>61936</td>\n",
              "      <td>3741</td>\n",
              "      <td>387</td>\n",
              "      <td>38900</td>\n",
              "      <td>15077</td>\n",
              "      <td>384</td>\n",
              "      <td>103</td>\n",
              "      <td>3256</td>\n",
              "      <td>88</td>\n",
              "      <td>CENTRAL</td>\n",
              "      <td>Nyandarua</td>\n",
              "      <td>Table 10b: Urban Households by main type of Li...</td>\n",
              "      <td>Physical Infrastructure</td>\n",
              "      <td>Energy</td>\n",
              "      <td>36.556513</td>\n",
              "      <td>-0.533045</td>\n",
              "      <td>(-0.533045224, 36.55651343)</td>\n",
              "      <td>3</td>\n",
              "    </tr>\n",
              "    <tr>\n",
              "      <th>4</th>\n",
              "      <td>NYERI NORTH</td>\n",
              "      <td>Urban</td>\n",
              "      <td>14.5%</td>\n",
              "      <td>1%</td>\n",
              "      <td>41.4%</td>\n",
              "      <td>34.3%</td>\n",
              "      <td>0.6%</td>\n",
              "      <td>0.8%</td>\n",
              "      <td>7.2%</td>\n",
              "      <td>0.2%</td>\n",
              "      <td>81307</td>\n",
              "      <td>11774</td>\n",
              "      <td>775</td>\n",
              "      <td>33686</td>\n",
              "      <td>27884</td>\n",
              "      <td>514</td>\n",
              "      <td>651</td>\n",
              "      <td>5868</td>\n",
              "      <td>155</td>\n",
              "      <td>CENTRAL</td>\n",
              "      <td>Nyeri</td>\n",
              "      <td>Table 10b: Urban Households by main type of Li...</td>\n",
              "      <td>Physical Infrastructure</td>\n",
              "      <td>Energy</td>\n",
              "      <td>36.981144</td>\n",
              "      <td>-0.266587</td>\n",
              "      <td>(-0.266587082, 36.9811441)</td>\n",
              "      <td>4</td>\n",
              "    </tr>\n",
              "  </tbody>\n",
              "</table>\n",
              "</div>"
            ],
            "text/plain": [
              "         _District Rural_/_Urban  ...                  Geolocation OBJECTID\n",
              "0     MERU CENTRAL         Urban  ...   (0.001443681, 37.58330732)        0\n",
              "1   KAKAMEGA SOUTH         Urban  ...    (0.190561619, 34.7077479)        1\n",
              "2  NYANDARUA NORTH         Urban  ...  (-0.144560572, 36.42343108)        2\n",
              "3  NYANDARUA SOUTH         Urban  ...  (-0.533045224, 36.55651343)        3\n",
              "4      NYERI NORTH         Urban  ...   (-0.266587082, 36.9811441)        4\n",
              "\n",
              "[5 rows x 28 columns]"
            ]
          },
          "metadata": {
            "tags": []
          },
          "execution_count": 209
        }
      ]
    },
    {
      "cell_type": "code",
      "metadata": {
        "colab": {
          "base_uri": "https://localhost:8080/"
        },
        "id": "XwNRRd2z8aOt",
        "outputId": "096195e8-e6df-47d9-82ac-07e3cba10e19"
      },
      "source": [
        "# Understanding the information contained in Energy 2020 columns\n",
        "Energy_2020.info()"
      ],
      "execution_count": null,
      "outputs": [
        {
          "output_type": "stream",
          "text": [
            "<class 'pandas.core.frame.DataFrame'>\n",
            "RangeIndex: 47 entries, 0 to 46\n",
            "Data columns (total 21 columns):\n",
            " #   Column                                   Non-Null Count  Dtype  \n",
            "---  ------                                   --------------  -----  \n",
            " 0   OBJECTID                                 47 non-null     int64  \n",
            " 1   County                                   47 non-null     object \n",
            " 2   Electricty_percentage                    47 non-null     int64  \n",
            " 3   Pressure_Lamp_percentage                 47 non-null     int64  \n",
            " 4   Lantern_percentage                       47 non-null     int64  \n",
            " 5   Tin_Lamp_percebntage                     47 non-null     int64  \n",
            " 6   Gas_Lamp_percentage                      47 non-null     int64  \n",
            " 7   Fuel_wood_percentage                     47 non-null     int64  \n",
            " 8   Solar_percentage                         47 non-null     int64  \n",
            " 9   Other_Lighting_percentage                47 non-null     int64  \n",
            " 10  Number_of_households_with_electricity    47 non-null     int64  \n",
            " 11  Number_of_households_with_Pressure_Lamp  47 non-null     int64  \n",
            " 12  Number_of_households_with_Lantern        47 non-null     int64  \n",
            " 13  Number_of_households_with_Tin_Lamp       47 non-null     int64  \n",
            " 14  Number_of_households_with_Gas_Lamp       47 non-null     int64  \n",
            " 15  Number_of_households_with_Fuel_wood      47 non-null     int64  \n",
            " 16  Number_of_households_with_Solar          47 non-null     int64  \n",
            " 17  Number_of_households_with_Other          47 non-null     int64  \n",
            " 18  Households                               47 non-null     int64  \n",
            " 19  Shape_Length                             47 non-null     float64\n",
            " 20  Shape_Area                               47 non-null     float64\n",
            "dtypes: float64(2), int64(18), object(1)\n",
            "memory usage: 7.8+ KB\n"
          ],
          "name": "stdout"
        }
      ]
    },
    {
      "cell_type": "code",
      "metadata": {
        "colab": {
          "base_uri": "https://localhost:8080/"
        },
        "id": "R1Pag78B9Shv",
        "outputId": "f6e9a6f2-3619-4a62-9e13-546046040370"
      },
      "source": [
        "# Understanding the information contained in Energy 2017 columns\n",
        "Energy_2017.info()"
      ],
      "execution_count": null,
      "outputs": [
        {
          "output_type": "stream",
          "text": [
            "<class 'pandas.core.frame.DataFrame'>\n",
            "RangeIndex: 316 entries, 0 to 315\n",
            "Data columns (total 28 columns):\n",
            " #   Column                               Non-Null Count  Dtype  \n",
            "---  ------                               --------------  -----  \n",
            " 0   _District                            316 non-null    object \n",
            " 1   Rural_/_Urban                        316 non-null    object \n",
            " 2   %_of_households_with_electricty      290 non-null    object \n",
            " 3   %_of_households_with_Pressure_Lamp   290 non-null    object \n",
            " 4   %_of_households_with_Lantern         290 non-null    object \n",
            " 5   %_of_households_with_Tin_Lamp        290 non-null    object \n",
            " 6   %_of_households_with_Gas_Lamp        290 non-null    object \n",
            " 7   %_of_households_with_Fuel_wood       290 non-null    object \n",
            " 8   %_of_households_with_Solar           290 non-null    object \n",
            " 9   %_of_households_with_Other           290 non-null    object \n",
            " 10  Housheolds                           316 non-null    int64  \n",
            " 11  No_of_households_with_electricity    316 non-null    int64  \n",
            " 12  No_of_households_with_Pressure_Lamp  316 non-null    int64  \n",
            " 13  No_of_households_with_Lantern        316 non-null    int64  \n",
            " 14  No_of_households_with_Tin_Lamp       316 non-null    int64  \n",
            " 15  No_of_households_with_Gas_Lamp       316 non-null    int64  \n",
            " 16  No_of_households_with_Fuel_wood      316 non-null    int64  \n",
            " 17  No_of_households_with_Solar          316 non-null    int64  \n",
            " 18  No_of_households_with_Other          316 non-null    int64  \n",
            " 19  Province                             316 non-null    object \n",
            " 20  County                               316 non-null    object \n",
            " 21  Census_Table                         316 non-null    object \n",
            " 22  MTEF                                 316 non-null    object \n",
            " 23  MTP                                  316 non-null    object \n",
            " 24  Longtitude                           314 non-null    float64\n",
            " 25  Latitude                             314 non-null    float64\n",
            " 26  Geolocation                          314 non-null    object \n",
            " 27  OBJECTID                             316 non-null    int64  \n",
            "dtypes: float64(2), int64(10), object(16)\n",
            "memory usage: 69.2+ KB\n"
          ],
          "name": "stdout"
        }
      ]
    },
    {
      "cell_type": "code",
      "metadata": {
        "id": "Ao0W849T9Z6a"
      },
      "source": [
        "# Dropping unrequired fields from Energy 2020\n",
        "\n",
        "Energy_2020.drop(['Electricty_percentage', 'Pressure_Lamp_percentage', 'Lantern_percentage', 'Tin_Lamp_percebntage', 'Gas_Lamp_percentage', 'Fuel_wood_percentage', 'Solar_percentage', 'Other_Lighting_percentage'], axis= 1, inplace= True)\n",
        "Energy_2020.drop(['OBJECTID','Shape_Length', 'Shape_Area'], axis= 1, inplace= True)"
      ],
      "execution_count": null,
      "outputs": []
    },
    {
      "cell_type": "code",
      "metadata": {
        "id": "URpnctTH-Xa9"
      },
      "source": [
        "# Dropping unrequired fields from Energy 2017\n",
        "Energy_2017.drop(['%_of_households_with_electricty', '%_of_households_with_Pressure_Lamp', '%_of_households_with_Lantern', '%_of_households_with_Tin_Lamp', '%_of_households_with_Gas_Lamp', '%_of_households_with_Fuel_wood'], axis= 1, inplace= True)\n",
        "Energy_2017.drop(['%_of_households_with_Solar', '%_of_households_with_Other', 'Province', 'Census_Table', 'MTEF', 'MTP', 'Longtitude', 'Latitude', 'Geolocation', 'OBJECTID'], axis= 1, inplace= True)"
      ],
      "execution_count": null,
      "outputs": []
    },
    {
      "cell_type": "code",
      "metadata": {
        "colab": {
          "base_uri": "https://localhost:8080/"
        },
        "id": "ZVSS93_KA6TD",
        "outputId": "4132ec9f-109e-4a2b-c33c-6f91c6d91a6c"
      },
      "source": [
        "# Viewing the new table Energy 2020\n",
        "Energy_2020.head()"
      ],
      "execution_count": null,
      "outputs": [
        {
          "output_type": "execute_result",
          "data": {
            "text/html": [
              "<div>\n",
              "<style scoped>\n",
              "    .dataframe tbody tr th:only-of-type {\n",
              "        vertical-align: middle;\n",
              "    }\n",
              "\n",
              "    .dataframe tbody tr th {\n",
              "        vertical-align: top;\n",
              "    }\n",
              "\n",
              "    .dataframe thead th {\n",
              "        text-align: right;\n",
              "    }\n",
              "</style>\n",
              "<table border=\"1\" class=\"dataframe\">\n",
              "  <thead>\n",
              "    <tr style=\"text-align: right;\">\n",
              "      <th></th>\n",
              "      <th>County</th>\n",
              "      <th>Number_of_households_with_electricity</th>\n",
              "      <th>Number_of_households_with_Pressure_Lamp</th>\n",
              "      <th>Number_of_households_with_Lantern</th>\n",
              "      <th>Number_of_households_with_Tin_Lamp</th>\n",
              "      <th>Number_of_households_with_Gas_Lamp</th>\n",
              "      <th>Number_of_households_with_Fuel_wood</th>\n",
              "      <th>Number_of_households_with_Solar</th>\n",
              "      <th>Number_of_households_with_Other</th>\n",
              "      <th>Households</th>\n",
              "    </tr>\n",
              "  </thead>\n",
              "  <tbody>\n",
              "    <tr>\n",
              "      <th>0</th>\n",
              "      <td>BARINGO</td>\n",
              "      <td>10583</td>\n",
              "      <td>437</td>\n",
              "      <td>43488</td>\n",
              "      <td>22238</td>\n",
              "      <td>796</td>\n",
              "      <td>1902</td>\n",
              "      <td>30734</td>\n",
              "      <td>471</td>\n",
              "      <td>110649</td>\n",
              "    </tr>\n",
              "    <tr>\n",
              "      <th>1</th>\n",
              "      <td>BOMET</td>\n",
              "      <td>7552</td>\n",
              "      <td>581</td>\n",
              "      <td>113311</td>\n",
              "      <td>45434</td>\n",
              "      <td>1135</td>\n",
              "      <td>4958</td>\n",
              "      <td>1444</td>\n",
              "      <td>499</td>\n",
              "      <td>174914</td>\n",
              "    </tr>\n",
              "    <tr>\n",
              "      <th>2</th>\n",
              "      <td>BUNGOMA</td>\n",
              "      <td>12219</td>\n",
              "      <td>1351</td>\n",
              "      <td>72256</td>\n",
              "      <td>180120</td>\n",
              "      <td>1704</td>\n",
              "      <td>1223</td>\n",
              "      <td>1493</td>\n",
              "      <td>458</td>\n",
              "      <td>270824</td>\n",
              "    </tr>\n",
              "    <tr>\n",
              "      <th>3</th>\n",
              "      <td>BUSIA</td>\n",
              "      <td>9253</td>\n",
              "      <td>494</td>\n",
              "      <td>33283</td>\n",
              "      <td>108949</td>\n",
              "      <td>709</td>\n",
              "      <td>633</td>\n",
              "      <td>566</td>\n",
              "      <td>338</td>\n",
              "      <td>154225</td>\n",
              "    </tr>\n",
              "    <tr>\n",
              "      <th>4</th>\n",
              "      <td>EMBU</td>\n",
              "      <td>5547</td>\n",
              "      <td>220</td>\n",
              "      <td>36321</td>\n",
              "      <td>21891</td>\n",
              "      <td>449</td>\n",
              "      <td>1155</td>\n",
              "      <td>11744</td>\n",
              "      <td>228</td>\n",
              "      <td>77555</td>\n",
              "    </tr>\n",
              "  </tbody>\n",
              "</table>\n",
              "</div>"
            ],
            "text/plain": [
              "    County  ...  Households\n",
              "0  BARINGO  ...      110649\n",
              "1    BOMET  ...      174914\n",
              "2  BUNGOMA  ...      270824\n",
              "3    BUSIA  ...      154225\n",
              "4     EMBU  ...       77555\n",
              "\n",
              "[5 rows x 10 columns]"
            ]
          },
          "metadata": {
            "tags": []
          },
          "execution_count": 214
        }
      ]
    },
    {
      "cell_type": "code",
      "metadata": {
        "colab": {
          "base_uri": "https://localhost:8080/"
        },
        "id": "1rxTuB3sBBkY",
        "outputId": "db3faead-8577-4e21-8364-a335f4ef2570"
      },
      "source": [
        "# Viewing the new table Energy 2017\n",
        "Energy_2017.head()"
      ],
      "execution_count": null,
      "outputs": [
        {
          "output_type": "execute_result",
          "data": {
            "text/html": [
              "<div>\n",
              "<style scoped>\n",
              "    .dataframe tbody tr th:only-of-type {\n",
              "        vertical-align: middle;\n",
              "    }\n",
              "\n",
              "    .dataframe tbody tr th {\n",
              "        vertical-align: top;\n",
              "    }\n",
              "\n",
              "    .dataframe thead th {\n",
              "        text-align: right;\n",
              "    }\n",
              "</style>\n",
              "<table border=\"1\" class=\"dataframe\">\n",
              "  <thead>\n",
              "    <tr style=\"text-align: right;\">\n",
              "      <th></th>\n",
              "      <th>_District</th>\n",
              "      <th>Rural_/_Urban</th>\n",
              "      <th>Housheolds</th>\n",
              "      <th>No_of_households_with_electricity</th>\n",
              "      <th>No_of_households_with_Pressure_Lamp</th>\n",
              "      <th>No_of_households_with_Lantern</th>\n",
              "      <th>No_of_households_with_Tin_Lamp</th>\n",
              "      <th>No_of_households_with_Gas_Lamp</th>\n",
              "      <th>No_of_households_with_Fuel_wood</th>\n",
              "      <th>No_of_households_with_Solar</th>\n",
              "      <th>No_of_households_with_Other</th>\n",
              "      <th>County</th>\n",
              "    </tr>\n",
              "  </thead>\n",
              "  <tbody>\n",
              "    <tr>\n",
              "      <th>0</th>\n",
              "      <td>MERU CENTRAL</td>\n",
              "      <td>Urban</td>\n",
              "      <td>0</td>\n",
              "      <td>0</td>\n",
              "      <td>0</td>\n",
              "      <td>0</td>\n",
              "      <td>0</td>\n",
              "      <td>0</td>\n",
              "      <td>0</td>\n",
              "      <td>0</td>\n",
              "      <td>0</td>\n",
              "      <td>Meru</td>\n",
              "    </tr>\n",
              "    <tr>\n",
              "      <th>1</th>\n",
              "      <td>KAKAMEGA SOUTH</td>\n",
              "      <td>Urban</td>\n",
              "      <td>0</td>\n",
              "      <td>0</td>\n",
              "      <td>0</td>\n",
              "      <td>0</td>\n",
              "      <td>0</td>\n",
              "      <td>0</td>\n",
              "      <td>0</td>\n",
              "      <td>0</td>\n",
              "      <td>0</td>\n",
              "      <td>Kakamega</td>\n",
              "    </tr>\n",
              "    <tr>\n",
              "      <th>2</th>\n",
              "      <td>NYANDARUA NORTH</td>\n",
              "      <td>Urban</td>\n",
              "      <td>52503</td>\n",
              "      <td>3332</td>\n",
              "      <td>302</td>\n",
              "      <td>27102</td>\n",
              "      <td>16865</td>\n",
              "      <td>395</td>\n",
              "      <td>214</td>\n",
              "      <td>4173</td>\n",
              "      <td>120</td>\n",
              "      <td>Nyandarua</td>\n",
              "    </tr>\n",
              "    <tr>\n",
              "      <th>3</th>\n",
              "      <td>NYANDARUA SOUTH</td>\n",
              "      <td>Urban</td>\n",
              "      <td>61936</td>\n",
              "      <td>3741</td>\n",
              "      <td>387</td>\n",
              "      <td>38900</td>\n",
              "      <td>15077</td>\n",
              "      <td>384</td>\n",
              "      <td>103</td>\n",
              "      <td>3256</td>\n",
              "      <td>88</td>\n",
              "      <td>Nyandarua</td>\n",
              "    </tr>\n",
              "    <tr>\n",
              "      <th>4</th>\n",
              "      <td>NYERI NORTH</td>\n",
              "      <td>Urban</td>\n",
              "      <td>81307</td>\n",
              "      <td>11774</td>\n",
              "      <td>775</td>\n",
              "      <td>33686</td>\n",
              "      <td>27884</td>\n",
              "      <td>514</td>\n",
              "      <td>651</td>\n",
              "      <td>5868</td>\n",
              "      <td>155</td>\n",
              "      <td>Nyeri</td>\n",
              "    </tr>\n",
              "  </tbody>\n",
              "</table>\n",
              "</div>"
            ],
            "text/plain": [
              "         _District Rural_/_Urban  ...  No_of_households_with_Other     County\n",
              "0     MERU CENTRAL         Urban  ...                            0       Meru\n",
              "1   KAKAMEGA SOUTH         Urban  ...                            0   Kakamega\n",
              "2  NYANDARUA NORTH         Urban  ...                          120  Nyandarua\n",
              "3  NYANDARUA SOUTH         Urban  ...                           88  Nyandarua\n",
              "4      NYERI NORTH         Urban  ...                          155      Nyeri\n",
              "\n",
              "[5 rows x 12 columns]"
            ]
          },
          "metadata": {
            "tags": []
          },
          "execution_count": 215
        }
      ]
    },
    {
      "cell_type": "code",
      "metadata": {
        "id": "s5oUHkw0BGvI"
      },
      "source": [
        "# Making the data consistent\n",
        "Energy_2020.columns = Energy_2020.columns.str.replace('Number','No')\n",
        "Energy_2017.drop('Rural_/_Urban', axis= 1, inplace= True)"
      ],
      "execution_count": null,
      "outputs": []
    },
    {
      "cell_type": "code",
      "metadata": {
        "colab": {
          "base_uri": "https://localhost:8080/"
        },
        "id": "nBSWcnAxCK9H",
        "outputId": "4b4cb44e-1a31-47b3-b214-47b93d4cc0f9"
      },
      "source": [
        "# Prepared Table for Energy 2020\n",
        "Energy_2020.head()"
      ],
      "execution_count": null,
      "outputs": [
        {
          "output_type": "execute_result",
          "data": {
            "text/html": [
              "<div>\n",
              "<style scoped>\n",
              "    .dataframe tbody tr th:only-of-type {\n",
              "        vertical-align: middle;\n",
              "    }\n",
              "\n",
              "    .dataframe tbody tr th {\n",
              "        vertical-align: top;\n",
              "    }\n",
              "\n",
              "    .dataframe thead th {\n",
              "        text-align: right;\n",
              "    }\n",
              "</style>\n",
              "<table border=\"1\" class=\"dataframe\">\n",
              "  <thead>\n",
              "    <tr style=\"text-align: right;\">\n",
              "      <th></th>\n",
              "      <th>County</th>\n",
              "      <th>No_of_households_with_electricity</th>\n",
              "      <th>No_of_households_with_Pressure_Lamp</th>\n",
              "      <th>No_of_households_with_Lantern</th>\n",
              "      <th>No_of_households_with_Tin_Lamp</th>\n",
              "      <th>No_of_households_with_Gas_Lamp</th>\n",
              "      <th>No_of_households_with_Fuel_wood</th>\n",
              "      <th>No_of_households_with_Solar</th>\n",
              "      <th>No_of_households_with_Other</th>\n",
              "      <th>Households</th>\n",
              "    </tr>\n",
              "  </thead>\n",
              "  <tbody>\n",
              "    <tr>\n",
              "      <th>0</th>\n",
              "      <td>BARINGO</td>\n",
              "      <td>10583</td>\n",
              "      <td>437</td>\n",
              "      <td>43488</td>\n",
              "      <td>22238</td>\n",
              "      <td>796</td>\n",
              "      <td>1902</td>\n",
              "      <td>30734</td>\n",
              "      <td>471</td>\n",
              "      <td>110649</td>\n",
              "    </tr>\n",
              "    <tr>\n",
              "      <th>1</th>\n",
              "      <td>BOMET</td>\n",
              "      <td>7552</td>\n",
              "      <td>581</td>\n",
              "      <td>113311</td>\n",
              "      <td>45434</td>\n",
              "      <td>1135</td>\n",
              "      <td>4958</td>\n",
              "      <td>1444</td>\n",
              "      <td>499</td>\n",
              "      <td>174914</td>\n",
              "    </tr>\n",
              "    <tr>\n",
              "      <th>2</th>\n",
              "      <td>BUNGOMA</td>\n",
              "      <td>12219</td>\n",
              "      <td>1351</td>\n",
              "      <td>72256</td>\n",
              "      <td>180120</td>\n",
              "      <td>1704</td>\n",
              "      <td>1223</td>\n",
              "      <td>1493</td>\n",
              "      <td>458</td>\n",
              "      <td>270824</td>\n",
              "    </tr>\n",
              "    <tr>\n",
              "      <th>3</th>\n",
              "      <td>BUSIA</td>\n",
              "      <td>9253</td>\n",
              "      <td>494</td>\n",
              "      <td>33283</td>\n",
              "      <td>108949</td>\n",
              "      <td>709</td>\n",
              "      <td>633</td>\n",
              "      <td>566</td>\n",
              "      <td>338</td>\n",
              "      <td>154225</td>\n",
              "    </tr>\n",
              "    <tr>\n",
              "      <th>4</th>\n",
              "      <td>EMBU</td>\n",
              "      <td>5547</td>\n",
              "      <td>220</td>\n",
              "      <td>36321</td>\n",
              "      <td>21891</td>\n",
              "      <td>449</td>\n",
              "      <td>1155</td>\n",
              "      <td>11744</td>\n",
              "      <td>228</td>\n",
              "      <td>77555</td>\n",
              "    </tr>\n",
              "  </tbody>\n",
              "</table>\n",
              "</div>"
            ],
            "text/plain": [
              "    County  ...  Households\n",
              "0  BARINGO  ...      110649\n",
              "1    BOMET  ...      174914\n",
              "2  BUNGOMA  ...      270824\n",
              "3    BUSIA  ...      154225\n",
              "4     EMBU  ...       77555\n",
              "\n",
              "[5 rows x 10 columns]"
            ]
          },
          "metadata": {
            "tags": []
          },
          "execution_count": 217
        }
      ]
    },
    {
      "cell_type": "code",
      "metadata": {
        "colab": {
          "base_uri": "https://localhost:8080/"
        },
        "id": "As3IOz4zCNom",
        "outputId": "1a9a5874-6fcf-4476-e9af-230b8dcd5c1d"
      },
      "source": [
        "# Prepared Table for Energy 2017\n",
        "Energy_2017.head()"
      ],
      "execution_count": null,
      "outputs": [
        {
          "output_type": "execute_result",
          "data": {
            "text/html": [
              "<div>\n",
              "<style scoped>\n",
              "    .dataframe tbody tr th:only-of-type {\n",
              "        vertical-align: middle;\n",
              "    }\n",
              "\n",
              "    .dataframe tbody tr th {\n",
              "        vertical-align: top;\n",
              "    }\n",
              "\n",
              "    .dataframe thead th {\n",
              "        text-align: right;\n",
              "    }\n",
              "</style>\n",
              "<table border=\"1\" class=\"dataframe\">\n",
              "  <thead>\n",
              "    <tr style=\"text-align: right;\">\n",
              "      <th></th>\n",
              "      <th>_District</th>\n",
              "      <th>Housheolds</th>\n",
              "      <th>No_of_households_with_electricity</th>\n",
              "      <th>No_of_households_with_Pressure_Lamp</th>\n",
              "      <th>No_of_households_with_Lantern</th>\n",
              "      <th>No_of_households_with_Tin_Lamp</th>\n",
              "      <th>No_of_households_with_Gas_Lamp</th>\n",
              "      <th>No_of_households_with_Fuel_wood</th>\n",
              "      <th>No_of_households_with_Solar</th>\n",
              "      <th>No_of_households_with_Other</th>\n",
              "      <th>County</th>\n",
              "    </tr>\n",
              "  </thead>\n",
              "  <tbody>\n",
              "    <tr>\n",
              "      <th>0</th>\n",
              "      <td>MERU CENTRAL</td>\n",
              "      <td>0</td>\n",
              "      <td>0</td>\n",
              "      <td>0</td>\n",
              "      <td>0</td>\n",
              "      <td>0</td>\n",
              "      <td>0</td>\n",
              "      <td>0</td>\n",
              "      <td>0</td>\n",
              "      <td>0</td>\n",
              "      <td>Meru</td>\n",
              "    </tr>\n",
              "    <tr>\n",
              "      <th>1</th>\n",
              "      <td>KAKAMEGA SOUTH</td>\n",
              "      <td>0</td>\n",
              "      <td>0</td>\n",
              "      <td>0</td>\n",
              "      <td>0</td>\n",
              "      <td>0</td>\n",
              "      <td>0</td>\n",
              "      <td>0</td>\n",
              "      <td>0</td>\n",
              "      <td>0</td>\n",
              "      <td>Kakamega</td>\n",
              "    </tr>\n",
              "    <tr>\n",
              "      <th>2</th>\n",
              "      <td>NYANDARUA NORTH</td>\n",
              "      <td>52503</td>\n",
              "      <td>3332</td>\n",
              "      <td>302</td>\n",
              "      <td>27102</td>\n",
              "      <td>16865</td>\n",
              "      <td>395</td>\n",
              "      <td>214</td>\n",
              "      <td>4173</td>\n",
              "      <td>120</td>\n",
              "      <td>Nyandarua</td>\n",
              "    </tr>\n",
              "    <tr>\n",
              "      <th>3</th>\n",
              "      <td>NYANDARUA SOUTH</td>\n",
              "      <td>61936</td>\n",
              "      <td>3741</td>\n",
              "      <td>387</td>\n",
              "      <td>38900</td>\n",
              "      <td>15077</td>\n",
              "      <td>384</td>\n",
              "      <td>103</td>\n",
              "      <td>3256</td>\n",
              "      <td>88</td>\n",
              "      <td>Nyandarua</td>\n",
              "    </tr>\n",
              "    <tr>\n",
              "      <th>4</th>\n",
              "      <td>NYERI NORTH</td>\n",
              "      <td>81307</td>\n",
              "      <td>11774</td>\n",
              "      <td>775</td>\n",
              "      <td>33686</td>\n",
              "      <td>27884</td>\n",
              "      <td>514</td>\n",
              "      <td>651</td>\n",
              "      <td>5868</td>\n",
              "      <td>155</td>\n",
              "      <td>Nyeri</td>\n",
              "    </tr>\n",
              "  </tbody>\n",
              "</table>\n",
              "</div>"
            ],
            "text/plain": [
              "         _District  Housheolds  ...  No_of_households_with_Other     County\n",
              "0     MERU CENTRAL           0  ...                            0       Meru\n",
              "1   KAKAMEGA SOUTH           0  ...                            0   Kakamega\n",
              "2  NYANDARUA NORTH       52503  ...                          120  Nyandarua\n",
              "3  NYANDARUA SOUTH       61936  ...                           88  Nyandarua\n",
              "4      NYERI NORTH       81307  ...                          155      Nyeri\n",
              "\n",
              "[5 rows x 11 columns]"
            ]
          },
          "metadata": {
            "tags": []
          },
          "execution_count": 218
        }
      ]
    },
    {
      "cell_type": "markdown",
      "metadata": {
        "id": "dgebB6r9CczN"
      },
      "source": [
        "# DATA CLEANING"
      ]
    },
    {
      "cell_type": "markdown",
      "metadata": {
        "id": "vdw18Thp9t_z"
      },
      "source": [
        "## Validity of the data"
      ]
    },
    {
      "cell_type": "code",
      "metadata": {
        "colab": {
          "base_uri": "https://localhost:8080/",
          "height": 165
        },
        "id": "FohlT8guIvXr",
        "outputId": "c6807320-f21e-4c8d-cf62-1ecf6f1fd4a9"
      },
      "source": [
        "#2017 dataset column name rectification\n",
        "Energy_2017.rename(columns= {'Housheolds': 'Households'}, inplace = True)\n",
        "Energy_2017.head(2)"
      ],
      "execution_count": null,
      "outputs": [
        {
          "output_type": "execute_result",
          "data": {
            "text/html": [
              "<div>\n",
              "<style scoped>\n",
              "    .dataframe tbody tr th:only-of-type {\n",
              "        vertical-align: middle;\n",
              "    }\n",
              "\n",
              "    .dataframe tbody tr th {\n",
              "        vertical-align: top;\n",
              "    }\n",
              "\n",
              "    .dataframe thead th {\n",
              "        text-align: right;\n",
              "    }\n",
              "</style>\n",
              "<table border=\"1\" class=\"dataframe\">\n",
              "  <thead>\n",
              "    <tr style=\"text-align: right;\">\n",
              "      <th></th>\n",
              "      <th>_District</th>\n",
              "      <th>Households</th>\n",
              "      <th>No_of_households_with_electricity</th>\n",
              "      <th>No_of_households_with_Pressure_Lamp</th>\n",
              "      <th>No_of_households_with_Lantern</th>\n",
              "      <th>No_of_households_with_Tin_Lamp</th>\n",
              "      <th>No_of_households_with_Gas_Lamp</th>\n",
              "      <th>No_of_households_with_Fuel_wood</th>\n",
              "      <th>No_of_households_with_Solar</th>\n",
              "      <th>No_of_households_with_Other</th>\n",
              "      <th>County</th>\n",
              "    </tr>\n",
              "  </thead>\n",
              "  <tbody>\n",
              "    <tr>\n",
              "      <th>0</th>\n",
              "      <td>MERU CENTRAL</td>\n",
              "      <td>0</td>\n",
              "      <td>0</td>\n",
              "      <td>0</td>\n",
              "      <td>0</td>\n",
              "      <td>0</td>\n",
              "      <td>0</td>\n",
              "      <td>0</td>\n",
              "      <td>0</td>\n",
              "      <td>0</td>\n",
              "      <td>Meru</td>\n",
              "    </tr>\n",
              "    <tr>\n",
              "      <th>1</th>\n",
              "      <td>KAKAMEGA SOUTH</td>\n",
              "      <td>0</td>\n",
              "      <td>0</td>\n",
              "      <td>0</td>\n",
              "      <td>0</td>\n",
              "      <td>0</td>\n",
              "      <td>0</td>\n",
              "      <td>0</td>\n",
              "      <td>0</td>\n",
              "      <td>0</td>\n",
              "      <td>Kakamega</td>\n",
              "    </tr>\n",
              "  </tbody>\n",
              "</table>\n",
              "</div>"
            ],
            "text/plain": [
              "        _District  Households  ...  No_of_households_with_Other    County\n",
              "0    MERU CENTRAL           0  ...                            0      Meru\n",
              "1  KAKAMEGA SOUTH           0  ...                            0  Kakamega\n",
              "\n",
              "[2 rows x 11 columns]"
            ]
          },
          "metadata": {
            "tags": []
          },
          "execution_count": 219
        }
      ]
    },
    {
      "cell_type": "code",
      "metadata": {
        "colab": {
          "base_uri": "https://localhost:8080/"
        },
        "id": "ZJissaId9_3m",
        "outputId": "02f4d5dc-2da4-48b5-9d75-192b576716dc"
      },
      "source": [
        "#Using the str.strip function on the column name to strip any leading and trailing spaces  \n",
        "Energy_2017['County'] = Energy_2017['County'].str.strip()\n",
        "Energy_2020['County'] = Energy_2020['County'].str.strip()\n",
        "\n",
        "# Displaying the resulting dataframe\n",
        "Energy_2017.head(4)\n",
        "Energy_2020.head(2)\n",
        "\n",
        "#checking for errors/anomalies in records\n",
        "Energy_2017['County'].unique()\n",
        "Energy_2020['County'].unique()\n"
      ],
      "execution_count": null,
      "outputs": [
        {
          "output_type": "execute_result",
          "data": {
            "text/plain": [
              "array(['BARINGO', 'BOMET', 'BUNGOMA', 'BUSIA', 'EMBU', 'GARISSA',\n",
              "       'HOMABAY', 'ISIOLO', 'KAJIADO', 'KAKAMEGA', 'ELGEYO-MARAKWET',\n",
              "       'KERICHO', 'KIAMBU', 'KILIFI', 'KIRINYAGA', 'KISII', 'KISUMU',\n",
              "       'KITUI', 'KWALE', 'LAIKIPIA', 'LAMU', 'MACHAKOS', 'MAKUENI',\n",
              "       'MANDERA', 'MARSABIT', 'MERU', 'MIGORI', 'MOMBASA', 'MURANGA',\n",
              "       'NAIROBI', 'NAKURU', 'NANDI', 'NAROK', 'NYAMIRA', 'NYANDARUA',\n",
              "       'NYERI', 'SAMBURU', 'SIAYA', 'TAITA-TAVETA', 'TANA-RIVER',\n",
              "       'THARAKA-NITHI', 'TRANS-NZOIA', 'TURKANA', 'UASIN-GISHU', 'VIHIGA',\n",
              "       'WAJIR', 'WEST POKOT'], dtype=object)"
            ]
          },
          "metadata": {
            "tags": []
          },
          "execution_count": 220
        }
      ]
    },
    {
      "cell_type": "code",
      "metadata": {
        "colab": {
          "base_uri": "https://localhost:8080/"
        },
        "id": "Hxzm4u49BaGJ",
        "outputId": "89c8bedc-9c37-4cd8-aeee-439d91b19b5f"
      },
      "source": [
        "#Using str.replace() function on the respective 2017 column to remove the apostrophe Murang'a \n",
        "\n",
        "Energy_2017['County'] = Energy_2017['County'].str.replace(\"'\",\"\")\n",
        "\n",
        "# Displaying the resulting dataframe\n",
        "Energy_2017['County'].unique()"
      ],
      "execution_count": null,
      "outputs": [
        {
          "output_type": "execute_result",
          "data": {
            "text/plain": [
              "array(['Meru', 'Kakamega', 'Nyandarua', 'Nyeri', 'Kirinyaga', 'Muranga',\n",
              "       'Kiambu', 'Mombasa', 'Kwale', 'Kilifi', 'Tana River', 'Lamu',\n",
              "       'Taita Taveta', 'Marsabit', 'Isiolo', 'Tharaka Nithi', 'Embu',\n",
              "       'Kitui', 'Machakos', 'West Pokot', 'Makueni', 'Nairobi', 'Garissa',\n",
              "       'Wajir', 'Mandera', 'Siaya', 'Kisumu', 'Homa Bay', 'Migori',\n",
              "       'Kisii', 'Nyamira', 'Turkana', 'Samburu', 'Trans Nzoia', 'Baringo',\n",
              "       'Uasin Gishu', 'Elgeyo Marakwet', 'Nandi', 'Laikipia', 'Nakuru',\n",
              "       'Narok', 'Kajiado', 'Kericho', 'Bomet', 'Vihiga', 'Bungoma',\n",
              "       'Busia'], dtype=object)"
            ]
          },
          "metadata": {
            "tags": []
          },
          "execution_count": 221
        }
      ]
    },
    {
      "cell_type": "code",
      "metadata": {
        "colab": {
          "base_uri": "https://localhost:8080/"
        },
        "id": "emhVsk1tFs-x",
        "outputId": "6b7c77c5-cc06-48df-c839-c43920bd2bd0"
      },
      "source": [
        "#Using str.replace() function on the respective 2020 column to remove the hyphens \n",
        "\n",
        "Energy_2020['County'] = Energy_2020['County'].str.replace(\"-\",\" \")\n",
        "\n",
        "# Displaying the resulting dataframe\n",
        "Energy_2020['County'].unique()"
      ],
      "execution_count": null,
      "outputs": [
        {
          "output_type": "execute_result",
          "data": {
            "text/plain": [
              "array(['BARINGO', 'BOMET', 'BUNGOMA', 'BUSIA', 'EMBU', 'GARISSA',\n",
              "       'HOMABAY', 'ISIOLO', 'KAJIADO', 'KAKAMEGA', 'ELGEYO MARAKWET',\n",
              "       'KERICHO', 'KIAMBU', 'KILIFI', 'KIRINYAGA', 'KISII', 'KISUMU',\n",
              "       'KITUI', 'KWALE', 'LAIKIPIA', 'LAMU', 'MACHAKOS', 'MAKUENI',\n",
              "       'MANDERA', 'MARSABIT', 'MERU', 'MIGORI', 'MOMBASA', 'MURANGA',\n",
              "       'NAIROBI', 'NAKURU', 'NANDI', 'NAROK', 'NYAMIRA', 'NYANDARUA',\n",
              "       'NYERI', 'SAMBURU', 'SIAYA', 'TAITA TAVETA', 'TANA RIVER',\n",
              "       'THARAKA NITHI', 'TRANS NZOIA', 'TURKANA', 'UASIN GISHU', 'VIHIGA',\n",
              "       'WAJIR', 'WEST POKOT'], dtype=object)"
            ]
          },
          "metadata": {
            "tags": []
          },
          "execution_count": 222
        }
      ]
    },
    {
      "cell_type": "markdown",
      "metadata": {
        "id": "10BdigCu-QbU"
      },
      "source": [
        "## Accuracy of the data"
      ]
    },
    {
      "cell_type": "code",
      "metadata": {
        "colab": {
          "base_uri": "https://localhost:8080/",
          "height": 117
        },
        "id": "AGnc2bH4Iaqz",
        "outputId": "3cf751b4-dee7-432b-a1d5-abd072a803bf"
      },
      "source": [
        "Energy_2017.head(1)"
      ],
      "execution_count": null,
      "outputs": [
        {
          "output_type": "execute_result",
          "data": {
            "text/html": [
              "<div>\n",
              "<style scoped>\n",
              "    .dataframe tbody tr th:only-of-type {\n",
              "        vertical-align: middle;\n",
              "    }\n",
              "\n",
              "    .dataframe tbody tr th {\n",
              "        vertical-align: top;\n",
              "    }\n",
              "\n",
              "    .dataframe thead th {\n",
              "        text-align: right;\n",
              "    }\n",
              "</style>\n",
              "<table border=\"1\" class=\"dataframe\">\n",
              "  <thead>\n",
              "    <tr style=\"text-align: right;\">\n",
              "      <th></th>\n",
              "      <th>_District</th>\n",
              "      <th>Households</th>\n",
              "      <th>No_of_households_with_electricity</th>\n",
              "      <th>No_of_households_with_Pressure_Lamp</th>\n",
              "      <th>No_of_households_with_Lantern</th>\n",
              "      <th>No_of_households_with_Tin_Lamp</th>\n",
              "      <th>No_of_households_with_Gas_Lamp</th>\n",
              "      <th>No_of_households_with_Fuel_wood</th>\n",
              "      <th>No_of_households_with_Solar</th>\n",
              "      <th>No_of_households_with_Other</th>\n",
              "      <th>County</th>\n",
              "    </tr>\n",
              "  </thead>\n",
              "  <tbody>\n",
              "    <tr>\n",
              "      <th>0</th>\n",
              "      <td>MERU CENTRAL</td>\n",
              "      <td>0</td>\n",
              "      <td>0</td>\n",
              "      <td>0</td>\n",
              "      <td>0</td>\n",
              "      <td>0</td>\n",
              "      <td>0</td>\n",
              "      <td>0</td>\n",
              "      <td>0</td>\n",
              "      <td>0</td>\n",
              "      <td>Meru</td>\n",
              "    </tr>\n",
              "  </tbody>\n",
              "</table>\n",
              "</div>"
            ],
            "text/plain": [
              "      _District  Households  ...  No_of_households_with_Other  County\n",
              "0  MERU CENTRAL           0  ...                            0    Meru\n",
              "\n",
              "[1 rows x 11 columns]"
            ]
          },
          "metadata": {
            "tags": []
          },
          "execution_count": 223
        }
      ]
    },
    {
      "cell_type": "code",
      "metadata": {
        "colab": {
          "base_uri": "https://localhost:8080/",
          "height": 69
        },
        "id": "G5XKX2Qe-Tm0",
        "outputId": "0bc15b7b-cbaa-44ea-cb54-88bc7804c3eb"
      },
      "source": [
        "# In-record & cross-datasets error checks\n",
        "#2017 dataset accuracy check\n",
        "e = (Energy_2017['No_of_households_with_electricity'] + Energy_2017['No_of_households_with_Pressure_Lamp'] + \n",
        "     Energy_2017['No_of_households_with_Lantern'] + Energy_2017['No_of_households_with_Tin_Lamp'] + \n",
        "     Energy_2017['No_of_households_with_Gas_Lamp'] + Energy_2017['No_of_households_with_Fuel_wood'] + \n",
        "     Energy_2017['No_of_households_with_Solar'] + Energy_2017['No_of_households_with_Other'])\n",
        "\n",
        "Energy_2017[Energy_2017['Households'] != e]"
      ],
      "execution_count": null,
      "outputs": [
        {
          "output_type": "execute_result",
          "data": {
            "text/html": [
              "<div>\n",
              "<style scoped>\n",
              "    .dataframe tbody tr th:only-of-type {\n",
              "        vertical-align: middle;\n",
              "    }\n",
              "\n",
              "    .dataframe tbody tr th {\n",
              "        vertical-align: top;\n",
              "    }\n",
              "\n",
              "    .dataframe thead th {\n",
              "        text-align: right;\n",
              "    }\n",
              "</style>\n",
              "<table border=\"1\" class=\"dataframe\">\n",
              "  <thead>\n",
              "    <tr style=\"text-align: right;\">\n",
              "      <th></th>\n",
              "      <th>_District</th>\n",
              "      <th>Households</th>\n",
              "      <th>No_of_households_with_electricity</th>\n",
              "      <th>No_of_households_with_Pressure_Lamp</th>\n",
              "      <th>No_of_households_with_Lantern</th>\n",
              "      <th>No_of_households_with_Tin_Lamp</th>\n",
              "      <th>No_of_households_with_Gas_Lamp</th>\n",
              "      <th>No_of_households_with_Fuel_wood</th>\n",
              "      <th>No_of_households_with_Solar</th>\n",
              "      <th>No_of_households_with_Other</th>\n",
              "      <th>County</th>\n",
              "    </tr>\n",
              "  </thead>\n",
              "  <tbody>\n",
              "  </tbody>\n",
              "</table>\n",
              "</div>"
            ],
            "text/plain": [
              "Empty DataFrame\n",
              "Columns: [_District, Households, No_of_households_with_electricity, No_of_households_with_Pressure_Lamp, No_of_households_with_Lantern, No_of_households_with_Tin_Lamp, No_of_households_with_Gas_Lamp, No_of_households_with_Fuel_wood, No_of_households_with_Solar, No_of_households_with_Other, County]\n",
              "Index: []"
            ]
          },
          "metadata": {
            "tags": []
          },
          "execution_count": 224
        }
      ]
    },
    {
      "cell_type": "code",
      "metadata": {
        "colab": {
          "base_uri": "https://localhost:8080/",
          "height": 69
        },
        "id": "6iSKhMGiK8ba",
        "outputId": "cdf03631-7b67-4e46-bbbb-14d588e50271"
      },
      "source": [
        "# In-record & cross-datasets error checks\n",
        "#2020 dataset accuracy check\n",
        "e1 = (Energy_2020['No_of_households_with_electricity'] + Energy_2020['No_of_households_with_Pressure_Lamp'] +\n",
        "      Energy_2020['No_of_households_with_Lantern'] + Energy_2020['No_of_households_with_Tin_Lamp'] + \n",
        "      Energy_2020['No_of_households_with_Gas_Lamp'] + Energy_2020['No_of_households_with_Fuel_wood'] + \n",
        "      Energy_2020['No_of_households_with_Solar'] + Energy_2020['No_of_households_with_Other'])\n",
        "\n",
        "Energy_2020[Energy_2020['Households'] != e1]"
      ],
      "execution_count": null,
      "outputs": [
        {
          "output_type": "execute_result",
          "data": {
            "text/html": [
              "<div>\n",
              "<style scoped>\n",
              "    .dataframe tbody tr th:only-of-type {\n",
              "        vertical-align: middle;\n",
              "    }\n",
              "\n",
              "    .dataframe tbody tr th {\n",
              "        vertical-align: top;\n",
              "    }\n",
              "\n",
              "    .dataframe thead th {\n",
              "        text-align: right;\n",
              "    }\n",
              "</style>\n",
              "<table border=\"1\" class=\"dataframe\">\n",
              "  <thead>\n",
              "    <tr style=\"text-align: right;\">\n",
              "      <th></th>\n",
              "      <th>County</th>\n",
              "      <th>No_of_households_with_electricity</th>\n",
              "      <th>No_of_households_with_Pressure_Lamp</th>\n",
              "      <th>No_of_households_with_Lantern</th>\n",
              "      <th>No_of_households_with_Tin_Lamp</th>\n",
              "      <th>No_of_households_with_Gas_Lamp</th>\n",
              "      <th>No_of_households_with_Fuel_wood</th>\n",
              "      <th>No_of_households_with_Solar</th>\n",
              "      <th>No_of_households_with_Other</th>\n",
              "      <th>Households</th>\n",
              "    </tr>\n",
              "  </thead>\n",
              "  <tbody>\n",
              "  </tbody>\n",
              "</table>\n",
              "</div>"
            ],
            "text/plain": [
              "Empty DataFrame\n",
              "Columns: [County, No_of_households_with_electricity, No_of_households_with_Pressure_Lamp, No_of_households_with_Lantern, No_of_households_with_Tin_Lamp, No_of_households_with_Gas_Lamp, No_of_households_with_Fuel_wood, No_of_households_with_Solar, No_of_households_with_Other, Households]\n",
              "Index: []"
            ]
          },
          "metadata": {
            "tags": []
          },
          "execution_count": 225
        }
      ]
    },
    {
      "cell_type": "markdown",
      "metadata": {
        "id": "beRWFPmW-UXS"
      },
      "source": [
        "## Completeness of the data"
      ]
    },
    {
      "cell_type": "code",
      "metadata": {
        "colab": {
          "base_uri": "https://localhost:8080/"
        },
        "id": "V41TZIsl-Yva",
        "outputId": "9e4284cb-32d1-4cb4-a8a0-2eb986262b36"
      },
      "source": [
        "# Checking if there is any missing value in 2017 dataset as a whole\n",
        "Energy_2017.isnull().any()\n",
        "\n",
        "# Checking if there is any missing value in 2020 dataset as a whole\n",
        "Energy_2020.isnull().any()\n",
        "\n",
        "\n",
        "# Checking if there is any missing value across each column and if so how many\n",
        "# 2017 dataset\n",
        "Energy_2017.isnull().sum()\n",
        "# 2020 dataset\n",
        "Energy_2020.isnull().sum()"
      ],
      "execution_count": null,
      "outputs": [
        {
          "output_type": "execute_result",
          "data": {
            "text/plain": [
              "County                                 0\n",
              "No_of_households_with_electricity      0\n",
              "No_of_households_with_Pressure_Lamp    0\n",
              "No_of_households_with_Lantern          0\n",
              "No_of_households_with_Tin_Lamp         0\n",
              "No_of_households_with_Gas_Lamp         0\n",
              "No_of_households_with_Fuel_wood        0\n",
              "No_of_households_with_Solar            0\n",
              "No_of_households_with_Other            0\n",
              "Households                             0\n",
              "dtype: int64"
            ]
          },
          "metadata": {
            "tags": []
          },
          "execution_count": 226
        }
      ]
    },
    {
      "cell_type": "markdown",
      "metadata": {
        "id": "UPJ6M5Um-afO"
      },
      "source": [
        "## Consistency of the data"
      ]
    },
    {
      "cell_type": "code",
      "metadata": {
        "colab": {
          "base_uri": "https://localhost:8080/",
          "height": 117
        },
        "id": "E0LpNYm-O0bw",
        "outputId": "a70e973a-0737-4508-98ac-90e3e41b7d96"
      },
      "source": [
        "Energy_2017.head(1)"
      ],
      "execution_count": null,
      "outputs": [
        {
          "output_type": "execute_result",
          "data": {
            "text/html": [
              "<div>\n",
              "<style scoped>\n",
              "    .dataframe tbody tr th:only-of-type {\n",
              "        vertical-align: middle;\n",
              "    }\n",
              "\n",
              "    .dataframe tbody tr th {\n",
              "        vertical-align: top;\n",
              "    }\n",
              "\n",
              "    .dataframe thead th {\n",
              "        text-align: right;\n",
              "    }\n",
              "</style>\n",
              "<table border=\"1\" class=\"dataframe\">\n",
              "  <thead>\n",
              "    <tr style=\"text-align: right;\">\n",
              "      <th></th>\n",
              "      <th>_District</th>\n",
              "      <th>Households</th>\n",
              "      <th>No_of_households_with_electricity</th>\n",
              "      <th>No_of_households_with_Pressure_Lamp</th>\n",
              "      <th>No_of_households_with_Lantern</th>\n",
              "      <th>No_of_households_with_Tin_Lamp</th>\n",
              "      <th>No_of_households_with_Gas_Lamp</th>\n",
              "      <th>No_of_households_with_Fuel_wood</th>\n",
              "      <th>No_of_households_with_Solar</th>\n",
              "      <th>No_of_households_with_Other</th>\n",
              "      <th>County</th>\n",
              "    </tr>\n",
              "  </thead>\n",
              "  <tbody>\n",
              "    <tr>\n",
              "      <th>0</th>\n",
              "      <td>MERU CENTRAL</td>\n",
              "      <td>0</td>\n",
              "      <td>0</td>\n",
              "      <td>0</td>\n",
              "      <td>0</td>\n",
              "      <td>0</td>\n",
              "      <td>0</td>\n",
              "      <td>0</td>\n",
              "      <td>0</td>\n",
              "      <td>0</td>\n",
              "      <td>Meru</td>\n",
              "    </tr>\n",
              "  </tbody>\n",
              "</table>\n",
              "</div>"
            ],
            "text/plain": [
              "      _District  Households  ...  No_of_households_with_Other  County\n",
              "0  MERU CENTRAL           0  ...                            0    Meru\n",
              "\n",
              "[1 rows x 11 columns]"
            ]
          },
          "metadata": {
            "tags": []
          },
          "execution_count": 227
        }
      ]
    },
    {
      "cell_type": "code",
      "metadata": {
        "colab": {
          "base_uri": "https://localhost:8080/",
          "height": 69
        },
        "id": "QaYoB6kl-eXc",
        "outputId": "c27628e3-754c-49e2-fe52-242a5a160428"
      },
      "source": [
        "#Checking for duplicates\n",
        "#2017 dataset (used households since some district names were duplicated but not the records)\n",
        "Energy_2017[Energy_2017['Households'].duplicated() ==True]\n",
        "\n",
        "#Rachuonyo was ignored because its household numbers different values\n",
        "\n",
        "#2020 dataset\n",
        "Energy_2020[Energy_2020['County'].duplicated() ==True]\n"
      ],
      "execution_count": null,
      "outputs": [
        {
          "output_type": "execute_result",
          "data": {
            "text/html": [
              "<div>\n",
              "<style scoped>\n",
              "    .dataframe tbody tr th:only-of-type {\n",
              "        vertical-align: middle;\n",
              "    }\n",
              "\n",
              "    .dataframe tbody tr th {\n",
              "        vertical-align: top;\n",
              "    }\n",
              "\n",
              "    .dataframe thead th {\n",
              "        text-align: right;\n",
              "    }\n",
              "</style>\n",
              "<table border=\"1\" class=\"dataframe\">\n",
              "  <thead>\n",
              "    <tr style=\"text-align: right;\">\n",
              "      <th></th>\n",
              "      <th>County</th>\n",
              "      <th>No_of_households_with_electricity</th>\n",
              "      <th>No_of_households_with_Pressure_Lamp</th>\n",
              "      <th>No_of_households_with_Lantern</th>\n",
              "      <th>No_of_households_with_Tin_Lamp</th>\n",
              "      <th>No_of_households_with_Gas_Lamp</th>\n",
              "      <th>No_of_households_with_Fuel_wood</th>\n",
              "      <th>No_of_households_with_Solar</th>\n",
              "      <th>No_of_households_with_Other</th>\n",
              "      <th>Households</th>\n",
              "    </tr>\n",
              "  </thead>\n",
              "  <tbody>\n",
              "  </tbody>\n",
              "</table>\n",
              "</div>"
            ],
            "text/plain": [
              "Empty DataFrame\n",
              "Columns: [County, No_of_households_with_electricity, No_of_households_with_Pressure_Lamp, No_of_households_with_Lantern, No_of_households_with_Tin_Lamp, No_of_households_with_Gas_Lamp, No_of_households_with_Fuel_wood, No_of_households_with_Solar, No_of_households_with_Other, Households]\n",
              "Index: []"
            ]
          },
          "metadata": {
            "tags": []
          },
          "execution_count": 228
        }
      ]
    },
    {
      "cell_type": "markdown",
      "metadata": {
        "id": "yk3F8pVG-evG"
      },
      "source": [
        "## Uniformity of the data"
      ]
    },
    {
      "cell_type": "code",
      "metadata": {
        "colab": {
          "base_uri": "https://localhost:8080/",
          "height": 100
        },
        "id": "EynbiWJA-ibQ",
        "outputId": "997fd6c4-c193-4018-b22d-c0501fd547bf"
      },
      "source": [
        "#Standardization of column names\n",
        "#Using strip(), lower() and replace() functions \n",
        "#2017 dataset\n",
        "Energy_2017.columns = Energy_2017.columns.str.strip().str.lower()\n",
        "Energy_2017.head(1)\n",
        "\n",
        "#2020 dataset\n",
        "Energy_2020.columns = Energy_2020.columns.str.strip().str.lower()\n",
        "Energy_2020.head(1)\n"
      ],
      "execution_count": null,
      "outputs": [
        {
          "output_type": "execute_result",
          "data": {
            "text/html": [
              "<div>\n",
              "<style scoped>\n",
              "    .dataframe tbody tr th:only-of-type {\n",
              "        vertical-align: middle;\n",
              "    }\n",
              "\n",
              "    .dataframe tbody tr th {\n",
              "        vertical-align: top;\n",
              "    }\n",
              "\n",
              "    .dataframe thead th {\n",
              "        text-align: right;\n",
              "    }\n",
              "</style>\n",
              "<table border=\"1\" class=\"dataframe\">\n",
              "  <thead>\n",
              "    <tr style=\"text-align: right;\">\n",
              "      <th></th>\n",
              "      <th>county</th>\n",
              "      <th>no_of_households_with_electricity</th>\n",
              "      <th>no_of_households_with_pressure_lamp</th>\n",
              "      <th>no_of_households_with_lantern</th>\n",
              "      <th>no_of_households_with_tin_lamp</th>\n",
              "      <th>no_of_households_with_gas_lamp</th>\n",
              "      <th>no_of_households_with_fuel_wood</th>\n",
              "      <th>no_of_households_with_solar</th>\n",
              "      <th>no_of_households_with_other</th>\n",
              "      <th>households</th>\n",
              "    </tr>\n",
              "  </thead>\n",
              "  <tbody>\n",
              "    <tr>\n",
              "      <th>0</th>\n",
              "      <td>BARINGO</td>\n",
              "      <td>10583</td>\n",
              "      <td>437</td>\n",
              "      <td>43488</td>\n",
              "      <td>22238</td>\n",
              "      <td>796</td>\n",
              "      <td>1902</td>\n",
              "      <td>30734</td>\n",
              "      <td>471</td>\n",
              "      <td>110649</td>\n",
              "    </tr>\n",
              "  </tbody>\n",
              "</table>\n",
              "</div>"
            ],
            "text/plain": [
              "    county  ...  households\n",
              "0  BARINGO  ...      110649\n",
              "\n",
              "[1 rows x 10 columns]"
            ]
          },
          "metadata": {
            "tags": []
          },
          "execution_count": 229
        }
      ]
    },
    {
      "cell_type": "code",
      "metadata": {
        "colab": {
          "base_uri": "https://localhost:8080/"
        },
        "id": "MTsgFUrlSP9E",
        "outputId": "a1a242ae-2368-447e-ce8b-d2e5bf4f80f1"
      },
      "source": [
        "#checking data types\n",
        "#2017 dataset\n",
        "Energy_2017.info()\n",
        "\n",
        "#2020 dataset\n",
        "Energy_2020.info()\n"
      ],
      "execution_count": null,
      "outputs": [
        {
          "output_type": "stream",
          "text": [
            "<class 'pandas.core.frame.DataFrame'>\n",
            "RangeIndex: 316 entries, 0 to 315\n",
            "Data columns (total 11 columns):\n",
            " #   Column                               Non-Null Count  Dtype \n",
            "---  ------                               --------------  ----- \n",
            " 0   _district                            316 non-null    object\n",
            " 1   households                           316 non-null    int64 \n",
            " 2   no_of_households_with_electricity    316 non-null    int64 \n",
            " 3   no_of_households_with_pressure_lamp  316 non-null    int64 \n",
            " 4   no_of_households_with_lantern        316 non-null    int64 \n",
            " 5   no_of_households_with_tin_lamp       316 non-null    int64 \n",
            " 6   no_of_households_with_gas_lamp       316 non-null    int64 \n",
            " 7   no_of_households_with_fuel_wood      316 non-null    int64 \n",
            " 8   no_of_households_with_solar          316 non-null    int64 \n",
            " 9   no_of_households_with_other          316 non-null    int64 \n",
            " 10  county                               316 non-null    object\n",
            "dtypes: int64(9), object(2)\n",
            "memory usage: 27.3+ KB\n",
            "<class 'pandas.core.frame.DataFrame'>\n",
            "RangeIndex: 47 entries, 0 to 46\n",
            "Data columns (total 10 columns):\n",
            " #   Column                               Non-Null Count  Dtype \n",
            "---  ------                               --------------  ----- \n",
            " 0   county                               47 non-null     object\n",
            " 1   no_of_households_with_electricity    47 non-null     int64 \n",
            " 2   no_of_households_with_pressure_lamp  47 non-null     int64 \n",
            " 3   no_of_households_with_lantern        47 non-null     int64 \n",
            " 4   no_of_households_with_tin_lamp       47 non-null     int64 \n",
            " 5   no_of_households_with_gas_lamp       47 non-null     int64 \n",
            " 6   no_of_households_with_fuel_wood      47 non-null     int64 \n",
            " 7   no_of_households_with_solar          47 non-null     int64 \n",
            " 8   no_of_households_with_other          47 non-null     int64 \n",
            " 9   households                           47 non-null     int64 \n",
            "dtypes: int64(9), object(1)\n",
            "memory usage: 3.8+ KB\n"
          ],
          "name": "stdout"
        }
      ]
    },
    {
      "cell_type": "code",
      "metadata": {
        "colab": {
          "base_uri": "https://localhost:8080/",
          "height": 1000
        },
        "id": "bkRy1WQnSnZL",
        "outputId": "70a52249-aa1d-45fe-8806-8ebeebf6771b"
      },
      "source": [
        "#2017 dataset group by to create a dataset of counties only like the 2020 datset\n",
        "\n",
        "Energy1_2017 = (Energy_2017.groupby(['county'])['no_of_households_with_electricity', 'no_of_households_with_pressure_lamp', \n",
        "                                                'no_of_households_with_lantern', 'no_of_households_with_tin_lamp', 'no_of_households_with_gas_lamp', \n",
        "                                                'no_of_households_with_fuel_wood', 'no_of_households_with_solar','no_of_households_with_other', \n",
        "                                                'households'].sum().reset_index())\n",
        "Energy1_2017\n"
      ],
      "execution_count": null,
      "outputs": [
        {
          "output_type": "stream",
          "text": [
            "/usr/local/lib/python3.6/dist-packages/ipykernel_launcher.py:6: FutureWarning: Indexing with multiple keys (implicitly converted to a tuple of keys) will be deprecated, use a list instead.\n",
            "  \n"
          ],
          "name": "stderr"
        },
        {
          "output_type": "execute_result",
          "data": {
            "text/html": [
              "<div>\n",
              "<style scoped>\n",
              "    .dataframe tbody tr th:only-of-type {\n",
              "        vertical-align: middle;\n",
              "    }\n",
              "\n",
              "    .dataframe tbody tr th {\n",
              "        vertical-align: top;\n",
              "    }\n",
              "\n",
              "    .dataframe thead th {\n",
              "        text-align: right;\n",
              "    }\n",
              "</style>\n",
              "<table border=\"1\" class=\"dataframe\">\n",
              "  <thead>\n",
              "    <tr style=\"text-align: right;\">\n",
              "      <th></th>\n",
              "      <th>county</th>\n",
              "      <th>no_of_households_with_electricity</th>\n",
              "      <th>no_of_households_with_pressure_lamp</th>\n",
              "      <th>no_of_households_with_lantern</th>\n",
              "      <th>no_of_households_with_tin_lamp</th>\n",
              "      <th>no_of_households_with_gas_lamp</th>\n",
              "      <th>no_of_households_with_fuel_wood</th>\n",
              "      <th>no_of_households_with_solar</th>\n",
              "      <th>no_of_households_with_other</th>\n",
              "      <th>households</th>\n",
              "    </tr>\n",
              "  </thead>\n",
              "  <tbody>\n",
              "    <tr>\n",
              "      <th>0</th>\n",
              "      <td>Baringo</td>\n",
              "      <td>10583</td>\n",
              "      <td>437</td>\n",
              "      <td>43488</td>\n",
              "      <td>22238</td>\n",
              "      <td>796</td>\n",
              "      <td>30734</td>\n",
              "      <td>1902</td>\n",
              "      <td>471</td>\n",
              "      <td>110649</td>\n",
              "    </tr>\n",
              "    <tr>\n",
              "      <th>1</th>\n",
              "      <td>Bomet</td>\n",
              "      <td>7552</td>\n",
              "      <td>581</td>\n",
              "      <td>113311</td>\n",
              "      <td>45434</td>\n",
              "      <td>1135</td>\n",
              "      <td>1444</td>\n",
              "      <td>4958</td>\n",
              "      <td>499</td>\n",
              "      <td>174914</td>\n",
              "    </tr>\n",
              "    <tr>\n",
              "      <th>2</th>\n",
              "      <td>Bungoma</td>\n",
              "      <td>12219</td>\n",
              "      <td>1351</td>\n",
              "      <td>72256</td>\n",
              "      <td>180120</td>\n",
              "      <td>1704</td>\n",
              "      <td>1493</td>\n",
              "      <td>1223</td>\n",
              "      <td>458</td>\n",
              "      <td>270824</td>\n",
              "    </tr>\n",
              "    <tr>\n",
              "      <th>3</th>\n",
              "      <td>Busia</td>\n",
              "      <td>9253</td>\n",
              "      <td>494</td>\n",
              "      <td>33283</td>\n",
              "      <td>108949</td>\n",
              "      <td>709</td>\n",
              "      <td>566</td>\n",
              "      <td>633</td>\n",
              "      <td>338</td>\n",
              "      <td>154225</td>\n",
              "    </tr>\n",
              "    <tr>\n",
              "      <th>4</th>\n",
              "      <td>Elgeyo Marakwet</td>\n",
              "      <td>5547</td>\n",
              "      <td>220</td>\n",
              "      <td>36321</td>\n",
              "      <td>21891</td>\n",
              "      <td>449</td>\n",
              "      <td>11744</td>\n",
              "      <td>1155</td>\n",
              "      <td>228</td>\n",
              "      <td>77555</td>\n",
              "    </tr>\n",
              "    <tr>\n",
              "      <th>5</th>\n",
              "      <td>Embu</td>\n",
              "      <td>19611</td>\n",
              "      <td>992</td>\n",
              "      <td>46512</td>\n",
              "      <td>57535</td>\n",
              "      <td>778</td>\n",
              "      <td>1114</td>\n",
              "      <td>4515</td>\n",
              "      <td>626</td>\n",
              "      <td>131683</td>\n",
              "    </tr>\n",
              "    <tr>\n",
              "      <th>6</th>\n",
              "      <td>Garissa</td>\n",
              "      <td>11405</td>\n",
              "      <td>552</td>\n",
              "      <td>20272</td>\n",
              "      <td>31642</td>\n",
              "      <td>17277</td>\n",
              "      <td>10251</td>\n",
              "      <td>364</td>\n",
              "      <td>6827</td>\n",
              "      <td>98590</td>\n",
              "    </tr>\n",
              "    <tr>\n",
              "      <th>7</th>\n",
              "      <td>Homa Bay</td>\n",
              "      <td>6850</td>\n",
              "      <td>980</td>\n",
              "      <td>43788</td>\n",
              "      <td>150440</td>\n",
              "      <td>1067</td>\n",
              "      <td>823</td>\n",
              "      <td>2081</td>\n",
              "      <td>226</td>\n",
              "      <td>206255</td>\n",
              "    </tr>\n",
              "    <tr>\n",
              "      <th>8</th>\n",
              "      <td>Isiolo</td>\n",
              "      <td>5800</td>\n",
              "      <td>154</td>\n",
              "      <td>9751</td>\n",
              "      <td>6113</td>\n",
              "      <td>781</td>\n",
              "      <td>7283</td>\n",
              "      <td>429</td>\n",
              "      <td>1015</td>\n",
              "      <td>31326</td>\n",
              "    </tr>\n",
              "    <tr>\n",
              "      <th>9</th>\n",
              "      <td>Kajiado</td>\n",
              "      <td>69098</td>\n",
              "      <td>1430</td>\n",
              "      <td>32788</td>\n",
              "      <td>62031</td>\n",
              "      <td>706</td>\n",
              "      <td>3804</td>\n",
              "      <td>1827</td>\n",
              "      <td>1780</td>\n",
              "      <td>173464</td>\n",
              "    </tr>\n",
              "    <tr>\n",
              "      <th>10</th>\n",
              "      <td>Kakamega</td>\n",
              "      <td>19959</td>\n",
              "      <td>1791</td>\n",
              "      <td>100156</td>\n",
              "      <td>226650</td>\n",
              "      <td>2718</td>\n",
              "      <td>1367</td>\n",
              "      <td>2555</td>\n",
              "      <td>483</td>\n",
              "      <td>355679</td>\n",
              "    </tr>\n",
              "    <tr>\n",
              "      <th>11</th>\n",
              "      <td>Kericho</td>\n",
              "      <td>15005</td>\n",
              "      <td>505</td>\n",
              "      <td>58865</td>\n",
              "      <td>49875</td>\n",
              "      <td>587</td>\n",
              "      <td>361</td>\n",
              "      <td>2171</td>\n",
              "      <td>212</td>\n",
              "      <td>127581</td>\n",
              "    </tr>\n",
              "    <tr>\n",
              "      <th>12</th>\n",
              "      <td>Kiambu</td>\n",
              "      <td>255704</td>\n",
              "      <td>3345</td>\n",
              "      <td>125860</td>\n",
              "      <td>89701</td>\n",
              "      <td>1428</td>\n",
              "      <td>735</td>\n",
              "      <td>3811</td>\n",
              "      <td>1866</td>\n",
              "      <td>482450</td>\n",
              "    </tr>\n",
              "    <tr>\n",
              "      <th>13</th>\n",
              "      <td>Kilifi</td>\n",
              "      <td>33423</td>\n",
              "      <td>1433</td>\n",
              "      <td>33735</td>\n",
              "      <td>125005</td>\n",
              "      <td>911</td>\n",
              "      <td>3471</td>\n",
              "      <td>1121</td>\n",
              "      <td>665</td>\n",
              "      <td>199764</td>\n",
              "    </tr>\n",
              "    <tr>\n",
              "      <th>14</th>\n",
              "      <td>Kirinyaga</td>\n",
              "      <td>25353</td>\n",
              "      <td>1028</td>\n",
              "      <td>51589</td>\n",
              "      <td>69116</td>\n",
              "      <td>1005</td>\n",
              "      <td>413</td>\n",
              "      <td>5349</td>\n",
              "      <td>367</td>\n",
              "      <td>154220</td>\n",
              "    </tr>\n",
              "    <tr>\n",
              "      <th>15</th>\n",
              "      <td>Kisii</td>\n",
              "      <td>20965</td>\n",
              "      <td>1033</td>\n",
              "      <td>87971</td>\n",
              "      <td>154632</td>\n",
              "      <td>1490</td>\n",
              "      <td>711</td>\n",
              "      <td>2536</td>\n",
              "      <td>345</td>\n",
              "      <td>269683</td>\n",
              "    </tr>\n",
              "    <tr>\n",
              "      <th>16</th>\n",
              "      <td>Kisumu</td>\n",
              "      <td>41551</td>\n",
              "      <td>1256</td>\n",
              "      <td>52543</td>\n",
              "      <td>127278</td>\n",
              "      <td>921</td>\n",
              "      <td>513</td>\n",
              "      <td>2265</td>\n",
              "      <td>392</td>\n",
              "      <td>226719</td>\n",
              "    </tr>\n",
              "    <tr>\n",
              "      <th>17</th>\n",
              "      <td>Kitui</td>\n",
              "      <td>9850</td>\n",
              "      <td>1192</td>\n",
              "      <td>111037</td>\n",
              "      <td>64450</td>\n",
              "      <td>1372</td>\n",
              "      <td>10311</td>\n",
              "      <td>6002</td>\n",
              "      <td>1277</td>\n",
              "      <td>205491</td>\n",
              "    </tr>\n",
              "    <tr>\n",
              "      <th>18</th>\n",
              "      <td>Kwale</td>\n",
              "      <td>12888</td>\n",
              "      <td>713</td>\n",
              "      <td>16063</td>\n",
              "      <td>89118</td>\n",
              "      <td>419</td>\n",
              "      <td>1522</td>\n",
              "      <td>998</td>\n",
              "      <td>326</td>\n",
              "      <td>122047</td>\n",
              "    </tr>\n",
              "    <tr>\n",
              "      <th>19</th>\n",
              "      <td>Laikipia</td>\n",
              "      <td>18222</td>\n",
              "      <td>542</td>\n",
              "      <td>36366</td>\n",
              "      <td>35413</td>\n",
              "      <td>740</td>\n",
              "      <td>5276</td>\n",
              "      <td>6127</td>\n",
              "      <td>428</td>\n",
              "      <td>103114</td>\n",
              "    </tr>\n",
              "    <tr>\n",
              "      <th>20</th>\n",
              "      <td>Lamu</td>\n",
              "      <td>3767</td>\n",
              "      <td>135</td>\n",
              "      <td>7211</td>\n",
              "      <td>8752</td>\n",
              "      <td>158</td>\n",
              "      <td>560</td>\n",
              "      <td>1173</td>\n",
              "      <td>428</td>\n",
              "      <td>22184</td>\n",
              "    </tr>\n",
              "    <tr>\n",
              "      <th>21</th>\n",
              "      <td>Machakos</td>\n",
              "      <td>45067</td>\n",
              "      <td>1846</td>\n",
              "      <td>143523</td>\n",
              "      <td>63999</td>\n",
              "      <td>1355</td>\n",
              "      <td>565</td>\n",
              "      <td>6973</td>\n",
              "      <td>1172</td>\n",
              "      <td>264500</td>\n",
              "    </tr>\n",
              "    <tr>\n",
              "      <th>22</th>\n",
              "      <td>Makueni</td>\n",
              "      <td>10912</td>\n",
              "      <td>816</td>\n",
              "      <td>117991</td>\n",
              "      <td>47245</td>\n",
              "      <td>859</td>\n",
              "      <td>1136</td>\n",
              "      <td>7002</td>\n",
              "      <td>517</td>\n",
              "      <td>186478</td>\n",
              "    </tr>\n",
              "    <tr>\n",
              "      <th>23</th>\n",
              "      <td>Mandera</td>\n",
              "      <td>3198</td>\n",
              "      <td>271</td>\n",
              "      <td>41321</td>\n",
              "      <td>16989</td>\n",
              "      <td>13845</td>\n",
              "      <td>45240</td>\n",
              "      <td>293</td>\n",
              "      <td>4340</td>\n",
              "      <td>125497</td>\n",
              "    </tr>\n",
              "    <tr>\n",
              "      <th>24</th>\n",
              "      <td>Marsabit</td>\n",
              "      <td>4258</td>\n",
              "      <td>69</td>\n",
              "      <td>13084</td>\n",
              "      <td>6953</td>\n",
              "      <td>1665</td>\n",
              "      <td>27355</td>\n",
              "      <td>678</td>\n",
              "      <td>2879</td>\n",
              "      <td>56941</td>\n",
              "    </tr>\n",
              "    <tr>\n",
              "      <th>25</th>\n",
              "      <td>Meru</td>\n",
              "      <td>50004</td>\n",
              "      <td>2388</td>\n",
              "      <td>112946</td>\n",
              "      <td>183198</td>\n",
              "      <td>3018</td>\n",
              "      <td>7015</td>\n",
              "      <td>20938</td>\n",
              "      <td>1519</td>\n",
              "      <td>381026</td>\n",
              "    </tr>\n",
              "    <tr>\n",
              "      <th>26</th>\n",
              "      <td>Migori</td>\n",
              "      <td>9551</td>\n",
              "      <td>1015</td>\n",
              "      <td>46080</td>\n",
              "      <td>119675</td>\n",
              "      <td>1057</td>\n",
              "      <td>1051</td>\n",
              "      <td>1485</td>\n",
              "      <td>297</td>\n",
              "      <td>180211</td>\n",
              "    </tr>\n",
              "    <tr>\n",
              "      <th>27</th>\n",
              "      <td>Mombasa</td>\n",
              "      <td>158588</td>\n",
              "      <td>2748</td>\n",
              "      <td>43057</td>\n",
              "      <td>61236</td>\n",
              "      <td>512</td>\n",
              "      <td>530</td>\n",
              "      <td>385</td>\n",
              "      <td>1644</td>\n",
              "      <td>268700</td>\n",
              "    </tr>\n",
              "    <tr>\n",
              "      <th>28</th>\n",
              "      <td>Muranga</td>\n",
              "      <td>33847</td>\n",
              "      <td>1306</td>\n",
              "      <td>95784</td>\n",
              "      <td>103722</td>\n",
              "      <td>1296</td>\n",
              "      <td>555</td>\n",
              "      <td>5594</td>\n",
              "      <td>386</td>\n",
              "      <td>242490</td>\n",
              "    </tr>\n",
              "    <tr>\n",
              "      <th>29</th>\n",
              "      <td>Nairobi</td>\n",
              "      <td>712859</td>\n",
              "      <td>10324</td>\n",
              "      <td>128173</td>\n",
              "      <td>123551</td>\n",
              "      <td>1251</td>\n",
              "      <td>622</td>\n",
              "      <td>992</td>\n",
              "      <td>7244</td>\n",
              "      <td>985016</td>\n",
              "    </tr>\n",
              "    <tr>\n",
              "      <th>30</th>\n",
              "      <td>Nakuru</td>\n",
              "      <td>139430</td>\n",
              "      <td>2271</td>\n",
              "      <td>147950</td>\n",
              "      <td>103605</td>\n",
              "      <td>1994</td>\n",
              "      <td>3398</td>\n",
              "      <td>9261</td>\n",
              "      <td>1927</td>\n",
              "      <td>409836</td>\n",
              "    </tr>\n",
              "    <tr>\n",
              "      <th>31</th>\n",
              "      <td>Nandi</td>\n",
              "      <td>9788</td>\n",
              "      <td>504</td>\n",
              "      <td>64865</td>\n",
              "      <td>75638</td>\n",
              "      <td>796</td>\n",
              "      <td>316</td>\n",
              "      <td>1920</td>\n",
              "      <td>246</td>\n",
              "      <td>154073</td>\n",
              "    </tr>\n",
              "    <tr>\n",
              "      <th>32</th>\n",
              "      <td>Narok</td>\n",
              "      <td>9903</td>\n",
              "      <td>826</td>\n",
              "      <td>49009</td>\n",
              "      <td>91422</td>\n",
              "      <td>861</td>\n",
              "      <td>12977</td>\n",
              "      <td>2301</td>\n",
              "      <td>1921</td>\n",
              "      <td>169220</td>\n",
              "    </tr>\n",
              "    <tr>\n",
              "      <th>33</th>\n",
              "      <td>Nyamira</td>\n",
              "      <td>6486</td>\n",
              "      <td>453</td>\n",
              "      <td>42674</td>\n",
              "      <td>54798</td>\n",
              "      <td>586</td>\n",
              "      <td>297</td>\n",
              "      <td>1024</td>\n",
              "      <td>67</td>\n",
              "      <td>106385</td>\n",
              "    </tr>\n",
              "    <tr>\n",
              "      <th>34</th>\n",
              "      <td>Nyandarua</td>\n",
              "      <td>15086</td>\n",
              "      <td>875</td>\n",
              "      <td>79351</td>\n",
              "      <td>38225</td>\n",
              "      <td>911</td>\n",
              "      <td>391</td>\n",
              "      <td>8653</td>\n",
              "      <td>387</td>\n",
              "      <td>143879</td>\n",
              "    </tr>\n",
              "    <tr>\n",
              "      <th>35</th>\n",
              "      <td>Nyeri</td>\n",
              "      <td>53086</td>\n",
              "      <td>1641</td>\n",
              "      <td>69517</td>\n",
              "      <td>66305</td>\n",
              "      <td>1038</td>\n",
              "      <td>1004</td>\n",
              "      <td>8626</td>\n",
              "      <td>486</td>\n",
              "      <td>201703</td>\n",
              "    </tr>\n",
              "    <tr>\n",
              "      <th>36</th>\n",
              "      <td>Samburu</td>\n",
              "      <td>2949</td>\n",
              "      <td>165</td>\n",
              "      <td>5074</td>\n",
              "      <td>9239</td>\n",
              "      <td>444</td>\n",
              "      <td>28451</td>\n",
              "      <td>658</td>\n",
              "      <td>374</td>\n",
              "      <td>47354</td>\n",
              "    </tr>\n",
              "    <tr>\n",
              "      <th>37</th>\n",
              "      <td>Siaya</td>\n",
              "      <td>8615</td>\n",
              "      <td>858</td>\n",
              "      <td>41128</td>\n",
              "      <td>145066</td>\n",
              "      <td>885</td>\n",
              "      <td>440</td>\n",
              "      <td>1772</td>\n",
              "      <td>270</td>\n",
              "      <td>199034</td>\n",
              "    </tr>\n",
              "    <tr>\n",
              "      <th>38</th>\n",
              "      <td>Taita Taveta</td>\n",
              "      <td>10653</td>\n",
              "      <td>353</td>\n",
              "      <td>32595</td>\n",
              "      <td>24732</td>\n",
              "      <td>257</td>\n",
              "      <td>412</td>\n",
              "      <td>1638</td>\n",
              "      <td>450</td>\n",
              "      <td>71090</td>\n",
              "    </tr>\n",
              "    <tr>\n",
              "      <th>39</th>\n",
              "      <td>Tana River</td>\n",
              "      <td>1184</td>\n",
              "      <td>86</td>\n",
              "      <td>9590</td>\n",
              "      <td>31438</td>\n",
              "      <td>604</td>\n",
              "      <td>2785</td>\n",
              "      <td>448</td>\n",
              "      <td>1279</td>\n",
              "      <td>47414</td>\n",
              "    </tr>\n",
              "    <tr>\n",
              "      <th>40</th>\n",
              "      <td>Tharaka Nithi</td>\n",
              "      <td>826</td>\n",
              "      <td>93</td>\n",
              "      <td>3801</td>\n",
              "      <td>18194</td>\n",
              "      <td>154</td>\n",
              "      <td>1652</td>\n",
              "      <td>2307</td>\n",
              "      <td>366</td>\n",
              "      <td>27393</td>\n",
              "    </tr>\n",
              "    <tr>\n",
              "      <th>41</th>\n",
              "      <td>Trans Nzoia</td>\n",
              "      <td>15121</td>\n",
              "      <td>977</td>\n",
              "      <td>65971</td>\n",
              "      <td>84035</td>\n",
              "      <td>1088</td>\n",
              "      <td>994</td>\n",
              "      <td>1442</td>\n",
              "      <td>489</td>\n",
              "      <td>170117</td>\n",
              "    </tr>\n",
              "    <tr>\n",
              "      <th>42</th>\n",
              "      <td>Turkana</td>\n",
              "      <td>3017</td>\n",
              "      <td>224</td>\n",
              "      <td>10571</td>\n",
              "      <td>13523</td>\n",
              "      <td>694</td>\n",
              "      <td>89894</td>\n",
              "      <td>946</td>\n",
              "      <td>4322</td>\n",
              "      <td>123191</td>\n",
              "    </tr>\n",
              "    <tr>\n",
              "      <th>43</th>\n",
              "      <td>Uasin Gishu</td>\n",
              "      <td>56534</td>\n",
              "      <td>1218</td>\n",
              "      <td>89231</td>\n",
              "      <td>50506</td>\n",
              "      <td>782</td>\n",
              "      <td>628</td>\n",
              "      <td>2357</td>\n",
              "      <td>1035</td>\n",
              "      <td>202291</td>\n",
              "    </tr>\n",
              "    <tr>\n",
              "      <th>44</th>\n",
              "      <td>Vihiga</td>\n",
              "      <td>8678</td>\n",
              "      <td>547</td>\n",
              "      <td>35132</td>\n",
              "      <td>76480</td>\n",
              "      <td>1038</td>\n",
              "      <td>582</td>\n",
              "      <td>761</td>\n",
              "      <td>129</td>\n",
              "      <td>123347</td>\n",
              "    </tr>\n",
              "    <tr>\n",
              "      <th>45</th>\n",
              "      <td>Wajir</td>\n",
              "      <td>3039</td>\n",
              "      <td>98</td>\n",
              "      <td>27923</td>\n",
              "      <td>14948</td>\n",
              "      <td>9767</td>\n",
              "      <td>26296</td>\n",
              "      <td>155</td>\n",
              "      <td>6348</td>\n",
              "      <td>88574</td>\n",
              "    </tr>\n",
              "    <tr>\n",
              "      <th>46</th>\n",
              "      <td>West Pokot</td>\n",
              "      <td>2456</td>\n",
              "      <td>104</td>\n",
              "      <td>20880</td>\n",
              "      <td>22021</td>\n",
              "      <td>467</td>\n",
              "      <td>46980</td>\n",
              "      <td>469</td>\n",
              "      <td>400</td>\n",
              "      <td>93777</td>\n",
              "    </tr>\n",
              "  </tbody>\n",
              "</table>\n",
              "</div>"
            ],
            "text/plain": [
              "             county  ...  households\n",
              "0           Baringo  ...      110649\n",
              "1             Bomet  ...      174914\n",
              "2           Bungoma  ...      270824\n",
              "3             Busia  ...      154225\n",
              "4   Elgeyo Marakwet  ...       77555\n",
              "5              Embu  ...      131683\n",
              "6           Garissa  ...       98590\n",
              "7          Homa Bay  ...      206255\n",
              "8            Isiolo  ...       31326\n",
              "9           Kajiado  ...      173464\n",
              "10         Kakamega  ...      355679\n",
              "11          Kericho  ...      127581\n",
              "12           Kiambu  ...      482450\n",
              "13           Kilifi  ...      199764\n",
              "14        Kirinyaga  ...      154220\n",
              "15            Kisii  ...      269683\n",
              "16           Kisumu  ...      226719\n",
              "17            Kitui  ...      205491\n",
              "18            Kwale  ...      122047\n",
              "19         Laikipia  ...      103114\n",
              "20             Lamu  ...       22184\n",
              "21         Machakos  ...      264500\n",
              "22          Makueni  ...      186478\n",
              "23          Mandera  ...      125497\n",
              "24         Marsabit  ...       56941\n",
              "25             Meru  ...      381026\n",
              "26           Migori  ...      180211\n",
              "27          Mombasa  ...      268700\n",
              "28          Muranga  ...      242490\n",
              "29          Nairobi  ...      985016\n",
              "30           Nakuru  ...      409836\n",
              "31            Nandi  ...      154073\n",
              "32            Narok  ...      169220\n",
              "33          Nyamira  ...      106385\n",
              "34        Nyandarua  ...      143879\n",
              "35            Nyeri  ...      201703\n",
              "36          Samburu  ...       47354\n",
              "37            Siaya  ...      199034\n",
              "38     Taita Taveta  ...       71090\n",
              "39       Tana River  ...       47414\n",
              "40    Tharaka Nithi  ...       27393\n",
              "41      Trans Nzoia  ...      170117\n",
              "42          Turkana  ...      123191\n",
              "43      Uasin Gishu  ...      202291\n",
              "44           Vihiga  ...      123347\n",
              "45            Wajir  ...       88574\n",
              "46       West Pokot  ...       93777\n",
              "\n",
              "[47 rows x 10 columns]"
            ]
          },
          "metadata": {
            "tags": []
          },
          "execution_count": 231
        }
      ]
    },
    {
      "cell_type": "code",
      "metadata": {
        "colab": {
          "base_uri": "https://localhost:8080/"
        },
        "id": "tnYbmrYP2cAu",
        "outputId": "da2bf987-ea37-433f-c8c4-e28702b98abf"
      },
      "source": [
        "# Overview of overall % electricity access\n",
        "((Energy_2020['no_of_households_with_electricity'] +Energy_2020['no_of_households_with_solar']).sum()/Energy_2020['households'].sum()) * 100"
      ],
      "execution_count": null,
      "outputs": [
        {
          "output_type": "execute_result",
          "data": {
            "text/plain": [
              "27.210475784886647"
            ]
          },
          "metadata": {
            "tags": []
          },
          "execution_count": 232
        }
      ]
    },
    {
      "cell_type": "markdown",
      "metadata": {
        "id": "erUFUImWnw5o"
      },
      "source": [
        "Having carried out the above steps, it was observed that the two datasets were in fact the same original dataset based on 2011 data that had undergone cleaning. Additional research and data sourcing was carried out and the result was the adoption of the following data into our analysis\n"
      ]
    },
    {
      "cell_type": "markdown",
      "metadata": {
        "id": "J3PYw8kaoVyk"
      },
      "source": [
        "# DATA PREPARATION 2\n"
      ]
    },
    {
      "cell_type": "code",
      "metadata": {
        "id": "OwnI1OgxoUux",
        "colab": {
          "base_uri": "https://localhost:8080/"
        },
        "outputId": "a87a6955-cd07-49c4-9127-4e83f678dec8"
      },
      "source": [
        "# Energy data from 2009\n",
        "Energy_2009 = pd.read_csv('kenya-access-to-electricity-rates-per-county.csv')\n",
        "Energy_2009.head()"
      ],
      "execution_count": null,
      "outputs": [
        {
          "output_type": "execute_result",
          "data": {
            "text/html": [
              "<div>\n",
              "<style scoped>\n",
              "    .dataframe tbody tr th:only-of-type {\n",
              "        vertical-align: middle;\n",
              "    }\n",
              "\n",
              "    .dataframe tbody tr th {\n",
              "        vertical-align: top;\n",
              "    }\n",
              "\n",
              "    .dataframe thead th {\n",
              "        text-align: right;\n",
              "    }\n",
              "</style>\n",
              "<table border=\"1\" class=\"dataframe\">\n",
              "  <thead>\n",
              "    <tr style=\"text-align: right;\">\n",
              "      <th></th>\n",
              "      <th>Country</th>\n",
              "      <th>Counties</th>\n",
              "      <th>Access to electricity</th>\n",
              "    </tr>\n",
              "  </thead>\n",
              "  <tbody>\n",
              "    <tr>\n",
              "      <th>0</th>\n",
              "      <td>Kenya</td>\n",
              "      <td>National Average</td>\n",
              "      <td>23.0</td>\n",
              "    </tr>\n",
              "    <tr>\n",
              "      <th>1</th>\n",
              "      <td>Kenya</td>\n",
              "      <td>Baringo</td>\n",
              "      <td>9.6</td>\n",
              "    </tr>\n",
              "    <tr>\n",
              "      <th>2</th>\n",
              "      <td>Kenya</td>\n",
              "      <td>Bomet</td>\n",
              "      <td>4.3</td>\n",
              "    </tr>\n",
              "    <tr>\n",
              "      <th>3</th>\n",
              "      <td>Kenya</td>\n",
              "      <td>Bungoma</td>\n",
              "      <td>4.5</td>\n",
              "    </tr>\n",
              "    <tr>\n",
              "      <th>4</th>\n",
              "      <td>Kenya</td>\n",
              "      <td>Busia</td>\n",
              "      <td>6.0</td>\n",
              "    </tr>\n",
              "  </tbody>\n",
              "</table>\n",
              "</div>"
            ],
            "text/plain": [
              "  Country          Counties  Access to electricity\n",
              "0   Kenya  National Average                   23.0\n",
              "1   Kenya           Baringo                    9.6\n",
              "2   Kenya             Bomet                    4.3\n",
              "3   Kenya           Bungoma                    4.5\n",
              "4   Kenya             Busia                    6.0"
            ]
          },
          "metadata": {
            "tags": []
          },
          "execution_count": 233
        }
      ]
    },
    {
      "cell_type": "code",
      "metadata": {
        "id": "VjoDamnqoStS",
        "colab": {
          "base_uri": "https://localhost:8080/"
        },
        "outputId": "ba5cedab-5608-4a6d-ecb4-ee4fd0ebe3d5"
      },
      "source": [
        "# Making the above consistent with the previous data\n",
        "Energy_2009.rename(columns= {'Counties': 'County', 'Access to electricity': 'percent_access_to_electricity' }, inplace = True)\n",
        "Energy_2009.columns = Energy_2009.columns.str.strip().str.lower()\n",
        "copy_2009 = Energy_2009.copy(deep=True)\n",
        "Energy_2009.head()"
      ],
      "execution_count": null,
      "outputs": [
        {
          "output_type": "execute_result",
          "data": {
            "text/html": [
              "<div>\n",
              "<style scoped>\n",
              "    .dataframe tbody tr th:only-of-type {\n",
              "        vertical-align: middle;\n",
              "    }\n",
              "\n",
              "    .dataframe tbody tr th {\n",
              "        vertical-align: top;\n",
              "    }\n",
              "\n",
              "    .dataframe thead th {\n",
              "        text-align: right;\n",
              "    }\n",
              "</style>\n",
              "<table border=\"1\" class=\"dataframe\">\n",
              "  <thead>\n",
              "    <tr style=\"text-align: right;\">\n",
              "      <th></th>\n",
              "      <th>country</th>\n",
              "      <th>county</th>\n",
              "      <th>percent_access_to_electricity</th>\n",
              "    </tr>\n",
              "  </thead>\n",
              "  <tbody>\n",
              "    <tr>\n",
              "      <th>0</th>\n",
              "      <td>Kenya</td>\n",
              "      <td>National Average</td>\n",
              "      <td>23.0</td>\n",
              "    </tr>\n",
              "    <tr>\n",
              "      <th>1</th>\n",
              "      <td>Kenya</td>\n",
              "      <td>Baringo</td>\n",
              "      <td>9.6</td>\n",
              "    </tr>\n",
              "    <tr>\n",
              "      <th>2</th>\n",
              "      <td>Kenya</td>\n",
              "      <td>Bomet</td>\n",
              "      <td>4.3</td>\n",
              "    </tr>\n",
              "    <tr>\n",
              "      <th>3</th>\n",
              "      <td>Kenya</td>\n",
              "      <td>Bungoma</td>\n",
              "      <td>4.5</td>\n",
              "    </tr>\n",
              "    <tr>\n",
              "      <th>4</th>\n",
              "      <td>Kenya</td>\n",
              "      <td>Busia</td>\n",
              "      <td>6.0</td>\n",
              "    </tr>\n",
              "  </tbody>\n",
              "</table>\n",
              "</div>"
            ],
            "text/plain": [
              "  country            county  percent_access_to_electricity\n",
              "0   Kenya  National Average                           23.0\n",
              "1   Kenya           Baringo                            9.6\n",
              "2   Kenya             Bomet                            4.3\n",
              "3   Kenya           Bungoma                            4.5\n",
              "4   Kenya             Busia                            6.0"
            ]
          },
          "metadata": {
            "tags": []
          },
          "execution_count": 234
        }
      ]
    },
    {
      "cell_type": "code",
      "metadata": {
        "id": "o2B-J75bEGFx"
      },
      "source": [
        "# Loading the world bank datasets into the environment\n",
        "\n",
        "Source = pd.read_csv('share-elec-by-source.csv')\n",
        "Fossil_Fuels = pd.read_csv('share-electricity-fossil-fuels.csv')\n",
        "Carbon = pd.read_csv('share-electricity-low-carbon.csv')\n",
        "Renewables = pd.read_csv('share-electricity-renewables.csv')\n",
        "Electricity_access = pd.read_csv('share-of-the-population-with-access-to-electricity.csv')"
      ],
      "execution_count": null,
      "outputs": []
    },
    {
      "cell_type": "code",
      "metadata": {
        "colab": {
          "base_uri": "https://localhost:8080/"
        },
        "id": "NbDCCp-7GVRh",
        "outputId": "41c6b6ee-1dda-491a-c33b-4b532150c263"
      },
      "source": [
        "# Previewing the datasets above\n",
        "Source.head()"
      ],
      "execution_count": null,
      "outputs": [
        {
          "output_type": "execute_result",
          "data": {
            "text/html": [
              "<div>\n",
              "<style scoped>\n",
              "    .dataframe tbody tr th:only-of-type {\n",
              "        vertical-align: middle;\n",
              "    }\n",
              "\n",
              "    .dataframe tbody tr th {\n",
              "        vertical-align: top;\n",
              "    }\n",
              "\n",
              "    .dataframe thead th {\n",
              "        text-align: right;\n",
              "    }\n",
              "</style>\n",
              "<table border=\"1\" class=\"dataframe\">\n",
              "  <thead>\n",
              "    <tr style=\"text-align: right;\">\n",
              "      <th></th>\n",
              "      <th>Entity</th>\n",
              "      <th>Code</th>\n",
              "      <th>Year</th>\n",
              "      <th>Coal (% electricity)</th>\n",
              "      <th>Oil (% electricity)</th>\n",
              "      <th>Gas (% electricity)</th>\n",
              "      <th>Nuclear (% electricity)</th>\n",
              "      <th>Solar (% electricity)</th>\n",
              "      <th>Wind (% electricity)</th>\n",
              "      <th>Hydro (% electricity)</th>\n",
              "      <th>Other renewables (% electricity)</th>\n",
              "    </tr>\n",
              "  </thead>\n",
              "  <tbody>\n",
              "    <tr>\n",
              "      <th>0</th>\n",
              "      <td>Afghanistan</td>\n",
              "      <td>AFG</td>\n",
              "      <td>2000</td>\n",
              "      <td>0.0</td>\n",
              "      <td>0.0</td>\n",
              "      <td>33.190578</td>\n",
              "      <td>0.0</td>\n",
              "      <td>0.0</td>\n",
              "      <td>0.0</td>\n",
              "      <td>66.809422</td>\n",
              "      <td>0.0</td>\n",
              "    </tr>\n",
              "    <tr>\n",
              "      <th>1</th>\n",
              "      <td>Afghanistan</td>\n",
              "      <td>AFG</td>\n",
              "      <td>2001</td>\n",
              "      <td>0.0</td>\n",
              "      <td>0.0</td>\n",
              "      <td>15.878378</td>\n",
              "      <td>0.0</td>\n",
              "      <td>0.0</td>\n",
              "      <td>0.0</td>\n",
              "      <td>84.121622</td>\n",
              "      <td>0.0</td>\n",
              "    </tr>\n",
              "    <tr>\n",
              "      <th>2</th>\n",
              "      <td>Afghanistan</td>\n",
              "      <td>AFG</td>\n",
              "      <td>2002</td>\n",
              "      <td>0.0</td>\n",
              "      <td>0.0</td>\n",
              "      <td>19.213974</td>\n",
              "      <td>0.0</td>\n",
              "      <td>0.0</td>\n",
              "      <td>0.0</td>\n",
              "      <td>80.786026</td>\n",
              "      <td>0.0</td>\n",
              "    </tr>\n",
              "    <tr>\n",
              "      <th>3</th>\n",
              "      <td>Afghanistan</td>\n",
              "      <td>AFG</td>\n",
              "      <td>2003</td>\n",
              "      <td>0.0</td>\n",
              "      <td>0.0</td>\n",
              "      <td>32.907348</td>\n",
              "      <td>0.0</td>\n",
              "      <td>0.0</td>\n",
              "      <td>0.0</td>\n",
              "      <td>67.092652</td>\n",
              "      <td>0.0</td>\n",
              "    </tr>\n",
              "    <tr>\n",
              "      <th>4</th>\n",
              "      <td>Afghanistan</td>\n",
              "      <td>AFG</td>\n",
              "      <td>2004</td>\n",
              "      <td>0.0</td>\n",
              "      <td>0.0</td>\n",
              "      <td>36.800895</td>\n",
              "      <td>0.0</td>\n",
              "      <td>0.0</td>\n",
              "      <td>0.0</td>\n",
              "      <td>63.199105</td>\n",
              "      <td>0.0</td>\n",
              "    </tr>\n",
              "  </tbody>\n",
              "</table>\n",
              "</div>"
            ],
            "text/plain": [
              "        Entity Code  ...  Hydro (% electricity)  Other renewables (% electricity)\n",
              "0  Afghanistan  AFG  ...              66.809422                               0.0\n",
              "1  Afghanistan  AFG  ...              84.121622                               0.0\n",
              "2  Afghanistan  AFG  ...              80.786026                               0.0\n",
              "3  Afghanistan  AFG  ...              67.092652                               0.0\n",
              "4  Afghanistan  AFG  ...              63.199105                               0.0\n",
              "\n",
              "[5 rows x 11 columns]"
            ]
          },
          "metadata": {
            "tags": []
          },
          "execution_count": 236
        }
      ]
    },
    {
      "cell_type": "code",
      "metadata": {
        "colab": {
          "base_uri": "https://localhost:8080/"
        },
        "id": "RS6icTl9Gat-",
        "outputId": "afe68e89-b0ab-4352-bf17-a40dc5b00c24"
      },
      "source": [
        "Fossil_Fuels.head()"
      ],
      "execution_count": null,
      "outputs": [
        {
          "output_type": "execute_result",
          "data": {
            "text/html": [
              "<div>\n",
              "<style scoped>\n",
              "    .dataframe tbody tr th:only-of-type {\n",
              "        vertical-align: middle;\n",
              "    }\n",
              "\n",
              "    .dataframe tbody tr th {\n",
              "        vertical-align: top;\n",
              "    }\n",
              "\n",
              "    .dataframe thead th {\n",
              "        text-align: right;\n",
              "    }\n",
              "</style>\n",
              "<table border=\"1\" class=\"dataframe\">\n",
              "  <thead>\n",
              "    <tr style=\"text-align: right;\">\n",
              "      <th></th>\n",
              "      <th>Entity</th>\n",
              "      <th>Code</th>\n",
              "      <th>Year</th>\n",
              "      <th>Fossil fuels (% electricity)</th>\n",
              "    </tr>\n",
              "  </thead>\n",
              "  <tbody>\n",
              "    <tr>\n",
              "      <th>0</th>\n",
              "      <td>Afghanistan</td>\n",
              "      <td>AFG</td>\n",
              "      <td>2000</td>\n",
              "      <td>33.190578</td>\n",
              "    </tr>\n",
              "    <tr>\n",
              "      <th>1</th>\n",
              "      <td>Afghanistan</td>\n",
              "      <td>AFG</td>\n",
              "      <td>2001</td>\n",
              "      <td>15.878378</td>\n",
              "    </tr>\n",
              "    <tr>\n",
              "      <th>2</th>\n",
              "      <td>Afghanistan</td>\n",
              "      <td>AFG</td>\n",
              "      <td>2002</td>\n",
              "      <td>19.213974</td>\n",
              "    </tr>\n",
              "    <tr>\n",
              "      <th>3</th>\n",
              "      <td>Afghanistan</td>\n",
              "      <td>AFG</td>\n",
              "      <td>2003</td>\n",
              "      <td>32.907348</td>\n",
              "    </tr>\n",
              "    <tr>\n",
              "      <th>4</th>\n",
              "      <td>Afghanistan</td>\n",
              "      <td>AFG</td>\n",
              "      <td>2004</td>\n",
              "      <td>36.800895</td>\n",
              "    </tr>\n",
              "  </tbody>\n",
              "</table>\n",
              "</div>"
            ],
            "text/plain": [
              "        Entity Code  Year  Fossil fuels (% electricity)\n",
              "0  Afghanistan  AFG  2000                     33.190578\n",
              "1  Afghanistan  AFG  2001                     15.878378\n",
              "2  Afghanistan  AFG  2002                     19.213974\n",
              "3  Afghanistan  AFG  2003                     32.907348\n",
              "4  Afghanistan  AFG  2004                     36.800895"
            ]
          },
          "metadata": {
            "tags": []
          },
          "execution_count": 237
        }
      ]
    },
    {
      "cell_type": "code",
      "metadata": {
        "colab": {
          "base_uri": "https://localhost:8080/"
        },
        "id": "chfBWuuVGd-D",
        "outputId": "6c6cbdbb-c72a-4e76-b8b8-6a28a36e1fe6"
      },
      "source": [
        "Carbon.head()"
      ],
      "execution_count": null,
      "outputs": [
        {
          "output_type": "execute_result",
          "data": {
            "text/html": [
              "<div>\n",
              "<style scoped>\n",
              "    .dataframe tbody tr th:only-of-type {\n",
              "        vertical-align: middle;\n",
              "    }\n",
              "\n",
              "    .dataframe tbody tr th {\n",
              "        vertical-align: top;\n",
              "    }\n",
              "\n",
              "    .dataframe thead th {\n",
              "        text-align: right;\n",
              "    }\n",
              "</style>\n",
              "<table border=\"1\" class=\"dataframe\">\n",
              "  <thead>\n",
              "    <tr style=\"text-align: right;\">\n",
              "      <th></th>\n",
              "      <th>Entity</th>\n",
              "      <th>Code</th>\n",
              "      <th>Year</th>\n",
              "      <th>Low-carbon electricity (% electricity)</th>\n",
              "    </tr>\n",
              "  </thead>\n",
              "  <tbody>\n",
              "    <tr>\n",
              "      <th>0</th>\n",
              "      <td>Afghanistan</td>\n",
              "      <td>AFG</td>\n",
              "      <td>2000</td>\n",
              "      <td>66.809422</td>\n",
              "    </tr>\n",
              "    <tr>\n",
              "      <th>1</th>\n",
              "      <td>Afghanistan</td>\n",
              "      <td>AFG</td>\n",
              "      <td>2001</td>\n",
              "      <td>84.121622</td>\n",
              "    </tr>\n",
              "    <tr>\n",
              "      <th>2</th>\n",
              "      <td>Afghanistan</td>\n",
              "      <td>AFG</td>\n",
              "      <td>2002</td>\n",
              "      <td>80.786026</td>\n",
              "    </tr>\n",
              "    <tr>\n",
              "      <th>3</th>\n",
              "      <td>Afghanistan</td>\n",
              "      <td>AFG</td>\n",
              "      <td>2003</td>\n",
              "      <td>67.092652</td>\n",
              "    </tr>\n",
              "    <tr>\n",
              "      <th>4</th>\n",
              "      <td>Afghanistan</td>\n",
              "      <td>AFG</td>\n",
              "      <td>2004</td>\n",
              "      <td>63.199105</td>\n",
              "    </tr>\n",
              "  </tbody>\n",
              "</table>\n",
              "</div>"
            ],
            "text/plain": [
              "        Entity Code  Year  Low-carbon electricity (% electricity)\n",
              "0  Afghanistan  AFG  2000                               66.809422\n",
              "1  Afghanistan  AFG  2001                               84.121622\n",
              "2  Afghanistan  AFG  2002                               80.786026\n",
              "3  Afghanistan  AFG  2003                               67.092652\n",
              "4  Afghanistan  AFG  2004                               63.199105"
            ]
          },
          "metadata": {
            "tags": []
          },
          "execution_count": 238
        }
      ]
    },
    {
      "cell_type": "code",
      "metadata": {
        "colab": {
          "base_uri": "https://localhost:8080/"
        },
        "id": "VVT7X-85GguC",
        "outputId": "d30977ea-ec00-4fb4-e78b-928c0384c277"
      },
      "source": [
        "Renewables.head()"
      ],
      "execution_count": null,
      "outputs": [
        {
          "output_type": "execute_result",
          "data": {
            "text/html": [
              "<div>\n",
              "<style scoped>\n",
              "    .dataframe tbody tr th:only-of-type {\n",
              "        vertical-align: middle;\n",
              "    }\n",
              "\n",
              "    .dataframe tbody tr th {\n",
              "        vertical-align: top;\n",
              "    }\n",
              "\n",
              "    .dataframe thead th {\n",
              "        text-align: right;\n",
              "    }\n",
              "</style>\n",
              "<table border=\"1\" class=\"dataframe\">\n",
              "  <thead>\n",
              "    <tr style=\"text-align: right;\">\n",
              "      <th></th>\n",
              "      <th>Entity</th>\n",
              "      <th>Code</th>\n",
              "      <th>Year</th>\n",
              "      <th>Renewables (% electricity)</th>\n",
              "    </tr>\n",
              "  </thead>\n",
              "  <tbody>\n",
              "    <tr>\n",
              "      <th>0</th>\n",
              "      <td>Afghanistan</td>\n",
              "      <td>AFG</td>\n",
              "      <td>2000</td>\n",
              "      <td>66.809422</td>\n",
              "    </tr>\n",
              "    <tr>\n",
              "      <th>1</th>\n",
              "      <td>Afghanistan</td>\n",
              "      <td>AFG</td>\n",
              "      <td>2001</td>\n",
              "      <td>84.121622</td>\n",
              "    </tr>\n",
              "    <tr>\n",
              "      <th>2</th>\n",
              "      <td>Afghanistan</td>\n",
              "      <td>AFG</td>\n",
              "      <td>2002</td>\n",
              "      <td>80.786026</td>\n",
              "    </tr>\n",
              "    <tr>\n",
              "      <th>3</th>\n",
              "      <td>Afghanistan</td>\n",
              "      <td>AFG</td>\n",
              "      <td>2003</td>\n",
              "      <td>67.092652</td>\n",
              "    </tr>\n",
              "    <tr>\n",
              "      <th>4</th>\n",
              "      <td>Afghanistan</td>\n",
              "      <td>AFG</td>\n",
              "      <td>2004</td>\n",
              "      <td>63.199105</td>\n",
              "    </tr>\n",
              "  </tbody>\n",
              "</table>\n",
              "</div>"
            ],
            "text/plain": [
              "        Entity Code  Year  Renewables (% electricity)\n",
              "0  Afghanistan  AFG  2000                   66.809422\n",
              "1  Afghanistan  AFG  2001                   84.121622\n",
              "2  Afghanistan  AFG  2002                   80.786026\n",
              "3  Afghanistan  AFG  2003                   67.092652\n",
              "4  Afghanistan  AFG  2004                   63.199105"
            ]
          },
          "metadata": {
            "tags": []
          },
          "execution_count": 239
        }
      ]
    },
    {
      "cell_type": "code",
      "metadata": {
        "colab": {
          "base_uri": "https://localhost:8080/"
        },
        "id": "1NFrpW0gGjG7",
        "outputId": "a8a1b8eb-fb89-412b-8c22-28da005362ed"
      },
      "source": [
        "Electricity_access.head()"
      ],
      "execution_count": null,
      "outputs": [
        {
          "output_type": "execute_result",
          "data": {
            "text/html": [
              "<div>\n",
              "<style scoped>\n",
              "    .dataframe tbody tr th:only-of-type {\n",
              "        vertical-align: middle;\n",
              "    }\n",
              "\n",
              "    .dataframe tbody tr th {\n",
              "        vertical-align: top;\n",
              "    }\n",
              "\n",
              "    .dataframe thead th {\n",
              "        text-align: right;\n",
              "    }\n",
              "</style>\n",
              "<table border=\"1\" class=\"dataframe\">\n",
              "  <thead>\n",
              "    <tr style=\"text-align: right;\">\n",
              "      <th></th>\n",
              "      <th>Entity</th>\n",
              "      <th>Code</th>\n",
              "      <th>Year</th>\n",
              "      <th>Access to electricity (% of population)</th>\n",
              "    </tr>\n",
              "  </thead>\n",
              "  <tbody>\n",
              "    <tr>\n",
              "      <th>0</th>\n",
              "      <td>Afghanistan</td>\n",
              "      <td>AFG</td>\n",
              "      <td>1990</td>\n",
              "      <td>0.01</td>\n",
              "    </tr>\n",
              "    <tr>\n",
              "      <th>1</th>\n",
              "      <td>Afghanistan</td>\n",
              "      <td>AFG</td>\n",
              "      <td>1991</td>\n",
              "      <td>0.01</td>\n",
              "    </tr>\n",
              "    <tr>\n",
              "      <th>2</th>\n",
              "      <td>Afghanistan</td>\n",
              "      <td>AFG</td>\n",
              "      <td>1992</td>\n",
              "      <td>0.01</td>\n",
              "    </tr>\n",
              "    <tr>\n",
              "      <th>3</th>\n",
              "      <td>Afghanistan</td>\n",
              "      <td>AFG</td>\n",
              "      <td>1993</td>\n",
              "      <td>0.01</td>\n",
              "    </tr>\n",
              "    <tr>\n",
              "      <th>4</th>\n",
              "      <td>Afghanistan</td>\n",
              "      <td>AFG</td>\n",
              "      <td>1994</td>\n",
              "      <td>0.01</td>\n",
              "    </tr>\n",
              "  </tbody>\n",
              "</table>\n",
              "</div>"
            ],
            "text/plain": [
              "        Entity Code  Year  Access to electricity (% of population)\n",
              "0  Afghanistan  AFG  1990                                     0.01\n",
              "1  Afghanistan  AFG  1991                                     0.01\n",
              "2  Afghanistan  AFG  1992                                     0.01\n",
              "3  Afghanistan  AFG  1993                                     0.01\n",
              "4  Afghanistan  AFG  1994                                     0.01"
            ]
          },
          "metadata": {
            "tags": []
          },
          "execution_count": 240
        }
      ]
    },
    {
      "cell_type": "code",
      "metadata": {
        "id": "9jIkd6S0GlMi"
      },
      "source": [
        "# All data sets have values from 2000 that include all countries in the world.\n",
        "# We'll need to access only data relative to Kenya\n",
        "Source = Source[Source.Entity == 'Kenya']\n",
        "Fossil_Fuels = Fossil_Fuels[Fossil_Fuels.Entity == 'Kenya']\n",
        "Carbon = Carbon[Carbon.Entity == 'Kenya']\n",
        "Renewables = Renewables[Renewables.Entity == 'Kenya']\n",
        "Electricity_access = Electricity_access[Electricity_access.Entity == 'Kenya']"
      ],
      "execution_count": null,
      "outputs": []
    },
    {
      "cell_type": "code",
      "metadata": {
        "id": "VxU_DNRbHeBp"
      },
      "source": [
        "# We'll also drop the irrelevant column Code\n",
        "Source.drop('Code', axis= 1, inplace=True)\n",
        "Fossil_Fuels.drop('Code', axis= 1, inplace=True)\n",
        "Carbon.drop('Code', axis= 1, inplace= True)\n",
        "Renewables.drop('Code', axis= 1, inplace= True)\n",
        "Electricity_access.drop('Code', axis= 1, inplace=True)"
      ],
      "execution_count": null,
      "outputs": []
    },
    {
      "cell_type": "code",
      "metadata": {
        "colab": {
          "base_uri": "https://localhost:8080/"
        },
        "id": "5MZkib8vJUdJ",
        "outputId": "367922cd-2b79-47dd-eb5f-152df8995d66"
      },
      "source": [
        "# Previewing the data\n",
        "Source.head()"
      ],
      "execution_count": null,
      "outputs": [
        {
          "output_type": "execute_result",
          "data": {
            "text/html": [
              "<div>\n",
              "<style scoped>\n",
              "    .dataframe tbody tr th:only-of-type {\n",
              "        vertical-align: middle;\n",
              "    }\n",
              "\n",
              "    .dataframe tbody tr th {\n",
              "        vertical-align: top;\n",
              "    }\n",
              "\n",
              "    .dataframe thead th {\n",
              "        text-align: right;\n",
              "    }\n",
              "</style>\n",
              "<table border=\"1\" class=\"dataframe\">\n",
              "  <thead>\n",
              "    <tr style=\"text-align: right;\">\n",
              "      <th></th>\n",
              "      <th>Entity</th>\n",
              "      <th>Year</th>\n",
              "      <th>Coal (% electricity)</th>\n",
              "      <th>Oil (% electricity)</th>\n",
              "      <th>Gas (% electricity)</th>\n",
              "      <th>Nuclear (% electricity)</th>\n",
              "      <th>Solar (% electricity)</th>\n",
              "      <th>Wind (% electricity)</th>\n",
              "      <th>Hydro (% electricity)</th>\n",
              "      <th>Other renewables (% electricity)</th>\n",
              "    </tr>\n",
              "  </thead>\n",
              "  <tbody>\n",
              "    <tr>\n",
              "      <th>2600</th>\n",
              "      <td>Kenya</td>\n",
              "      <td>2000</td>\n",
              "      <td>0.0</td>\n",
              "      <td>49.259990</td>\n",
              "      <td>0.0</td>\n",
              "      <td>0.0</td>\n",
              "      <td>0.0</td>\n",
              "      <td>0.0</td>\n",
              "      <td>32.363098</td>\n",
              "      <td>18.376912</td>\n",
              "    </tr>\n",
              "    <tr>\n",
              "      <th>2601</th>\n",
              "      <td>Kenya</td>\n",
              "      <td>2001</td>\n",
              "      <td>0.0</td>\n",
              "      <td>30.873068</td>\n",
              "      <td>0.0</td>\n",
              "      <td>0.0</td>\n",
              "      <td>0.0</td>\n",
              "      <td>0.0</td>\n",
              "      <td>51.796212</td>\n",
              "      <td>17.330721</td>\n",
              "    </tr>\n",
              "    <tr>\n",
              "      <th>2602</th>\n",
              "      <td>Kenya</td>\n",
              "      <td>2002</td>\n",
              "      <td>0.0</td>\n",
              "      <td>20.244108</td>\n",
              "      <td>0.0</td>\n",
              "      <td>0.0</td>\n",
              "      <td>0.0</td>\n",
              "      <td>0.0</td>\n",
              "      <td>64.983165</td>\n",
              "      <td>14.772727</td>\n",
              "    </tr>\n",
              "    <tr>\n",
              "      <th>2603</th>\n",
              "      <td>Kenya</td>\n",
              "      <td>2003</td>\n",
              "      <td>0.0</td>\n",
              "      <td>15.064731</td>\n",
              "      <td>0.0</td>\n",
              "      <td>0.0</td>\n",
              "      <td>0.0</td>\n",
              "      <td>0.0</td>\n",
              "      <td>63.299333</td>\n",
              "      <td>21.635936</td>\n",
              "    </tr>\n",
              "    <tr>\n",
              "      <th>2604</th>\n",
              "      <td>Kenya</td>\n",
              "      <td>2004</td>\n",
              "      <td>0.0</td>\n",
              "      <td>23.143224</td>\n",
              "      <td>0.0</td>\n",
              "      <td>0.0</td>\n",
              "      <td>0.0</td>\n",
              "      <td>0.0</td>\n",
              "      <td>52.081423</td>\n",
              "      <td>24.775353</td>\n",
              "    </tr>\n",
              "  </tbody>\n",
              "</table>\n",
              "</div>"
            ],
            "text/plain": [
              "     Entity  Year  ...  Hydro (% electricity)  Other renewables (% electricity)\n",
              "2600  Kenya  2000  ...              32.363098                         18.376912\n",
              "2601  Kenya  2001  ...              51.796212                         17.330721\n",
              "2602  Kenya  2002  ...              64.983165                         14.772727\n",
              "2603  Kenya  2003  ...              63.299333                         21.635936\n",
              "2604  Kenya  2004  ...              52.081423                         24.775353\n",
              "\n",
              "[5 rows x 10 columns]"
            ]
          },
          "metadata": {
            "tags": []
          },
          "execution_count": 243
        }
      ]
    },
    {
      "cell_type": "code",
      "metadata": {
        "colab": {
          "base_uri": "https://localhost:8080/"
        },
        "id": "I8T82F9kJ2Qr",
        "outputId": "40d3ec91-f8e8-43c6-c110-a25b98fa8520"
      },
      "source": [
        "Fossil_Fuels.head()"
      ],
      "execution_count": null,
      "outputs": [
        {
          "output_type": "execute_result",
          "data": {
            "text/html": [
              "<div>\n",
              "<style scoped>\n",
              "    .dataframe tbody tr th:only-of-type {\n",
              "        vertical-align: middle;\n",
              "    }\n",
              "\n",
              "    .dataframe tbody tr th {\n",
              "        vertical-align: top;\n",
              "    }\n",
              "\n",
              "    .dataframe thead th {\n",
              "        text-align: right;\n",
              "    }\n",
              "</style>\n",
              "<table border=\"1\" class=\"dataframe\">\n",
              "  <thead>\n",
              "    <tr style=\"text-align: right;\">\n",
              "      <th></th>\n",
              "      <th>Entity</th>\n",
              "      <th>Year</th>\n",
              "      <th>Fossil fuels (% electricity)</th>\n",
              "    </tr>\n",
              "  </thead>\n",
              "  <tbody>\n",
              "    <tr>\n",
              "      <th>2245</th>\n",
              "      <td>Kenya</td>\n",
              "      <td>2000</td>\n",
              "      <td>49.259990</td>\n",
              "    </tr>\n",
              "    <tr>\n",
              "      <th>2246</th>\n",
              "      <td>Kenya</td>\n",
              "      <td>2001</td>\n",
              "      <td>30.873068</td>\n",
              "    </tr>\n",
              "    <tr>\n",
              "      <th>2247</th>\n",
              "      <td>Kenya</td>\n",
              "      <td>2002</td>\n",
              "      <td>20.244108</td>\n",
              "    </tr>\n",
              "    <tr>\n",
              "      <th>2248</th>\n",
              "      <td>Kenya</td>\n",
              "      <td>2003</td>\n",
              "      <td>15.064731</td>\n",
              "    </tr>\n",
              "    <tr>\n",
              "      <th>2249</th>\n",
              "      <td>Kenya</td>\n",
              "      <td>2004</td>\n",
              "      <td>23.143224</td>\n",
              "    </tr>\n",
              "  </tbody>\n",
              "</table>\n",
              "</div>"
            ],
            "text/plain": [
              "     Entity  Year  Fossil fuels (% electricity)\n",
              "2245  Kenya  2000                     49.259990\n",
              "2246  Kenya  2001                     30.873068\n",
              "2247  Kenya  2002                     20.244108\n",
              "2248  Kenya  2003                     15.064731\n",
              "2249  Kenya  2004                     23.143224"
            ]
          },
          "metadata": {
            "tags": []
          },
          "execution_count": 244
        }
      ]
    },
    {
      "cell_type": "code",
      "metadata": {
        "colab": {
          "base_uri": "https://localhost:8080/"
        },
        "id": "N5VkBiZ0KF2s",
        "outputId": "ee968a70-6e2d-435a-c228-18794cd8b86f"
      },
      "source": [
        "Carbon.head()"
      ],
      "execution_count": null,
      "outputs": [
        {
          "output_type": "execute_result",
          "data": {
            "text/html": [
              "<div>\n",
              "<style scoped>\n",
              "    .dataframe tbody tr th:only-of-type {\n",
              "        vertical-align: middle;\n",
              "    }\n",
              "\n",
              "    .dataframe tbody tr th {\n",
              "        vertical-align: top;\n",
              "    }\n",
              "\n",
              "    .dataframe thead th {\n",
              "        text-align: right;\n",
              "    }\n",
              "</style>\n",
              "<table border=\"1\" class=\"dataframe\">\n",
              "  <thead>\n",
              "    <tr style=\"text-align: right;\">\n",
              "      <th></th>\n",
              "      <th>Entity</th>\n",
              "      <th>Year</th>\n",
              "      <th>Low-carbon electricity (% electricity)</th>\n",
              "    </tr>\n",
              "  </thead>\n",
              "  <tbody>\n",
              "    <tr>\n",
              "      <th>2600</th>\n",
              "      <td>Kenya</td>\n",
              "      <td>2000</td>\n",
              "      <td>50.740010</td>\n",
              "    </tr>\n",
              "    <tr>\n",
              "      <th>2601</th>\n",
              "      <td>Kenya</td>\n",
              "      <td>2001</td>\n",
              "      <td>69.126932</td>\n",
              "    </tr>\n",
              "    <tr>\n",
              "      <th>2602</th>\n",
              "      <td>Kenya</td>\n",
              "      <td>2002</td>\n",
              "      <td>79.755892</td>\n",
              "    </tr>\n",
              "    <tr>\n",
              "      <th>2603</th>\n",
              "      <td>Kenya</td>\n",
              "      <td>2003</td>\n",
              "      <td>84.935269</td>\n",
              "    </tr>\n",
              "    <tr>\n",
              "      <th>2604</th>\n",
              "      <td>Kenya</td>\n",
              "      <td>2004</td>\n",
              "      <td>76.856776</td>\n",
              "    </tr>\n",
              "  </tbody>\n",
              "</table>\n",
              "</div>"
            ],
            "text/plain": [
              "     Entity  Year  Low-carbon electricity (% electricity)\n",
              "2600  Kenya  2000                               50.740010\n",
              "2601  Kenya  2001                               69.126932\n",
              "2602  Kenya  2002                               79.755892\n",
              "2603  Kenya  2003                               84.935269\n",
              "2604  Kenya  2004                               76.856776"
            ]
          },
          "metadata": {
            "tags": []
          },
          "execution_count": 245
        }
      ]
    },
    {
      "cell_type": "code",
      "metadata": {
        "colab": {
          "base_uri": "https://localhost:8080/"
        },
        "id": "oLO4ZVzWKJZC",
        "outputId": "3d4cdb10-f386-4506-b878-99c44f600697"
      },
      "source": [
        "Renewables.head()"
      ],
      "execution_count": null,
      "outputs": [
        {
          "output_type": "execute_result",
          "data": {
            "text/html": [
              "<div>\n",
              "<style scoped>\n",
              "    .dataframe tbody tr th:only-of-type {\n",
              "        vertical-align: middle;\n",
              "    }\n",
              "\n",
              "    .dataframe tbody tr th {\n",
              "        vertical-align: top;\n",
              "    }\n",
              "\n",
              "    .dataframe thead th {\n",
              "        text-align: right;\n",
              "    }\n",
              "</style>\n",
              "<table border=\"1\" class=\"dataframe\">\n",
              "  <thead>\n",
              "    <tr style=\"text-align: right;\">\n",
              "      <th></th>\n",
              "      <th>Entity</th>\n",
              "      <th>Year</th>\n",
              "      <th>Renewables (% electricity)</th>\n",
              "    </tr>\n",
              "  </thead>\n",
              "  <tbody>\n",
              "    <tr>\n",
              "      <th>2600</th>\n",
              "      <td>Kenya</td>\n",
              "      <td>2000</td>\n",
              "      <td>50.740010</td>\n",
              "    </tr>\n",
              "    <tr>\n",
              "      <th>2601</th>\n",
              "      <td>Kenya</td>\n",
              "      <td>2001</td>\n",
              "      <td>69.126932</td>\n",
              "    </tr>\n",
              "    <tr>\n",
              "      <th>2602</th>\n",
              "      <td>Kenya</td>\n",
              "      <td>2002</td>\n",
              "      <td>79.755892</td>\n",
              "    </tr>\n",
              "    <tr>\n",
              "      <th>2603</th>\n",
              "      <td>Kenya</td>\n",
              "      <td>2003</td>\n",
              "      <td>84.935269</td>\n",
              "    </tr>\n",
              "    <tr>\n",
              "      <th>2604</th>\n",
              "      <td>Kenya</td>\n",
              "      <td>2004</td>\n",
              "      <td>76.856776</td>\n",
              "    </tr>\n",
              "  </tbody>\n",
              "</table>\n",
              "</div>"
            ],
            "text/plain": [
              "     Entity  Year  Renewables (% electricity)\n",
              "2600  Kenya  2000                   50.740010\n",
              "2601  Kenya  2001                   69.126932\n",
              "2602  Kenya  2002                   79.755892\n",
              "2603  Kenya  2003                   84.935269\n",
              "2604  Kenya  2004                   76.856776"
            ]
          },
          "metadata": {
            "tags": []
          },
          "execution_count": 246
        }
      ]
    },
    {
      "cell_type": "code",
      "metadata": {
        "colab": {
          "base_uri": "https://localhost:8080/"
        },
        "id": "t9890u00KTtG",
        "outputId": "6d90dfd9-274b-427f-8850-e444f99af1f0"
      },
      "source": [
        "Electricity_access.head()"
      ],
      "execution_count": null,
      "outputs": [
        {
          "output_type": "execute_result",
          "data": {
            "text/html": [
              "<div>\n",
              "<style scoped>\n",
              "    .dataframe tbody tr th:only-of-type {\n",
              "        vertical-align: middle;\n",
              "    }\n",
              "\n",
              "    .dataframe tbody tr th {\n",
              "        vertical-align: top;\n",
              "    }\n",
              "\n",
              "    .dataframe thead th {\n",
              "        text-align: right;\n",
              "    }\n",
              "</style>\n",
              "<table border=\"1\" class=\"dataframe\">\n",
              "  <thead>\n",
              "    <tr style=\"text-align: right;\">\n",
              "      <th></th>\n",
              "      <th>Entity</th>\n",
              "      <th>Year</th>\n",
              "      <th>Access to electricity (% of population)</th>\n",
              "    </tr>\n",
              "  </thead>\n",
              "  <tbody>\n",
              "    <tr>\n",
              "      <th>3159</th>\n",
              "      <td>Kenya</td>\n",
              "      <td>1990</td>\n",
              "      <td>3.318390</td>\n",
              "    </tr>\n",
              "    <tr>\n",
              "      <th>3160</th>\n",
              "      <td>Kenya</td>\n",
              "      <td>1991</td>\n",
              "      <td>4.614890</td>\n",
              "    </tr>\n",
              "    <tr>\n",
              "      <th>3161</th>\n",
              "      <td>Kenya</td>\n",
              "      <td>1992</td>\n",
              "      <td>5.910881</td>\n",
              "    </tr>\n",
              "    <tr>\n",
              "      <th>3162</th>\n",
              "      <td>Kenya</td>\n",
              "      <td>1993</td>\n",
              "      <td>10.900000</td>\n",
              "    </tr>\n",
              "    <tr>\n",
              "      <th>3163</th>\n",
              "      <td>Kenya</td>\n",
              "      <td>1994</td>\n",
              "      <td>8.490625</td>\n",
              "    </tr>\n",
              "  </tbody>\n",
              "</table>\n",
              "</div>"
            ],
            "text/plain": [
              "     Entity  Year  Access to electricity (% of population)\n",
              "3159  Kenya  1990                                 3.318390\n",
              "3160  Kenya  1991                                 4.614890\n",
              "3161  Kenya  1992                                 5.910881\n",
              "3162  Kenya  1993                                10.900000\n",
              "3163  Kenya  1994                                 8.490625"
            ]
          },
          "metadata": {
            "tags": []
          },
          "execution_count": 247
        }
      ]
    },
    {
      "cell_type": "code",
      "metadata": {
        "id": "ByLC1qPyKWoI"
      },
      "source": [
        "# Consistency in columns\n",
        "Source.columns = ['Entity', 'Year', 'Coal_percent_of_electricity', 'Oil_percent_of_electricity', 'Gas_percent_of_electricity', 'Nuclear_percent_of_electricity', 'Solar_percent_of_electricity',\n",
        "                  'Wind_percent_of_electricity', 'Hydro_percent_of_electricity', 'Other_renewables_percent_of_electricity']\n",
        "Fossil_Fuels.columns = ['Entity', 'Year', 'Fossil_Fuels_percent_of_electricity']\n",
        "Carbon.columns = ['Entity', 'Year', 'Low_carbon_percent_of_electricity']\n",
        "Renewables.columns = ['Entity', 'Year', 'Renewables_percent_of_electricity']\n",
        "Electricity_access.columns = ['Entity', 'Year', 'percent_access_to_electricity']"
      ],
      "execution_count": null,
      "outputs": []
    },
    {
      "cell_type": "markdown",
      "metadata": {
        "id": "BHwH3RUFbXu_"
      },
      "source": [
        "# DATA CLEANING 2"
      ]
    },
    {
      "cell_type": "code",
      "metadata": {
        "colab": {
          "base_uri": "https://localhost:8080/"
        },
        "id": "sNDyfo3ikHp1",
        "outputId": "5147bf69-a8a1-4439-a841-b0f865811b99"
      },
      "source": [
        "#dropping average row from Energy dataset\n",
        "Energy_2009.drop([0], axis=0, inplace=True)\n",
        "Energy_2009.head(3)\n"
      ],
      "execution_count": null,
      "outputs": [
        {
          "output_type": "execute_result",
          "data": {
            "text/html": [
              "<div>\n",
              "<style scoped>\n",
              "    .dataframe tbody tr th:only-of-type {\n",
              "        vertical-align: middle;\n",
              "    }\n",
              "\n",
              "    .dataframe tbody tr th {\n",
              "        vertical-align: top;\n",
              "    }\n",
              "\n",
              "    .dataframe thead th {\n",
              "        text-align: right;\n",
              "    }\n",
              "</style>\n",
              "<table border=\"1\" class=\"dataframe\">\n",
              "  <thead>\n",
              "    <tr style=\"text-align: right;\">\n",
              "      <th></th>\n",
              "      <th>country</th>\n",
              "      <th>county</th>\n",
              "      <th>percent_access_to_electricity</th>\n",
              "    </tr>\n",
              "  </thead>\n",
              "  <tbody>\n",
              "    <tr>\n",
              "      <th>1</th>\n",
              "      <td>Kenya</td>\n",
              "      <td>Baringo</td>\n",
              "      <td>9.6</td>\n",
              "    </tr>\n",
              "    <tr>\n",
              "      <th>2</th>\n",
              "      <td>Kenya</td>\n",
              "      <td>Bomet</td>\n",
              "      <td>4.3</td>\n",
              "    </tr>\n",
              "    <tr>\n",
              "      <th>3</th>\n",
              "      <td>Kenya</td>\n",
              "      <td>Bungoma</td>\n",
              "      <td>4.5</td>\n",
              "    </tr>\n",
              "  </tbody>\n",
              "</table>\n",
              "</div>"
            ],
            "text/plain": [
              "  country   county  percent_access_to_electricity\n",
              "1   Kenya  Baringo                            9.6\n",
              "2   Kenya    Bomet                            4.3\n",
              "3   Kenya  Bungoma                            4.5"
            ]
          },
          "metadata": {
            "tags": []
          },
          "execution_count": 249
        }
      ]
    },
    {
      "cell_type": "code",
      "metadata": {
        "colab": {
          "base_uri": "https://localhost:8080/"
        },
        "id": "ZP99_EPGmUiu",
        "outputId": "e0114c67-1d1c-421a-83f9-0b863888a08c"
      },
      "source": [
        "#checking for null values\n",
        "Energy_2009.isnull().sum()"
      ],
      "execution_count": null,
      "outputs": [
        {
          "output_type": "execute_result",
          "data": {
            "text/plain": [
              "country                          1\n",
              "county                           1\n",
              "percent_access_to_electricity    1\n",
              "dtype: int64"
            ]
          },
          "metadata": {
            "tags": []
          },
          "execution_count": 250
        }
      ]
    },
    {
      "cell_type": "code",
      "metadata": {
        "colab": {
          "base_uri": "https://localhost:8080/"
        },
        "id": "jw9BdkfumweN",
        "outputId": "221c981f-ec3d-45e7-b0fb-b81f55ac8f90"
      },
      "source": [
        "#dropping null values\n",
        "Energy_2009.dropna(inplace=True)\n",
        "Energy_2009.isnull().sum()"
      ],
      "execution_count": null,
      "outputs": [
        {
          "output_type": "execute_result",
          "data": {
            "text/plain": [
              "country                          0\n",
              "county                           0\n",
              "percent_access_to_electricity    0\n",
              "dtype: int64"
            ]
          },
          "metadata": {
            "tags": []
          },
          "execution_count": 251
        }
      ]
    },
    {
      "cell_type": "code",
      "metadata": {
        "colab": {
          "base_uri": "https://localhost:8080/"
        },
        "id": "YShix3JCoXMp",
        "outputId": "65e17314-87ed-42e5-a28b-e6acba23bd54"
      },
      "source": [
        "#reseting the index\n",
        "Energy_2009 = Energy_2009.reset_index()\n",
        "Energy_2009.head(3)\n"
      ],
      "execution_count": null,
      "outputs": [
        {
          "output_type": "execute_result",
          "data": {
            "text/html": [
              "<div>\n",
              "<style scoped>\n",
              "    .dataframe tbody tr th:only-of-type {\n",
              "        vertical-align: middle;\n",
              "    }\n",
              "\n",
              "    .dataframe tbody tr th {\n",
              "        vertical-align: top;\n",
              "    }\n",
              "\n",
              "    .dataframe thead th {\n",
              "        text-align: right;\n",
              "    }\n",
              "</style>\n",
              "<table border=\"1\" class=\"dataframe\">\n",
              "  <thead>\n",
              "    <tr style=\"text-align: right;\">\n",
              "      <th></th>\n",
              "      <th>index</th>\n",
              "      <th>country</th>\n",
              "      <th>county</th>\n",
              "      <th>percent_access_to_electricity</th>\n",
              "    </tr>\n",
              "  </thead>\n",
              "  <tbody>\n",
              "    <tr>\n",
              "      <th>0</th>\n",
              "      <td>1</td>\n",
              "      <td>Kenya</td>\n",
              "      <td>Baringo</td>\n",
              "      <td>9.6</td>\n",
              "    </tr>\n",
              "    <tr>\n",
              "      <th>1</th>\n",
              "      <td>2</td>\n",
              "      <td>Kenya</td>\n",
              "      <td>Bomet</td>\n",
              "      <td>4.3</td>\n",
              "    </tr>\n",
              "    <tr>\n",
              "      <th>2</th>\n",
              "      <td>3</td>\n",
              "      <td>Kenya</td>\n",
              "      <td>Bungoma</td>\n",
              "      <td>4.5</td>\n",
              "    </tr>\n",
              "  </tbody>\n",
              "</table>\n",
              "</div>"
            ],
            "text/plain": [
              "   index country   county  percent_access_to_electricity\n",
              "0      1   Kenya  Baringo                            9.6\n",
              "1      2   Kenya    Bomet                            4.3\n",
              "2      3   Kenya  Bungoma                            4.5"
            ]
          },
          "metadata": {
            "tags": []
          },
          "execution_count": 252
        }
      ]
    },
    {
      "cell_type": "code",
      "metadata": {
        "colab": {
          "base_uri": "https://localhost:8080/"
        },
        "id": "MgXZHRbgotm9",
        "outputId": "00731569-86d1-49b8-bd9e-a4027b14c258"
      },
      "source": [
        "#drop extra index column\n",
        "Energy_2009.drop(['index'], axis=1, inplace=True)\n",
        "Energy_2009.head()"
      ],
      "execution_count": null,
      "outputs": [
        {
          "output_type": "execute_result",
          "data": {
            "text/html": [
              "<div>\n",
              "<style scoped>\n",
              "    .dataframe tbody tr th:only-of-type {\n",
              "        vertical-align: middle;\n",
              "    }\n",
              "\n",
              "    .dataframe tbody tr th {\n",
              "        vertical-align: top;\n",
              "    }\n",
              "\n",
              "    .dataframe thead th {\n",
              "        text-align: right;\n",
              "    }\n",
              "</style>\n",
              "<table border=\"1\" class=\"dataframe\">\n",
              "  <thead>\n",
              "    <tr style=\"text-align: right;\">\n",
              "      <th></th>\n",
              "      <th>country</th>\n",
              "      <th>county</th>\n",
              "      <th>percent_access_to_electricity</th>\n",
              "    </tr>\n",
              "  </thead>\n",
              "  <tbody>\n",
              "    <tr>\n",
              "      <th>0</th>\n",
              "      <td>Kenya</td>\n",
              "      <td>Baringo</td>\n",
              "      <td>9.6</td>\n",
              "    </tr>\n",
              "    <tr>\n",
              "      <th>1</th>\n",
              "      <td>Kenya</td>\n",
              "      <td>Bomet</td>\n",
              "      <td>4.3</td>\n",
              "    </tr>\n",
              "    <tr>\n",
              "      <th>2</th>\n",
              "      <td>Kenya</td>\n",
              "      <td>Bungoma</td>\n",
              "      <td>4.5</td>\n",
              "    </tr>\n",
              "    <tr>\n",
              "      <th>3</th>\n",
              "      <td>Kenya</td>\n",
              "      <td>Busia</td>\n",
              "      <td>6.0</td>\n",
              "    </tr>\n",
              "    <tr>\n",
              "      <th>4</th>\n",
              "      <td>Kenya</td>\n",
              "      <td>Elgeiyo-Marakwet</td>\n",
              "      <td>7.2</td>\n",
              "    </tr>\n",
              "  </tbody>\n",
              "</table>\n",
              "</div>"
            ],
            "text/plain": [
              "  country            county  percent_access_to_electricity\n",
              "0   Kenya           Baringo                            9.6\n",
              "1   Kenya             Bomet                            4.3\n",
              "2   Kenya           Bungoma                            4.5\n",
              "3   Kenya             Busia                            6.0\n",
              "4   Kenya  Elgeiyo-Marakwet                            7.2"
            ]
          },
          "metadata": {
            "tags": []
          },
          "execution_count": 253
        }
      ]
    },
    {
      "cell_type": "code",
      "metadata": {
        "id": "N5nKvV6ANE43",
        "colab": {
          "base_uri": "https://localhost:8080/"
        },
        "outputId": "34d1c922-0968-43f6-e0ab-7c820914e52c"
      },
      "source": [
        "#dropping fossil table as it's the same as the Oil % column in Source table.\n",
        "#dropping Carbon table as it's the same as the renewables total table.\n",
        "#Appending renewables total as a column to the Sources table.\n",
        "\n",
        "Source['percent_total_renewables'] = Renewables['Renewables_percent_of_electricity']\n",
        "Source.head()"
      ],
      "execution_count": null,
      "outputs": [
        {
          "output_type": "execute_result",
          "data": {
            "text/html": [
              "<div>\n",
              "<style scoped>\n",
              "    .dataframe tbody tr th:only-of-type {\n",
              "        vertical-align: middle;\n",
              "    }\n",
              "\n",
              "    .dataframe tbody tr th {\n",
              "        vertical-align: top;\n",
              "    }\n",
              "\n",
              "    .dataframe thead th {\n",
              "        text-align: right;\n",
              "    }\n",
              "</style>\n",
              "<table border=\"1\" class=\"dataframe\">\n",
              "  <thead>\n",
              "    <tr style=\"text-align: right;\">\n",
              "      <th></th>\n",
              "      <th>Entity</th>\n",
              "      <th>Year</th>\n",
              "      <th>Coal_percent_of_electricity</th>\n",
              "      <th>Oil_percent_of_electricity</th>\n",
              "      <th>Gas_percent_of_electricity</th>\n",
              "      <th>Nuclear_percent_of_electricity</th>\n",
              "      <th>Solar_percent_of_electricity</th>\n",
              "      <th>Wind_percent_of_electricity</th>\n",
              "      <th>Hydro_percent_of_electricity</th>\n",
              "      <th>Other_renewables_percent_of_electricity</th>\n",
              "      <th>percent_total_renewables</th>\n",
              "    </tr>\n",
              "  </thead>\n",
              "  <tbody>\n",
              "    <tr>\n",
              "      <th>2600</th>\n",
              "      <td>Kenya</td>\n",
              "      <td>2000</td>\n",
              "      <td>0.0</td>\n",
              "      <td>49.259990</td>\n",
              "      <td>0.0</td>\n",
              "      <td>0.0</td>\n",
              "      <td>0.0</td>\n",
              "      <td>0.0</td>\n",
              "      <td>32.363098</td>\n",
              "      <td>18.376912</td>\n",
              "      <td>50.740010</td>\n",
              "    </tr>\n",
              "    <tr>\n",
              "      <th>2601</th>\n",
              "      <td>Kenya</td>\n",
              "      <td>2001</td>\n",
              "      <td>0.0</td>\n",
              "      <td>30.873068</td>\n",
              "      <td>0.0</td>\n",
              "      <td>0.0</td>\n",
              "      <td>0.0</td>\n",
              "      <td>0.0</td>\n",
              "      <td>51.796212</td>\n",
              "      <td>17.330721</td>\n",
              "      <td>69.126932</td>\n",
              "    </tr>\n",
              "    <tr>\n",
              "      <th>2602</th>\n",
              "      <td>Kenya</td>\n",
              "      <td>2002</td>\n",
              "      <td>0.0</td>\n",
              "      <td>20.244108</td>\n",
              "      <td>0.0</td>\n",
              "      <td>0.0</td>\n",
              "      <td>0.0</td>\n",
              "      <td>0.0</td>\n",
              "      <td>64.983165</td>\n",
              "      <td>14.772727</td>\n",
              "      <td>79.755892</td>\n",
              "    </tr>\n",
              "    <tr>\n",
              "      <th>2603</th>\n",
              "      <td>Kenya</td>\n",
              "      <td>2003</td>\n",
              "      <td>0.0</td>\n",
              "      <td>15.064731</td>\n",
              "      <td>0.0</td>\n",
              "      <td>0.0</td>\n",
              "      <td>0.0</td>\n",
              "      <td>0.0</td>\n",
              "      <td>63.299333</td>\n",
              "      <td>21.635936</td>\n",
              "      <td>84.935269</td>\n",
              "    </tr>\n",
              "    <tr>\n",
              "      <th>2604</th>\n",
              "      <td>Kenya</td>\n",
              "      <td>2004</td>\n",
              "      <td>0.0</td>\n",
              "      <td>23.143224</td>\n",
              "      <td>0.0</td>\n",
              "      <td>0.0</td>\n",
              "      <td>0.0</td>\n",
              "      <td>0.0</td>\n",
              "      <td>52.081423</td>\n",
              "      <td>24.775353</td>\n",
              "      <td>76.856776</td>\n",
              "    </tr>\n",
              "  </tbody>\n",
              "</table>\n",
              "</div>"
            ],
            "text/plain": [
              "     Entity  ...  percent_total_renewables\n",
              "2600  Kenya  ...                 50.740010\n",
              "2601  Kenya  ...                 69.126932\n",
              "2602  Kenya  ...                 79.755892\n",
              "2603  Kenya  ...                 84.935269\n",
              "2604  Kenya  ...                 76.856776\n",
              "\n",
              "[5 rows x 11 columns]"
            ]
          },
          "metadata": {
            "tags": []
          },
          "execution_count": 254
        }
      ]
    },
    {
      "cell_type": "code",
      "metadata": {
        "colab": {
          "base_uri": "https://localhost:8080/"
        },
        "id": "dTQLf5hCcfWm",
        "outputId": "71d5aaa2-8cdf-4da5-b417-c37231e308bf"
      },
      "source": [
        "#Standardization of column names\n",
        "#Using strip(), lower() and replace() functions \n",
        "#Source table\n",
        "Source.columns = Source.columns.str.strip().str.lower()\n",
        "Source.head(1)\n"
      ],
      "execution_count": null,
      "outputs": [
        {
          "output_type": "execute_result",
          "data": {
            "text/html": [
              "<div>\n",
              "<style scoped>\n",
              "    .dataframe tbody tr th:only-of-type {\n",
              "        vertical-align: middle;\n",
              "    }\n",
              "\n",
              "    .dataframe tbody tr th {\n",
              "        vertical-align: top;\n",
              "    }\n",
              "\n",
              "    .dataframe thead th {\n",
              "        text-align: right;\n",
              "    }\n",
              "</style>\n",
              "<table border=\"1\" class=\"dataframe\">\n",
              "  <thead>\n",
              "    <tr style=\"text-align: right;\">\n",
              "      <th></th>\n",
              "      <th>entity</th>\n",
              "      <th>year</th>\n",
              "      <th>coal_percent_of_electricity</th>\n",
              "      <th>oil_percent_of_electricity</th>\n",
              "      <th>gas_percent_of_electricity</th>\n",
              "      <th>nuclear_percent_of_electricity</th>\n",
              "      <th>solar_percent_of_electricity</th>\n",
              "      <th>wind_percent_of_electricity</th>\n",
              "      <th>hydro_percent_of_electricity</th>\n",
              "      <th>other_renewables_percent_of_electricity</th>\n",
              "      <th>percent_total_renewables</th>\n",
              "    </tr>\n",
              "  </thead>\n",
              "  <tbody>\n",
              "    <tr>\n",
              "      <th>2600</th>\n",
              "      <td>Kenya</td>\n",
              "      <td>2000</td>\n",
              "      <td>0.0</td>\n",
              "      <td>49.25999</td>\n",
              "      <td>0.0</td>\n",
              "      <td>0.0</td>\n",
              "      <td>0.0</td>\n",
              "      <td>0.0</td>\n",
              "      <td>32.363098</td>\n",
              "      <td>18.376912</td>\n",
              "      <td>50.74001</td>\n",
              "    </tr>\n",
              "  </tbody>\n",
              "</table>\n",
              "</div>"
            ],
            "text/plain": [
              "     entity  ...  percent_total_renewables\n",
              "2600  Kenya  ...                  50.74001\n",
              "\n",
              "[1 rows x 11 columns]"
            ]
          },
          "metadata": {
            "tags": []
          },
          "execution_count": 255
        }
      ]
    },
    {
      "cell_type": "code",
      "metadata": {
        "colab": {
          "base_uri": "https://localhost:8080/"
        },
        "id": "vs5t6KXQdcb8",
        "outputId": "748757c3-3c59-4a45-ceda-7188dd153e3e"
      },
      "source": [
        "#reseting the index column\n",
        "Source = Source.reset_index()\n",
        "Source.head()"
      ],
      "execution_count": null,
      "outputs": [
        {
          "output_type": "execute_result",
          "data": {
            "text/html": [
              "<div>\n",
              "<style scoped>\n",
              "    .dataframe tbody tr th:only-of-type {\n",
              "        vertical-align: middle;\n",
              "    }\n",
              "\n",
              "    .dataframe tbody tr th {\n",
              "        vertical-align: top;\n",
              "    }\n",
              "\n",
              "    .dataframe thead th {\n",
              "        text-align: right;\n",
              "    }\n",
              "</style>\n",
              "<table border=\"1\" class=\"dataframe\">\n",
              "  <thead>\n",
              "    <tr style=\"text-align: right;\">\n",
              "      <th></th>\n",
              "      <th>index</th>\n",
              "      <th>entity</th>\n",
              "      <th>year</th>\n",
              "      <th>coal_percent_of_electricity</th>\n",
              "      <th>oil_percent_of_electricity</th>\n",
              "      <th>gas_percent_of_electricity</th>\n",
              "      <th>nuclear_percent_of_electricity</th>\n",
              "      <th>solar_percent_of_electricity</th>\n",
              "      <th>wind_percent_of_electricity</th>\n",
              "      <th>hydro_percent_of_electricity</th>\n",
              "      <th>other_renewables_percent_of_electricity</th>\n",
              "      <th>percent_total_renewables</th>\n",
              "    </tr>\n",
              "  </thead>\n",
              "  <tbody>\n",
              "    <tr>\n",
              "      <th>0</th>\n",
              "      <td>2600</td>\n",
              "      <td>Kenya</td>\n",
              "      <td>2000</td>\n",
              "      <td>0.0</td>\n",
              "      <td>49.259990</td>\n",
              "      <td>0.0</td>\n",
              "      <td>0.0</td>\n",
              "      <td>0.0</td>\n",
              "      <td>0.0</td>\n",
              "      <td>32.363098</td>\n",
              "      <td>18.376912</td>\n",
              "      <td>50.740010</td>\n",
              "    </tr>\n",
              "    <tr>\n",
              "      <th>1</th>\n",
              "      <td>2601</td>\n",
              "      <td>Kenya</td>\n",
              "      <td>2001</td>\n",
              "      <td>0.0</td>\n",
              "      <td>30.873068</td>\n",
              "      <td>0.0</td>\n",
              "      <td>0.0</td>\n",
              "      <td>0.0</td>\n",
              "      <td>0.0</td>\n",
              "      <td>51.796212</td>\n",
              "      <td>17.330721</td>\n",
              "      <td>69.126932</td>\n",
              "    </tr>\n",
              "    <tr>\n",
              "      <th>2</th>\n",
              "      <td>2602</td>\n",
              "      <td>Kenya</td>\n",
              "      <td>2002</td>\n",
              "      <td>0.0</td>\n",
              "      <td>20.244108</td>\n",
              "      <td>0.0</td>\n",
              "      <td>0.0</td>\n",
              "      <td>0.0</td>\n",
              "      <td>0.0</td>\n",
              "      <td>64.983165</td>\n",
              "      <td>14.772727</td>\n",
              "      <td>79.755892</td>\n",
              "    </tr>\n",
              "    <tr>\n",
              "      <th>3</th>\n",
              "      <td>2603</td>\n",
              "      <td>Kenya</td>\n",
              "      <td>2003</td>\n",
              "      <td>0.0</td>\n",
              "      <td>15.064731</td>\n",
              "      <td>0.0</td>\n",
              "      <td>0.0</td>\n",
              "      <td>0.0</td>\n",
              "      <td>0.0</td>\n",
              "      <td>63.299333</td>\n",
              "      <td>21.635936</td>\n",
              "      <td>84.935269</td>\n",
              "    </tr>\n",
              "    <tr>\n",
              "      <th>4</th>\n",
              "      <td>2604</td>\n",
              "      <td>Kenya</td>\n",
              "      <td>2004</td>\n",
              "      <td>0.0</td>\n",
              "      <td>23.143224</td>\n",
              "      <td>0.0</td>\n",
              "      <td>0.0</td>\n",
              "      <td>0.0</td>\n",
              "      <td>0.0</td>\n",
              "      <td>52.081423</td>\n",
              "      <td>24.775353</td>\n",
              "      <td>76.856776</td>\n",
              "    </tr>\n",
              "  </tbody>\n",
              "</table>\n",
              "</div>"
            ],
            "text/plain": [
              "   index  ... percent_total_renewables\n",
              "0   2600  ...                50.740010\n",
              "1   2601  ...                69.126932\n",
              "2   2602  ...                79.755892\n",
              "3   2603  ...                84.935269\n",
              "4   2604  ...                76.856776\n",
              "\n",
              "[5 rows x 12 columns]"
            ]
          },
          "metadata": {
            "tags": []
          },
          "execution_count": 256
        }
      ]
    },
    {
      "cell_type": "code",
      "metadata": {
        "colab": {
          "base_uri": "https://localhost:8080/"
        },
        "id": "yeAmtrTFdovA",
        "outputId": "b3a83ddd-d0c6-4be4-8d0e-80db5a07b539"
      },
      "source": [
        "#drop extra index column\n",
        "Source.drop('index', axis=1, inplace=True)\n",
        "Source.head(1)"
      ],
      "execution_count": null,
      "outputs": [
        {
          "output_type": "execute_result",
          "data": {
            "text/html": [
              "<div>\n",
              "<style scoped>\n",
              "    .dataframe tbody tr th:only-of-type {\n",
              "        vertical-align: middle;\n",
              "    }\n",
              "\n",
              "    .dataframe tbody tr th {\n",
              "        vertical-align: top;\n",
              "    }\n",
              "\n",
              "    .dataframe thead th {\n",
              "        text-align: right;\n",
              "    }\n",
              "</style>\n",
              "<table border=\"1\" class=\"dataframe\">\n",
              "  <thead>\n",
              "    <tr style=\"text-align: right;\">\n",
              "      <th></th>\n",
              "      <th>entity</th>\n",
              "      <th>year</th>\n",
              "      <th>coal_percent_of_electricity</th>\n",
              "      <th>oil_percent_of_electricity</th>\n",
              "      <th>gas_percent_of_electricity</th>\n",
              "      <th>nuclear_percent_of_electricity</th>\n",
              "      <th>solar_percent_of_electricity</th>\n",
              "      <th>wind_percent_of_electricity</th>\n",
              "      <th>hydro_percent_of_electricity</th>\n",
              "      <th>other_renewables_percent_of_electricity</th>\n",
              "      <th>percent_total_renewables</th>\n",
              "    </tr>\n",
              "  </thead>\n",
              "  <tbody>\n",
              "    <tr>\n",
              "      <th>0</th>\n",
              "      <td>Kenya</td>\n",
              "      <td>2000</td>\n",
              "      <td>0.0</td>\n",
              "      <td>49.25999</td>\n",
              "      <td>0.0</td>\n",
              "      <td>0.0</td>\n",
              "      <td>0.0</td>\n",
              "      <td>0.0</td>\n",
              "      <td>32.363098</td>\n",
              "      <td>18.376912</td>\n",
              "      <td>50.74001</td>\n",
              "    </tr>\n",
              "  </tbody>\n",
              "</table>\n",
              "</div>"
            ],
            "text/plain": [
              "  entity  ...  percent_total_renewables\n",
              "0  Kenya  ...                  50.74001\n",
              "\n",
              "[1 rows x 11 columns]"
            ]
          },
          "metadata": {
            "tags": []
          },
          "execution_count": 257
        }
      ]
    },
    {
      "cell_type": "code",
      "metadata": {
        "colab": {
          "base_uri": "https://localhost:8080/"
        },
        "id": "_-k-ISm3bDMa",
        "outputId": "2ed965f2-b1cc-48ff-ecb1-3e0658b9fd54"
      },
      "source": [
        "#Previewing the table\n",
        "Electricity_access.head()"
      ],
      "execution_count": null,
      "outputs": [
        {
          "output_type": "execute_result",
          "data": {
            "text/html": [
              "<div>\n",
              "<style scoped>\n",
              "    .dataframe tbody tr th:only-of-type {\n",
              "        vertical-align: middle;\n",
              "    }\n",
              "\n",
              "    .dataframe tbody tr th {\n",
              "        vertical-align: top;\n",
              "    }\n",
              "\n",
              "    .dataframe thead th {\n",
              "        text-align: right;\n",
              "    }\n",
              "</style>\n",
              "<table border=\"1\" class=\"dataframe\">\n",
              "  <thead>\n",
              "    <tr style=\"text-align: right;\">\n",
              "      <th></th>\n",
              "      <th>Entity</th>\n",
              "      <th>Year</th>\n",
              "      <th>percent_access_to_electricity</th>\n",
              "    </tr>\n",
              "  </thead>\n",
              "  <tbody>\n",
              "    <tr>\n",
              "      <th>3159</th>\n",
              "      <td>Kenya</td>\n",
              "      <td>1990</td>\n",
              "      <td>3.318390</td>\n",
              "    </tr>\n",
              "    <tr>\n",
              "      <th>3160</th>\n",
              "      <td>Kenya</td>\n",
              "      <td>1991</td>\n",
              "      <td>4.614890</td>\n",
              "    </tr>\n",
              "    <tr>\n",
              "      <th>3161</th>\n",
              "      <td>Kenya</td>\n",
              "      <td>1992</td>\n",
              "      <td>5.910881</td>\n",
              "    </tr>\n",
              "    <tr>\n",
              "      <th>3162</th>\n",
              "      <td>Kenya</td>\n",
              "      <td>1993</td>\n",
              "      <td>10.900000</td>\n",
              "    </tr>\n",
              "    <tr>\n",
              "      <th>3163</th>\n",
              "      <td>Kenya</td>\n",
              "      <td>1994</td>\n",
              "      <td>8.490625</td>\n",
              "    </tr>\n",
              "  </tbody>\n",
              "</table>\n",
              "</div>"
            ],
            "text/plain": [
              "     Entity  Year  percent_access_to_electricity\n",
              "3159  Kenya  1990                       3.318390\n",
              "3160  Kenya  1991                       4.614890\n",
              "3161  Kenya  1992                       5.910881\n",
              "3162  Kenya  1993                      10.900000\n",
              "3163  Kenya  1994                       8.490625"
            ]
          },
          "metadata": {
            "tags": []
          },
          "execution_count": 258
        }
      ]
    },
    {
      "cell_type": "code",
      "metadata": {
        "colab": {
          "base_uri": "https://localhost:8080/"
        },
        "id": "VPmuGgXfbHPg",
        "outputId": "879e91a4-6457-43b0-9acb-e0d7b982d736"
      },
      "source": [
        "#Standardization of column names\n",
        "#Using strip(), lower() and replace() functions \n",
        "#Electricity access table\n",
        "Electricity_access.columns = Electricity_access.columns.str.strip().str.lower()\n",
        "Electricity_access.head(1)"
      ],
      "execution_count": null,
      "outputs": [
        {
          "output_type": "execute_result",
          "data": {
            "text/html": [
              "<div>\n",
              "<style scoped>\n",
              "    .dataframe tbody tr th:only-of-type {\n",
              "        vertical-align: middle;\n",
              "    }\n",
              "\n",
              "    .dataframe tbody tr th {\n",
              "        vertical-align: top;\n",
              "    }\n",
              "\n",
              "    .dataframe thead th {\n",
              "        text-align: right;\n",
              "    }\n",
              "</style>\n",
              "<table border=\"1\" class=\"dataframe\">\n",
              "  <thead>\n",
              "    <tr style=\"text-align: right;\">\n",
              "      <th></th>\n",
              "      <th>entity</th>\n",
              "      <th>year</th>\n",
              "      <th>percent_access_to_electricity</th>\n",
              "    </tr>\n",
              "  </thead>\n",
              "  <tbody>\n",
              "    <tr>\n",
              "      <th>3159</th>\n",
              "      <td>Kenya</td>\n",
              "      <td>1990</td>\n",
              "      <td>3.31839</td>\n",
              "    </tr>\n",
              "  </tbody>\n",
              "</table>\n",
              "</div>"
            ],
            "text/plain": [
              "     entity  year  percent_access_to_electricity\n",
              "3159  Kenya  1990                        3.31839"
            ]
          },
          "metadata": {
            "tags": []
          },
          "execution_count": 259
        }
      ]
    },
    {
      "cell_type": "code",
      "metadata": {
        "colab": {
          "base_uri": "https://localhost:8080/"
        },
        "id": "sh8p_gWIc9ib",
        "outputId": "7ee1d390-8b8a-44e3-ae61-33d29387ec12"
      },
      "source": [
        "#reseting the index column\n",
        "Electricity_access = Electricity_access.reset_index()\n",
        "Electricity_access.head()"
      ],
      "execution_count": null,
      "outputs": [
        {
          "output_type": "execute_result",
          "data": {
            "text/html": [
              "<div>\n",
              "<style scoped>\n",
              "    .dataframe tbody tr th:only-of-type {\n",
              "        vertical-align: middle;\n",
              "    }\n",
              "\n",
              "    .dataframe tbody tr th {\n",
              "        vertical-align: top;\n",
              "    }\n",
              "\n",
              "    .dataframe thead th {\n",
              "        text-align: right;\n",
              "    }\n",
              "</style>\n",
              "<table border=\"1\" class=\"dataframe\">\n",
              "  <thead>\n",
              "    <tr style=\"text-align: right;\">\n",
              "      <th></th>\n",
              "      <th>index</th>\n",
              "      <th>entity</th>\n",
              "      <th>year</th>\n",
              "      <th>percent_access_to_electricity</th>\n",
              "    </tr>\n",
              "  </thead>\n",
              "  <tbody>\n",
              "    <tr>\n",
              "      <th>0</th>\n",
              "      <td>3159</td>\n",
              "      <td>Kenya</td>\n",
              "      <td>1990</td>\n",
              "      <td>3.318390</td>\n",
              "    </tr>\n",
              "    <tr>\n",
              "      <th>1</th>\n",
              "      <td>3160</td>\n",
              "      <td>Kenya</td>\n",
              "      <td>1991</td>\n",
              "      <td>4.614890</td>\n",
              "    </tr>\n",
              "    <tr>\n",
              "      <th>2</th>\n",
              "      <td>3161</td>\n",
              "      <td>Kenya</td>\n",
              "      <td>1992</td>\n",
              "      <td>5.910881</td>\n",
              "    </tr>\n",
              "    <tr>\n",
              "      <th>3</th>\n",
              "      <td>3162</td>\n",
              "      <td>Kenya</td>\n",
              "      <td>1993</td>\n",
              "      <td>10.900000</td>\n",
              "    </tr>\n",
              "    <tr>\n",
              "      <th>4</th>\n",
              "      <td>3163</td>\n",
              "      <td>Kenya</td>\n",
              "      <td>1994</td>\n",
              "      <td>8.490625</td>\n",
              "    </tr>\n",
              "  </tbody>\n",
              "</table>\n",
              "</div>"
            ],
            "text/plain": [
              "   index entity  year  percent_access_to_electricity\n",
              "0   3159  Kenya  1990                       3.318390\n",
              "1   3160  Kenya  1991                       4.614890\n",
              "2   3161  Kenya  1992                       5.910881\n",
              "3   3162  Kenya  1993                      10.900000\n",
              "4   3163  Kenya  1994                       8.490625"
            ]
          },
          "metadata": {
            "tags": []
          },
          "execution_count": 260
        }
      ]
    },
    {
      "cell_type": "code",
      "metadata": {
        "colab": {
          "base_uri": "https://localhost:8080/"
        },
        "id": "-fZAypDReKeW",
        "outputId": "9f731946-3d30-4c52-9784-9cfbd1d2596c"
      },
      "source": [
        "#drop extra index column\n",
        "Electricity_access.drop('index', axis=1, inplace=True)\n",
        "Electricity_access.head(1)"
      ],
      "execution_count": null,
      "outputs": [
        {
          "output_type": "execute_result",
          "data": {
            "text/html": [
              "<div>\n",
              "<style scoped>\n",
              "    .dataframe tbody tr th:only-of-type {\n",
              "        vertical-align: middle;\n",
              "    }\n",
              "\n",
              "    .dataframe tbody tr th {\n",
              "        vertical-align: top;\n",
              "    }\n",
              "\n",
              "    .dataframe thead th {\n",
              "        text-align: right;\n",
              "    }\n",
              "</style>\n",
              "<table border=\"1\" class=\"dataframe\">\n",
              "  <thead>\n",
              "    <tr style=\"text-align: right;\">\n",
              "      <th></th>\n",
              "      <th>entity</th>\n",
              "      <th>year</th>\n",
              "      <th>percent_access_to_electricity</th>\n",
              "    </tr>\n",
              "  </thead>\n",
              "  <tbody>\n",
              "    <tr>\n",
              "      <th>0</th>\n",
              "      <td>Kenya</td>\n",
              "      <td>1990</td>\n",
              "      <td>3.31839</td>\n",
              "    </tr>\n",
              "  </tbody>\n",
              "</table>\n",
              "</div>"
            ],
            "text/plain": [
              "  entity  year  percent_access_to_electricity\n",
              "0  Kenya  1990                        3.31839"
            ]
          },
          "metadata": {
            "tags": []
          },
          "execution_count": 261
        }
      ]
    },
    {
      "cell_type": "markdown",
      "metadata": {
        "id": "hc07-Iy4eYnL"
      },
      "source": [
        "# DATA ANALYSIS"
      ]
    },
    {
      "cell_type": "markdown",
      "metadata": {
        "id": "V3RMRODuh2Nw"
      },
      "source": [
        "## Compare 2009 and 2011 datasets"
      ]
    },
    {
      "cell_type": "markdown",
      "metadata": {
        "id": "zF8j5jhGh9nV"
      },
      "source": [
        "### Compare households with electricity (%) 2009-2011\n",
        "\n"
      ]
    },
    {
      "cell_type": "code",
      "metadata": {
        "colab": {
          "base_uri": "https://localhost:8080/"
        },
        "id": "8828r7mAiBQW",
        "outputId": "9fb8dfe5-63e0-48ff-dca0-3658460e7f1a"
      },
      "source": [
        "#2011 dataset preview\n",
        "Energy_2011 = Energy1_2017.copy(deep= True)\n",
        "Energy_2011.head(1)"
      ],
      "execution_count": null,
      "outputs": [
        {
          "output_type": "execute_result",
          "data": {
            "text/html": [
              "<div>\n",
              "<style scoped>\n",
              "    .dataframe tbody tr th:only-of-type {\n",
              "        vertical-align: middle;\n",
              "    }\n",
              "\n",
              "    .dataframe tbody tr th {\n",
              "        vertical-align: top;\n",
              "    }\n",
              "\n",
              "    .dataframe thead th {\n",
              "        text-align: right;\n",
              "    }\n",
              "</style>\n",
              "<table border=\"1\" class=\"dataframe\">\n",
              "  <thead>\n",
              "    <tr style=\"text-align: right;\">\n",
              "      <th></th>\n",
              "      <th>county</th>\n",
              "      <th>no_of_households_with_electricity</th>\n",
              "      <th>no_of_households_with_pressure_lamp</th>\n",
              "      <th>no_of_households_with_lantern</th>\n",
              "      <th>no_of_households_with_tin_lamp</th>\n",
              "      <th>no_of_households_with_gas_lamp</th>\n",
              "      <th>no_of_households_with_fuel_wood</th>\n",
              "      <th>no_of_households_with_solar</th>\n",
              "      <th>no_of_households_with_other</th>\n",
              "      <th>households</th>\n",
              "    </tr>\n",
              "  </thead>\n",
              "  <tbody>\n",
              "    <tr>\n",
              "      <th>0</th>\n",
              "      <td>Baringo</td>\n",
              "      <td>10583</td>\n",
              "      <td>437</td>\n",
              "      <td>43488</td>\n",
              "      <td>22238</td>\n",
              "      <td>796</td>\n",
              "      <td>30734</td>\n",
              "      <td>1902</td>\n",
              "      <td>471</td>\n",
              "      <td>110649</td>\n",
              "    </tr>\n",
              "  </tbody>\n",
              "</table>\n",
              "</div>"
            ],
            "text/plain": [
              "    county  ...  households\n",
              "0  Baringo  ...      110649\n",
              "\n",
              "[1 rows x 10 columns]"
            ]
          },
          "metadata": {
            "tags": []
          },
          "execution_count": 262
        }
      ]
    },
    {
      "cell_type": "code",
      "metadata": {
        "colab": {
          "base_uri": "https://localhost:8080/"
        },
        "id": "xcgCnc1xlFNx",
        "outputId": "986ac679-2050-4c03-d63c-2c893d767419"
      },
      "source": [
        "#Calculating % of households with electricity in 2011 dataset\n",
        "e = (Energy_2011['no_of_households_with_electricity'] + Energy_2011['no_of_households_with_solar'])/(Energy_2011['households'])\n",
        "e1 = e*100\n",
        "\n",
        "#calculating difference in electricity connectivity between 2009 and 2011\n",
        "\n",
        "Energy_2011['percent_growth_elec_2009_2011'] = e1 - Energy_2009['percent_access_to_electricity']\n",
        "Energy_2011.head()"
      ],
      "execution_count": null,
      "outputs": [
        {
          "output_type": "execute_result",
          "data": {
            "text/html": [
              "<div>\n",
              "<style scoped>\n",
              "    .dataframe tbody tr th:only-of-type {\n",
              "        vertical-align: middle;\n",
              "    }\n",
              "\n",
              "    .dataframe tbody tr th {\n",
              "        vertical-align: top;\n",
              "    }\n",
              "\n",
              "    .dataframe thead th {\n",
              "        text-align: right;\n",
              "    }\n",
              "</style>\n",
              "<table border=\"1\" class=\"dataframe\">\n",
              "  <thead>\n",
              "    <tr style=\"text-align: right;\">\n",
              "      <th></th>\n",
              "      <th>county</th>\n",
              "      <th>no_of_households_with_electricity</th>\n",
              "      <th>no_of_households_with_pressure_lamp</th>\n",
              "      <th>no_of_households_with_lantern</th>\n",
              "      <th>no_of_households_with_tin_lamp</th>\n",
              "      <th>no_of_households_with_gas_lamp</th>\n",
              "      <th>no_of_households_with_fuel_wood</th>\n",
              "      <th>no_of_households_with_solar</th>\n",
              "      <th>no_of_households_with_other</th>\n",
              "      <th>households</th>\n",
              "      <th>percent_growth_elec_2009_2011</th>\n",
              "    </tr>\n",
              "  </thead>\n",
              "  <tbody>\n",
              "    <tr>\n",
              "      <th>0</th>\n",
              "      <td>Baringo</td>\n",
              "      <td>10583</td>\n",
              "      <td>437</td>\n",
              "      <td>43488</td>\n",
              "      <td>22238</td>\n",
              "      <td>796</td>\n",
              "      <td>30734</td>\n",
              "      <td>1902</td>\n",
              "      <td>471</td>\n",
              "      <td>110649</td>\n",
              "      <td>1.683428</td>\n",
              "    </tr>\n",
              "    <tr>\n",
              "      <th>1</th>\n",
              "      <td>Bomet</td>\n",
              "      <td>7552</td>\n",
              "      <td>581</td>\n",
              "      <td>113311</td>\n",
              "      <td>45434</td>\n",
              "      <td>1135</td>\n",
              "      <td>1444</td>\n",
              "      <td>4958</td>\n",
              "      <td>499</td>\n",
              "      <td>174914</td>\n",
              "      <td>2.852086</td>\n",
              "    </tr>\n",
              "    <tr>\n",
              "      <th>2</th>\n",
              "      <td>Bungoma</td>\n",
              "      <td>12219</td>\n",
              "      <td>1351</td>\n",
              "      <td>72256</td>\n",
              "      <td>180120</td>\n",
              "      <td>1704</td>\n",
              "      <td>1493</td>\n",
              "      <td>1223</td>\n",
              "      <td>458</td>\n",
              "      <td>270824</td>\n",
              "      <td>0.463371</td>\n",
              "    </tr>\n",
              "    <tr>\n",
              "      <th>3</th>\n",
              "      <td>Busia</td>\n",
              "      <td>9253</td>\n",
              "      <td>494</td>\n",
              "      <td>33283</td>\n",
              "      <td>108949</td>\n",
              "      <td>709</td>\n",
              "      <td>566</td>\n",
              "      <td>633</td>\n",
              "      <td>338</td>\n",
              "      <td>154225</td>\n",
              "      <td>0.410115</td>\n",
              "    </tr>\n",
              "    <tr>\n",
              "      <th>4</th>\n",
              "      <td>Elgeyo Marakwet</td>\n",
              "      <td>5547</td>\n",
              "      <td>220</td>\n",
              "      <td>36321</td>\n",
              "      <td>21891</td>\n",
              "      <td>449</td>\n",
              "      <td>11744</td>\n",
              "      <td>1155</td>\n",
              "      <td>228</td>\n",
              "      <td>77555</td>\n",
              "      <td>1.441609</td>\n",
              "    </tr>\n",
              "  </tbody>\n",
              "</table>\n",
              "</div>"
            ],
            "text/plain": [
              "            county  ...  percent_growth_elec_2009_2011\n",
              "0          Baringo  ...                       1.683428\n",
              "1            Bomet  ...                       2.852086\n",
              "2          Bungoma  ...                       0.463371\n",
              "3            Busia  ...                       0.410115\n",
              "4  Elgeyo Marakwet  ...                       1.441609\n",
              "\n",
              "[5 rows x 11 columns]"
            ]
          },
          "metadata": {
            "tags": []
          },
          "execution_count": 263
        }
      ]
    },
    {
      "cell_type": "markdown",
      "metadata": {
        "id": "OCSEa23F4dnt"
      },
      "source": [
        "### County with highest growth between 2009 and 2011 in terms of Electricity access"
      ]
    },
    {
      "cell_type": "code",
      "metadata": {
        "colab": {
          "base_uri": "https://localhost:8080/"
        },
        "id": "JC6womPp4ifC",
        "outputId": "cd081592-56c2-4a35-c996-cfa9dc35e6ea"
      },
      "source": [
        "#county with largest growth/ % change between 2009 and 2011\n",
        "larg = Energy_2011['percent_growth_elec_2009_2011'].max()\n",
        "larg\n",
        "Energy_2011.loc[Energy_2011['percent_growth_elec_2009_2011'] == larg]"
      ],
      "execution_count": null,
      "outputs": [
        {
          "output_type": "execute_result",
          "data": {
            "text/html": [
              "<div>\n",
              "<style scoped>\n",
              "    .dataframe tbody tr th:only-of-type {\n",
              "        vertical-align: middle;\n",
              "    }\n",
              "\n",
              "    .dataframe tbody tr th {\n",
              "        vertical-align: top;\n",
              "    }\n",
              "\n",
              "    .dataframe thead th {\n",
              "        text-align: right;\n",
              "    }\n",
              "</style>\n",
              "<table border=\"1\" class=\"dataframe\">\n",
              "  <thead>\n",
              "    <tr style=\"text-align: right;\">\n",
              "      <th></th>\n",
              "      <th>county</th>\n",
              "      <th>no_of_households_with_electricity</th>\n",
              "      <th>no_of_households_with_pressure_lamp</th>\n",
              "      <th>no_of_households_with_lantern</th>\n",
              "      <th>no_of_households_with_tin_lamp</th>\n",
              "      <th>no_of_households_with_gas_lamp</th>\n",
              "      <th>no_of_households_with_fuel_wood</th>\n",
              "      <th>no_of_households_with_solar</th>\n",
              "      <th>no_of_households_with_other</th>\n",
              "      <th>households</th>\n",
              "      <th>percent_growth_elec_2009_2011</th>\n",
              "    </tr>\n",
              "  </thead>\n",
              "  <tbody>\n",
              "    <tr>\n",
              "      <th>9</th>\n",
              "      <td>Kajiado</td>\n",
              "      <td>69098</td>\n",
              "      <td>1430</td>\n",
              "      <td>32788</td>\n",
              "      <td>62031</td>\n",
              "      <td>706</td>\n",
              "      <td>3804</td>\n",
              "      <td>1827</td>\n",
              "      <td>1780</td>\n",
              "      <td>173464</td>\n",
              "      <td>40.387446</td>\n",
              "    </tr>\n",
              "  </tbody>\n",
              "</table>\n",
              "</div>"
            ],
            "text/plain": [
              "    county  ...  percent_growth_elec_2009_2011\n",
              "9  Kajiado  ...                      40.387446\n",
              "\n",
              "[1 rows x 11 columns]"
            ]
          },
          "metadata": {
            "tags": []
          },
          "execution_count": 264
        }
      ]
    },
    {
      "cell_type": "markdown",
      "metadata": {
        "id": "pgprBoRc4poC"
      },
      "source": [
        "### County with lowest growth between 2009 and 2011 in terms of Electricity access"
      ]
    },
    {
      "cell_type": "code",
      "metadata": {
        "colab": {
          "base_uri": "https://localhost:8080/"
        },
        "id": "RDab7hCW4sOx",
        "outputId": "09463d84-65f0-4477-bcc2-bf1e99779210"
      },
      "source": [
        "#county with lowest growth/ % change between 2009 and 2011\n",
        "smal = Energy_2011['percent_growth_elec_2009_2011'].min()\n",
        "smal\n",
        "Energy_2011.loc[Energy_2011['percent_growth_elec_2009_2011'] == smal]"
      ],
      "execution_count": null,
      "outputs": [
        {
          "output_type": "execute_result",
          "data": {
            "text/html": [
              "<div>\n",
              "<style scoped>\n",
              "    .dataframe tbody tr th:only-of-type {\n",
              "        vertical-align: middle;\n",
              "    }\n",
              "\n",
              "    .dataframe tbody tr th {\n",
              "        vertical-align: top;\n",
              "    }\n",
              "\n",
              "    .dataframe thead th {\n",
              "        text-align: right;\n",
              "    }\n",
              "</style>\n",
              "<table border=\"1\" class=\"dataframe\">\n",
              "  <thead>\n",
              "    <tr style=\"text-align: right;\">\n",
              "      <th></th>\n",
              "      <th>county</th>\n",
              "      <th>no_of_households_with_electricity</th>\n",
              "      <th>no_of_households_with_pressure_lamp</th>\n",
              "      <th>no_of_households_with_lantern</th>\n",
              "      <th>no_of_households_with_tin_lamp</th>\n",
              "      <th>no_of_households_with_gas_lamp</th>\n",
              "      <th>no_of_households_with_fuel_wood</th>\n",
              "      <th>no_of_households_with_solar</th>\n",
              "      <th>no_of_households_with_other</th>\n",
              "      <th>households</th>\n",
              "      <th>percent_growth_elec_2009_2011</th>\n",
              "    </tr>\n",
              "  </thead>\n",
              "  <tbody>\n",
              "    <tr>\n",
              "      <th>29</th>\n",
              "      <td>Nairobi</td>\n",
              "      <td>712859</td>\n",
              "      <td>10324</td>\n",
              "      <td>128173</td>\n",
              "      <td>123551</td>\n",
              "      <td>1251</td>\n",
              "      <td>622</td>\n",
              "      <td>992</td>\n",
              "      <td>7244</td>\n",
              "      <td>985016</td>\n",
              "      <td>0.071006</td>\n",
              "    </tr>\n",
              "  </tbody>\n",
              "</table>\n",
              "</div>"
            ],
            "text/plain": [
              "     county  ...  percent_growth_elec_2009_2011\n",
              "29  Nairobi  ...                       0.071006\n",
              "\n",
              "[1 rows x 11 columns]"
            ]
          },
          "metadata": {
            "tags": []
          },
          "execution_count": 265
        }
      ]
    },
    {
      "cell_type": "markdown",
      "metadata": {
        "id": "MKHIDZZJYKnF"
      },
      "source": [
        "### 2009 Electricity Accessibility compared to World Bank records(2009)"
      ]
    },
    {
      "cell_type": "code",
      "metadata": {
        "colab": {
          "base_uri": "https://localhost:8080/"
        },
        "id": "NiffdAZlYtUv",
        "outputId": "e0b61894-106b-4311-e6f2-905eee5841b4"
      },
      "source": [
        "copy_2009.head()"
      ],
      "execution_count": null,
      "outputs": [
        {
          "output_type": "execute_result",
          "data": {
            "text/html": [
              "<div>\n",
              "<style scoped>\n",
              "    .dataframe tbody tr th:only-of-type {\n",
              "        vertical-align: middle;\n",
              "    }\n",
              "\n",
              "    .dataframe tbody tr th {\n",
              "        vertical-align: top;\n",
              "    }\n",
              "\n",
              "    .dataframe thead th {\n",
              "        text-align: right;\n",
              "    }\n",
              "</style>\n",
              "<table border=\"1\" class=\"dataframe\">\n",
              "  <thead>\n",
              "    <tr style=\"text-align: right;\">\n",
              "      <th></th>\n",
              "      <th>country</th>\n",
              "      <th>county</th>\n",
              "      <th>percent_access_to_electricity</th>\n",
              "    </tr>\n",
              "  </thead>\n",
              "  <tbody>\n",
              "    <tr>\n",
              "      <th>0</th>\n",
              "      <td>Kenya</td>\n",
              "      <td>National Average</td>\n",
              "      <td>23.0</td>\n",
              "    </tr>\n",
              "    <tr>\n",
              "      <th>1</th>\n",
              "      <td>Kenya</td>\n",
              "      <td>Baringo</td>\n",
              "      <td>9.6</td>\n",
              "    </tr>\n",
              "    <tr>\n",
              "      <th>2</th>\n",
              "      <td>Kenya</td>\n",
              "      <td>Bomet</td>\n",
              "      <td>4.3</td>\n",
              "    </tr>\n",
              "    <tr>\n",
              "      <th>3</th>\n",
              "      <td>Kenya</td>\n",
              "      <td>Bungoma</td>\n",
              "      <td>4.5</td>\n",
              "    </tr>\n",
              "    <tr>\n",
              "      <th>4</th>\n",
              "      <td>Kenya</td>\n",
              "      <td>Busia</td>\n",
              "      <td>6.0</td>\n",
              "    </tr>\n",
              "  </tbody>\n",
              "</table>\n",
              "</div>"
            ],
            "text/plain": [
              "  country            county  percent_access_to_electricity\n",
              "0   Kenya  National Average                           23.0\n",
              "1   Kenya           Baringo                            9.6\n",
              "2   Kenya             Bomet                            4.3\n",
              "3   Kenya           Bungoma                            4.5\n",
              "4   Kenya             Busia                            6.0"
            ]
          },
          "metadata": {
            "tags": []
          },
          "execution_count": 266
        }
      ]
    },
    {
      "cell_type": "code",
      "metadata": {
        "colab": {
          "base_uri": "https://localhost:8080/"
        },
        "id": "cw9LGWvtZIAc",
        "outputId": "42cb198d-7147-41a3-97d8-7473244c162a"
      },
      "source": [
        "#from copy_2009 we have the country average as 23% we can check whether 2009 dataset aligns\n",
        "#with World Bank dataset.\n",
        "Electricity_access.iloc[19, 2:] == 23"
      ],
      "execution_count": null,
      "outputs": [
        {
          "output_type": "execute_result",
          "data": {
            "text/plain": [
              "percent_access_to_electricity    True\n",
              "Name: 19, dtype: bool"
            ]
          },
          "metadata": {
            "tags": []
          },
          "execution_count": 267
        }
      ]
    },
    {
      "cell_type": "markdown",
      "metadata": {
        "id": "YWfvzJ-GiB3y"
      },
      "source": [
        "### Compare households without electricity (%) 2009-2011"
      ]
    },
    {
      "cell_type": "code",
      "metadata": {
        "colab": {
          "base_uri": "https://localhost:8080/",
          "height": 241
        },
        "id": "MizzadopiGtP",
        "outputId": "133f0bb4-e30e-44b2-8d8b-00be15e3c190"
      },
      "source": [
        "#Non renewable energy in this year as country hadn’t started projects (*except hydro)\n",
        "#2009\n",
        "Energy_2009['percent_without_elec'] = (100-(Energy_2009['percent_access_to_electricity']))\n",
        "Energy_2009.head()\n",
        "\n",
        "#2011\n",
        "#% with electricity\n",
        "Energy_2011['percent_with_elec'] = e1\n",
        "Energy_2011.head()\n",
        "\n",
        "#% without electricity\n",
        "Energy_2011['percent_without_elec'] = (100 -e1)\n",
        "Energy_2011.head()"
      ],
      "execution_count": null,
      "outputs": [
        {
          "output_type": "execute_result",
          "data": {
            "text/html": [
              "<div>\n",
              "<style scoped>\n",
              "    .dataframe tbody tr th:only-of-type {\n",
              "        vertical-align: middle;\n",
              "    }\n",
              "\n",
              "    .dataframe tbody tr th {\n",
              "        vertical-align: top;\n",
              "    }\n",
              "\n",
              "    .dataframe thead th {\n",
              "        text-align: right;\n",
              "    }\n",
              "</style>\n",
              "<table border=\"1\" class=\"dataframe\">\n",
              "  <thead>\n",
              "    <tr style=\"text-align: right;\">\n",
              "      <th></th>\n",
              "      <th>county</th>\n",
              "      <th>no_of_households_with_electricity</th>\n",
              "      <th>no_of_households_with_pressure_lamp</th>\n",
              "      <th>no_of_households_with_lantern</th>\n",
              "      <th>no_of_households_with_tin_lamp</th>\n",
              "      <th>no_of_households_with_gas_lamp</th>\n",
              "      <th>no_of_households_with_fuel_wood</th>\n",
              "      <th>no_of_households_with_solar</th>\n",
              "      <th>no_of_households_with_other</th>\n",
              "      <th>households</th>\n",
              "      <th>percent_growth_elec_2009_2011</th>\n",
              "      <th>percent_with_elec</th>\n",
              "      <th>percent_without_elec</th>\n",
              "    </tr>\n",
              "  </thead>\n",
              "  <tbody>\n",
              "    <tr>\n",
              "      <th>0</th>\n",
              "      <td>Baringo</td>\n",
              "      <td>10583</td>\n",
              "      <td>437</td>\n",
              "      <td>43488</td>\n",
              "      <td>22238</td>\n",
              "      <td>796</td>\n",
              "      <td>30734</td>\n",
              "      <td>1902</td>\n",
              "      <td>471</td>\n",
              "      <td>110649</td>\n",
              "      <td>1.683428</td>\n",
              "      <td>11.283428</td>\n",
              "      <td>88.716572</td>\n",
              "    </tr>\n",
              "    <tr>\n",
              "      <th>1</th>\n",
              "      <td>Bomet</td>\n",
              "      <td>7552</td>\n",
              "      <td>581</td>\n",
              "      <td>113311</td>\n",
              "      <td>45434</td>\n",
              "      <td>1135</td>\n",
              "      <td>1444</td>\n",
              "      <td>4958</td>\n",
              "      <td>499</td>\n",
              "      <td>174914</td>\n",
              "      <td>2.852086</td>\n",
              "      <td>7.152086</td>\n",
              "      <td>92.847914</td>\n",
              "    </tr>\n",
              "    <tr>\n",
              "      <th>2</th>\n",
              "      <td>Bungoma</td>\n",
              "      <td>12219</td>\n",
              "      <td>1351</td>\n",
              "      <td>72256</td>\n",
              "      <td>180120</td>\n",
              "      <td>1704</td>\n",
              "      <td>1493</td>\n",
              "      <td>1223</td>\n",
              "      <td>458</td>\n",
              "      <td>270824</td>\n",
              "      <td>0.463371</td>\n",
              "      <td>4.963371</td>\n",
              "      <td>95.036629</td>\n",
              "    </tr>\n",
              "    <tr>\n",
              "      <th>3</th>\n",
              "      <td>Busia</td>\n",
              "      <td>9253</td>\n",
              "      <td>494</td>\n",
              "      <td>33283</td>\n",
              "      <td>108949</td>\n",
              "      <td>709</td>\n",
              "      <td>566</td>\n",
              "      <td>633</td>\n",
              "      <td>338</td>\n",
              "      <td>154225</td>\n",
              "      <td>0.410115</td>\n",
              "      <td>6.410115</td>\n",
              "      <td>93.589885</td>\n",
              "    </tr>\n",
              "    <tr>\n",
              "      <th>4</th>\n",
              "      <td>Elgeyo Marakwet</td>\n",
              "      <td>5547</td>\n",
              "      <td>220</td>\n",
              "      <td>36321</td>\n",
              "      <td>21891</td>\n",
              "      <td>449</td>\n",
              "      <td>11744</td>\n",
              "      <td>1155</td>\n",
              "      <td>228</td>\n",
              "      <td>77555</td>\n",
              "      <td>1.441609</td>\n",
              "      <td>8.641609</td>\n",
              "      <td>91.358391</td>\n",
              "    </tr>\n",
              "  </tbody>\n",
              "</table>\n",
              "</div>"
            ],
            "text/plain": [
              "            county  ...  percent_without_elec\n",
              "0          Baringo  ...             88.716572\n",
              "1            Bomet  ...             92.847914\n",
              "2          Bungoma  ...             95.036629\n",
              "3            Busia  ...             93.589885\n",
              "4  Elgeyo Marakwet  ...             91.358391\n",
              "\n",
              "[5 rows x 13 columns]"
            ]
          },
          "metadata": {
            "tags": []
          },
          "execution_count": 268
        }
      ]
    },
    {
      "cell_type": "markdown",
      "metadata": {
        "id": "sN7BR6LpoVZa"
      },
      "source": [
        "### Compare households with electricity (%) 2009-2011"
      ]
    },
    {
      "cell_type": "code",
      "metadata": {
        "colab": {
          "base_uri": "https://localhost:8080/",
          "height": 350
        },
        "id": "bwpOasUhfT0T",
        "outputId": "82e438ac-a1c6-4b1b-80f4-a9b481f8f777"
      },
      "source": [
        "# Comparing overall accessibility to electricity in Kenya between 2009 and 2011\n",
        "#creating variable 2009 overal country accessibility to Elec\n",
        "v2009 = copy_2009.iloc[0, 2]\n",
        "v2009\n",
        "\n",
        "#variable to store/reference overall 2019 connectivity to Elec  \n",
        "o19 = (Energy_2011['no_of_households_with_electricity'] + Energy_2011['no_of_households_with_solar']).sum()/(Energy_2011['households']).sum()\n",
        "v2011 = round(o19*100,1)\n",
        "v2011\n",
        "\n",
        "#list to store years compared\n",
        "l = [2009,2011]\n",
        "\n",
        "#var to store both 2009 and 2011 accessibility values as list\n",
        "a = [v2009,v2011]\n",
        "\n",
        "#Plotting comparison\n",
        "plt.figure(figsize = (10, 5)) \n",
        "  \n",
        "# creating the bar plot \n",
        "plt.bar(l, a,color ='maroon',  width = 0.5) \n",
        "  \n",
        "plt.xlabel(\"YEAR\") \n",
        "plt.ylabel(\"Access to Electricity(%)\") \n",
        "plt.title(\"Comparison Between 2009 and 2011 Access to Electricity\") \n",
        "plt.xticks(np.arange(2009, 2012,1.0))\n",
        "plt.show() "
      ],
      "execution_count": null,
      "outputs": [
        {
          "output_type": "display_data",
          "data": {
            "image/png": "[encoded data removed]",
            "text/plain": [
              "<Figure size 720x360 with 1 Axes>"
            ]
          },
          "metadata": {
            "tags": [],
            "needs_background": "light"
          }
        }
      ]
    },
    {
      "cell_type": "markdown",
      "metadata": {
        "id": "mv8i2LaQiLxr"
      },
      "source": [
        "## 2011 analysis: Compare renewable energy 2011 with World Bank\n",
        "\n"
      ]
    },
    {
      "cell_type": "markdown",
      "metadata": {
        "id": "PyTQI9RK5McZ"
      },
      "source": [
        "### Most Common Energy Source for Electricity across Kenyan Counties"
      ]
    },
    {
      "cell_type": "code",
      "metadata": {
        "colab": {
          "base_uri": "https://localhost:8080/",
          "height": 241
        },
        "id": "sWQcNYYp5Oi9",
        "outputId": "2ab4b80f-8bc4-4900-e940-5814d48f9136"
      },
      "source": [
        "copy_2011 = Energy_2011.copy(deep=True)\n",
        "copy_2011.head()"
      ],
      "execution_count": null,
      "outputs": [
        {
          "output_type": "execute_result",
          "data": {
            "text/html": [
              "<div>\n",
              "<style scoped>\n",
              "    .dataframe tbody tr th:only-of-type {\n",
              "        vertical-align: middle;\n",
              "    }\n",
              "\n",
              "    .dataframe tbody tr th {\n",
              "        vertical-align: top;\n",
              "    }\n",
              "\n",
              "    .dataframe thead th {\n",
              "        text-align: right;\n",
              "    }\n",
              "</style>\n",
              "<table border=\"1\" class=\"dataframe\">\n",
              "  <thead>\n",
              "    <tr style=\"text-align: right;\">\n",
              "      <th></th>\n",
              "      <th>county</th>\n",
              "      <th>no_of_households_with_electricity</th>\n",
              "      <th>no_of_households_with_pressure_lamp</th>\n",
              "      <th>no_of_households_with_lantern</th>\n",
              "      <th>no_of_households_with_tin_lamp</th>\n",
              "      <th>no_of_households_with_gas_lamp</th>\n",
              "      <th>no_of_households_with_fuel_wood</th>\n",
              "      <th>no_of_households_with_solar</th>\n",
              "      <th>no_of_households_with_other</th>\n",
              "      <th>households</th>\n",
              "      <th>percent_growth_elec_2009_2011</th>\n",
              "      <th>percent_with_elec</th>\n",
              "      <th>percent_without_elec</th>\n",
              "    </tr>\n",
              "  </thead>\n",
              "  <tbody>\n",
              "    <tr>\n",
              "      <th>0</th>\n",
              "      <td>Baringo</td>\n",
              "      <td>10583</td>\n",
              "      <td>437</td>\n",
              "      <td>43488</td>\n",
              "      <td>22238</td>\n",
              "      <td>796</td>\n",
              "      <td>30734</td>\n",
              "      <td>1902</td>\n",
              "      <td>471</td>\n",
              "      <td>110649</td>\n",
              "      <td>1.683428</td>\n",
              "      <td>11.283428</td>\n",
              "      <td>88.716572</td>\n",
              "    </tr>\n",
              "    <tr>\n",
              "      <th>1</th>\n",
              "      <td>Bomet</td>\n",
              "      <td>7552</td>\n",
              "      <td>581</td>\n",
              "      <td>113311</td>\n",
              "      <td>45434</td>\n",
              "      <td>1135</td>\n",
              "      <td>1444</td>\n",
              "      <td>4958</td>\n",
              "      <td>499</td>\n",
              "      <td>174914</td>\n",
              "      <td>2.852086</td>\n",
              "      <td>7.152086</td>\n",
              "      <td>92.847914</td>\n",
              "    </tr>\n",
              "    <tr>\n",
              "      <th>2</th>\n",
              "      <td>Bungoma</td>\n",
              "      <td>12219</td>\n",
              "      <td>1351</td>\n",
              "      <td>72256</td>\n",
              "      <td>180120</td>\n",
              "      <td>1704</td>\n",
              "      <td>1493</td>\n",
              "      <td>1223</td>\n",
              "      <td>458</td>\n",
              "      <td>270824</td>\n",
              "      <td>0.463371</td>\n",
              "      <td>4.963371</td>\n",
              "      <td>95.036629</td>\n",
              "    </tr>\n",
              "    <tr>\n",
              "      <th>3</th>\n",
              "      <td>Busia</td>\n",
              "      <td>9253</td>\n",
              "      <td>494</td>\n",
              "      <td>33283</td>\n",
              "      <td>108949</td>\n",
              "      <td>709</td>\n",
              "      <td>566</td>\n",
              "      <td>633</td>\n",
              "      <td>338</td>\n",
              "      <td>154225</td>\n",
              "      <td>0.410115</td>\n",
              "      <td>6.410115</td>\n",
              "      <td>93.589885</td>\n",
              "    </tr>\n",
              "    <tr>\n",
              "      <th>4</th>\n",
              "      <td>Elgeyo Marakwet</td>\n",
              "      <td>5547</td>\n",
              "      <td>220</td>\n",
              "      <td>36321</td>\n",
              "      <td>21891</td>\n",
              "      <td>449</td>\n",
              "      <td>11744</td>\n",
              "      <td>1155</td>\n",
              "      <td>228</td>\n",
              "      <td>77555</td>\n",
              "      <td>1.441609</td>\n",
              "      <td>8.641609</td>\n",
              "      <td>91.358391</td>\n",
              "    </tr>\n",
              "  </tbody>\n",
              "</table>\n",
              "</div>"
            ],
            "text/plain": [
              "            county  ...  percent_without_elec\n",
              "0          Baringo  ...             88.716572\n",
              "1            Bomet  ...             92.847914\n",
              "2          Bungoma  ...             95.036629\n",
              "3            Busia  ...             93.589885\n",
              "4  Elgeyo Marakwet  ...             91.358391\n",
              "\n",
              "[5 rows x 13 columns]"
            ]
          },
          "metadata": {
            "tags": []
          },
          "execution_count": 270
        }
      ]
    },
    {
      "cell_type": "code",
      "metadata": {
        "colab": {
          "base_uri": "https://localhost:8080/",
          "height": 35
        },
        "id": "2LIM_Qkw5Svb",
        "outputId": "a12034d5-4406-43e9-a0f5-cc48f7e5a1d4"
      },
      "source": [
        "#most common/ most prevalent energy source for electricity across Kenya\n",
        "#dropping irrelevant columns and saving into a new dataframe\n",
        "mc = Energy_2011.drop(['percent_growth_elec_2009_2011','percent_with_elec','percent_without_elec'], axis=1)\n",
        "\n",
        "#grouping by aggregating all rows\n",
        "mc1 = mc.groupby([True]*len(mc)).sum() \n",
        "mc1\n",
        "#showing the relevant column with the highest number\n",
        "mc1.columns.max()"
      ],
      "execution_count": null,
      "outputs": [
        {
          "output_type": "execute_result",
          "data": {
            "application/vnd.google.colaboratory.intrinsic+json": {
              "type": "string"
            },
            "text/plain": [
              "'no_of_households_with_tin_lamp'"
            ]
          },
          "metadata": {
            "tags": []
          },
          "execution_count": 351
        }
      ]
    },
    {
      "cell_type": "code",
      "metadata": {
        "colab": {
          "base_uri": "https://localhost:8080/"
        },
        "id": "9xQ0Dbpr5Z1J",
        "outputId": "a67697af-9dd0-4d5f-bdc8-ef74ec5cf742"
      },
      "source": [
        "#Getting the distribution of households in descending order of most used source for elec\n",
        "mc_list = mc1.sum()\n",
        "mc_list.sort_values(ascending=False)"
      ],
      "execution_count": null,
      "outputs": [
        {
          "output_type": "execute_result",
          "data": {
            "text/plain": [
              "households                             8767954\n",
              "no_of_households_with_tin_lamp         3373126\n",
              "no_of_households_with_lantern          2670387\n",
              "no_of_households_with_electricity      1989740\n",
              "no_of_households_with_fuel_wood         396062\n",
              "no_of_households_with_solar             142273\n",
              "no_of_households_with_gas_lamp           84375\n",
              "no_of_households_with_other              59751\n",
              "no_of_households_with_pressure_lamp      52240\n",
              "dtype: int64"
            ]
          },
          "metadata": {
            "tags": []
          },
          "execution_count": 272
        }
      ]
    },
    {
      "cell_type": "code",
      "metadata": {
        "colab": {
          "base_uri": "https://localhost:8080/"
        },
        "id": "fH-5y7hM5dQ_",
        "outputId": "52aa4e36-0f40-4a77-f37d-19909d1a4e40"
      },
      "source": [
        "#in terms of % of total households(tin lamps)\n",
        "round((mc1['no_of_households_with_tin_lamp'])/(mc1['households'])*100,2)"
      ],
      "execution_count": null,
      "outputs": [
        {
          "output_type": "execute_result",
          "data": {
            "text/plain": [
              "True    38.47\n",
              "dtype: float64"
            ]
          },
          "metadata": {
            "tags": []
          },
          "execution_count": 273
        }
      ]
    },
    {
      "cell_type": "markdown",
      "metadata": {
        "id": "SWBNtCel5V1x"
      },
      "source": [
        "### Type of Energy Source for Electricity Mostly relied on by individual counties"
      ]
    },
    {
      "cell_type": "markdown",
      "metadata": {
        "id": "JR6yhUnD5wan"
      },
      "source": [
        "Electricity use in %"
      ]
    },
    {
      "cell_type": "code",
      "metadata": {
        "colab": {
          "base_uri": "https://localhost:8080/"
        },
        "id": "RPKFDpOE5oc5",
        "outputId": "b0990e38-955c-4d53-8d61-6df72aa75137"
      },
      "source": [
        "#Electricity highest counties by proportion\n",
        "#% elec pop per county\n",
        "copy_2011['percent_using_elec_source'] = round((copy_2011['no_of_households_with_electricity']/copy_2011['households'])*100,2)\n",
        "copy_2011.head()\n",
        "\n",
        "#Electricity highest counties in %\n",
        "eh = copy_2011.groupby('county')['percent_using_elec_source'].sum()\n",
        "eh.nlargest(3)"
      ],
      "execution_count": null,
      "outputs": [
        {
          "output_type": "execute_result",
          "data": {
            "text/plain": [
              "county\n",
              "Nairobi    72.37\n",
              "Mombasa    59.02\n",
              "Kiambu     53.00\n",
              "Name: percent_using_elec_source, dtype: float64"
            ]
          },
          "metadata": {
            "tags": []
          },
          "execution_count": 274
        }
      ]
    },
    {
      "cell_type": "code",
      "metadata": {
        "colab": {
          "base_uri": "https://localhost:8080/"
        },
        "id": "fS9T_AjZ52NO",
        "outputId": "01e5ea25-058f-4965-8800-cc92123bd52a"
      },
      "source": [
        "#Electricity scarce counties by proportion in %\n",
        "eh.nsmallest(3)"
      ],
      "execution_count": null,
      "outputs": [
        {
          "output_type": "execute_result",
          "data": {
            "text/plain": [
              "county\n",
              "Turkana       2.45\n",
              "Tana River    2.50\n",
              "Mandera       2.55\n",
              "Name: percent_using_elec_source, dtype: float64"
            ]
          },
          "metadata": {
            "tags": []
          },
          "execution_count": 275
        }
      ]
    },
    {
      "cell_type": "markdown",
      "metadata": {
        "id": "ZQ8uK1ef57CF"
      },
      "source": [
        "Pressure lamp use in %"
      ]
    },
    {
      "cell_type": "code",
      "metadata": {
        "colab": {
          "base_uri": "https://localhost:8080/"
        },
        "id": "rLNUmaGv57_Y",
        "outputId": "b115db8a-1415-4c80-a817-309c5b5da74e"
      },
      "source": [
        "#Pressure lamp use highest counties by proportion\n",
        "#% pressure lamp use pop per county\n",
        "copy_2011['percent_using_pressure_lamp'] = round((copy_2011['no_of_households_with_pressure_lamp']/copy_2011['households'])*100,2)\n",
        "copy_2011.head()\n",
        "\n",
        "#Pressure lamp use highest counties in %\n",
        "plh = copy_2011.groupby('county')['percent_using_pressure_lamp'].sum()\n",
        "plh.nlargest(3)"
      ],
      "execution_count": null,
      "outputs": [
        {
          "output_type": "execute_result",
          "data": {
            "text/plain": [
              "county\n",
              "Nairobi    1.05\n",
              "Mombasa    1.02\n",
              "Kajiado    0.82\n",
              "Name: percent_using_pressure_lamp, dtype: float64"
            ]
          },
          "metadata": {
            "tags": []
          },
          "execution_count": 276
        }
      ]
    },
    {
      "cell_type": "code",
      "metadata": {
        "colab": {
          "base_uri": "https://localhost:8080/"
        },
        "id": "pGmkbCLr6AXc",
        "outputId": "70a97dcc-ba83-4fce-d601-f678d7aaaf7e"
      },
      "source": [
        "#Pressure lamp least use counties by proportion in %\n",
        "plh.nsmallest(3)"
      ],
      "execution_count": null,
      "outputs": [
        {
          "output_type": "execute_result",
          "data": {
            "text/plain": [
              "county\n",
              "Wajir         0.11\n",
              "West Pokot    0.11\n",
              "Marsabit      0.12\n",
              "Name: percent_using_pressure_lamp, dtype: float64"
            ]
          },
          "metadata": {
            "tags": []
          },
          "execution_count": 277
        }
      ]
    },
    {
      "cell_type": "markdown",
      "metadata": {
        "id": "gUvfSKKU6rX4"
      },
      "source": [
        "Lantern use in %"
      ]
    },
    {
      "cell_type": "code",
      "metadata": {
        "colab": {
          "base_uri": "https://localhost:8080/"
        },
        "id": "z0PgBgLP6sYk",
        "outputId": "657a7fae-c308-4cb0-9c1b-0ab43336ee10"
      },
      "source": [
        "#Lantern use highest counties by proportion\n",
        "#% lantern use pop per county\n",
        "copy_2011['percent_using_lantern'] = round((copy_2011['no_of_households_with_lantern']/copy_2011['households'])*100,2)\n",
        "copy_2011.head()\n",
        "\n",
        "#Lantern use highest counties in %\n",
        "lh = copy_2011.groupby('county')['percent_using_lantern'].sum()\n",
        "lh.nlargest(3)"
      ],
      "execution_count": null,
      "outputs": [
        {
          "output_type": "execute_result",
          "data": {
            "text/plain": [
              "county\n",
              "Bomet        64.78\n",
              "Makueni      63.27\n",
              "Nyandarua    55.15\n",
              "Name: percent_using_lantern, dtype: float64"
            ]
          },
          "metadata": {
            "tags": []
          },
          "execution_count": 278
        }
      ]
    },
    {
      "cell_type": "code",
      "metadata": {
        "colab": {
          "base_uri": "https://localhost:8080/"
        },
        "id": "GHka2yBa60qr",
        "outputId": "f07484e1-c238-4b5b-906c-54b9c30bee8f"
      },
      "source": [
        "#Lantern least use counties by proportion in %\n",
        "lh.nsmallest(3)"
      ],
      "execution_count": null,
      "outputs": [
        {
          "output_type": "execute_result",
          "data": {
            "text/plain": [
              "county\n",
              "Turkana     8.58\n",
              "Samburu    10.72\n",
              "Nairobi    13.01\n",
              "Name: percent_using_lantern, dtype: float64"
            ]
          },
          "metadata": {
            "tags": []
          },
          "execution_count": 279
        }
      ]
    },
    {
      "cell_type": "markdown",
      "metadata": {
        "id": "Q4pkzeVA656i"
      },
      "source": [
        "Tin Lamp use in %"
      ]
    },
    {
      "cell_type": "code",
      "metadata": {
        "colab": {
          "base_uri": "https://localhost:8080/"
        },
        "id": "WWJJPAD066t2",
        "outputId": "067e49ce-1aa6-46d4-ffb9-ad050d8b114a"
      },
      "source": [
        "#Tin lamp use highest counties by proportion\n",
        "#% tin lamp use pop per county\n",
        "copy_2011['percent_using_tin_lamp'] = round((copy_2011['no_of_households_with_tin_lamp']/copy_2011['households'])*100,2)\n",
        "copy_2011.head()\n",
        "\n",
        "#Tin lamp use highest counties in %\n",
        "tlh = copy_2011.groupby('county')['percent_using_tin_lamp'].sum()\n",
        "tlh.nlargest(3)"
      ],
      "execution_count": null,
      "outputs": [
        {
          "output_type": "execute_result",
          "data": {
            "text/plain": [
              "county\n",
              "Kwale       73.02\n",
              "Homa Bay    72.94\n",
              "Siaya       72.89\n",
              "Name: percent_using_tin_lamp, dtype: float64"
            ]
          },
          "metadata": {
            "tags": []
          },
          "execution_count": 280
        }
      ]
    },
    {
      "cell_type": "code",
      "metadata": {
        "colab": {
          "base_uri": "https://localhost:8080/"
        },
        "id": "he-E07JI7B4v",
        "outputId": "484a682b-1156-43ae-be59-d2b6695e8f7b"
      },
      "source": [
        "#Tin lamp least use counties by proportion in %\n",
        "tlh.nsmallest(3)"
      ],
      "execution_count": null,
      "outputs": [
        {
          "output_type": "execute_result",
          "data": {
            "text/plain": [
              "county\n",
              "Turkana     10.98\n",
              "Marsabit    12.21\n",
              "Nairobi     12.54\n",
              "Name: percent_using_tin_lamp, dtype: float64"
            ]
          },
          "metadata": {
            "tags": []
          },
          "execution_count": 281
        }
      ]
    },
    {
      "cell_type": "markdown",
      "metadata": {
        "id": "Ng5EmfgV7Fts"
      },
      "source": [
        "Gas Lamp use in %"
      ]
    },
    {
      "cell_type": "code",
      "metadata": {
        "colab": {
          "base_uri": "https://localhost:8080/"
        },
        "id": "rjxhBK8N7G3E",
        "outputId": "7813444f-2838-4bfc-f986-58587a6686dd"
      },
      "source": [
        "#Gas lamp use highest counties by proportion\n",
        "#% gas lamp use pop per county\n",
        "copy_2011['percent_using_gas_lamp'] = round((copy_2011['no_of_households_with_gas_lamp']/copy_2011['households'])*100,2)\n",
        "copy_2011.head()\n",
        "\n",
        "#Gas lamp use highest counties in %\n",
        "glh = copy_2011.groupby('county')['percent_using_gas_lamp'].sum()\n",
        "glh.nlargest(3)"
      ],
      "execution_count": null,
      "outputs": [
        {
          "output_type": "execute_result",
          "data": {
            "text/plain": [
              "county\n",
              "Garissa    17.52\n",
              "Mandera    11.03\n",
              "Wajir      11.03\n",
              "Name: percent_using_gas_lamp, dtype: float64"
            ]
          },
          "metadata": {
            "tags": []
          },
          "execution_count": 282
        }
      ]
    },
    {
      "cell_type": "code",
      "metadata": {
        "colab": {
          "base_uri": "https://localhost:8080/"
        },
        "id": "zNk4_iwP7Nnn",
        "outputId": "30cee15a-b85e-4542-e562-d647aad51dc0"
      },
      "source": [
        "#Gas lamp least use counties by proportion in %\n",
        "glh.nsmallest(3)"
      ],
      "execution_count": null,
      "outputs": [
        {
          "output_type": "execute_result",
          "data": {
            "text/plain": [
              "county\n",
              "Nairobi    0.13\n",
              "Mombasa    0.19\n",
              "Kiambu     0.30\n",
              "Name: percent_using_gas_lamp, dtype: float64"
            ]
          },
          "metadata": {
            "tags": []
          },
          "execution_count": 283
        }
      ]
    },
    {
      "cell_type": "markdown",
      "metadata": {
        "id": "dVGZ2wdz7TQo"
      },
      "source": [
        "Wood use in %"
      ]
    },
    {
      "cell_type": "code",
      "metadata": {
        "id": "i0Zv3SLX7UNZ",
        "colab": {
          "base_uri": "https://localhost:8080/"
        },
        "outputId": "c5e84ad5-fcfe-4c7b-8434-df90da4bcfe5"
      },
      "source": [
        "#Wood use highest counties by proportion\n",
        "#% wood use pop per county\n",
        "copy_2011['percent_using_fuel_wood'] = round((copy_2011['no_of_households_with_fuel_wood']/copy_2011['households'])*100,2)\n",
        "copy_2011.head()\n",
        "\n",
        "#Wood use highest counties in %\n",
        "wh = copy_2011.groupby('county')['percent_using_fuel_wood'].sum()\n",
        "wh.nlargest(3)"
      ],
      "execution_count": null,
      "outputs": [
        {
          "output_type": "execute_result",
          "data": {
            "text/plain": [
              "county\n",
              "Turkana       72.97\n",
              "Samburu       60.08\n",
              "West Pokot    50.10\n",
              "Name: percent_using_fuel_wood, dtype: float64"
            ]
          },
          "metadata": {
            "tags": []
          },
          "execution_count": 284
        }
      ]
    },
    {
      "cell_type": "code",
      "metadata": {
        "id": "Bgc7a5Jm7Yad",
        "colab": {
          "base_uri": "https://localhost:8080/"
        },
        "outputId": "688599f9-0f8d-4d75-890c-b39bcb8847fb"
      },
      "source": [
        "#Wood least use counties by proportion in %\n",
        "wh.nsmallest(3)"
      ],
      "execution_count": null,
      "outputs": [
        {
          "output_type": "execute_result",
          "data": {
            "text/plain": [
              "county\n",
              "Nairobi    0.06\n",
              "Kiambu     0.15\n",
              "Mombasa    0.20\n",
              "Name: percent_using_fuel_wood, dtype: float64"
            ]
          },
          "metadata": {
            "tags": []
          },
          "execution_count": 285
        }
      ]
    },
    {
      "cell_type": "markdown",
      "metadata": {
        "id": "XPCQtaa-7cw6"
      },
      "source": [
        "Solar use in %"
      ]
    },
    {
      "cell_type": "code",
      "metadata": {
        "id": "bxL0i4vO7biY",
        "colab": {
          "base_uri": "https://localhost:8080/"
        },
        "outputId": "c2b86e21-650c-4712-d81c-7056433fa68c"
      },
      "source": [
        "#Solar use highest counties by proportion\n",
        "#% solar use pop per county\n",
        "copy_2011['percent_using_solar'] = round((copy_2011['no_of_households_with_solar']/copy_2011['households'])*100,2)\n",
        "copy_2011.head()\n",
        "\n",
        "#Solar use highest counties in %\n",
        "sh = copy_2011.groupby('county')['percent_using_solar'].sum()\n",
        "sh.nlargest(3)"
      ],
      "execution_count": null,
      "outputs": [
        {
          "output_type": "execute_result",
          "data": {
            "text/plain": [
              "county\n",
              "Tharaka Nithi    8.42\n",
              "Nyandarua        6.01\n",
              "Laikipia         5.94\n",
              "Name: percent_using_solar, dtype: float64"
            ]
          },
          "metadata": {
            "tags": []
          },
          "execution_count": 286
        }
      ]
    },
    {
      "cell_type": "code",
      "metadata": {
        "id": "iwx3cBPP7k2D",
        "colab": {
          "base_uri": "https://localhost:8080/"
        },
        "outputId": "1a240f84-4032-4d15-d3b5-b364ab681869"
      },
      "source": [
        "#Solar least use counties by proportion in %\n",
        "sh.nsmallest(3)"
      ],
      "execution_count": null,
      "outputs": [
        {
          "output_type": "execute_result",
          "data": {
            "text/plain": [
              "county\n",
              "Nairobi    0.10\n",
              "Mombasa    0.14\n",
              "Wajir      0.17\n",
              "Name: percent_using_solar, dtype: float64"
            ]
          },
          "metadata": {
            "tags": []
          },
          "execution_count": 287
        }
      ]
    },
    {
      "cell_type": "markdown",
      "metadata": {
        "id": "tZveiQkw7o2M"
      },
      "source": [
        "Other sources in %"
      ]
    },
    {
      "cell_type": "code",
      "metadata": {
        "id": "57BFtA167rv3",
        "colab": {
          "base_uri": "https://localhost:8080/"
        },
        "outputId": "eaad68de-d916-4c96-d3d9-bb9572e52590"
      },
      "source": [
        "#Other source use highest counties by proportion\n",
        "#% other source use pop per county\n",
        "copy_2011['percent_using_other'] = round((copy_2011['no_of_households_with_other']/copy_2011['households'])*100,2)\n",
        "copy_2011.head()\n",
        "\n",
        "#Solar use highest counties in %\n",
        "oh = copy_2011.groupby('county')['percent_using_other'].sum()\n",
        "oh.nlargest(3)"
      ],
      "execution_count": null,
      "outputs": [
        {
          "output_type": "execute_result",
          "data": {
            "text/plain": [
              "county\n",
              "Wajir       7.17\n",
              "Garissa     6.92\n",
              "Marsabit    5.06\n",
              "Name: percent_using_other, dtype: float64"
            ]
          },
          "metadata": {
            "tags": []
          },
          "execution_count": 288
        }
      ]
    },
    {
      "cell_type": "code",
      "metadata": {
        "id": "XGPvRgso7vqg",
        "colab": {
          "base_uri": "https://localhost:8080/"
        },
        "outputId": "fcd2bd59-c503-4b22-ab7b-b111005cd09c"
      },
      "source": [
        "#Other source least use counties by proportion in %\n",
        "oh.nsmallest(3)"
      ],
      "execution_count": null,
      "outputs": [
        {
          "output_type": "execute_result",
          "data": {
            "text/plain": [
              "county\n",
              "Nyamira     0.06\n",
              "Vihiga      0.10\n",
              "Homa Bay    0.11\n",
              "Name: percent_using_other, dtype: float64"
            ]
          },
          "metadata": {
            "tags": []
          },
          "execution_count": 289
        }
      ]
    },
    {
      "cell_type": "markdown",
      "metadata": {
        "id": "ugi7EHu65vwP"
      },
      "source": [
        "### Comparison between renewable energy 2011 with World Bank"
      ]
    },
    {
      "cell_type": "code",
      "metadata": {
        "colab": {
          "base_uri": "https://localhost:8080/"
        },
        "id": "wcM7jWHkzZps",
        "outputId": "3f266b4d-2d63-43e1-9cbb-6ec6f6458185"
      },
      "source": [
        "#Electricity connectivity 2011 in %\n",
        "Electricity_total = (Energy_2011['no_of_households_with_electricity'].sum() + Energy_2011['no_of_households_with_solar'].sum()) / Energy_2011['households'].sum()\n",
        "e2011 = round(Electricity_total * 100, 2)\n",
        "e2011\n",
        "#but World Bank showed 29% access in 2011\n",
        "\n",
        "e2011 == Electricity_access.iloc[21, 2:]"
      ],
      "execution_count": null,
      "outputs": [
        {
          "output_type": "execute_result",
          "data": {
            "text/plain": [
              "percent_access_to_electricity    False\n",
              "Name: 21, dtype: bool"
            ]
          },
          "metadata": {
            "tags": []
          },
          "execution_count": 290
        }
      ]
    },
    {
      "cell_type": "code",
      "metadata": {
        "colab": {
          "base_uri": "https://localhost:8080/"
        },
        "id": "Wp2CIBuvuAfo",
        "outputId": "ba91ef91-9613-4e15-ff95-b5855aabbcf6"
      },
      "source": [
        "# Check if 2011 solar adds up to 0.305242% as reported by World Bank\n",
        "Solar = Energy_2011['no_of_households_with_solar'].sum() / (Energy_2011['no_of_households_with_electricity'].sum() + Energy_2011['no_of_households_with_solar'].sum())\n",
        "Solar_percentage = Solar * 100\n",
        "round(Solar_percentage,2)\n",
        "\n",
        "# Value shows that the World Bank solar percentage is lower than the 2011 dataset from Open Data."
      ],
      "execution_count": null,
      "outputs": [
        {
          "output_type": "execute_result",
          "data": {
            "text/plain": [
              "6.67"
            ]
          },
          "metadata": {
            "tags": []
          },
          "execution_count": 352
        }
      ]
    },
    {
      "cell_type": "code",
      "metadata": {
        "colab": {
          "base_uri": "https://localhost:8080/"
        },
        "id": "ryfmpg06uPSd",
        "outputId": "ec368245-4730-4c2b-8a7a-b38a2a1484e9"
      },
      "source": [
        "# Check if 2011 electricity percentage matches hydro as reported by World Bank\n",
        "Electricity = Energy_2011['no_of_households_with_electricity'].sum() / (Energy_2011['no_of_households_with_electricity'].sum() + Energy_2011['no_of_households_with_solar'].sum())\n",
        "Elec_percentage = round(Electricity * 100,2)\n",
        "Elec_percentage\n"
      ],
      "execution_count": null,
      "outputs": [
        {
          "output_type": "execute_result",
          "data": {
            "text/plain": [
              "93.33"
            ]
          },
          "metadata": {
            "tags": []
          },
          "execution_count": 353
        }
      ]
    },
    {
      "cell_type": "markdown",
      "metadata": {
        "id": "WxUmZ0RjYrYo"
      },
      "source": [
        "## WORLD BANK DATASETS"
      ]
    },
    {
      "cell_type": "markdown",
      "metadata": {
        "id": "43OlJDzHZCxl"
      },
      "source": [
        "### Observe share of the population with access to electricity over the years (trend)\n"
      ]
    },
    {
      "cell_type": "code",
      "metadata": {
        "colab": {
          "base_uri": "https://localhost:8080/",
          "height": 350
        },
        "id": "MujFqhriZIUv",
        "outputId": "48da1203-b0de-425b-c44f-f5b201dc8243"
      },
      "source": [
        "#population with electricity over the years\n",
        "Electricity_access.head()\n",
        "\n",
        "Electricity_access.plot(x='year', y='percent_access_to_electricity',figsize= (10,5), label ='Access to Electricity')\n",
        "plt.title('Proportion of Kenyan Population with Access to Electricity')\n",
        "plt.xlabel('YEAR')\n",
        "plt.ylabel('Population with Access to Electricity(%)')\n",
        "plt.show()\n",
        "\n",
        "##possible recommendations: try and explain reason for dips using secondary sources of data\n"
      ],
      "execution_count": null,
      "outputs": [
        {
          "output_type": "display_data",
          "data": {
            "image/png": "[encoded data removed]",
            "text/plain": [
              "<Figure size 720x360 with 1 Axes>"
            ]
          },
          "metadata": {
            "tags": [],
            "needs_background": "light"
          }
        }
      ]
    },
    {
      "cell_type": "markdown",
      "metadata": {
        "id": "X3YTNIbhZKMu"
      },
      "source": [
        "### Observe share of electricity by source over the years (trend)"
      ]
    },
    {
      "cell_type": "code",
      "metadata": {
        "colab": {
          "base_uri": "https://localhost:8080/",
          "height": 404
        },
        "id": "XUkk2lM9ZO3E",
        "outputId": "38328b56-7ee1-470b-e2a8-9a63dfea2435"
      },
      "source": [
        "#share of electricity by source over the years\n",
        "Source.head()\n",
        "\n",
        "#defining what to plot and how to do it\n",
        "plt.figure(figsize= (12,6))\n",
        "plt.plot(Source['year'], Source['coal_percent_of_electricity'],'r', label='Coal')\n",
        "plt.plot(Source['year'], Source['oil_percent_of_electricity'], 'b', label='Oil')\n",
        "plt.plot(Source['year'], Source['hydro_percent_of_electricity'], 'g', label='Hydro')\n",
        "plt.plot(Source['year'], Source['gas_percent_of_electricity'], 'c', label= 'Gas')\n",
        "plt.plot(Source['year'], Source['nuclear_percent_of_electricity'], 'm', label='Nuclear')\n",
        "plt.plot(Source['year'], Source['solar_percent_of_electricity'], 'y', label='Solar')\n",
        "plt.plot(Source['year'], Source['wind_percent_of_electricity'], 'k', label='Wind')\n",
        "plt.plot(Source['year'], Source['other_renewables_percent_of_electricity'], '0.6', label='Other Renewables')\n",
        "\n",
        "\n",
        "#plotting all the types onto the same plot for comparison\n",
        "plt.title('Proportion of Energy Type Sources for Electricity Used in Kenya')\n",
        "plt.xlabel('YEAR')\n",
        "plt.ylabel('Percentage Source Type of Electricity(%)')\n",
        "plt.xticks(np.arange(min(Source['year']), max(Source['year']), 2.0))\n",
        "plt.legend()\n",
        "plt.show()\n",
        "\n"
      ],
      "execution_count": null,
      "outputs": [
        {
          "output_type": "display_data",
          "data": {
            "image/png": "[encoded data removed]",
            "text/plain": [
              "<Figure size 864x432 with 1 Axes>"
            ]
          },
          "metadata": {
            "tags": [],
            "needs_background": "light"
          }
        }
      ]
    },
    {
      "cell_type": "markdown",
      "metadata": {
        "id": "2JyZPbjPZPsd"
      },
      "source": [
        "### Observe share of electricity with fossil fuels over the years (trend)"
      ]
    },
    {
      "cell_type": "code",
      "metadata": {
        "colab": {
          "base_uri": "https://localhost:8080/",
          "height": 350
        },
        "id": "vrMg64HCuYNG",
        "outputId": "dab12810-73e8-4569-c4ac-80dd391ae0d6"
      },
      "source": [
        "#Fossil fuel usage will be the sum of all carbon sourced energy forms\n",
        "#creating a column to reflect that\n",
        "#Nuclear energy was not included as a fossil fuel\n",
        "Source['fossil_percent_of_electricity'] = Source['coal_percent_of_electricity'] + Source['oil_percent_of_electricity'] + Source['gas_percent_of_electricity']\n",
        "Source.head()\n",
        "\n",
        "#plotting the share of fossil fuel over the years\n",
        "Source.plot(x='year', y='fossil_percent_of_electricity',figsize= (10,5), label= 'Fossil')\n",
        "plt.title('Proportion of Fossil Fuel as Electricity Source in Kenya')\n",
        "plt.xlabel('Years')\n",
        "plt.ylabel('Fossil Fuel as Electricity Source(%)')\n",
        "plt.xticks(np.arange(min(Source['year']), max(Source['year']), 2.0))\n",
        "plt.show()\n"
      ],
      "execution_count": null,
      "outputs": [
        {
          "output_type": "display_data",
          "data": {
            "image/png": "[encoded data removed]",
            "text/plain": [
              "<Figure size 720x360 with 1 Axes>"
            ]
          },
          "metadata": {
            "tags": [],
            "needs_background": "light"
          }
        }
      ]
    },
    {
      "cell_type": "markdown",
      "metadata": {
        "id": "i55z1lvIZUUX"
      },
      "source": [
        "### Observe trend of carbon emissions over the years\n"
      ]
    },
    {
      "cell_type": "code",
      "metadata": {
        "id": "jv8H0bWqxlpP"
      },
      "source": [
        "#The trend of Carbon Emissions can be tracked by the trend of the use of fossil fuel as shown above/previous cell."
      ],
      "execution_count": null,
      "outputs": []
    },
    {
      "cell_type": "markdown",
      "metadata": {
        "id": "Ajr3xGGNZZLd"
      },
      "source": [
        "### Observe share of electricity with renewable energy over the years (trend)\n"
      ]
    },
    {
      "cell_type": "code",
      "metadata": {
        "colab": {
          "base_uri": "https://localhost:8080/",
          "height": 350
        },
        "id": "8WpchpN9Zcs3",
        "outputId": "e7306dc5-6e18-4927-d969-fd2f1b888dbb"
      },
      "source": [
        "#Renewables usage\n",
        "#plotting the share of renewables over the years\n",
        "Source.plot(x='year', y='percent_total_renewables',figsize= (10,5), label = 'Renewables')\n",
        "plt.title('Proportion of Renewables as Electricity Source in Kenya')\n",
        "plt.xlabel('Years')\n",
        "plt.ylabel('Renewables as Electricity Source(%)')\n",
        "plt.xticks(np.arange(min(Source['year']), max(Source['year']), 2.0))\n",
        "plt.show()\n"
      ],
      "execution_count": null,
      "outputs": [
        {
          "output_type": "display_data",
          "data": {
            "image/png": "[encoded data removed]",
            "text/plain": [
              "<Figure size 720x360 with 1 Axes>"
            ]
          },
          "metadata": {
            "tags": [],
            "needs_background": "light"
          }
        }
      ]
    },
    {
      "cell_type": "markdown",
      "metadata": {
        "id": "vyf3aPh_Zdjn"
      },
      "source": [
        "### Comparison of electricity with renewable vs fossil fuel"
      ]
    },
    {
      "cell_type": "code",
      "metadata": {
        "colab": {
          "base_uri": "https://localhost:8080/",
          "height": 350
        },
        "id": "1SCd4wzlZigJ",
        "outputId": "2016f055-46f2-4521-e125-de7982d73b5c"
      },
      "source": [
        "#plotting both together to view the trends simultaneously over the years\n",
        "#defining what to plot and how to do it\n",
        "plt.figure(figsize= (10,5))\n",
        "plt.plot(Source['year'], Source['fossil_percent_of_electricity'],'r', label='Fossil')\n",
        "plt.plot(Source['year'], Source['percent_total_renewables'], 'g', label='Renewables')\n",
        "\n",
        "\n",
        "#plotting both types onto the same plot for comparison\n",
        "plt.title('Proportion of Fossil Vs Renewable Energy as Electricity Sources Used in Kenya')\n",
        "plt.xlabel('YEAR')\n",
        "plt.ylabel('Source of Electricity(%)')\n",
        "plt.xticks(np.arange(min(Source['year']), max(Source['year']), 2.0))\n",
        "plt.legend()\n",
        "plt.show()\n"
      ],
      "execution_count": null,
      "outputs": [
        {
          "output_type": "display_data",
          "data": {
            "image/png": "[encoded data removed]",
            "text/plain": [
              "<Figure size 720x360 with 1 Axes>"
            ]
          },
          "metadata": {
            "tags": [],
            "needs_background": "light"
          }
        }
      ]
    },
    {
      "cell_type": "markdown",
      "metadata": {
        "id": "YYq3emv_BLPS"
      },
      "source": [
        "# DATA ANALYSIS 2"
      ]
    },
    {
      "cell_type": "markdown",
      "metadata": {
        "id": "aJjhp8dhBVzS"
      },
      "source": [
        "## The most common source of energy for electricity"
      ]
    },
    {
      "cell_type": "code",
      "metadata": {
        "colab": {
          "base_uri": "https://localhost:8080/",
          "height": 204
        },
        "id": "7pY7A8eqBQmc",
        "outputId": "cdf76543-8525-487e-8409-2d42c0bf76a0"
      },
      "source": [
        "# Let's load the relevant global datasets here\n",
        "\n",
        "Global_source = pd.read_csv('share-elec-by-source.csv')\n",
        "Global_source.head()"
      ],
      "execution_count": null,
      "outputs": [
        {
          "output_type": "execute_result",
          "data": {
            "text/html": [
              "<div>\n",
              "<style scoped>\n",
              "    .dataframe tbody tr th:only-of-type {\n",
              "        vertical-align: middle;\n",
              "    }\n",
              "\n",
              "    .dataframe tbody tr th {\n",
              "        vertical-align: top;\n",
              "    }\n",
              "\n",
              "    .dataframe thead th {\n",
              "        text-align: right;\n",
              "    }\n",
              "</style>\n",
              "<table border=\"1\" class=\"dataframe\">\n",
              "  <thead>\n",
              "    <tr style=\"text-align: right;\">\n",
              "      <th></th>\n",
              "      <th>Entity</th>\n",
              "      <th>Code</th>\n",
              "      <th>Year</th>\n",
              "      <th>Coal (% electricity)</th>\n",
              "      <th>Oil (% electricity)</th>\n",
              "      <th>Gas (% electricity)</th>\n",
              "      <th>Nuclear (% electricity)</th>\n",
              "      <th>Solar (% electricity)</th>\n",
              "      <th>Wind (% electricity)</th>\n",
              "      <th>Hydro (% electricity)</th>\n",
              "      <th>Other renewables (% electricity)</th>\n",
              "    </tr>\n",
              "  </thead>\n",
              "  <tbody>\n",
              "    <tr>\n",
              "      <th>0</th>\n",
              "      <td>Afghanistan</td>\n",
              "      <td>AFG</td>\n",
              "      <td>2000</td>\n",
              "      <td>0.0</td>\n",
              "      <td>0.0</td>\n",
              "      <td>33.190578</td>\n",
              "      <td>0.0</td>\n",
              "      <td>0.0</td>\n",
              "      <td>0.0</td>\n",
              "      <td>66.809422</td>\n",
              "      <td>0.0</td>\n",
              "    </tr>\n",
              "    <tr>\n",
              "      <th>1</th>\n",
              "      <td>Afghanistan</td>\n",
              "      <td>AFG</td>\n",
              "      <td>2001</td>\n",
              "      <td>0.0</td>\n",
              "      <td>0.0</td>\n",
              "      <td>15.878378</td>\n",
              "      <td>0.0</td>\n",
              "      <td>0.0</td>\n",
              "      <td>0.0</td>\n",
              "      <td>84.121622</td>\n",
              "      <td>0.0</td>\n",
              "    </tr>\n",
              "    <tr>\n",
              "      <th>2</th>\n",
              "      <td>Afghanistan</td>\n",
              "      <td>AFG</td>\n",
              "      <td>2002</td>\n",
              "      <td>0.0</td>\n",
              "      <td>0.0</td>\n",
              "      <td>19.213974</td>\n",
              "      <td>0.0</td>\n",
              "      <td>0.0</td>\n",
              "      <td>0.0</td>\n",
              "      <td>80.786026</td>\n",
              "      <td>0.0</td>\n",
              "    </tr>\n",
              "    <tr>\n",
              "      <th>3</th>\n",
              "      <td>Afghanistan</td>\n",
              "      <td>AFG</td>\n",
              "      <td>2003</td>\n",
              "      <td>0.0</td>\n",
              "      <td>0.0</td>\n",
              "      <td>32.907348</td>\n",
              "      <td>0.0</td>\n",
              "      <td>0.0</td>\n",
              "      <td>0.0</td>\n",
              "      <td>67.092652</td>\n",
              "      <td>0.0</td>\n",
              "    </tr>\n",
              "    <tr>\n",
              "      <th>4</th>\n",
              "      <td>Afghanistan</td>\n",
              "      <td>AFG</td>\n",
              "      <td>2004</td>\n",
              "      <td>0.0</td>\n",
              "      <td>0.0</td>\n",
              "      <td>36.800895</td>\n",
              "      <td>0.0</td>\n",
              "      <td>0.0</td>\n",
              "      <td>0.0</td>\n",
              "      <td>63.199105</td>\n",
              "      <td>0.0</td>\n",
              "    </tr>\n",
              "  </tbody>\n",
              "</table>\n",
              "</div>"
            ],
            "text/plain": [
              "        Entity Code  ...  Hydro (% electricity)  Other renewables (% electricity)\n",
              "0  Afghanistan  AFG  ...              66.809422                               0.0\n",
              "1  Afghanistan  AFG  ...              84.121622                               0.0\n",
              "2  Afghanistan  AFG  ...              80.786026                               0.0\n",
              "3  Afghanistan  AFG  ...              67.092652                               0.0\n",
              "4  Afghanistan  AFG  ...              63.199105                               0.0\n",
              "\n",
              "[5 rows x 11 columns]"
            ]
          },
          "metadata": {
            "tags": []
          },
          "execution_count": 303
        }
      ]
    },
    {
      "cell_type": "code",
      "metadata": {
        "colab": {
          "base_uri": "https://localhost:8080/",
          "height": 204
        },
        "id": "uEFyd1YOBh1T",
        "outputId": "3a88ba54-bda8-47d1-d15c-14d54f2add22"
      },
      "source": [
        "Global_renewables = pd.read_csv('share-electricity-renewables.csv')\n",
        "Global_renewables.head()"
      ],
      "execution_count": null,
      "outputs": [
        {
          "output_type": "execute_result",
          "data": {
            "text/html": [
              "<div>\n",
              "<style scoped>\n",
              "    .dataframe tbody tr th:only-of-type {\n",
              "        vertical-align: middle;\n",
              "    }\n",
              "\n",
              "    .dataframe tbody tr th {\n",
              "        vertical-align: top;\n",
              "    }\n",
              "\n",
              "    .dataframe thead th {\n",
              "        text-align: right;\n",
              "    }\n",
              "</style>\n",
              "<table border=\"1\" class=\"dataframe\">\n",
              "  <thead>\n",
              "    <tr style=\"text-align: right;\">\n",
              "      <th></th>\n",
              "      <th>Entity</th>\n",
              "      <th>Code</th>\n",
              "      <th>Year</th>\n",
              "      <th>Renewables (% electricity)</th>\n",
              "    </tr>\n",
              "  </thead>\n",
              "  <tbody>\n",
              "    <tr>\n",
              "      <th>0</th>\n",
              "      <td>Afghanistan</td>\n",
              "      <td>AFG</td>\n",
              "      <td>2000</td>\n",
              "      <td>66.809422</td>\n",
              "    </tr>\n",
              "    <tr>\n",
              "      <th>1</th>\n",
              "      <td>Afghanistan</td>\n",
              "      <td>AFG</td>\n",
              "      <td>2001</td>\n",
              "      <td>84.121622</td>\n",
              "    </tr>\n",
              "    <tr>\n",
              "      <th>2</th>\n",
              "      <td>Afghanistan</td>\n",
              "      <td>AFG</td>\n",
              "      <td>2002</td>\n",
              "      <td>80.786026</td>\n",
              "    </tr>\n",
              "    <tr>\n",
              "      <th>3</th>\n",
              "      <td>Afghanistan</td>\n",
              "      <td>AFG</td>\n",
              "      <td>2003</td>\n",
              "      <td>67.092652</td>\n",
              "    </tr>\n",
              "    <tr>\n",
              "      <th>4</th>\n",
              "      <td>Afghanistan</td>\n",
              "      <td>AFG</td>\n",
              "      <td>2004</td>\n",
              "      <td>63.199105</td>\n",
              "    </tr>\n",
              "  </tbody>\n",
              "</table>\n",
              "</div>"
            ],
            "text/plain": [
              "        Entity Code  Year  Renewables (% electricity)\n",
              "0  Afghanistan  AFG  2000                   66.809422\n",
              "1  Afghanistan  AFG  2001                   84.121622\n",
              "2  Afghanistan  AFG  2002                   80.786026\n",
              "3  Afghanistan  AFG  2003                   67.092652\n",
              "4  Afghanistan  AFG  2004                   63.199105"
            ]
          },
          "metadata": {
            "tags": []
          },
          "execution_count": 304
        }
      ]
    },
    {
      "cell_type": "code",
      "metadata": {
        "colab": {
          "base_uri": "https://localhost:8080/",
          "height": 204
        },
        "id": "sw4ezo7qBmeC",
        "outputId": "c65e0769-251f-4e76-8c76-b7908fdd8c82"
      },
      "source": [
        "# Let's merge the 2 datasets as we had analysed them earlier and found them compatible\n",
        "\n",
        "Global_source['percent_Renewables_Total'] = Global_renewables['Renewables (% electricity)']\n",
        "Global_source.head()"
      ],
      "execution_count": null,
      "outputs": [
        {
          "output_type": "execute_result",
          "data": {
            "text/html": [
              "<div>\n",
              "<style scoped>\n",
              "    .dataframe tbody tr th:only-of-type {\n",
              "        vertical-align: middle;\n",
              "    }\n",
              "\n",
              "    .dataframe tbody tr th {\n",
              "        vertical-align: top;\n",
              "    }\n",
              "\n",
              "    .dataframe thead th {\n",
              "        text-align: right;\n",
              "    }\n",
              "</style>\n",
              "<table border=\"1\" class=\"dataframe\">\n",
              "  <thead>\n",
              "    <tr style=\"text-align: right;\">\n",
              "      <th></th>\n",
              "      <th>Entity</th>\n",
              "      <th>Code</th>\n",
              "      <th>Year</th>\n",
              "      <th>Coal (% electricity)</th>\n",
              "      <th>Oil (% electricity)</th>\n",
              "      <th>Gas (% electricity)</th>\n",
              "      <th>Nuclear (% electricity)</th>\n",
              "      <th>Solar (% electricity)</th>\n",
              "      <th>Wind (% electricity)</th>\n",
              "      <th>Hydro (% electricity)</th>\n",
              "      <th>Other renewables (% electricity)</th>\n",
              "      <th>percent_Renewables_Total</th>\n",
              "    </tr>\n",
              "  </thead>\n",
              "  <tbody>\n",
              "    <tr>\n",
              "      <th>0</th>\n",
              "      <td>Afghanistan</td>\n",
              "      <td>AFG</td>\n",
              "      <td>2000</td>\n",
              "      <td>0.0</td>\n",
              "      <td>0.0</td>\n",
              "      <td>33.190578</td>\n",
              "      <td>0.0</td>\n",
              "      <td>0.0</td>\n",
              "      <td>0.0</td>\n",
              "      <td>66.809422</td>\n",
              "      <td>0.0</td>\n",
              "      <td>66.809422</td>\n",
              "    </tr>\n",
              "    <tr>\n",
              "      <th>1</th>\n",
              "      <td>Afghanistan</td>\n",
              "      <td>AFG</td>\n",
              "      <td>2001</td>\n",
              "      <td>0.0</td>\n",
              "      <td>0.0</td>\n",
              "      <td>15.878378</td>\n",
              "      <td>0.0</td>\n",
              "      <td>0.0</td>\n",
              "      <td>0.0</td>\n",
              "      <td>84.121622</td>\n",
              "      <td>0.0</td>\n",
              "      <td>84.121622</td>\n",
              "    </tr>\n",
              "    <tr>\n",
              "      <th>2</th>\n",
              "      <td>Afghanistan</td>\n",
              "      <td>AFG</td>\n",
              "      <td>2002</td>\n",
              "      <td>0.0</td>\n",
              "      <td>0.0</td>\n",
              "      <td>19.213974</td>\n",
              "      <td>0.0</td>\n",
              "      <td>0.0</td>\n",
              "      <td>0.0</td>\n",
              "      <td>80.786026</td>\n",
              "      <td>0.0</td>\n",
              "      <td>80.786026</td>\n",
              "    </tr>\n",
              "    <tr>\n",
              "      <th>3</th>\n",
              "      <td>Afghanistan</td>\n",
              "      <td>AFG</td>\n",
              "      <td>2003</td>\n",
              "      <td>0.0</td>\n",
              "      <td>0.0</td>\n",
              "      <td>32.907348</td>\n",
              "      <td>0.0</td>\n",
              "      <td>0.0</td>\n",
              "      <td>0.0</td>\n",
              "      <td>67.092652</td>\n",
              "      <td>0.0</td>\n",
              "      <td>67.092652</td>\n",
              "    </tr>\n",
              "    <tr>\n",
              "      <th>4</th>\n",
              "      <td>Afghanistan</td>\n",
              "      <td>AFG</td>\n",
              "      <td>2004</td>\n",
              "      <td>0.0</td>\n",
              "      <td>0.0</td>\n",
              "      <td>36.800895</td>\n",
              "      <td>0.0</td>\n",
              "      <td>0.0</td>\n",
              "      <td>0.0</td>\n",
              "      <td>63.199105</td>\n",
              "      <td>0.0</td>\n",
              "      <td>63.199105</td>\n",
              "    </tr>\n",
              "  </tbody>\n",
              "</table>\n",
              "</div>"
            ],
            "text/plain": [
              "        Entity Code  ...  Other renewables (% electricity)  percent_Renewables_Total\n",
              "0  Afghanistan  AFG  ...                               0.0                 66.809422\n",
              "1  Afghanistan  AFG  ...                               0.0                 84.121622\n",
              "2  Afghanistan  AFG  ...                               0.0                 80.786026\n",
              "3  Afghanistan  AFG  ...                               0.0                 67.092652\n",
              "4  Afghanistan  AFG  ...                               0.0                 63.199105\n",
              "\n",
              "[5 rows x 12 columns]"
            ]
          },
          "metadata": {
            "tags": []
          },
          "execution_count": 305
        }
      ]
    },
    {
      "cell_type": "code",
      "metadata": {
        "colab": {
          "base_uri": "https://localhost:8080/",
          "height": 224
        },
        "id": "sGPBs63jBt36",
        "outputId": "ffdedf9b-e0a7-4ea5-ca38-d1769b3b0952"
      },
      "source": [
        "# Let's make the column titles consistent\n",
        "Global_source.columns = (['Entity', 'Code', 'Year', 'percent_coal_electricity', 'percent_oil_electricity', \n",
        "                          'percent_gas_electricity', 'percent_nuclear_electricity', 'percent_solar_electricity', \n",
        "                          'percent_wind_electricity', 'percent_hydro_electricity', 'percent_other_renewables', \n",
        "                          'percent_renewables_total'])\n",
        "\n",
        "Global_source.head()"
      ],
      "execution_count": null,
      "outputs": [
        {
          "output_type": "execute_result",
          "data": {
            "text/html": [
              "<div>\n",
              "<style scoped>\n",
              "    .dataframe tbody tr th:only-of-type {\n",
              "        vertical-align: middle;\n",
              "    }\n",
              "\n",
              "    .dataframe tbody tr th {\n",
              "        vertical-align: top;\n",
              "    }\n",
              "\n",
              "    .dataframe thead th {\n",
              "        text-align: right;\n",
              "    }\n",
              "</style>\n",
              "<table border=\"1\" class=\"dataframe\">\n",
              "  <thead>\n",
              "    <tr style=\"text-align: right;\">\n",
              "      <th></th>\n",
              "      <th>Entity</th>\n",
              "      <th>Code</th>\n",
              "      <th>Year</th>\n",
              "      <th>percent_coal_electricity</th>\n",
              "      <th>percent_oil_electricity</th>\n",
              "      <th>percent_gas_electricity</th>\n",
              "      <th>percent_nuclear_electricity</th>\n",
              "      <th>percent_solar_electricity</th>\n",
              "      <th>percent_wind_electricity</th>\n",
              "      <th>percent_hydro_electricity</th>\n",
              "      <th>percent_other_renewables</th>\n",
              "      <th>percent_renewables_total</th>\n",
              "    </tr>\n",
              "  </thead>\n",
              "  <tbody>\n",
              "    <tr>\n",
              "      <th>0</th>\n",
              "      <td>Afghanistan</td>\n",
              "      <td>AFG</td>\n",
              "      <td>2000</td>\n",
              "      <td>0.0</td>\n",
              "      <td>0.0</td>\n",
              "      <td>33.190578</td>\n",
              "      <td>0.0</td>\n",
              "      <td>0.0</td>\n",
              "      <td>0.0</td>\n",
              "      <td>66.809422</td>\n",
              "      <td>0.0</td>\n",
              "      <td>66.809422</td>\n",
              "    </tr>\n",
              "    <tr>\n",
              "      <th>1</th>\n",
              "      <td>Afghanistan</td>\n",
              "      <td>AFG</td>\n",
              "      <td>2001</td>\n",
              "      <td>0.0</td>\n",
              "      <td>0.0</td>\n",
              "      <td>15.878378</td>\n",
              "      <td>0.0</td>\n",
              "      <td>0.0</td>\n",
              "      <td>0.0</td>\n",
              "      <td>84.121622</td>\n",
              "      <td>0.0</td>\n",
              "      <td>84.121622</td>\n",
              "    </tr>\n",
              "    <tr>\n",
              "      <th>2</th>\n",
              "      <td>Afghanistan</td>\n",
              "      <td>AFG</td>\n",
              "      <td>2002</td>\n",
              "      <td>0.0</td>\n",
              "      <td>0.0</td>\n",
              "      <td>19.213974</td>\n",
              "      <td>0.0</td>\n",
              "      <td>0.0</td>\n",
              "      <td>0.0</td>\n",
              "      <td>80.786026</td>\n",
              "      <td>0.0</td>\n",
              "      <td>80.786026</td>\n",
              "    </tr>\n",
              "    <tr>\n",
              "      <th>3</th>\n",
              "      <td>Afghanistan</td>\n",
              "      <td>AFG</td>\n",
              "      <td>2003</td>\n",
              "      <td>0.0</td>\n",
              "      <td>0.0</td>\n",
              "      <td>32.907348</td>\n",
              "      <td>0.0</td>\n",
              "      <td>0.0</td>\n",
              "      <td>0.0</td>\n",
              "      <td>67.092652</td>\n",
              "      <td>0.0</td>\n",
              "      <td>67.092652</td>\n",
              "    </tr>\n",
              "    <tr>\n",
              "      <th>4</th>\n",
              "      <td>Afghanistan</td>\n",
              "      <td>AFG</td>\n",
              "      <td>2004</td>\n",
              "      <td>0.0</td>\n",
              "      <td>0.0</td>\n",
              "      <td>36.800895</td>\n",
              "      <td>0.0</td>\n",
              "      <td>0.0</td>\n",
              "      <td>0.0</td>\n",
              "      <td>63.199105</td>\n",
              "      <td>0.0</td>\n",
              "      <td>63.199105</td>\n",
              "    </tr>\n",
              "  </tbody>\n",
              "</table>\n",
              "</div>"
            ],
            "text/plain": [
              "        Entity Code  ...  percent_other_renewables  percent_renewables_total\n",
              "0  Afghanistan  AFG  ...                       0.0                 66.809422\n",
              "1  Afghanistan  AFG  ...                       0.0                 84.121622\n",
              "2  Afghanistan  AFG  ...                       0.0                 80.786026\n",
              "3  Afghanistan  AFG  ...                       0.0                 67.092652\n",
              "4  Afghanistan  AFG  ...                       0.0                 63.199105\n",
              "\n",
              "[5 rows x 12 columns]"
            ]
          },
          "metadata": {
            "tags": []
          },
          "execution_count": 306
        }
      ]
    },
    {
      "cell_type": "code",
      "metadata": {
        "colab": {
          "base_uri": "https://localhost:8080/"
        },
        "id": "8jt1NRgZB0JC",
        "outputId": "12b21d8c-1ebf-4ad7-bde0-04a9c23eaac4"
      },
      "source": [
        "# Using the 2019 data for all countries\n",
        "Most_Recent = Global_source[Global_source.Year == 2019]\n",
        "Most_Recent.Entity.unique()"
      ],
      "execution_count": null,
      "outputs": [
        {
          "output_type": "execute_result",
          "data": {
            "text/plain": [
              "array(['Afghanistan', 'Africa', 'Albania', 'Algeria', 'American Samoa',\n",
              "       'Angola', 'Antigua and Barbuda', 'Argentina', 'Armenia', 'Aruba',\n",
              "       'Australia', 'Austria', 'Azerbaijan', 'Bahamas', 'Bahrain',\n",
              "       'Bangladesh', 'Barbados', 'Belarus', 'Belgium', 'Belize', 'Benin',\n",
              "       'Bermuda', 'Bhutan', 'Bolivia', 'Bosnia and Herzegovina',\n",
              "       'Botswana', 'Brazil', 'British Virgin Islands', 'Brunei',\n",
              "       'Bulgaria', 'Burkina Faso', 'Burundi', 'Cambodia', 'Cameroon',\n",
              "       'Canada', 'Cape Verde', 'Cayman Islands',\n",
              "       'Central African Republic', 'Chad', 'Chile', 'China', 'Colombia',\n",
              "       'Comoros', 'Congo', 'Cook Islands', 'Costa Rica', \"Cote d'Ivoire\",\n",
              "       'Croatia', 'Cuba', 'Cyprus', 'Czech Republic',\n",
              "       'Democratic Republic of Congo', 'Denmark', 'Djibouti', 'Dominica',\n",
              "       'Dominican Republic', 'Ecuador', 'Egypt', 'El Salvador',\n",
              "       'Equatorial Guinea', 'Eritrea', 'Estonia', 'Ethiopia', 'Europe',\n",
              "       'Falkland Islands', 'Fiji', 'Finland', 'France', 'French Guiana',\n",
              "       'French Polynesia', 'Gabon', 'Gambia', 'Georgia', 'Germany',\n",
              "       'Ghana', 'Gibraltar', 'Greece', 'Greenland', 'Grenada',\n",
              "       'Guadeloupe', 'Guam', 'Guatemala', 'Guinea', 'Guinea-Bissau',\n",
              "       'Guyana', 'Haiti', 'Honduras', 'Hong Kong', 'Hungary', 'Iceland',\n",
              "       'India', 'Indonesia', 'Iran', 'Iraq', 'Ireland', 'Israel', 'Italy',\n",
              "       'Jamaica', 'Japan', 'Jordan', 'Kazakhstan', 'Kenya', 'Kiribati',\n",
              "       'Kuwait', 'Kyrgyzstan', 'Laos', 'Latvia', 'Lebanon', 'Lesotho',\n",
              "       'Liberia', 'Libya', 'Lithuania', 'Luxembourg', 'Macedonia',\n",
              "       'Madagascar', 'Malawi', 'Malaysia', 'Maldives', 'Mali', 'Malta',\n",
              "       'Martinique', 'Mauritania', 'Mauritius', 'Mexico', 'Moldova',\n",
              "       'Mongolia', 'Montenegro', 'Montserrat', 'Morocco', 'Mozambique',\n",
              "       'Myanmar', 'Namibia', 'Nauru', 'Nepal', 'Netherlands',\n",
              "       'New Caledonia', 'New Zealand', 'Nicaragua', 'Niger', 'Nigeria',\n",
              "       'North America', 'North Korea', 'Norway', 'Oman', 'Pakistan',\n",
              "       'Palestine', 'Panama', 'Papua New Guinea', 'Paraguay', 'Peru',\n",
              "       'Philippines', 'Poland', 'Portugal', 'Puerto Rico', 'Qatar',\n",
              "       'Reunion', 'Romania', 'Russia', 'Rwanda', 'Saint Helena',\n",
              "       'Saint Kitts and Nevis', 'Saint Lucia',\n",
              "       'Saint Pierre and Miquelon', 'Saint Vincent and the Grenadines',\n",
              "       'Samoa', 'Sao Tome and Principe', 'Saudi Arabia', 'Senegal',\n",
              "       'Serbia', 'Seychelles', 'Sierra Leone', 'Singapore', 'Slovakia',\n",
              "       'Slovenia', 'Solomon Islands', 'Somalia', 'South Africa',\n",
              "       'South Korea', 'South Sudan', 'Spain', 'Sri Lanka', 'Sudan',\n",
              "       'Suriname', 'Swaziland', 'Sweden', 'Switzerland', 'Syria',\n",
              "       'Taiwan', 'Tajikistan', 'Tanzania', 'Thailand', 'Togo', 'Tonga',\n",
              "       'Trinidad and Tobago', 'Tunisia', 'Turkey', 'Turkmenistan',\n",
              "       'Turks and Caicos Islands', 'Uganda', 'Ukraine',\n",
              "       'United Arab Emirates', 'United Kingdom', 'United States',\n",
              "       'United States Virgin Islands', 'Uruguay', 'Uzbekistan', 'Vanuatu',\n",
              "       'Venezuela', 'Vietnam', 'World', 'Yemen', 'Zambia', 'Zimbabwe'],\n",
              "      dtype=object)"
            ]
          },
          "metadata": {
            "tags": []
          },
          "execution_count": 307
        }
      ]
    },
    {
      "cell_type": "code",
      "metadata": {
        "colab": {
          "base_uri": "https://localhost:8080/",
          "height": 297
        },
        "id": "v2SSQRGAB4Cq",
        "outputId": "f416aee0-a6a4-4e51-da70-5d40ac0c8037"
      },
      "source": [
        "# From the above we can see a World row, we'll ignore it and reintroduce it later to check validity of our results\n",
        "# We'll also remove the continents indicated i.e. Africa, Europe and North America.\n",
        "# Australia is both a country and continent, therefore, we'll leave it in when analysing countries\n",
        "Most_Recent_countries = (Most_Recent[(Most_Recent['Entity'] != 'World') & (Most_Recent['Entity'] != 'Africa') & \n",
        "                                     (Most_Recent['Entity'] != 'Europe')  & (Most_Recent['Entity'] != 'North America')\n",
        "                                     ].copy(deep=True))\n",
        "Most_Recent_countries_coal = (Most_Recent_countries.percent_coal_electricity.sum() / \n",
        "                              Most_Recent_countries.percent_coal_electricity.count())\n",
        "Most_Recent_countries_oil = (Most_Recent_countries.percent_oil_electricity.sum() /\n",
        "                             Most_Recent_countries.percent_oil_electricity.count())\n",
        "Most_Recent_countries_gas = (Most_Recent_countries.percent_gas_electricity.sum() / \n",
        "                             Most_Recent_countries.percent_gas_electricity.count())\n",
        "Most_Recent_countries_nuclear = (Most_Recent_countries.percent_nuclear_electricity.sum() / \n",
        "                                 Most_Recent_countries.percent_nuclear_electricity.count())\n",
        "Most_Recent_countries_solar = (Most_Recent_countries.percent_solar_electricity.sum() / \n",
        "                               Most_Recent_countries.percent_solar_electricity.count())\n",
        "Most_Recent_countries_wind = (Most_Recent_countries.percent_wind_electricity.sum() / \n",
        "                              Most_Recent_countries.percent_wind_electricity.count())\n",
        "Most_Recent_countries_hydro = (Most_Recent_countries.percent_hydro_electricity.sum() /\n",
        "                               Most_Recent_countries.percent_hydro_electricity.count())\n",
        "Most_Recent_countries_other_renewables = (Most_Recent_countries.percent_other_renewables.sum() / \n",
        "                                          Most_Recent_countries.percent_other_renewables.count())\n",
        "Most_Recent_countries_renewables_total = (Most_Recent_countries.percent_renewables_total.sum() / \n",
        "                                          Most_Recent_countries.percent_renewables_total.count())\n",
        "\n",
        "Usage_2019 = [Most_Recent_countries_coal,Most_Recent_countries_oil,Most_Recent_countries_gas,\n",
        "              Most_Recent_countries_nuclear,Most_Recent_countries_solar,Most_Recent_countries_wind,\n",
        "              Most_Recent_countries_hydro,Most_Recent_countries_other_renewables]\n",
        "              \n",
        "c = ['coal','oil','gas','nuclear','solar','wind','hydro','other_renewables']\n",
        "l = pd.DataFrame(Usage_2019,index = c)\n",
        "l\n",
        "# Below, we see the predominant source world-wide is oil, followed by hydro and finally gas.\n",
        "# The least contributors are solar, other renewables and wind"
      ],
      "execution_count": null,
      "outputs": [
        {
          "output_type": "execute_result",
          "data": {
            "text/html": [
              "<div>\n",
              "<style scoped>\n",
              "    .dataframe tbody tr th:only-of-type {\n",
              "        vertical-align: middle;\n",
              "    }\n",
              "\n",
              "    .dataframe tbody tr th {\n",
              "        vertical-align: top;\n",
              "    }\n",
              "\n",
              "    .dataframe thead th {\n",
              "        text-align: right;\n",
              "    }\n",
              "</style>\n",
              "<table border=\"1\" class=\"dataframe\">\n",
              "  <thead>\n",
              "    <tr style=\"text-align: right;\">\n",
              "      <th></th>\n",
              "      <th>0</th>\n",
              "    </tr>\n",
              "  </thead>\n",
              "  <tbody>\n",
              "    <tr>\n",
              "      <th>coal</th>\n",
              "      <td>10.785784</td>\n",
              "    </tr>\n",
              "    <tr>\n",
              "      <th>oil</th>\n",
              "      <td>31.802120</td>\n",
              "    </tr>\n",
              "    <tr>\n",
              "      <th>gas</th>\n",
              "      <td>19.548878</td>\n",
              "    </tr>\n",
              "    <tr>\n",
              "      <th>nuclear</th>\n",
              "      <td>3.431894</td>\n",
              "    </tr>\n",
              "    <tr>\n",
              "      <th>solar</th>\n",
              "      <td>1.740317</td>\n",
              "    </tr>\n",
              "    <tr>\n",
              "      <th>wind</th>\n",
              "      <td>3.304247</td>\n",
              "    </tr>\n",
              "    <tr>\n",
              "      <th>hydro</th>\n",
              "      <td>24.742447</td>\n",
              "    </tr>\n",
              "    <tr>\n",
              "      <th>other_renewables</th>\n",
              "      <td>3.220935</td>\n",
              "    </tr>\n",
              "  </tbody>\n",
              "</table>\n",
              "</div>"
            ],
            "text/plain": [
              "                          0\n",
              "coal              10.785784\n",
              "oil               31.802120\n",
              "gas               19.548878\n",
              "nuclear            3.431894\n",
              "solar              1.740317\n",
              "wind               3.304247\n",
              "hydro             24.742447\n",
              "other_renewables   3.220935"
            ]
          },
          "metadata": {
            "tags": []
          },
          "execution_count": 308
        }
      ]
    },
    {
      "cell_type": "code",
      "metadata": {
        "colab": {
          "base_uri": "https://localhost:8080/",
          "height": 351
        },
        "id": "GaeYSX0TB9c6",
        "outputId": "f4836c59-43a2-46d0-9535-f2128111af27"
      },
      "source": [
        "#Plotting comparison\n",
        "plt.figure(figsize = (10, 5)) \n",
        "  \n",
        "# creating the bar plot \n",
        "plt.bar(c,Usage_2019,color ='maroon',  width = 0.5) \n",
        "  \n",
        "plt.xlabel(\"Source of Electricty\") \n",
        "plt.ylabel(\"Electricty(%)\") \n",
        "plt.title(\"Global Sources of Electricity in 2019\") \n",
        "plt.show() "
      ],
      "execution_count": null,
      "outputs": [
        {
          "output_type": "display_data",
          "data": {
            "image/png": "[encoded data removed]",
            "text/plain": [
              "<Figure size 720x360 with 1 Axes>"
            ]
          },
          "metadata": {
            "tags": [],
            "needs_background": "light"
          }
        }
      ]
    },
    {
      "cell_type": "code",
      "metadata": {
        "colab": {
          "base_uri": "https://localhost:8080/",
          "height": 351
        },
        "id": "kQCwt08YCCP7",
        "outputId": "a007f9bc-7bb7-4213-b864-87afe48883f6"
      },
      "source": [
        "# Now using the World row only, to verify the results above\n",
        "Most_Recent_World = Most_Recent[Most_Recent['Entity'] == 'World'].copy(deep=True)\n",
        "Most_Recent_World\n",
        "\n",
        "# There's a difference here that needs to be analyzed\n",
        "  \n",
        "# Iterating over each row to get the values \n",
        "for index, rows in Most_Recent_World.iterrows(): \n",
        "    # Creating a list for the current row \n",
        "    World_2019 = [rows.percent_coal_electricity, rows.percent_oil_electricity, rows.percent_gas_electricity, \n",
        "                 rows.percent_nuclear_electricity, rows.percent_solar_electricity, \n",
        "                 rows.percent_wind_electricity, rows.percent_hydro_electricity, rows.percent_other_renewables] \n",
        " \n",
        "Names = ['coal','oil','gas','nuclear','solar','wind','hydro','other_renewables']\n",
        "\n",
        "#Plotting comparison\n",
        "plt.figure(figsize = (10, 5)) \n",
        "  \n",
        "# creating the bar plot \n",
        "plt.bar(Names,World_2019,color ='maroon',  width = 0.5) \n",
        "  \n",
        "plt.xlabel(\"Source of Electricty\") \n",
        "plt.ylabel(\"Electricty(%)\") \n",
        "plt.title(\"World Row Sources of Electricity in 2019\") \n",
        "plt.show()"
      ],
      "execution_count": null,
      "outputs": [
        {
          "output_type": "display_data",
          "data": {
            "image/png": "[encoded data removed]",
            "text/plain": [
              "<Figure size 720x360 with 1 Axes>"
            ]
          },
          "metadata": {
            "tags": [],
            "needs_background": "light"
          }
        }
      ]
    },
    {
      "cell_type": "code",
      "metadata": {
        "colab": {
          "base_uri": "https://localhost:8080/",
          "height": 351
        },
        "id": "aGCh7UTgCMzJ",
        "outputId": "dfd1bc4a-0029-444b-8db6-517e0aaaa59f"
      },
      "source": [
        "# Africa only\n",
        "\n",
        "Most_Recent_Africa = Most_Recent[Most_Recent['Entity'] == 'Africa'].copy(deep=True)\n",
        "Most_Recent_Africa\n",
        "\n",
        "# Iterating over each row to get the values \n",
        "for index, rows in Most_Recent_Africa.iterrows(): \n",
        "    # Creating a list for the current row \n",
        "    Africa_list = [rows.percent_coal_electricity, rows.percent_oil_electricity, rows.percent_gas_electricity, \n",
        "                   rows.percent_nuclear_electricity, rows.percent_solar_electricity, \n",
        "                   rows.percent_wind_electricity, rows.percent_hydro_electricity, rows.percent_other_renewables] \n",
        "\n",
        "#Plotting comparison\n",
        "plt.figure(figsize = (10, 5)) \n",
        "  \n",
        "# creating the bar plot \n",
        "plt.bar(Names,Africa_list,color ='blue',  width = 0.5) \n",
        "  \n",
        "plt.xlabel(\"Source of Electricty\") \n",
        "plt.ylabel(\"Electricty(%)\") \n",
        "plt.title(\"Africa Sources of Electricity in 2019\") \n",
        "plt.show() "
      ],
      "execution_count": null,
      "outputs": [
        {
          "output_type": "display_data",
          "data": {
            "image/png": "[encoded data removed]",
            "text/plain": [
              "<Figure size 720x360 with 1 Axes>"
            ]
          },
          "metadata": {
            "tags": [],
            "needs_background": "light"
          }
        }
      ]
    },
    {
      "cell_type": "code",
      "metadata": {
        "colab": {
          "base_uri": "https://localhost:8080/",
          "height": 303
        },
        "id": "YXsA-PldCTKG",
        "outputId": "8444cbd5-8b5c-4e5c-f978-8c730a40472d"
      },
      "source": [
        "# East Africa only\n",
        "\n",
        "Most_Recent_EA = Most_Recent[(Most_Recent['Entity'] == 'Kenya') | (Most_Recent['Entity'] == 'Tanzania') | \n",
        "                             (Most_Recent['Entity'] == 'Uganda') | (Most_Recent['Entity'] == 'South Sudan') | \n",
        "                             (Most_Recent['Entity'] == 'Ethiopia') | (Most_Recent['Entity'] == 'Rwanda') | \n",
        "                             (Most_Recent['Entity'] == 'Burundi')].copy(deep=True)\n",
        "Most_Recent_EA"
      ],
      "execution_count": null,
      "outputs": [
        {
          "output_type": "execute_result",
          "data": {
            "text/html": [
              "<div>\n",
              "<style scoped>\n",
              "    .dataframe tbody tr th:only-of-type {\n",
              "        vertical-align: middle;\n",
              "    }\n",
              "\n",
              "    .dataframe tbody tr th {\n",
              "        vertical-align: top;\n",
              "    }\n",
              "\n",
              "    .dataframe thead th {\n",
              "        text-align: right;\n",
              "    }\n",
              "</style>\n",
              "<table border=\"1\" class=\"dataframe\">\n",
              "  <thead>\n",
              "    <tr style=\"text-align: right;\">\n",
              "      <th></th>\n",
              "      <th>Entity</th>\n",
              "      <th>Code</th>\n",
              "      <th>Year</th>\n",
              "      <th>percent_coal_electricity</th>\n",
              "      <th>percent_oil_electricity</th>\n",
              "      <th>percent_gas_electricity</th>\n",
              "      <th>percent_nuclear_electricity</th>\n",
              "      <th>percent_solar_electricity</th>\n",
              "      <th>percent_wind_electricity</th>\n",
              "      <th>percent_hydro_electricity</th>\n",
              "      <th>percent_other_renewables</th>\n",
              "      <th>percent_renewables_total</th>\n",
              "    </tr>\n",
              "  </thead>\n",
              "  <tbody>\n",
              "    <tr>\n",
              "      <th>804</th>\n",
              "      <td>Burundi</td>\n",
              "      <td>BDI</td>\n",
              "      <td>2019</td>\n",
              "      <td>0.0</td>\n",
              "      <td>7.507082</td>\n",
              "      <td>0.000000</td>\n",
              "      <td>0.0</td>\n",
              "      <td>3.824363</td>\n",
              "      <td>0.000000</td>\n",
              "      <td>85.552408</td>\n",
              "      <td>3.116147</td>\n",
              "      <td>92.492918</td>\n",
              "    </tr>\n",
              "    <tr>\n",
              "      <th>1584</th>\n",
              "      <td>Ethiopia</td>\n",
              "      <td>ETH</td>\n",
              "      <td>2019</td>\n",
              "      <td>0.0</td>\n",
              "      <td>0.026921</td>\n",
              "      <td>0.000000</td>\n",
              "      <td>0.0</td>\n",
              "      <td>0.157038</td>\n",
              "      <td>6.012298</td>\n",
              "      <td>93.619112</td>\n",
              "      <td>0.184631</td>\n",
              "      <td>99.973079</td>\n",
              "    </tr>\n",
              "    <tr>\n",
              "      <th>2619</th>\n",
              "      <td>Kenya</td>\n",
              "      <td>KEN</td>\n",
              "      <td>2019</td>\n",
              "      <td>0.0</td>\n",
              "      <td>19.252529</td>\n",
              "      <td>0.000000</td>\n",
              "      <td>0.0</td>\n",
              "      <td>2.228699</td>\n",
              "      <td>6.171781</td>\n",
              "      <td>25.564318</td>\n",
              "      <td>46.782673</td>\n",
              "      <td>80.747471</td>\n",
              "    </tr>\n",
              "    <tr>\n",
              "      <th>4081</th>\n",
              "      <td>Rwanda</td>\n",
              "      <td>RWA</td>\n",
              "      <td>2019</td>\n",
              "      <td>0.0</td>\n",
              "      <td>23.120257</td>\n",
              "      <td>30.586796</td>\n",
              "      <td>0.0</td>\n",
              "      <td>0.000000</td>\n",
              "      <td>0.000000</td>\n",
              "      <td>46.021700</td>\n",
              "      <td>0.271248</td>\n",
              "      <td>0.000000</td>\n",
              "    </tr>\n",
              "    <tr>\n",
              "      <th>4548</th>\n",
              "      <td>South Sudan</td>\n",
              "      <td>SSD</td>\n",
              "      <td>2019</td>\n",
              "      <td>0.0</td>\n",
              "      <td>99.331997</td>\n",
              "      <td>0.000000</td>\n",
              "      <td>0.0</td>\n",
              "      <td>0.668003</td>\n",
              "      <td>0.000000</td>\n",
              "      <td>0.000000</td>\n",
              "      <td>0.000000</td>\n",
              "      <td>18.128832</td>\n",
              "    </tr>\n",
              "    <tr>\n",
              "      <th>4843</th>\n",
              "      <td>Tanzania</td>\n",
              "      <td>TZA</td>\n",
              "      <td>2019</td>\n",
              "      <td>0.0</td>\n",
              "      <td>16.088243</td>\n",
              "      <td>53.654290</td>\n",
              "      <td>0.0</td>\n",
              "      <td>0.251287</td>\n",
              "      <td>0.000000</td>\n",
              "      <td>29.746653</td>\n",
              "      <td>0.259526</td>\n",
              "      <td>6.233824</td>\n",
              "    </tr>\n",
              "    <tr>\n",
              "      <th>5083</th>\n",
              "      <td>Uganda</td>\n",
              "      <td>UGA</td>\n",
              "      <td>2019</td>\n",
              "      <td>0.0</td>\n",
              "      <td>6.003160</td>\n",
              "      <td>0.000000</td>\n",
              "      <td>0.0</td>\n",
              "      <td>1.762701</td>\n",
              "      <td>0.000000</td>\n",
              "      <td>86.738172</td>\n",
              "      <td>5.495967</td>\n",
              "      <td>6.469959</td>\n",
              "    </tr>\n",
              "  </tbody>\n",
              "</table>\n",
              "</div>"
            ],
            "text/plain": [
              "           Entity Code  ...  percent_other_renewables  percent_renewables_total\n",
              "804       Burundi  BDI  ...                  3.116147                 92.492918\n",
              "1584     Ethiopia  ETH  ...                  0.184631                 99.973079\n",
              "2619        Kenya  KEN  ...                 46.782673                 80.747471\n",
              "4081       Rwanda  RWA  ...                  0.271248                  0.000000\n",
              "4548  South Sudan  SSD  ...                  0.000000                 18.128832\n",
              "4843     Tanzania  TZA  ...                  0.259526                  6.233824\n",
              "5083       Uganda  UGA  ...                  5.495967                  6.469959\n",
              "\n",
              "[7 rows x 12 columns]"
            ]
          },
          "metadata": {
            "tags": []
          },
          "execution_count": 312
        }
      ]
    },
    {
      "cell_type": "code",
      "metadata": {
        "colab": {
          "base_uri": "https://localhost:8080/",
          "height": 351
        },
        "id": "mw41VABTCY2q",
        "outputId": "8d89e700-2596-46d8-9b55-448a367a7f7d"
      },
      "source": [
        "Most_Recent_EA_coal = (Most_Recent_EA.percent_coal_electricity.sum() / \n",
        "                       Most_Recent_EA.percent_coal_electricity.count())\n",
        "Most_Recent_EA_oil = (Most_Recent_EA.percent_oil_electricity.sum() / \n",
        "                      Most_Recent_EA.percent_oil_electricity.count())\n",
        "Most_Recent_EA_gas = (Most_Recent_EA.percent_gas_electricity.sum() / \n",
        "                      Most_Recent_EA.percent_gas_electricity.count())\n",
        "Most_Recent_EA_nuclear = (Most_Recent_EA.percent_nuclear_electricity.sum() / \n",
        "                          Most_Recent_EA.percent_nuclear_electricity.count())\n",
        "Most_Recent_EA_solar = (Most_Recent_EA.percent_solar_electricity.sum() / \n",
        "                        Most_Recent_EA.percent_solar_electricity.count())\n",
        "Most_Recent_EA_wind = (Most_Recent_EA.percent_solar_electricity.sum() / \n",
        "                       Most_Recent_EA.percent_solar_electricity.count())\n",
        "Most_Recent_EA_hydro = (Most_Recent_EA.percent_hydro_electricity.sum() / \n",
        "                        Most_Recent_EA.percent_hydro_electricity.count())\n",
        "Most_Recent_EA_other_renewables = (Most_Recent_EA.percent_other_renewables.sum() /\n",
        "                                   Most_Recent_EA.percent_other_renewables.count())\n",
        "Most_Recent_EA_renewables_total = (Most_Recent_EA.percent_renewables_total.sum() / \n",
        "                                   Most_Recent_EA.percent_renewables_total.count())\n",
        "\n",
        "EA_Usage_2019 = [Most_Recent_EA_coal,Most_Recent_EA_oil,Most_Recent_EA_gas,Most_Recent_EA_nuclear,\n",
        "                 Most_Recent_EA_solar,Most_Recent_EA_wind,Most_Recent_EA_hydro,\n",
        "                 Most_Recent_EA_other_renewables]\n",
        "\n",
        "#Plotting comparison\n",
        "plt.figure(figsize = (10, 5)) \n",
        "  \n",
        "# creating the bar plot \n",
        "plt.bar(Names,EA_Usage_2019,color ='red',  width = 0.5) \n",
        "  \n",
        "plt.xlabel(\"Source of Electricty\") \n",
        "plt.ylabel(\"Electricty(%)\") \n",
        "plt.title(\"East African Sources of Electricity in 2019\") \n",
        "plt.show() "
      ],
      "execution_count": null,
      "outputs": [
        {
          "output_type": "display_data",
          "data": {
            "image/png": "[encoded data removed]",
            "text/plain": [
              "<Figure size 720x360 with 1 Axes>"
            ]
          },
          "metadata": {
            "tags": [],
            "needs_background": "light"
          }
        }
      ]
    },
    {
      "cell_type": "code",
      "metadata": {
        "colab": {
          "base_uri": "https://localhost:8080/",
          "height": 351
        },
        "id": "-1Av9i6KCedJ",
        "outputId": "0a9269de-8cdf-470b-f277-96bf52c88d80"
      },
      "source": [
        "# Kenya Only\n",
        "\n",
        "Most_Recent_Kenya = Most_Recent[Most_Recent['Entity'] == 'Kenya'].copy(deep= True)\n",
        "Most_Recent_Kenya\n",
        "\n",
        "for index, rows in Most_Recent_Kenya.iterrows(): \n",
        "    # Creating a list for the current row \n",
        "    Kenya_2019 = [rows.percent_coal_electricity, rows.percent_oil_electricity, rows.percent_gas_electricity, \n",
        "                  rows.percent_nuclear_electricity, rows.percent_solar_electricity, rows.percent_wind_electricity, \n",
        "                  rows.percent_hydro_electricity, rows.percent_other_renewables] \n",
        "\n",
        "#Plotting comparison\n",
        "plt.figure(figsize = (10, 5)) \n",
        "  \n",
        "# creating the bar plot \n",
        "plt.bar(Names,Kenya_2019,color ='blue',  width = 0.5) \n",
        "  \n",
        "plt.xlabel(\"Source of Electricty\") \n",
        "plt.ylabel(\"Electricty(%)\") \n",
        "plt.title(\"Kenya Sources of Electricity in 2019\") \n",
        "plt.show() "
      ],
      "execution_count": null,
      "outputs": [
        {
          "output_type": "display_data",
          "data": {
            "image/png": "[encoded data removed]",
            "text/plain": [
              "<Figure size 720x360 with 1 Axes>"
            ]
          },
          "metadata": {
            "tags": [],
            "needs_background": "light"
          }
        }
      ]
    },
    {
      "cell_type": "code",
      "metadata": {
        "colab": {
          "base_uri": "https://localhost:8080/",
          "height": 100
        },
        "id": "VtmMRPEGCj7m",
        "outputId": "9f96a081-c98d-4a74-fa05-5a41b3e94400"
      },
      "source": [
        "Most_Recent_Kenya['Fossil_Fuels_Total'] = (Most_Recent_Kenya.percent_coal_electricity + \n",
        "                                           Most_Recent_Kenya.percent_oil_electricity + \n",
        "                                           Most_Recent_Kenya.percent_gas_electricity)\n",
        "Most_Recent_Kenya"
      ],
      "execution_count": null,
      "outputs": [
        {
          "output_type": "execute_result",
          "data": {
            "text/html": [
              "<div>\n",
              "<style scoped>\n",
              "    .dataframe tbody tr th:only-of-type {\n",
              "        vertical-align: middle;\n",
              "    }\n",
              "\n",
              "    .dataframe tbody tr th {\n",
              "        vertical-align: top;\n",
              "    }\n",
              "\n",
              "    .dataframe thead th {\n",
              "        text-align: right;\n",
              "    }\n",
              "</style>\n",
              "<table border=\"1\" class=\"dataframe\">\n",
              "  <thead>\n",
              "    <tr style=\"text-align: right;\">\n",
              "      <th></th>\n",
              "      <th>Entity</th>\n",
              "      <th>Code</th>\n",
              "      <th>Year</th>\n",
              "      <th>percent_coal_electricity</th>\n",
              "      <th>percent_oil_electricity</th>\n",
              "      <th>percent_gas_electricity</th>\n",
              "      <th>percent_nuclear_electricity</th>\n",
              "      <th>percent_solar_electricity</th>\n",
              "      <th>percent_wind_electricity</th>\n",
              "      <th>percent_hydro_electricity</th>\n",
              "      <th>percent_other_renewables</th>\n",
              "      <th>percent_renewables_total</th>\n",
              "      <th>Fossil_Fuels_Total</th>\n",
              "    </tr>\n",
              "  </thead>\n",
              "  <tbody>\n",
              "    <tr>\n",
              "      <th>2619</th>\n",
              "      <td>Kenya</td>\n",
              "      <td>KEN</td>\n",
              "      <td>2019</td>\n",
              "      <td>0.0</td>\n",
              "      <td>19.252529</td>\n",
              "      <td>0.0</td>\n",
              "      <td>0.0</td>\n",
              "      <td>2.228699</td>\n",
              "      <td>6.171781</td>\n",
              "      <td>25.564318</td>\n",
              "      <td>46.782673</td>\n",
              "      <td>80.747471</td>\n",
              "      <td>19.252529</td>\n",
              "    </tr>\n",
              "  </tbody>\n",
              "</table>\n",
              "</div>"
            ],
            "text/plain": [
              "     Entity Code  ...  percent_renewables_total  Fossil_Fuels_Total\n",
              "2619  Kenya  KEN  ...                 80.747471           19.252529\n",
              "\n",
              "[1 rows x 13 columns]"
            ]
          },
          "metadata": {
            "tags": []
          },
          "execution_count": 315
        }
      ]
    },
    {
      "cell_type": "code",
      "metadata": {
        "colab": {
          "base_uri": "https://localhost:8080/",
          "height": 303
        },
        "id": "lgRH17l1CppJ",
        "outputId": "1f6f6d54-c224-49ea-c2b0-2420fa5cc744"
      },
      "source": [
        "Most_Recent_EA['Fossil_Fuels_Total'] = (Most_Recent_EA.percent_coal_electricity + \n",
        "                                        Most_Recent_EA.percent_oil_electricity + \n",
        "                                        Most_Recent_EA.percent_gas_electricity)\n",
        "Most_Recent_EA"
      ],
      "execution_count": null,
      "outputs": [
        {
          "output_type": "execute_result",
          "data": {
            "text/html": [
              "<div>\n",
              "<style scoped>\n",
              "    .dataframe tbody tr th:only-of-type {\n",
              "        vertical-align: middle;\n",
              "    }\n",
              "\n",
              "    .dataframe tbody tr th {\n",
              "        vertical-align: top;\n",
              "    }\n",
              "\n",
              "    .dataframe thead th {\n",
              "        text-align: right;\n",
              "    }\n",
              "</style>\n",
              "<table border=\"1\" class=\"dataframe\">\n",
              "  <thead>\n",
              "    <tr style=\"text-align: right;\">\n",
              "      <th></th>\n",
              "      <th>Entity</th>\n",
              "      <th>Code</th>\n",
              "      <th>Year</th>\n",
              "      <th>percent_coal_electricity</th>\n",
              "      <th>percent_oil_electricity</th>\n",
              "      <th>percent_gas_electricity</th>\n",
              "      <th>percent_nuclear_electricity</th>\n",
              "      <th>percent_solar_electricity</th>\n",
              "      <th>percent_wind_electricity</th>\n",
              "      <th>percent_hydro_electricity</th>\n",
              "      <th>percent_other_renewables</th>\n",
              "      <th>percent_renewables_total</th>\n",
              "      <th>Fossil_Fuels_Total</th>\n",
              "    </tr>\n",
              "  </thead>\n",
              "  <tbody>\n",
              "    <tr>\n",
              "      <th>804</th>\n",
              "      <td>Burundi</td>\n",
              "      <td>BDI</td>\n",
              "      <td>2019</td>\n",
              "      <td>0.0</td>\n",
              "      <td>7.507082</td>\n",
              "      <td>0.000000</td>\n",
              "      <td>0.0</td>\n",
              "      <td>3.824363</td>\n",
              "      <td>0.000000</td>\n",
              "      <td>85.552408</td>\n",
              "      <td>3.116147</td>\n",
              "      <td>92.492918</td>\n",
              "      <td>7.507082</td>\n",
              "    </tr>\n",
              "    <tr>\n",
              "      <th>1584</th>\n",
              "      <td>Ethiopia</td>\n",
              "      <td>ETH</td>\n",
              "      <td>2019</td>\n",
              "      <td>0.0</td>\n",
              "      <td>0.026921</td>\n",
              "      <td>0.000000</td>\n",
              "      <td>0.0</td>\n",
              "      <td>0.157038</td>\n",
              "      <td>6.012298</td>\n",
              "      <td>93.619112</td>\n",
              "      <td>0.184631</td>\n",
              "      <td>99.973079</td>\n",
              "      <td>0.026921</td>\n",
              "    </tr>\n",
              "    <tr>\n",
              "      <th>2619</th>\n",
              "      <td>Kenya</td>\n",
              "      <td>KEN</td>\n",
              "      <td>2019</td>\n",
              "      <td>0.0</td>\n",
              "      <td>19.252529</td>\n",
              "      <td>0.000000</td>\n",
              "      <td>0.0</td>\n",
              "      <td>2.228699</td>\n",
              "      <td>6.171781</td>\n",
              "      <td>25.564318</td>\n",
              "      <td>46.782673</td>\n",
              "      <td>80.747471</td>\n",
              "      <td>19.252529</td>\n",
              "    </tr>\n",
              "    <tr>\n",
              "      <th>4081</th>\n",
              "      <td>Rwanda</td>\n",
              "      <td>RWA</td>\n",
              "      <td>2019</td>\n",
              "      <td>0.0</td>\n",
              "      <td>23.120257</td>\n",
              "      <td>30.586796</td>\n",
              "      <td>0.0</td>\n",
              "      <td>0.000000</td>\n",
              "      <td>0.000000</td>\n",
              "      <td>46.021700</td>\n",
              "      <td>0.271248</td>\n",
              "      <td>0.000000</td>\n",
              "      <td>53.707052</td>\n",
              "    </tr>\n",
              "    <tr>\n",
              "      <th>4548</th>\n",
              "      <td>South Sudan</td>\n",
              "      <td>SSD</td>\n",
              "      <td>2019</td>\n",
              "      <td>0.0</td>\n",
              "      <td>99.331997</td>\n",
              "      <td>0.000000</td>\n",
              "      <td>0.0</td>\n",
              "      <td>0.668003</td>\n",
              "      <td>0.000000</td>\n",
              "      <td>0.000000</td>\n",
              "      <td>0.000000</td>\n",
              "      <td>18.128832</td>\n",
              "      <td>99.331997</td>\n",
              "    </tr>\n",
              "    <tr>\n",
              "      <th>4843</th>\n",
              "      <td>Tanzania</td>\n",
              "      <td>TZA</td>\n",
              "      <td>2019</td>\n",
              "      <td>0.0</td>\n",
              "      <td>16.088243</td>\n",
              "      <td>53.654290</td>\n",
              "      <td>0.0</td>\n",
              "      <td>0.251287</td>\n",
              "      <td>0.000000</td>\n",
              "      <td>29.746653</td>\n",
              "      <td>0.259526</td>\n",
              "      <td>6.233824</td>\n",
              "      <td>69.742533</td>\n",
              "    </tr>\n",
              "    <tr>\n",
              "      <th>5083</th>\n",
              "      <td>Uganda</td>\n",
              "      <td>UGA</td>\n",
              "      <td>2019</td>\n",
              "      <td>0.0</td>\n",
              "      <td>6.003160</td>\n",
              "      <td>0.000000</td>\n",
              "      <td>0.0</td>\n",
              "      <td>1.762701</td>\n",
              "      <td>0.000000</td>\n",
              "      <td>86.738172</td>\n",
              "      <td>5.495967</td>\n",
              "      <td>6.469959</td>\n",
              "      <td>6.003160</td>\n",
              "    </tr>\n",
              "  </tbody>\n",
              "</table>\n",
              "</div>"
            ],
            "text/plain": [
              "           Entity Code  ...  percent_renewables_total  Fossil_Fuels_Total\n",
              "804       Burundi  BDI  ...                 92.492918            7.507082\n",
              "1584     Ethiopia  ETH  ...                 99.973079            0.026921\n",
              "2619        Kenya  KEN  ...                 80.747471           19.252529\n",
              "4081       Rwanda  RWA  ...                  0.000000           53.707052\n",
              "4548  South Sudan  SSD  ...                 18.128832           99.331997\n",
              "4843     Tanzania  TZA  ...                  6.233824           69.742533\n",
              "5083       Uganda  UGA  ...                  6.469959            6.003160\n",
              "\n",
              "[7 rows x 13 columns]"
            ]
          },
          "metadata": {
            "tags": []
          },
          "execution_count": 316
        }
      ]
    },
    {
      "cell_type": "code",
      "metadata": {
        "colab": {
          "base_uri": "https://localhost:8080/",
          "height": 100
        },
        "id": "lObej16UCsje",
        "outputId": "ffb0603f-61bb-402e-afe8-5b38710ef330"
      },
      "source": [
        "Most_Recent_Africa['Fossil_Fuels_Total'] = (Most_Recent_Africa.percent_coal_electricity + \n",
        "                                            Most_Recent_Africa.percent_oil_electricity + \n",
        "                                            Most_Recent_Africa.percent_gas_electricity)\n",
        "Most_Recent_Africa"
      ],
      "execution_count": null,
      "outputs": [
        {
          "output_type": "execute_result",
          "data": {
            "text/html": [
              "<div>\n",
              "<style scoped>\n",
              "    .dataframe tbody tr th:only-of-type {\n",
              "        vertical-align: middle;\n",
              "    }\n",
              "\n",
              "    .dataframe tbody tr th {\n",
              "        vertical-align: top;\n",
              "    }\n",
              "\n",
              "    .dataframe thead th {\n",
              "        text-align: right;\n",
              "    }\n",
              "</style>\n",
              "<table border=\"1\" class=\"dataframe\">\n",
              "  <thead>\n",
              "    <tr style=\"text-align: right;\">\n",
              "      <th></th>\n",
              "      <th>Entity</th>\n",
              "      <th>Code</th>\n",
              "      <th>Year</th>\n",
              "      <th>percent_coal_electricity</th>\n",
              "      <th>percent_oil_electricity</th>\n",
              "      <th>percent_gas_electricity</th>\n",
              "      <th>percent_nuclear_electricity</th>\n",
              "      <th>percent_solar_electricity</th>\n",
              "      <th>percent_wind_electricity</th>\n",
              "      <th>percent_hydro_electricity</th>\n",
              "      <th>percent_other_renewables</th>\n",
              "      <th>percent_renewables_total</th>\n",
              "      <th>Fossil_Fuels_Total</th>\n",
              "    </tr>\n",
              "  </thead>\n",
              "  <tbody>\n",
              "    <tr>\n",
              "      <th>54</th>\n",
              "      <td>Africa</td>\n",
              "      <td>NaN</td>\n",
              "      <td>2019</td>\n",
              "      <td>29.140672</td>\n",
              "      <td>9.340683</td>\n",
              "      <td>39.129848</td>\n",
              "      <td>1.633608</td>\n",
              "      <td>2.227072</td>\n",
              "      <td>2.012165</td>\n",
              "      <td>15.254939</td>\n",
              "      <td>0.940599</td>\n",
              "      <td>20.434775</td>\n",
              "      <td>77.611203</td>\n",
              "    </tr>\n",
              "  </tbody>\n",
              "</table>\n",
              "</div>"
            ],
            "text/plain": [
              "    Entity Code  ...  percent_renewables_total  Fossil_Fuels_Total\n",
              "54  Africa  NaN  ...                 20.434775           77.611203\n",
              "\n",
              "[1 rows x 13 columns]"
            ]
          },
          "metadata": {
            "tags": []
          },
          "execution_count": 317
        }
      ]
    },
    {
      "cell_type": "code",
      "metadata": {
        "colab": {
          "base_uri": "https://localhost:8080/",
          "height": 100
        },
        "id": "0UAN84rOCwHV",
        "outputId": "6e6375a9-4e88-446b-cf76-59e17c869947"
      },
      "source": [
        "Most_Recent_World['Fossil_Fuels_Total'] = (Most_Recent_World.percent_coal_electricity + \n",
        "                                           Most_Recent_World.percent_oil_electricity + \n",
        "                                           Most_Recent_World.percent_gas_electricity)\n",
        "Most_Recent_World"
      ],
      "execution_count": null,
      "outputs": [
        {
          "output_type": "execute_result",
          "data": {
            "text/html": [
              "<div>\n",
              "<style scoped>\n",
              "    .dataframe tbody tr th:only-of-type {\n",
              "        vertical-align: middle;\n",
              "    }\n",
              "\n",
              "    .dataframe tbody tr th {\n",
              "        vertical-align: top;\n",
              "    }\n",
              "\n",
              "    .dataframe thead th {\n",
              "        text-align: right;\n",
              "    }\n",
              "</style>\n",
              "<table border=\"1\" class=\"dataframe\">\n",
              "  <thead>\n",
              "    <tr style=\"text-align: right;\">\n",
              "      <th></th>\n",
              "      <th>Entity</th>\n",
              "      <th>Code</th>\n",
              "      <th>Year</th>\n",
              "      <th>percent_coal_electricity</th>\n",
              "      <th>percent_oil_electricity</th>\n",
              "      <th>percent_gas_electricity</th>\n",
              "      <th>percent_nuclear_electricity</th>\n",
              "      <th>percent_solar_electricity</th>\n",
              "      <th>percent_wind_electricity</th>\n",
              "      <th>percent_hydro_electricity</th>\n",
              "      <th>percent_other_renewables</th>\n",
              "      <th>percent_renewables_total</th>\n",
              "      <th>Fossil_Fuels_Total</th>\n",
              "    </tr>\n",
              "  </thead>\n",
              "  <tbody>\n",
              "    <tr>\n",
              "      <th>5433</th>\n",
              "      <td>World</td>\n",
              "      <td>OWID_WRL</td>\n",
              "      <td>2019</td>\n",
              "      <td>36.379205</td>\n",
              "      <td>3.056305</td>\n",
              "      <td>23.321546</td>\n",
              "      <td>10.353626</td>\n",
              "      <td>2.681339</td>\n",
              "      <td>5.293975</td>\n",
              "      <td>15.635134</td>\n",
              "      <td>2.413699</td>\n",
              "      <td>5.375468</td>\n",
              "      <td>62.757056</td>\n",
              "    </tr>\n",
              "  </tbody>\n",
              "</table>\n",
              "</div>"
            ],
            "text/plain": [
              "     Entity      Code  ...  percent_renewables_total  Fossil_Fuels_Total\n",
              "5433  World  OWID_WRL  ...                  5.375468           62.757056\n",
              "\n",
              "[1 rows x 13 columns]"
            ]
          },
          "metadata": {
            "tags": []
          },
          "execution_count": 318
        }
      ]
    },
    {
      "cell_type": "code",
      "metadata": {
        "colab": {
          "base_uri": "https://localhost:8080/",
          "height": 241
        },
        "id": "qtzQrXxaCzVH",
        "outputId": "123a059f-bf75-4d4a-9830-7bbc5bf3d4f5"
      },
      "source": [
        "Most_Recent_countries['Fossil_Fuels_Total'] = (Most_Recent_countries.percent_coal_electricity + \n",
        "                                               Most_Recent_countries.percent_oil_electricity + \n",
        "                                               Most_Recent_countries.percent_gas_electricity)\n",
        "Most_Recent_countries.head()"
      ],
      "execution_count": null,
      "outputs": [
        {
          "output_type": "execute_result",
          "data": {
            "text/html": [
              "<div>\n",
              "<style scoped>\n",
              "    .dataframe tbody tr th:only-of-type {\n",
              "        vertical-align: middle;\n",
              "    }\n",
              "\n",
              "    .dataframe tbody tr th {\n",
              "        vertical-align: top;\n",
              "    }\n",
              "\n",
              "    .dataframe thead th {\n",
              "        text-align: right;\n",
              "    }\n",
              "</style>\n",
              "<table border=\"1\" class=\"dataframe\">\n",
              "  <thead>\n",
              "    <tr style=\"text-align: right;\">\n",
              "      <th></th>\n",
              "      <th>Entity</th>\n",
              "      <th>Code</th>\n",
              "      <th>Year</th>\n",
              "      <th>percent_coal_electricity</th>\n",
              "      <th>percent_oil_electricity</th>\n",
              "      <th>percent_gas_electricity</th>\n",
              "      <th>percent_nuclear_electricity</th>\n",
              "      <th>percent_solar_electricity</th>\n",
              "      <th>percent_wind_electricity</th>\n",
              "      <th>percent_hydro_electricity</th>\n",
              "      <th>percent_other_renewables</th>\n",
              "      <th>percent_renewables_total</th>\n",
              "      <th>Fossil_Fuels_Total</th>\n",
              "    </tr>\n",
              "  </thead>\n",
              "  <tbody>\n",
              "    <tr>\n",
              "      <th>19</th>\n",
              "      <td>Afghanistan</td>\n",
              "      <td>AFG</td>\n",
              "      <td>2019</td>\n",
              "      <td>0.0</td>\n",
              "      <td>0.000000</td>\n",
              "      <td>13.714286</td>\n",
              "      <td>0.0</td>\n",
              "      <td>2.883117</td>\n",
              "      <td>0.000000</td>\n",
              "      <td>83.402597</td>\n",
              "      <td>0.000000</td>\n",
              "      <td>86.285714</td>\n",
              "      <td>13.714286</td>\n",
              "    </tr>\n",
              "    <tr>\n",
              "      <th>74</th>\n",
              "      <td>Albania</td>\n",
              "      <td>ALB</td>\n",
              "      <td>2019</td>\n",
              "      <td>0.0</td>\n",
              "      <td>0.000000</td>\n",
              "      <td>0.000000</td>\n",
              "      <td>0.0</td>\n",
              "      <td>0.024882</td>\n",
              "      <td>0.000000</td>\n",
              "      <td>99.975118</td>\n",
              "      <td>0.000000</td>\n",
              "      <td>100.000000</td>\n",
              "      <td>0.000000</td>\n",
              "    </tr>\n",
              "    <tr>\n",
              "      <th>109</th>\n",
              "      <td>Algeria</td>\n",
              "      <td>DZA</td>\n",
              "      <td>2019</td>\n",
              "      <td>0.0</td>\n",
              "      <td>0.000000</td>\n",
              "      <td>89.835327</td>\n",
              "      <td>0.0</td>\n",
              "      <td>0.756904</td>\n",
              "      <td>0.012307</td>\n",
              "      <td>0.186457</td>\n",
              "      <td>0.000000</td>\n",
              "      <td>0.955669</td>\n",
              "      <td>89.835327</td>\n",
              "    </tr>\n",
              "    <tr>\n",
              "      <th>129</th>\n",
              "      <td>American Samoa</td>\n",
              "      <td>ASM</td>\n",
              "      <td>2019</td>\n",
              "      <td>0.0</td>\n",
              "      <td>100.000000</td>\n",
              "      <td>0.000000</td>\n",
              "      <td>0.0</td>\n",
              "      <td>0.000000</td>\n",
              "      <td>0.000000</td>\n",
              "      <td>0.000000</td>\n",
              "      <td>0.000000</td>\n",
              "      <td>0.000000</td>\n",
              "      <td>100.000000</td>\n",
              "    </tr>\n",
              "    <tr>\n",
              "      <th>149</th>\n",
              "      <td>Angola</td>\n",
              "      <td>AGO</td>\n",
              "      <td>2019</td>\n",
              "      <td>0.0</td>\n",
              "      <td>9.977819</td>\n",
              "      <td>11.929652</td>\n",
              "      <td>0.0</td>\n",
              "      <td>0.161701</td>\n",
              "      <td>0.000000</td>\n",
              "      <td>75.661027</td>\n",
              "      <td>2.269801</td>\n",
              "      <td>78.092529</td>\n",
              "      <td>21.907471</td>\n",
              "    </tr>\n",
              "  </tbody>\n",
              "</table>\n",
              "</div>"
            ],
            "text/plain": [
              "             Entity Code  ...  percent_renewables_total  Fossil_Fuels_Total\n",
              "19      Afghanistan  AFG  ...                 86.285714           13.714286\n",
              "74          Albania  ALB  ...                100.000000            0.000000\n",
              "109         Algeria  DZA  ...                  0.955669           89.835327\n",
              "129  American Samoa  ASM  ...                  0.000000          100.000000\n",
              "149          Angola  AGO  ...                 78.092529           21.907471\n",
              "\n",
              "[5 rows x 13 columns]"
            ]
          },
          "metadata": {
            "tags": []
          },
          "execution_count": 319
        }
      ]
    },
    {
      "cell_type": "code",
      "metadata": {
        "colab": {
          "base_uri": "https://localhost:8080/"
        },
        "id": "YJAflc1CC2mw",
        "outputId": "bf56b292-c6ec-4683-ed33-7d9e30e39b5d"
      },
      "source": [
        "Most_Recent_countries_Fuel_total = (Most_Recent_countries['Fossil_Fuels_Total'].sum() /\n",
        "                                    Most_Recent_countries['Fossil_Fuels_Total'].count())\n",
        "\n",
        "Most_Recent_countries_renewables_total \n",
        "\n",
        "Most_Recent_World_Fuel_total = (Most_Recent_World['Fossil_Fuels_Total'].sum() / \n",
        "                                Most_Recent_World['Fossil_Fuels_Total'].count())\n",
        "\n",
        "Most_Recent_World.percent_renewables_total\n",
        "\n",
        "for index, rows in Most_Recent_World['percent_renewables_total'].iteritems(): \n",
        "    # Creating a list for the current row \n",
        "    a = rows\n",
        "    print(a)\n",
        "# We've realised a problem here. the percent renewable column doesn't add up to the percent solar + wind +hydro + other renewables"
      ],
      "execution_count": null,
      "outputs": [
        {
          "output_type": "stream",
          "text": [
            "5.375468317315521\n"
          ],
          "name": "stdout"
        }
      ]
    },
    {
      "cell_type": "code",
      "metadata": {
        "id": "P4kjzE5-C8eW"
      },
      "source": [
        "# To fix the above problem\n",
        "\n",
        "Most_Recent_World.drop('percent_renewables_total', axis= 1, inplace= True)"
      ],
      "execution_count": null,
      "outputs": []
    },
    {
      "cell_type": "code",
      "metadata": {
        "colab": {
          "base_uri": "https://localhost:8080/",
          "height": 100
        },
        "id": "XH75QnunDAF4",
        "outputId": "4048d380-635c-40d8-e6ef-59754698c9d0"
      },
      "source": [
        "# Add the new column with total percentage of renewable\n",
        "Most_Recent_World['Renewables_total'] = (Most_Recent_World.percent_solar_electricity + \n",
        "                                         Most_Recent_World.percent_wind_electricity + \n",
        "                                         Most_Recent_World.percent_hydro_electricity + \n",
        "                                         Most_Recent_World.percent_other_renewables)\n",
        "Most_Recent_World.head()"
      ],
      "execution_count": null,
      "outputs": [
        {
          "output_type": "execute_result",
          "data": {
            "text/html": [
              "<div>\n",
              "<style scoped>\n",
              "    .dataframe tbody tr th:only-of-type {\n",
              "        vertical-align: middle;\n",
              "    }\n",
              "\n",
              "    .dataframe tbody tr th {\n",
              "        vertical-align: top;\n",
              "    }\n",
              "\n",
              "    .dataframe thead th {\n",
              "        text-align: right;\n",
              "    }\n",
              "</style>\n",
              "<table border=\"1\" class=\"dataframe\">\n",
              "  <thead>\n",
              "    <tr style=\"text-align: right;\">\n",
              "      <th></th>\n",
              "      <th>Entity</th>\n",
              "      <th>Code</th>\n",
              "      <th>Year</th>\n",
              "      <th>percent_coal_electricity</th>\n",
              "      <th>percent_oil_electricity</th>\n",
              "      <th>percent_gas_electricity</th>\n",
              "      <th>percent_nuclear_electricity</th>\n",
              "      <th>percent_solar_electricity</th>\n",
              "      <th>percent_wind_electricity</th>\n",
              "      <th>percent_hydro_electricity</th>\n",
              "      <th>percent_other_renewables</th>\n",
              "      <th>Fossil_Fuels_Total</th>\n",
              "      <th>Renewables_total</th>\n",
              "    </tr>\n",
              "  </thead>\n",
              "  <tbody>\n",
              "    <tr>\n",
              "      <th>5433</th>\n",
              "      <td>World</td>\n",
              "      <td>OWID_WRL</td>\n",
              "      <td>2019</td>\n",
              "      <td>36.379205</td>\n",
              "      <td>3.056305</td>\n",
              "      <td>23.321546</td>\n",
              "      <td>10.353626</td>\n",
              "      <td>2.681339</td>\n",
              "      <td>5.293975</td>\n",
              "      <td>15.635134</td>\n",
              "      <td>2.413699</td>\n",
              "      <td>62.757056</td>\n",
              "      <td>26.024148</td>\n",
              "    </tr>\n",
              "  </tbody>\n",
              "</table>\n",
              "</div>"
            ],
            "text/plain": [
              "     Entity      Code  ...  Fossil_Fuels_Total  Renewables_total\n",
              "5433  World  OWID_WRL  ...           62.757056         26.024148\n",
              "\n",
              "[1 rows x 13 columns]"
            ]
          },
          "metadata": {
            "tags": []
          },
          "execution_count": 322
        }
      ]
    },
    {
      "cell_type": "code",
      "metadata": {
        "colab": {
          "base_uri": "https://localhost:8080/",
          "height": 241
        },
        "id": "QfWzL3YSDEEe",
        "outputId": "d5095058-28c3-472f-8a3d-eedef3df297f"
      },
      "source": [
        "# We should do the same for the countries Dataset as it seems there's a point where the data didn't match due to merging\n",
        "# the Sources dataset with the Renewables total Dataset\n",
        "\n",
        "Most_Recent_countries.drop('percent_renewables_total', axis= 1, inplace= True)\n",
        "Most_Recent_countries.head()"
      ],
      "execution_count": null,
      "outputs": [
        {
          "output_type": "execute_result",
          "data": {
            "text/html": [
              "<div>\n",
              "<style scoped>\n",
              "    .dataframe tbody tr th:only-of-type {\n",
              "        vertical-align: middle;\n",
              "    }\n",
              "\n",
              "    .dataframe tbody tr th {\n",
              "        vertical-align: top;\n",
              "    }\n",
              "\n",
              "    .dataframe thead th {\n",
              "        text-align: right;\n",
              "    }\n",
              "</style>\n",
              "<table border=\"1\" class=\"dataframe\">\n",
              "  <thead>\n",
              "    <tr style=\"text-align: right;\">\n",
              "      <th></th>\n",
              "      <th>Entity</th>\n",
              "      <th>Code</th>\n",
              "      <th>Year</th>\n",
              "      <th>percent_coal_electricity</th>\n",
              "      <th>percent_oil_electricity</th>\n",
              "      <th>percent_gas_electricity</th>\n",
              "      <th>percent_nuclear_electricity</th>\n",
              "      <th>percent_solar_electricity</th>\n",
              "      <th>percent_wind_electricity</th>\n",
              "      <th>percent_hydro_electricity</th>\n",
              "      <th>percent_other_renewables</th>\n",
              "      <th>Fossil_Fuels_Total</th>\n",
              "    </tr>\n",
              "  </thead>\n",
              "  <tbody>\n",
              "    <tr>\n",
              "      <th>19</th>\n",
              "      <td>Afghanistan</td>\n",
              "      <td>AFG</td>\n",
              "      <td>2019</td>\n",
              "      <td>0.0</td>\n",
              "      <td>0.000000</td>\n",
              "      <td>13.714286</td>\n",
              "      <td>0.0</td>\n",
              "      <td>2.883117</td>\n",
              "      <td>0.000000</td>\n",
              "      <td>83.402597</td>\n",
              "      <td>0.000000</td>\n",
              "      <td>13.714286</td>\n",
              "    </tr>\n",
              "    <tr>\n",
              "      <th>74</th>\n",
              "      <td>Albania</td>\n",
              "      <td>ALB</td>\n",
              "      <td>2019</td>\n",
              "      <td>0.0</td>\n",
              "      <td>0.000000</td>\n",
              "      <td>0.000000</td>\n",
              "      <td>0.0</td>\n",
              "      <td>0.024882</td>\n",
              "      <td>0.000000</td>\n",
              "      <td>99.975118</td>\n",
              "      <td>0.000000</td>\n",
              "      <td>0.000000</td>\n",
              "    </tr>\n",
              "    <tr>\n",
              "      <th>109</th>\n",
              "      <td>Algeria</td>\n",
              "      <td>DZA</td>\n",
              "      <td>2019</td>\n",
              "      <td>0.0</td>\n",
              "      <td>0.000000</td>\n",
              "      <td>89.835327</td>\n",
              "      <td>0.0</td>\n",
              "      <td>0.756904</td>\n",
              "      <td>0.012307</td>\n",
              "      <td>0.186457</td>\n",
              "      <td>0.000000</td>\n",
              "      <td>89.835327</td>\n",
              "    </tr>\n",
              "    <tr>\n",
              "      <th>129</th>\n",
              "      <td>American Samoa</td>\n",
              "      <td>ASM</td>\n",
              "      <td>2019</td>\n",
              "      <td>0.0</td>\n",
              "      <td>100.000000</td>\n",
              "      <td>0.000000</td>\n",
              "      <td>0.0</td>\n",
              "      <td>0.000000</td>\n",
              "      <td>0.000000</td>\n",
              "      <td>0.000000</td>\n",
              "      <td>0.000000</td>\n",
              "      <td>100.000000</td>\n",
              "    </tr>\n",
              "    <tr>\n",
              "      <th>149</th>\n",
              "      <td>Angola</td>\n",
              "      <td>AGO</td>\n",
              "      <td>2019</td>\n",
              "      <td>0.0</td>\n",
              "      <td>9.977819</td>\n",
              "      <td>11.929652</td>\n",
              "      <td>0.0</td>\n",
              "      <td>0.161701</td>\n",
              "      <td>0.000000</td>\n",
              "      <td>75.661027</td>\n",
              "      <td>2.269801</td>\n",
              "      <td>21.907471</td>\n",
              "    </tr>\n",
              "  </tbody>\n",
              "</table>\n",
              "</div>"
            ],
            "text/plain": [
              "             Entity Code  ...  percent_other_renewables  Fossil_Fuels_Total\n",
              "19      Afghanistan  AFG  ...                  0.000000           13.714286\n",
              "74          Albania  ALB  ...                  0.000000            0.000000\n",
              "109         Algeria  DZA  ...                  0.000000           89.835327\n",
              "129  American Samoa  ASM  ...                  0.000000          100.000000\n",
              "149          Angola  AGO  ...                  2.269801           21.907471\n",
              "\n",
              "[5 rows x 12 columns]"
            ]
          },
          "metadata": {
            "tags": []
          },
          "execution_count": 323
        }
      ]
    },
    {
      "cell_type": "code",
      "metadata": {
        "colab": {
          "base_uri": "https://localhost:8080/",
          "height": 241
        },
        "id": "XG3GwESrDHVE",
        "outputId": "8cf596ca-268d-4fb8-e742-6da93293a1e2"
      },
      "source": [
        "Most_Recent_countries['Renewables_total'] = (Most_Recent_countries.percent_solar_electricity + \n",
        "                                             Most_Recent_countries.percent_wind_electricity + \n",
        "                                             Most_Recent_countries.percent_hydro_electricity + \n",
        "                                             Most_Recent_countries.percent_other_renewables)\n",
        "Most_Recent_countries.head()"
      ],
      "execution_count": null,
      "outputs": [
        {
          "output_type": "execute_result",
          "data": {
            "text/html": [
              "<div>\n",
              "<style scoped>\n",
              "    .dataframe tbody tr th:only-of-type {\n",
              "        vertical-align: middle;\n",
              "    }\n",
              "\n",
              "    .dataframe tbody tr th {\n",
              "        vertical-align: top;\n",
              "    }\n",
              "\n",
              "    .dataframe thead th {\n",
              "        text-align: right;\n",
              "    }\n",
              "</style>\n",
              "<table border=\"1\" class=\"dataframe\">\n",
              "  <thead>\n",
              "    <tr style=\"text-align: right;\">\n",
              "      <th></th>\n",
              "      <th>Entity</th>\n",
              "      <th>Code</th>\n",
              "      <th>Year</th>\n",
              "      <th>percent_coal_electricity</th>\n",
              "      <th>percent_oil_electricity</th>\n",
              "      <th>percent_gas_electricity</th>\n",
              "      <th>percent_nuclear_electricity</th>\n",
              "      <th>percent_solar_electricity</th>\n",
              "      <th>percent_wind_electricity</th>\n",
              "      <th>percent_hydro_electricity</th>\n",
              "      <th>percent_other_renewables</th>\n",
              "      <th>Fossil_Fuels_Total</th>\n",
              "      <th>Renewables_total</th>\n",
              "    </tr>\n",
              "  </thead>\n",
              "  <tbody>\n",
              "    <tr>\n",
              "      <th>19</th>\n",
              "      <td>Afghanistan</td>\n",
              "      <td>AFG</td>\n",
              "      <td>2019</td>\n",
              "      <td>0.0</td>\n",
              "      <td>0.000000</td>\n",
              "      <td>13.714286</td>\n",
              "      <td>0.0</td>\n",
              "      <td>2.883117</td>\n",
              "      <td>0.000000</td>\n",
              "      <td>83.402597</td>\n",
              "      <td>0.000000</td>\n",
              "      <td>13.714286</td>\n",
              "      <td>86.285714</td>\n",
              "    </tr>\n",
              "    <tr>\n",
              "      <th>74</th>\n",
              "      <td>Albania</td>\n",
              "      <td>ALB</td>\n",
              "      <td>2019</td>\n",
              "      <td>0.0</td>\n",
              "      <td>0.000000</td>\n",
              "      <td>0.000000</td>\n",
              "      <td>0.0</td>\n",
              "      <td>0.024882</td>\n",
              "      <td>0.000000</td>\n",
              "      <td>99.975118</td>\n",
              "      <td>0.000000</td>\n",
              "      <td>0.000000</td>\n",
              "      <td>100.000000</td>\n",
              "    </tr>\n",
              "    <tr>\n",
              "      <th>109</th>\n",
              "      <td>Algeria</td>\n",
              "      <td>DZA</td>\n",
              "      <td>2019</td>\n",
              "      <td>0.0</td>\n",
              "      <td>0.000000</td>\n",
              "      <td>89.835327</td>\n",
              "      <td>0.0</td>\n",
              "      <td>0.756904</td>\n",
              "      <td>0.012307</td>\n",
              "      <td>0.186457</td>\n",
              "      <td>0.000000</td>\n",
              "      <td>89.835327</td>\n",
              "      <td>0.955669</td>\n",
              "    </tr>\n",
              "    <tr>\n",
              "      <th>129</th>\n",
              "      <td>American Samoa</td>\n",
              "      <td>ASM</td>\n",
              "      <td>2019</td>\n",
              "      <td>0.0</td>\n",
              "      <td>100.000000</td>\n",
              "      <td>0.000000</td>\n",
              "      <td>0.0</td>\n",
              "      <td>0.000000</td>\n",
              "      <td>0.000000</td>\n",
              "      <td>0.000000</td>\n",
              "      <td>0.000000</td>\n",
              "      <td>100.000000</td>\n",
              "      <td>0.000000</td>\n",
              "    </tr>\n",
              "    <tr>\n",
              "      <th>149</th>\n",
              "      <td>Angola</td>\n",
              "      <td>AGO</td>\n",
              "      <td>2019</td>\n",
              "      <td>0.0</td>\n",
              "      <td>9.977819</td>\n",
              "      <td>11.929652</td>\n",
              "      <td>0.0</td>\n",
              "      <td>0.161701</td>\n",
              "      <td>0.000000</td>\n",
              "      <td>75.661027</td>\n",
              "      <td>2.269801</td>\n",
              "      <td>21.907471</td>\n",
              "      <td>78.092529</td>\n",
              "    </tr>\n",
              "  </tbody>\n",
              "</table>\n",
              "</div>"
            ],
            "text/plain": [
              "             Entity Code  ...  Fossil_Fuels_Total  Renewables_total\n",
              "19      Afghanistan  AFG  ...           13.714286         86.285714\n",
              "74          Albania  ALB  ...            0.000000        100.000000\n",
              "109         Algeria  DZA  ...           89.835327          0.955669\n",
              "129  American Samoa  ASM  ...          100.000000          0.000000\n",
              "149          Angola  AGO  ...           21.907471         78.092529\n",
              "\n",
              "[5 rows x 13 columns]"
            ]
          },
          "metadata": {
            "tags": []
          },
          "execution_count": 324
        }
      ]
    },
    {
      "cell_type": "code",
      "metadata": {
        "colab": {
          "base_uri": "https://localhost:8080/",
          "height": 316
        },
        "id": "lPAF3qzhDLRs",
        "outputId": "85d97857-ca3e-4a57-834b-fdb32be53bd0"
      },
      "source": [
        "# Compare Kenyan Renewable and Fossil Fuel to the world using Countries data\n",
        "\n",
        "Most_Recent_Kenya.percent_renewables_total\n",
        "for index, rows in Most_Recent_Kenya['percent_renewables_total'].iteritems(): \n",
        "    # Creating a variable for the current 'rows' \n",
        "    Kenya_renewable_2019 = rows\n",
        "    print(Kenya_renewable_2019)\n",
        "\n",
        "for index, rows in Most_Recent_Kenya['Fossil_Fuels_Total'].iteritems(): \n",
        "    # Creating a variable for the current 'rows'\n",
        "    Kenya_Fuel_2019 = rows\n",
        "    print(Kenya_Fuel_2019)\n",
        "\n",
        "Most_Recent_countries_Renewables_total = (Most_Recent_countries.Renewables_total.sum() / \n",
        "                                          Most_Recent_countries.Renewables_total.count())\n",
        "Most_Recent_countries_Fuel_total\n",
        "Most_Recent_countries_Renewables_total\n",
        "\n",
        "g = [[Kenya_renewable_2019,Most_Recent_countries_Renewables_total], \n",
        "     [Kenya_Fuel_2019,Most_Recent_countries_Fuel_total]]\n",
        "     \n",
        "Global_comparison = pd.DataFrame(g, columns=['Kenya', 'Rest of the World'], index= ['Renewables', 'Fossil Fuels'])\n",
        "\n",
        "Global_comparison.plot(kind='barh')"
      ],
      "execution_count": null,
      "outputs": [
        {
          "output_type": "stream",
          "text": [
            "80.74747128407336\n",
            "19.25252871592662\n"
          ],
          "name": "stdout"
        },
        {
          "output_type": "execute_result",
          "data": {
            "text/plain": [
              "<matplotlib.axes._subplots.AxesSubplot at 0x7fdd077946d8>"
            ]
          },
          "metadata": {
            "tags": []
          },
          "execution_count": 325
        },
        {
          "output_type": "display_data",
          "data": {
            "image/png": "[encoded data removed]",
            "text/plain": [
              "<Figure size 432x288 with 1 Axes>"
            ]
          },
          "metadata": {
            "tags": [],
            "needs_background": "light"
          }
        }
      ]
    },
    {
      "cell_type": "code",
      "metadata": {
        "colab": {
          "base_uri": "https://localhost:8080/",
          "height": 316
        },
        "id": "B79Av08jDR2K",
        "outputId": "a16c393c-3e30-46f2-f4eb-5d31921a2ae5"
      },
      "source": [
        "# Compare Kenyan Renewable and Fossil Fuel to the world using World Row data\n",
        "\n",
        "Most_Recent_World.Renewables_total\n",
        "for index, rows in Most_Recent_World['Renewables_total'].iteritems(): \n",
        "    # Creating a variable for the current 'rows'\n",
        "    World_renewable_2019 = rows\n",
        "    print(World_renewable_2019)\n",
        "\n",
        "for index, rows in Most_Recent_World['Fossil_Fuels_Total'].iteritems(): \n",
        "    # Creating a variable for the current 'rows' \n",
        "    World_Fuels_2019 = rows\n",
        "    print(World_Fuels_2019)\n",
        "\n",
        "w = [[Kenya_renewable_2019,World_renewable_2019], [Kenya_Fuel_2019,World_Fuels_2019]]\n",
        "World_comparison = pd.DataFrame(w, columns=['Kenya', 'Rest of the World'], index= ['Renewables', 'Fossil Fuels'])\n",
        "\n",
        "World_comparison.plot(kind='barh')"
      ],
      "execution_count": null,
      "outputs": [
        {
          "output_type": "stream",
          "text": [
            "26.024147519259394\n",
            "62.757056328660724\n"
          ],
          "name": "stdout"
        },
        {
          "output_type": "execute_result",
          "data": {
            "text/plain": [
              "<matplotlib.axes._subplots.AxesSubplot at 0x7fdd075d2588>"
            ]
          },
          "metadata": {
            "tags": []
          },
          "execution_count": 326
        },
        {
          "output_type": "display_data",
          "data": {
            "image/png": "[encoded data removed]",
            "text/plain": [
              "<Figure size 432x288 with 1 Axes>"
            ]
          },
          "metadata": {
            "tags": [],
            "needs_background": "light"
          }
        }
      ]
    },
    {
      "cell_type": "code",
      "metadata": {
        "colab": {
          "base_uri": "https://localhost:8080/",
          "height": 316
        },
        "id": "DbfDmFrjDWuC",
        "outputId": "3ad4660e-99fb-4f6a-fbcf-8b0c8fd566bd"
      },
      "source": [
        "Most_Recent_Africa.head()\n",
        "for index, rows in Most_Recent_Africa['percent_renewables_total'].iteritems(): \n",
        "    # Creating a variable for the current 'rows'\n",
        "    Africa_renewable_2019 = rows\n",
        "    print(Africa_renewable_2019)\n",
        "\n",
        "for index, rows in Most_Recent_Africa['Fossil_Fuels_Total'].iteritems(): \n",
        "    # Creating a variable for the current 'rows' \n",
        "    Africa_Fuels_2019 = rows\n",
        "    print(Africa_Fuels_2019)\n",
        "\n",
        "a = [[Kenya_renewable_2019,Africa_renewable_2019], [Kenya_Fuel_2019,Africa_Fuels_2019]]\n",
        "Africa_comparison = pd.DataFrame(a, columns=['Kenya', 'Africa'], index= ['Renewables', 'Fossil Fuels'])\n",
        "\n",
        "Africa_comparison.plot(kind='barh')"
      ],
      "execution_count": null,
      "outputs": [
        {
          "output_type": "stream",
          "text": [
            "20.434774550016733\n",
            "77.61120346203245\n"
          ],
          "name": "stdout"
        },
        {
          "output_type": "execute_result",
          "data": {
            "text/plain": [
              "<matplotlib.axes._subplots.AxesSubplot at 0x7fdd075d2860>"
            ]
          },
          "metadata": {
            "tags": []
          },
          "execution_count": 327
        },
        {
          "output_type": "display_data",
          "data": {
            "image/png": "[encoded data removed]",
            "text/plain": [
              "<Figure size 432x288 with 1 Axes>"
            ]
          },
          "metadata": {
            "tags": [],
            "needs_background": "light"
          }
        }
      ]
    },
    {
      "cell_type": "code",
      "metadata": {
        "id": "DTBkzedMDcl-"
      },
      "source": [
        "Most_Recent_EA\n",
        "\n",
        "# We notice that from Rwanda onwards, the percent_renewables_total column has a similar issue\n",
        "# to the World row. We'll have to drop this and carry out the necessary calculations as we did before.\n",
        "\n",
        "Most_Recent_EA.drop('percent_renewables_total', axis= 1, inplace= True)"
      ],
      "execution_count": null,
      "outputs": []
    },
    {
      "cell_type": "code",
      "metadata": {
        "colab": {
          "base_uri": "https://localhost:8080/",
          "height": 303
        },
        "id": "6sGOZk6iDiLs",
        "outputId": "b9afe43d-12bd-4f62-e09d-d3b9a31d9f30"
      },
      "source": [
        "Most_Recent_EA['Renewables_Total'] = (Most_Recent_EA.percent_solar_electricity + \n",
        "                                      Most_Recent_EA.percent_wind_electricity + \n",
        "                                      Most_Recent_EA.percent_hydro_electricity + \n",
        "                                      Most_Recent_EA.percent_other_renewables)\n",
        "Most_Recent_EA"
      ],
      "execution_count": null,
      "outputs": [
        {
          "output_type": "execute_result",
          "data": {
            "text/html": [
              "<div>\n",
              "<style scoped>\n",
              "    .dataframe tbody tr th:only-of-type {\n",
              "        vertical-align: middle;\n",
              "    }\n",
              "\n",
              "    .dataframe tbody tr th {\n",
              "        vertical-align: top;\n",
              "    }\n",
              "\n",
              "    .dataframe thead th {\n",
              "        text-align: right;\n",
              "    }\n",
              "</style>\n",
              "<table border=\"1\" class=\"dataframe\">\n",
              "  <thead>\n",
              "    <tr style=\"text-align: right;\">\n",
              "      <th></th>\n",
              "      <th>Entity</th>\n",
              "      <th>Code</th>\n",
              "      <th>Year</th>\n",
              "      <th>percent_coal_electricity</th>\n",
              "      <th>percent_oil_electricity</th>\n",
              "      <th>percent_gas_electricity</th>\n",
              "      <th>percent_nuclear_electricity</th>\n",
              "      <th>percent_solar_electricity</th>\n",
              "      <th>percent_wind_electricity</th>\n",
              "      <th>percent_hydro_electricity</th>\n",
              "      <th>percent_other_renewables</th>\n",
              "      <th>Fossil_Fuels_Total</th>\n",
              "      <th>Renewables_Total</th>\n",
              "    </tr>\n",
              "  </thead>\n",
              "  <tbody>\n",
              "    <tr>\n",
              "      <th>804</th>\n",
              "      <td>Burundi</td>\n",
              "      <td>BDI</td>\n",
              "      <td>2019</td>\n",
              "      <td>0.0</td>\n",
              "      <td>7.507082</td>\n",
              "      <td>0.000000</td>\n",
              "      <td>0.0</td>\n",
              "      <td>3.824363</td>\n",
              "      <td>0.000000</td>\n",
              "      <td>85.552408</td>\n",
              "      <td>3.116147</td>\n",
              "      <td>7.507082</td>\n",
              "      <td>92.492918</td>\n",
              "    </tr>\n",
              "    <tr>\n",
              "      <th>1584</th>\n",
              "      <td>Ethiopia</td>\n",
              "      <td>ETH</td>\n",
              "      <td>2019</td>\n",
              "      <td>0.0</td>\n",
              "      <td>0.026921</td>\n",
              "      <td>0.000000</td>\n",
              "      <td>0.0</td>\n",
              "      <td>0.157038</td>\n",
              "      <td>6.012298</td>\n",
              "      <td>93.619112</td>\n",
              "      <td>0.184631</td>\n",
              "      <td>0.026921</td>\n",
              "      <td>99.973079</td>\n",
              "    </tr>\n",
              "    <tr>\n",
              "      <th>2619</th>\n",
              "      <td>Kenya</td>\n",
              "      <td>KEN</td>\n",
              "      <td>2019</td>\n",
              "      <td>0.0</td>\n",
              "      <td>19.252529</td>\n",
              "      <td>0.000000</td>\n",
              "      <td>0.0</td>\n",
              "      <td>2.228699</td>\n",
              "      <td>6.171781</td>\n",
              "      <td>25.564318</td>\n",
              "      <td>46.782673</td>\n",
              "      <td>19.252529</td>\n",
              "      <td>80.747471</td>\n",
              "    </tr>\n",
              "    <tr>\n",
              "      <th>4081</th>\n",
              "      <td>Rwanda</td>\n",
              "      <td>RWA</td>\n",
              "      <td>2019</td>\n",
              "      <td>0.0</td>\n",
              "      <td>23.120257</td>\n",
              "      <td>30.586796</td>\n",
              "      <td>0.0</td>\n",
              "      <td>0.000000</td>\n",
              "      <td>0.000000</td>\n",
              "      <td>46.021700</td>\n",
              "      <td>0.271248</td>\n",
              "      <td>53.707052</td>\n",
              "      <td>46.292948</td>\n",
              "    </tr>\n",
              "    <tr>\n",
              "      <th>4548</th>\n",
              "      <td>South Sudan</td>\n",
              "      <td>SSD</td>\n",
              "      <td>2019</td>\n",
              "      <td>0.0</td>\n",
              "      <td>99.331997</td>\n",
              "      <td>0.000000</td>\n",
              "      <td>0.0</td>\n",
              "      <td>0.668003</td>\n",
              "      <td>0.000000</td>\n",
              "      <td>0.000000</td>\n",
              "      <td>0.000000</td>\n",
              "      <td>99.331997</td>\n",
              "      <td>0.668003</td>\n",
              "    </tr>\n",
              "    <tr>\n",
              "      <th>4843</th>\n",
              "      <td>Tanzania</td>\n",
              "      <td>TZA</td>\n",
              "      <td>2019</td>\n",
              "      <td>0.0</td>\n",
              "      <td>16.088243</td>\n",
              "      <td>53.654290</td>\n",
              "      <td>0.0</td>\n",
              "      <td>0.251287</td>\n",
              "      <td>0.000000</td>\n",
              "      <td>29.746653</td>\n",
              "      <td>0.259526</td>\n",
              "      <td>69.742533</td>\n",
              "      <td>30.257467</td>\n",
              "    </tr>\n",
              "    <tr>\n",
              "      <th>5083</th>\n",
              "      <td>Uganda</td>\n",
              "      <td>UGA</td>\n",
              "      <td>2019</td>\n",
              "      <td>0.0</td>\n",
              "      <td>6.003160</td>\n",
              "      <td>0.000000</td>\n",
              "      <td>0.0</td>\n",
              "      <td>1.762701</td>\n",
              "      <td>0.000000</td>\n",
              "      <td>86.738172</td>\n",
              "      <td>5.495967</td>\n",
              "      <td>6.003160</td>\n",
              "      <td>93.996840</td>\n",
              "    </tr>\n",
              "  </tbody>\n",
              "</table>\n",
              "</div>"
            ],
            "text/plain": [
              "           Entity Code  ...  Fossil_Fuels_Total  Renewables_Total\n",
              "804       Burundi  BDI  ...            7.507082         92.492918\n",
              "1584     Ethiopia  ETH  ...            0.026921         99.973079\n",
              "2619        Kenya  KEN  ...           19.252529         80.747471\n",
              "4081       Rwanda  RWA  ...           53.707052         46.292948\n",
              "4548  South Sudan  SSD  ...           99.331997          0.668003\n",
              "4843     Tanzania  TZA  ...           69.742533         30.257467\n",
              "5083       Uganda  UGA  ...            6.003160         93.996840\n",
              "\n",
              "[7 rows x 13 columns]"
            ]
          },
          "metadata": {
            "tags": []
          },
          "execution_count": 329
        }
      ]
    },
    {
      "cell_type": "code",
      "metadata": {
        "colab": {
          "base_uri": "https://localhost:8080/",
          "height": 282
        },
        "id": "hh4b6xqcDlVu",
        "outputId": "6e26b7ec-10cc-4b2b-ef6f-5914419ef8cd"
      },
      "source": [
        "Most_Recent_EA_Renewables_total = (Most_Recent_EA.Renewables_Total.sum() /\n",
        "                                   Most_Recent_EA.Renewables_Total.count())\n",
        "Most_Recent_EA_Fuels_Total = (Most_Recent_EA.Fossil_Fuels_Total.sum() / \n",
        "                              Most_Recent_EA.Fossil_Fuels_Total.count())\n",
        "Most_Recent_EA_Renewables_total\n",
        "Most_Recent_EA_Fuels_Total\n",
        "\n",
        "e = [[Kenya_renewable_2019,Most_Recent_EA_Renewables_total], \n",
        "     [Kenya_Fuel_2019,Most_Recent_EA_Fuels_Total]]\n",
        "\n",
        "EA_comparison = pd.DataFrame(e, columns=['Kenya', 'East Africa'], \n",
        "                             index= ['Renewables', 'Fossil Fuels'])\n",
        "\n",
        "EA_comparison.plot(kind='barh')"
      ],
      "execution_count": null,
      "outputs": [
        {
          "output_type": "execute_result",
          "data": {
            "text/plain": [
              "<matplotlib.axes._subplots.AxesSubplot at 0x7fdd074e46a0>"
            ]
          },
          "metadata": {
            "tags": []
          },
          "execution_count": 330
        },
        {
          "output_type": "display_data",
          "data": {
            "image/png": "[encoded data removed]",
            "text/plain": [
              "<Figure size 432x288 with 1 Axes>"
            ]
          },
          "metadata": {
            "tags": [],
            "needs_background": "light"
          }
        }
      ]
    },
    {
      "cell_type": "markdown",
      "metadata": {
        "id": "cCKexwJVD4-F"
      },
      "source": [
        "## How does Kenya compare to the rest of the world in terms of access to electricity?"
      ]
    },
    {
      "cell_type": "code",
      "metadata": {
        "colab": {
          "base_uri": "https://localhost:8080/",
          "height": 204
        },
        "id": "Ugb606g6D-RS",
        "outputId": "8ca0d65d-49b9-47ef-bbcb-af1630f19f9b"
      },
      "source": [
        "Access = pd.read_csv('share-of-the-population-with-access-to-electricity.csv')\n",
        "Access.head()"
      ],
      "execution_count": null,
      "outputs": [
        {
          "output_type": "execute_result",
          "data": {
            "text/html": [
              "<div>\n",
              "<style scoped>\n",
              "    .dataframe tbody tr th:only-of-type {\n",
              "        vertical-align: middle;\n",
              "    }\n",
              "\n",
              "    .dataframe tbody tr th {\n",
              "        vertical-align: top;\n",
              "    }\n",
              "\n",
              "    .dataframe thead th {\n",
              "        text-align: right;\n",
              "    }\n",
              "</style>\n",
              "<table border=\"1\" class=\"dataframe\">\n",
              "  <thead>\n",
              "    <tr style=\"text-align: right;\">\n",
              "      <th></th>\n",
              "      <th>Entity</th>\n",
              "      <th>Code</th>\n",
              "      <th>Year</th>\n",
              "      <th>Access to electricity (% of population)</th>\n",
              "    </tr>\n",
              "  </thead>\n",
              "  <tbody>\n",
              "    <tr>\n",
              "      <th>0</th>\n",
              "      <td>Afghanistan</td>\n",
              "      <td>AFG</td>\n",
              "      <td>1990</td>\n",
              "      <td>0.01</td>\n",
              "    </tr>\n",
              "    <tr>\n",
              "      <th>1</th>\n",
              "      <td>Afghanistan</td>\n",
              "      <td>AFG</td>\n",
              "      <td>1991</td>\n",
              "      <td>0.01</td>\n",
              "    </tr>\n",
              "    <tr>\n",
              "      <th>2</th>\n",
              "      <td>Afghanistan</td>\n",
              "      <td>AFG</td>\n",
              "      <td>1992</td>\n",
              "      <td>0.01</td>\n",
              "    </tr>\n",
              "    <tr>\n",
              "      <th>3</th>\n",
              "      <td>Afghanistan</td>\n",
              "      <td>AFG</td>\n",
              "      <td>1993</td>\n",
              "      <td>0.01</td>\n",
              "    </tr>\n",
              "    <tr>\n",
              "      <th>4</th>\n",
              "      <td>Afghanistan</td>\n",
              "      <td>AFG</td>\n",
              "      <td>1994</td>\n",
              "      <td>0.01</td>\n",
              "    </tr>\n",
              "  </tbody>\n",
              "</table>\n",
              "</div>"
            ],
            "text/plain": [
              "        Entity Code  Year  Access to electricity (% of population)\n",
              "0  Afghanistan  AFG  1990                                     0.01\n",
              "1  Afghanistan  AFG  1991                                     0.01\n",
              "2  Afghanistan  AFG  1992                                     0.01\n",
              "3  Afghanistan  AFG  1993                                     0.01\n",
              "4  Afghanistan  AFG  1994                                     0.01"
            ]
          },
          "metadata": {
            "tags": []
          },
          "execution_count": 331
        }
      ]
    },
    {
      "cell_type": "code",
      "metadata": {
        "colab": {
          "base_uri": "https://localhost:8080/",
          "height": 204
        },
        "id": "0R_SlwTREDsm",
        "outputId": "49c81572-4bc7-4601-9187-d2200a7e0ccc"
      },
      "source": [
        "Access.drop('Code', axis= 1, inplace= True)\n",
        "Access.columns= ['Entity', 'Year', 'percentage_electricity_access']\n",
        "Access.head()"
      ],
      "execution_count": null,
      "outputs": [
        {
          "output_type": "execute_result",
          "data": {
            "text/html": [
              "<div>\n",
              "<style scoped>\n",
              "    .dataframe tbody tr th:only-of-type {\n",
              "        vertical-align: middle;\n",
              "    }\n",
              "\n",
              "    .dataframe tbody tr th {\n",
              "        vertical-align: top;\n",
              "    }\n",
              "\n",
              "    .dataframe thead th {\n",
              "        text-align: right;\n",
              "    }\n",
              "</style>\n",
              "<table border=\"1\" class=\"dataframe\">\n",
              "  <thead>\n",
              "    <tr style=\"text-align: right;\">\n",
              "      <th></th>\n",
              "      <th>Entity</th>\n",
              "      <th>Year</th>\n",
              "      <th>percentage_electricity_access</th>\n",
              "    </tr>\n",
              "  </thead>\n",
              "  <tbody>\n",
              "    <tr>\n",
              "      <th>0</th>\n",
              "      <td>Afghanistan</td>\n",
              "      <td>1990</td>\n",
              "      <td>0.01</td>\n",
              "    </tr>\n",
              "    <tr>\n",
              "      <th>1</th>\n",
              "      <td>Afghanistan</td>\n",
              "      <td>1991</td>\n",
              "      <td>0.01</td>\n",
              "    </tr>\n",
              "    <tr>\n",
              "      <th>2</th>\n",
              "      <td>Afghanistan</td>\n",
              "      <td>1992</td>\n",
              "      <td>0.01</td>\n",
              "    </tr>\n",
              "    <tr>\n",
              "      <th>3</th>\n",
              "      <td>Afghanistan</td>\n",
              "      <td>1993</td>\n",
              "      <td>0.01</td>\n",
              "    </tr>\n",
              "    <tr>\n",
              "      <th>4</th>\n",
              "      <td>Afghanistan</td>\n",
              "      <td>1994</td>\n",
              "      <td>0.01</td>\n",
              "    </tr>\n",
              "  </tbody>\n",
              "</table>\n",
              "</div>"
            ],
            "text/plain": [
              "        Entity  Year  percentage_electricity_access\n",
              "0  Afghanistan  1990                           0.01\n",
              "1  Afghanistan  1991                           0.01\n",
              "2  Afghanistan  1992                           0.01\n",
              "3  Afghanistan  1993                           0.01\n",
              "4  Afghanistan  1994                           0.01"
            ]
          },
          "metadata": {
            "tags": []
          },
          "execution_count": 332
        }
      ]
    },
    {
      "cell_type": "code",
      "metadata": {
        "colab": {
          "base_uri": "https://localhost:8080/"
        },
        "id": "PBf0zsDQEKKe",
        "outputId": "a9910140-7dae-40d8-f06c-36385d5f84df"
      },
      "source": [
        "Most_Recent_Access = Access[Access['Year'] == 2016]\n",
        "Most_Recent_Access.Entity.unique()"
      ],
      "execution_count": null,
      "outputs": [
        {
          "output_type": "execute_result",
          "data": {
            "text/plain": [
              "array(['Afghanistan', 'Albania', 'Algeria', 'Andorra', 'Angola',\n",
              "       'Antigua and Barbuda', 'Arab World', 'Argentina', 'Armenia',\n",
              "       'Aruba', 'Australia', 'Austria', 'Azerbaijan', 'Bahamas',\n",
              "       'Bahrain', 'Bangladesh', 'Barbados', 'Belarus', 'Belgium',\n",
              "       'Belize', 'Benin', 'Bermuda', 'Bhutan', 'Bolivia',\n",
              "       'Bosnia and Herzegovina', 'Botswana', 'Brazil', 'Brunei',\n",
              "       'Bulgaria', 'Burkina Faso', 'Burundi', 'Cambodia', 'Cameroon',\n",
              "       'Canada', 'Cape Verde', 'Caribbean small states', 'Cayman Islands',\n",
              "       'Central African Republic', 'Central Europe and the Baltics',\n",
              "       'Chad', 'Channel Islands', 'Chile', 'China', 'Colombia', 'Comoros',\n",
              "       'Congo', 'Costa Rica', \"Cote d'Ivoire\", 'Croatia', 'Cuba',\n",
              "       'Curacao', 'Cyprus', 'Czech Republic',\n",
              "       'Democratic Republic of Congo', 'Denmark', 'Djibouti', 'Dominica',\n",
              "       'Dominican Republic', 'Early-demographic dividend',\n",
              "       'East Asia & Pacific', 'East Asia & Pacific (IDA & IBRD)',\n",
              "       'East Asia & Pacific (excluding high income)', 'Ecuador', 'Egypt',\n",
              "       'El Salvador', 'Equatorial Guinea', 'Eritrea', 'Estonia',\n",
              "       'Ethiopia', 'Euro area', 'Europe & Central Asia',\n",
              "       'Europe & Central Asia (IDA & IBRD)',\n",
              "       'Europe & Central Asia (excluding high income)', 'European Union',\n",
              "       'Faeroe Islands', 'Fiji', 'Finland',\n",
              "       'Fragile and conflict affected situations', 'France',\n",
              "       'French Polynesia', 'Gabon', 'Gambia', 'Georgia', 'Germany',\n",
              "       'Ghana', 'Gibraltar', 'Greece', 'Greenland', 'Grenada', 'Guam',\n",
              "       'Guatemala', 'Guinea', 'Guinea-Bissau', 'Guyana', 'Haiti',\n",
              "       'Heavily indebted poor countries (HIPC)', 'High income',\n",
              "       'Honduras', 'Hong Kong', 'Hungary', 'IBRD only',\n",
              "       'IDA & IBRD total', 'IDA blend', 'IDA only', 'IDA total',\n",
              "       'Iceland', 'India', 'Indonesia', 'Iran', 'Iraq', 'Ireland',\n",
              "       'Isle of Man', 'Israel', 'Italy', 'Jamaica', 'Japan', 'Jordan',\n",
              "       'Kazakhstan', 'Kenya', 'Kiribati', 'Kosovo', 'Kuwait',\n",
              "       'Kyrgyzstan', 'Laos', 'Late-demographic dividend',\n",
              "       'Latin America & Caribbean',\n",
              "       'Latin America & Caribbean (IDA & IBRD)',\n",
              "       'Latin America & Caribbean (excluding high income)', 'Latvia',\n",
              "       'Least developed countries: UN classification', 'Lebanon',\n",
              "       'Lesotho', 'Liberia', 'Libya', 'Liechtenstein', 'Lithuania',\n",
              "       'Low & middle income', 'Low income', 'Lower middle income',\n",
              "       'Luxembourg', 'Macao', 'Macedonia', 'Madagascar', 'Malawi',\n",
              "       'Malaysia', 'Maldives', 'Mali', 'Malta', 'Marshall Islands',\n",
              "       'Mauritania', 'Mauritius', 'Mexico', 'Micronesia (country)',\n",
              "       'Middle East & North Africa',\n",
              "       'Middle East & North Africa (IDA & IBRD)',\n",
              "       'Middle East & North Africa (excluding high income)',\n",
              "       'Middle income', 'Moldova', 'Monaco', 'Mongolia', 'Montenegro',\n",
              "       'Morocco', 'Mozambique', 'Myanmar', 'Namibia', 'Nauru', 'Nepal',\n",
              "       'Netherlands', 'New Caledonia', 'New Zealand', 'Nicaragua',\n",
              "       'Niger', 'Nigeria', 'North America', 'North Korea',\n",
              "       'Northern Mariana Islands', 'Norway', 'OECD members', 'Oman',\n",
              "       'Other small states', 'Pacific island small states', 'Pakistan',\n",
              "       'Palau', 'Palestine', 'Panama', 'Papua New Guinea', 'Paraguay',\n",
              "       'Peru', 'Philippines', 'Poland', 'Portugal',\n",
              "       'Post-demographic dividend', 'Pre-demographic dividend',\n",
              "       'Puerto Rico', 'Qatar', 'Romania', 'Russia', 'Rwanda',\n",
              "       'Saint Kitts and Nevis', 'Saint Lucia',\n",
              "       'Saint Martin (French part)', 'Saint Vincent and the Grenadines',\n",
              "       'Samoa', 'San Marino', 'Sao Tome and Principe', 'Saudi Arabia',\n",
              "       'Senegal', 'Serbia', 'Seychelles', 'Sierra Leone', 'Singapore',\n",
              "       'Sint Maarten (Dutch part)', 'Slovakia', 'Slovenia',\n",
              "       'Small states', 'Solomon Islands', 'Somalia', 'South Africa',\n",
              "       'South Asia', 'South Asia (IDA & IBRD)', 'South Korea',\n",
              "       'South Sudan', 'Spain', 'Sri Lanka', 'Sub-Saharan Africa',\n",
              "       'Sub-Saharan Africa (IDA & IBRD)',\n",
              "       'Sub-Saharan Africa (excluding high income)', 'Sudan', 'Suriname',\n",
              "       'Swaziland', 'Sweden', 'Switzerland', 'Syrian Arab Republic',\n",
              "       'Tajikistan', 'Tanzania', 'Thailand', 'Timor', 'Togo', 'Tonga',\n",
              "       'Trinidad and Tobago', 'Tunisia', 'Turkey', 'Turkmenistan',\n",
              "       'Turks and Caicos Islands', 'Tuvalu', 'Uganda', 'Ukraine',\n",
              "       'United Arab Emirates', 'United Kingdom', 'United States',\n",
              "       'United States Virgin Islands', 'Upper middle income', 'Uruguay',\n",
              "       'Uzbekistan', 'Vanuatu', 'Venezuela', 'Vietnam', 'World', 'Yemen',\n",
              "       'Zambia', 'Zimbabwe'], dtype=object)"
            ]
          },
          "metadata": {
            "tags": []
          },
          "execution_count": 333
        }
      ]
    },
    {
      "cell_type": "code",
      "metadata": {
        "colab": {
          "base_uri": "https://localhost:8080/",
          "height": 266
        },
        "id": "gpBY74NYEP3H",
        "outputId": "0fa71445-e909-4b3a-c1a5-ae5d6d4fb6b6"
      },
      "source": [
        "#'Sub-Saharan Africa' and 'World' rows can be used for analysis in comparison to Kenya\n",
        "# Additionally, East African countries can be grouped to compare with Kenya\n",
        "\n",
        "\n",
        "Recent_World_Access = Most_Recent_Access[Most_Recent_Access.Entity == 'World']\n",
        "Recent_SSA_Access = Most_Recent_Access[Most_Recent_Access.Entity == 'Sub-Saharan Africa']\n",
        "Recent_Kenya_Access = Most_Recent_Access[Most_Recent_Access.Entity == 'Kenya']\n",
        "\n",
        "Recent_EA_Access = Most_Recent_Access[(Most_Recent_Access.Entity == 'Kenya') | (Most_Recent_Access.Entity == 'Tanzania') |\n",
        "                   (Most_Recent_Access.Entity == 'Uganda') | (Most_Recent_Access.Entity == 'South Sudan') |\n",
        "                   (Most_Recent_Access.Entity == 'Ethiopia') | (Most_Recent_Access.Entity == 'Rwanda') |\n",
        "                   (Most_Recent_Access.Entity == 'Burundi')]\n",
        "Recent_EA_Access\n",
        "# From below, we can see Kenya leads in access to electricity in East Africa with Burundi lagging."
      ],
      "execution_count": null,
      "outputs": [
        {
          "output_type": "execute_result",
          "data": {
            "text/html": [
              "<div>\n",
              "<style scoped>\n",
              "    .dataframe tbody tr th:only-of-type {\n",
              "        vertical-align: middle;\n",
              "    }\n",
              "\n",
              "    .dataframe tbody tr th {\n",
              "        vertical-align: top;\n",
              "    }\n",
              "\n",
              "    .dataframe thead th {\n",
              "        text-align: right;\n",
              "    }\n",
              "</style>\n",
              "<table border=\"1\" class=\"dataframe\">\n",
              "  <thead>\n",
              "    <tr style=\"text-align: right;\">\n",
              "      <th></th>\n",
              "      <th>Entity</th>\n",
              "      <th>Year</th>\n",
              "      <th>percentage_electricity_access</th>\n",
              "    </tr>\n",
              "  </thead>\n",
              "  <tbody>\n",
              "    <tr>\n",
              "      <th>815</th>\n",
              "      <td>Burundi</td>\n",
              "      <td>2016</td>\n",
              "      <td>7.588477</td>\n",
              "    </tr>\n",
              "    <tr>\n",
              "      <th>1841</th>\n",
              "      <td>Ethiopia</td>\n",
              "      <td>2016</td>\n",
              "      <td>42.900000</td>\n",
              "    </tr>\n",
              "    <tr>\n",
              "      <th>3185</th>\n",
              "      <td>Kenya</td>\n",
              "      <td>2016</td>\n",
              "      <td>56.000000</td>\n",
              "    </tr>\n",
              "    <tr>\n",
              "      <th>5275</th>\n",
              "      <td>Rwanda</td>\n",
              "      <td>2016</td>\n",
              "      <td>29.370000</td>\n",
              "    </tr>\n",
              "    <tr>\n",
              "      <th>5904</th>\n",
              "      <td>South Sudan</td>\n",
              "      <td>2016</td>\n",
              "      <td>8.947628</td>\n",
              "    </tr>\n",
              "    <tr>\n",
              "      <th>6255</th>\n",
              "      <td>Tanzania</td>\n",
              "      <td>2016</td>\n",
              "      <td>32.800000</td>\n",
              "    </tr>\n",
              "    <tr>\n",
              "      <th>6552</th>\n",
              "      <td>Uganda</td>\n",
              "      <td>2016</td>\n",
              "      <td>26.700000</td>\n",
              "    </tr>\n",
              "  </tbody>\n",
              "</table>\n",
              "</div>"
            ],
            "text/plain": [
              "           Entity  Year  percentage_electricity_access\n",
              "815       Burundi  2016                       7.588477\n",
              "1841     Ethiopia  2016                      42.900000\n",
              "3185        Kenya  2016                      56.000000\n",
              "5275       Rwanda  2016                      29.370000\n",
              "5904  South Sudan  2016                       8.947628\n",
              "6255     Tanzania  2016                      32.800000\n",
              "6552       Uganda  2016                      26.700000"
            ]
          },
          "metadata": {
            "tags": []
          },
          "execution_count": 334
        }
      ]
    },
    {
      "cell_type": "code",
      "metadata": {
        "colab": {
          "base_uri": "https://localhost:8080/",
          "height": 401
        },
        "id": "b-CNjbJ3EU-C",
        "outputId": "c06e6e0f-c01a-430b-e3d2-27ef0a1bd9c4"
      },
      "source": [
        "for index, rows in Recent_World_Access['percentage_electricity_access'].iteritems(): \n",
        "    # Creating a a variable for the current 'rows'\n",
        "    World_Access_2016 = rows\n",
        "    print(World_Access_2016)\n",
        "\n",
        "for index, rows in Recent_SSA_Access['percentage_electricity_access'].iteritems(): \n",
        "    # Creating a a variable for the current 'rows'\n",
        "    SSA_Access_2016 = rows\n",
        "    print(SSA_Access_2016)\n",
        "\n",
        "for index, rows in Recent_Kenya_Access['percentage_electricity_access'].iteritems(): \n",
        "    # Creating a a variable for the current 'rows' \n",
        "    Kenya_Access_2016 = rows\n",
        "    print(Kenya_Access_2016)\n",
        "\n",
        "EA_Access_2016 = (Recent_EA_Access.percentage_electricity_access.sum() / \n",
        "                  Recent_EA_Access.percentage_electricity_access.count())\n",
        "EA_Access_2016\n",
        "\n",
        "Sections = ['World', 'Sub-Saharan Africa', 'East Africa', 'Kenya']\n",
        "Elec_list = [World_Access_2016, SSA_Access_2016, EA_Access_2016, Kenya_Access_2016]\n",
        "\n",
        "#Plotting comparison\n",
        "plt.figure(figsize = (10, 5)) \n",
        "  \n",
        "# creating the bar plot \n",
        "plt.bar(Sections,Elec_list,color ='green',  width = 0.5) \n",
        "  \n",
        "plt.xlabel(\"Kenya vs The World\") \n",
        "plt.ylabel(\"Access to Electricty(%)\") \n",
        "plt.title(\"Kenya's access to electricity as compared to the World (as of 2016)\") \n",
        "plt.show() "
      ],
      "execution_count": null,
      "outputs": [
        {
          "output_type": "stream",
          "text": [
            "87.37844317787041\n",
            "42.79512217009879\n",
            "56.0\n"
          ],
          "name": "stdout"
        },
        {
          "output_type": "display_data",
          "data": {
            "image/png": "[encoded data removed]",
            "text/plain": [
              "<Figure size 720x360 with 1 Axes>"
            ]
          },
          "metadata": {
            "tags": [],
            "needs_background": "light"
          }
        }
      ]
    },
    {
      "cell_type": "markdown",
      "metadata": {
        "id": "7uhGP3rtEk0m"
      },
      "source": [
        "## The highest growth source of electricity since 2013 globally? (Significant year due to the Paris Climate Agreement)"
      ]
    },
    {
      "cell_type": "code",
      "metadata": {
        "id": "T4KAQMmjE1lA"
      },
      "source": [
        "Year_2013 = Global_source[Global_source.Year == 2013].copy(deep=True)\n",
        "\n",
        "# To avoid problems faced earlier due to merging Sources data with Renewables total Data\n",
        "Year_2013.drop('percent_renewables_total', axis= 1, inplace= True) "
      ],
      "execution_count": null,
      "outputs": []
    },
    {
      "cell_type": "code",
      "metadata": {
        "colab": {
          "base_uri": "https://localhost:8080/",
          "height": 297
        },
        "id": "aunx-WwLE54P",
        "outputId": "fa54ef4a-6da1-44e9-f84e-775770f5b7ab"
      },
      "source": [
        "# Accessing Countries only\n",
        "Year_2013_countries = (Year_2013[(Year_2013['Entity'] != 'World') & (Year_2013['Entity'] != 'Africa') & \n",
        "                                 (Year_2013['Entity'] != 'Europe')  & (Year_2013['Entity'] != 'North America')])\n",
        "Year_2013_countries.head()\n",
        "\n",
        "Year_2013_countries_coal = (Year_2013_countries.percent_coal_electricity.sum() / \n",
        "                            Year_2013_countries.percent_coal_electricity.count())\n",
        "Year_2013_countries_oil = (Year_2013_countries.percent_oil_electricity.sum() / \n",
        "                           Year_2013_countries.percent_oil_electricity.count())\n",
        "Year_2013_countries_gas = (Year_2013_countries.percent_gas_electricity.sum() / \n",
        "                           Year_2013_countries.percent_gas_electricity.count())\n",
        "Year_2013_countries_nuclear = (Year_2013_countries.percent_nuclear_electricity.sum() /\n",
        "                               Year_2013_countries.percent_nuclear_electricity.count()) \n",
        "Year_2013_countries_solar = (Year_2013_countries.percent_solar_electricity.sum() / \n",
        "                             Year_2013_countries.percent_solar_electricity.count())\n",
        "Year_2013_countries_wind = (Year_2013_countries.percent_wind_electricity.sum() / \n",
        "                            Year_2013_countries.percent_wind_electricity.count())\n",
        "Year_2013_countries_hydro = (Year_2013_countries.percent_hydro_electricity.sum() / \n",
        "                             Year_2013_countries.percent_hydro_electricity.count())\n",
        "Year_2013_countries_other_renewables = (Year_2013_countries.percent_other_renewables.sum() /\n",
        "                                        Year_2013_countries.percent_other_renewables.count())\n",
        "\n",
        "Usage_2013 = [Year_2013_countries_coal,Year_2013_countries_oil,Year_2013_countries_gas,\n",
        "              Year_2013_countries_nuclear,Year_2013_countries_solar,Year_2013_countries_wind,\n",
        "              Year_2013_countries_hydro,Year_2013_countries_other_renewables]\n",
        "\n",
        "type(Usage_2013)\n",
        "type(Usage_2019)\n",
        "\n",
        "# Recall Usage_2019 and source names c from the analysis of most recent (2019) countries data\n",
        "Usage_df = pd.DataFrame({\n",
        "    \"2013\":Usage_2013,\n",
        "    \"2019\":Usage_2019,\n",
        "    }, index= c)\n",
        "\n",
        "Usage_df\n",
        "# It doesn't look like there was much change"
      ],
      "execution_count": null,
      "outputs": [
        {
          "output_type": "execute_result",
          "data": {
            "text/html": [
              "<div>\n",
              "<style scoped>\n",
              "    .dataframe tbody tr th:only-of-type {\n",
              "        vertical-align: middle;\n",
              "    }\n",
              "\n",
              "    .dataframe tbody tr th {\n",
              "        vertical-align: top;\n",
              "    }\n",
              "\n",
              "    .dataframe thead th {\n",
              "        text-align: right;\n",
              "    }\n",
              "</style>\n",
              "<table border=\"1\" class=\"dataframe\">\n",
              "  <thead>\n",
              "    <tr style=\"text-align: right;\">\n",
              "      <th></th>\n",
              "      <th>2013</th>\n",
              "      <th>2019</th>\n",
              "    </tr>\n",
              "  </thead>\n",
              "  <tbody>\n",
              "    <tr>\n",
              "      <th>coal</th>\n",
              "      <td>11.078406</td>\n",
              "      <td>10.785784</td>\n",
              "    </tr>\n",
              "    <tr>\n",
              "      <th>oil</th>\n",
              "      <td>33.484179</td>\n",
              "      <td>31.802120</td>\n",
              "    </tr>\n",
              "    <tr>\n",
              "      <th>gas</th>\n",
              "      <td>18.989335</td>\n",
              "      <td>19.548878</td>\n",
              "    </tr>\n",
              "    <tr>\n",
              "      <th>nuclear</th>\n",
              "      <td>3.429337</td>\n",
              "      <td>3.431894</td>\n",
              "    </tr>\n",
              "    <tr>\n",
              "      <th>solar</th>\n",
              "      <td>0.527466</td>\n",
              "      <td>1.740317</td>\n",
              "    </tr>\n",
              "    <tr>\n",
              "      <th>wind</th>\n",
              "      <td>1.811914</td>\n",
              "      <td>3.304247</td>\n",
              "    </tr>\n",
              "    <tr>\n",
              "      <th>hydro</th>\n",
              "      <td>26.574404</td>\n",
              "      <td>24.742447</td>\n",
              "    </tr>\n",
              "    <tr>\n",
              "      <th>other_renewables</th>\n",
              "      <td>2.495320</td>\n",
              "      <td>3.220935</td>\n",
              "    </tr>\n",
              "  </tbody>\n",
              "</table>\n",
              "</div>"
            ],
            "text/plain": [
              "                       2013       2019\n",
              "coal              11.078406  10.785784\n",
              "oil               33.484179  31.802120\n",
              "gas               18.989335  19.548878\n",
              "nuclear            3.429337   3.431894\n",
              "solar              0.527466   1.740317\n",
              "wind               1.811914   3.304247\n",
              "hydro             26.574404  24.742447\n",
              "other_renewables   2.495320   3.220935"
            ]
          },
          "metadata": {
            "tags": []
          },
          "execution_count": 337
        }
      ]
    },
    {
      "cell_type": "code",
      "metadata": {
        "colab": {
          "base_uri": "https://localhost:8080/",
          "height": 312
        },
        "id": "_1GxPYwcE90b",
        "outputId": "b400bb25-95be-4d8d-a89e-b33292511aa3"
      },
      "source": [
        "Usage_df.plot(kind=\"barh\")\n",
        "plt.title(\"World Countries 2013 vs 2019 Sources\")\n",
        "plt.xlabel(\"Electricity (%)\")\n",
        "plt.ylabel(\"Sources of Electricity\")"
      ],
      "execution_count": null,
      "outputs": [
        {
          "output_type": "execute_result",
          "data": {
            "text/plain": [
              "Text(0, 0.5, 'Sources of Electricity')"
            ]
          },
          "metadata": {
            "tags": []
          },
          "execution_count": 338
        },
        {
          "output_type": "display_data",
          "data": {
            "image/png": "[encoded data removed]",
            "text/plain": [
              "<Figure size 432x288 with 1 Axes>"
            ]
          },
          "metadata": {
            "tags": [],
            "needs_background": "light"
          }
        }
      ]
    },
    {
      "cell_type": "code",
      "metadata": {
        "colab": {
          "base_uri": "https://localhost:8080/"
        },
        "id": "ChlcgeFrFDiD",
        "outputId": "7b37ba8e-78e1-4e52-9464-d23e4a5895a2"
      },
      "source": [
        "Global_growth = Usage_df['2019'] - Usage_df['2013']\n",
        "Global_growth\n",
        "# From below we can see most growth is in wind, and least growth is in hydro"
      ],
      "execution_count": null,
      "outputs": [
        {
          "output_type": "execute_result",
          "data": {
            "text/plain": [
              "coal               -0.292622\n",
              "oil                -1.682059\n",
              "gas                 0.559542\n",
              "nuclear             0.002557\n",
              "solar               1.212850\n",
              "wind                1.492333\n",
              "hydro              -1.831957\n",
              "other_renewables    0.725615\n",
              "dtype: float64"
            ]
          },
          "metadata": {
            "tags": []
          },
          "execution_count": 339
        }
      ]
    },
    {
      "cell_type": "code",
      "metadata": {
        "colab": {
          "base_uri": "https://localhost:8080/",
          "height": 314
        },
        "id": "sRjLj-RsFHN2",
        "outputId": "3bdbbbfd-0d89-42ae-afe1-755e1ca1a841"
      },
      "source": [
        "# Verifying with World Row\n",
        "Year_2013_World = Year_2013[Year_2013['Entity'] == 'World'].copy(deep= True)\n",
        "Year_2013_World\n",
        "\n",
        "for index, rows in Year_2013_World.iterrows(): \n",
        "    # Creating a variabke for the current 'rows'\n",
        "    World_2013 = ([rows.percent_coal_electricity, rows.percent_oil_electricity, rows.percent_gas_electricity, \n",
        "                   rows.percent_nuclear_electricity, rows.percent_solar_electricity, \n",
        "                   rows.percent_wind_electricity, rows.percent_hydro_electricity, \n",
        "                   rows.percent_other_renewables])\n",
        "    print(World_2013)\n",
        "\n",
        "World_Usage_df = pd.DataFrame({\n",
        "    \"2013\":World_2013,\n",
        "    \"2019\":World_2019,\n",
        "    }, index= c)\n",
        "\n",
        "World_Usage_df\n",
        "\n",
        "# It doesn't look like there was much change"
      ],
      "execution_count": null,
      "outputs": [
        {
          "output_type": "stream",
          "text": [
            "[40.8791930665817, 4.554098651001999, 21.693950630337056, 10.640317812174112, 0.5936590756819066, 2.713096946126964, 16.275999486388816, 1.9800195168853216]\n"
          ],
          "name": "stdout"
        },
        {
          "output_type": "execute_result",
          "data": {
            "text/html": [
              "<div>\n",
              "<style scoped>\n",
              "    .dataframe tbody tr th:only-of-type {\n",
              "        vertical-align: middle;\n",
              "    }\n",
              "\n",
              "    .dataframe tbody tr th {\n",
              "        vertical-align: top;\n",
              "    }\n",
              "\n",
              "    .dataframe thead th {\n",
              "        text-align: right;\n",
              "    }\n",
              "</style>\n",
              "<table border=\"1\" class=\"dataframe\">\n",
              "  <thead>\n",
              "    <tr style=\"text-align: right;\">\n",
              "      <th></th>\n",
              "      <th>2013</th>\n",
              "      <th>2019</th>\n",
              "    </tr>\n",
              "  </thead>\n",
              "  <tbody>\n",
              "    <tr>\n",
              "      <th>coal</th>\n",
              "      <td>40.879193</td>\n",
              "      <td>36.379205</td>\n",
              "    </tr>\n",
              "    <tr>\n",
              "      <th>oil</th>\n",
              "      <td>4.554099</td>\n",
              "      <td>3.056305</td>\n",
              "    </tr>\n",
              "    <tr>\n",
              "      <th>gas</th>\n",
              "      <td>21.693951</td>\n",
              "      <td>23.321546</td>\n",
              "    </tr>\n",
              "    <tr>\n",
              "      <th>nuclear</th>\n",
              "      <td>10.640318</td>\n",
              "      <td>10.353626</td>\n",
              "    </tr>\n",
              "    <tr>\n",
              "      <th>solar</th>\n",
              "      <td>0.593659</td>\n",
              "      <td>2.681339</td>\n",
              "    </tr>\n",
              "    <tr>\n",
              "      <th>wind</th>\n",
              "      <td>2.713097</td>\n",
              "      <td>5.293975</td>\n",
              "    </tr>\n",
              "    <tr>\n",
              "      <th>hydro</th>\n",
              "      <td>16.275999</td>\n",
              "      <td>15.635134</td>\n",
              "    </tr>\n",
              "    <tr>\n",
              "      <th>other_renewables</th>\n",
              "      <td>1.980020</td>\n",
              "      <td>2.413699</td>\n",
              "    </tr>\n",
              "  </tbody>\n",
              "</table>\n",
              "</div>"
            ],
            "text/plain": [
              "                       2013       2019\n",
              "coal              40.879193  36.379205\n",
              "oil                4.554099   3.056305\n",
              "gas               21.693951  23.321546\n",
              "nuclear           10.640318  10.353626\n",
              "solar              0.593659   2.681339\n",
              "wind               2.713097   5.293975\n",
              "hydro             16.275999  15.635134\n",
              "other_renewables   1.980020   2.413699"
            ]
          },
          "metadata": {
            "tags": []
          },
          "execution_count": 340
        }
      ]
    },
    {
      "cell_type": "code",
      "metadata": {
        "colab": {
          "base_uri": "https://localhost:8080/",
          "height": 312
        },
        "id": "QwH1HETcFLjm",
        "outputId": "154f6daf-3d21-469c-be14-a26566d26d2c"
      },
      "source": [
        "World_Usage_df.plot(kind=\"barh\")\n",
        "plt.title(\"World 2013 vs 2019 Sources\")\n",
        "plt.xlabel(\"Electricity (%)\")\n",
        "plt.ylabel(\"Sources of Electricity\")"
      ],
      "execution_count": null,
      "outputs": [
        {
          "output_type": "execute_result",
          "data": {
            "text/plain": [
              "Text(0, 0.5, 'Sources of Electricity')"
            ]
          },
          "metadata": {
            "tags": []
          },
          "execution_count": 341
        },
        {
          "output_type": "display_data",
          "data": {
            "image/png": "[encoded data removed]",
            "text/plain": [
              "<Figure size 432x288 with 1 Axes>"
            ]
          },
          "metadata": {
            "tags": [],
            "needs_background": "light"
          }
        }
      ]
    },
    {
      "cell_type": "code",
      "metadata": {
        "colab": {
          "base_uri": "https://localhost:8080/"
        },
        "id": "SHKLCpqyFRD-",
        "outputId": "5c5b8a22-fd67-4894-d3ba-01da3ff2f647"
      },
      "source": [
        "World_growth = World_Usage_df['2019'] - World_Usage_df['2013']\n",
        "World_growth\n",
        "# The most growth is in wind and the least is in coal"
      ],
      "execution_count": null,
      "outputs": [
        {
          "output_type": "execute_result",
          "data": {
            "text/plain": [
              "coal               -4.499988\n",
              "oil                -1.497794\n",
              "gas                 1.627596\n",
              "nuclear            -0.286692\n",
              "solar               2.087680\n",
              "wind                2.580878\n",
              "hydro              -0.640865\n",
              "other_renewables    0.433679\n",
              "dtype: float64"
            ]
          },
          "metadata": {
            "tags": []
          },
          "execution_count": 342
        }
      ]
    },
    {
      "cell_type": "code",
      "metadata": {
        "colab": {
          "base_uri": "https://localhost:8080/",
          "height": 297
        },
        "id": "_yiQ1W3ZFUz2",
        "outputId": "5a3226b1-a5d4-4bd5-e6e0-e73b7fda37ff"
      },
      "source": [
        "# East Africa\n",
        "\n",
        "EA_2013 = Year_2013[(Year_2013['Entity'] == 'Kenya') | (Year_2013['Entity'] == 'Tanzania') | \n",
        "                             (Year_2013['Entity'] == 'Uganda') | (Year_2013['Entity'] == 'South Sudan') | \n",
        "                             (Year_2013['Entity'] == 'Ethiopia') | (Year_2013['Entity'] == 'Rwanda') | \n",
        "                             (Year_2013['Entity'] == 'Burundi')]\n",
        "EA_2013\n",
        "EA_2013_coal = EA_2013.percent_coal_electricity.sum() / EA_2013.percent_coal_electricity.count()\n",
        "EA_2013_oil = EA_2013.percent_oil_electricity.sum() / EA_2013.percent_oil_electricity.count()\n",
        "EA_2013_gas = EA_2013.percent_gas_electricity.sum() / EA_2013.percent_gas_electricity.count()\n",
        "EA_2013_nuclear = EA_2013.percent_nuclear_electricity.sum() / EA_2013.percent_nuclear_electricity.count() \n",
        "EA_2013_solar = EA_2013.percent_solar_electricity.sum() / EA_2013.percent_solar_electricity.count()\n",
        "EA_2013_wind = EA_2013.percent_wind_electricity.sum() / EA_2013.percent_wind_electricity.count()\n",
        "EA_2013_hydro = EA_2013.percent_hydro_electricity.sum() / EA_2013.percent_hydro_electricity.count()\n",
        "EA_2013_other_renewables = EA_2013.percent_other_renewables.sum() / EA_2013.percent_other_renewables.count()\n",
        "\n",
        "EA_Usage_2013 = [EA_2013_coal,EA_2013_oil,EA_2013_gas,EA_2013_nuclear,EA_2013_solar,\n",
        "                 EA_2013_wind,EA_2013_hydro,EA_2013_other_renewables]\n",
        "\n",
        "EA_Usage_df = pd.DataFrame({\n",
        "    \"2013\":EA_Usage_2013,\n",
        "    \"2019\":EA_Usage_2019,\n",
        "    }, index= c)\n",
        "\n",
        "EA_Usage_df"
      ],
      "execution_count": null,
      "outputs": [
        {
          "output_type": "execute_result",
          "data": {
            "text/html": [
              "<div>\n",
              "<style scoped>\n",
              "    .dataframe tbody tr th:only-of-type {\n",
              "        vertical-align: middle;\n",
              "    }\n",
              "\n",
              "    .dataframe tbody tr th {\n",
              "        vertical-align: top;\n",
              "    }\n",
              "\n",
              "    .dataframe thead th {\n",
              "        text-align: right;\n",
              "    }\n",
              "</style>\n",
              "<table border=\"1\" class=\"dataframe\">\n",
              "  <thead>\n",
              "    <tr style=\"text-align: right;\">\n",
              "      <th></th>\n",
              "      <th>2013</th>\n",
              "      <th>2019</th>\n",
              "    </tr>\n",
              "  </thead>\n",
              "  <tbody>\n",
              "    <tr>\n",
              "      <th>coal</th>\n",
              "      <td>0.000000</td>\n",
              "      <td>0.000000</td>\n",
              "    </tr>\n",
              "    <tr>\n",
              "      <th>oil</th>\n",
              "      <td>31.879243</td>\n",
              "      <td>24.475741</td>\n",
              "    </tr>\n",
              "    <tr>\n",
              "      <th>gas</th>\n",
              "      <td>7.628478</td>\n",
              "      <td>12.034441</td>\n",
              "    </tr>\n",
              "    <tr>\n",
              "      <th>nuclear</th>\n",
              "      <td>0.000000</td>\n",
              "      <td>0.000000</td>\n",
              "    </tr>\n",
              "    <tr>\n",
              "      <th>solar</th>\n",
              "      <td>0.525671</td>\n",
              "      <td>1.270299</td>\n",
              "    </tr>\n",
              "    <tr>\n",
              "      <th>wind</th>\n",
              "      <td>0.617525</td>\n",
              "      <td>1.270299</td>\n",
              "    </tr>\n",
              "    <tr>\n",
              "      <th>hydro</th>\n",
              "      <td>54.500039</td>\n",
              "      <td>52.463195</td>\n",
              "    </tr>\n",
              "    <tr>\n",
              "      <th>other_renewables</th>\n",
              "      <td>4.849045</td>\n",
              "      <td>8.015742</td>\n",
              "    </tr>\n",
              "  </tbody>\n",
              "</table>\n",
              "</div>"
            ],
            "text/plain": [
              "                       2013       2019\n",
              "coal               0.000000   0.000000\n",
              "oil               31.879243  24.475741\n",
              "gas                7.628478  12.034441\n",
              "nuclear            0.000000   0.000000\n",
              "solar              0.525671   1.270299\n",
              "wind               0.617525   1.270299\n",
              "hydro             54.500039  52.463195\n",
              "other_renewables   4.849045   8.015742"
            ]
          },
          "metadata": {
            "tags": []
          },
          "execution_count": 343
        }
      ]
    },
    {
      "cell_type": "code",
      "metadata": {
        "colab": {
          "base_uri": "https://localhost:8080/",
          "height": 312
        },
        "id": "7IPN7cX9FZgO",
        "outputId": "9a8af7c4-c01a-40bf-8e84-3590652b0578"
      },
      "source": [
        "EA_Usage_df.plot(kind=\"barh\")\n",
        "plt.title(\"East Africa 2013 vs 2019 Sources\")\n",
        "plt.xlabel(\"Electricity (%)\")\n",
        "plt.ylabel(\"Sources of Electricity\")"
      ],
      "execution_count": null,
      "outputs": [
        {
          "output_type": "execute_result",
          "data": {
            "text/plain": [
              "Text(0, 0.5, 'Sources of Electricity')"
            ]
          },
          "metadata": {
            "tags": []
          },
          "execution_count": 344
        },
        {
          "output_type": "display_data",
          "data": {
            "image/png": "[encoded data removed]",
            "text/plain": [
              "<Figure size 432x288 with 1 Axes>"
            ]
          },
          "metadata": {
            "tags": [],
            "needs_background": "light"
          }
        }
      ]
    },
    {
      "cell_type": "code",
      "metadata": {
        "colab": {
          "base_uri": "https://localhost:8080/"
        },
        "id": "dAoC7YTlFdYZ",
        "outputId": "69009642-4e69-4b6b-f16a-b6980f96a9bb"
      },
      "source": [
        "EA_growth = EA_Usage_df['2019'] - EA_Usage_df['2013']\n",
        "EA_growth\n",
        "\n",
        "# Gas has most growth, oil has the least"
      ],
      "execution_count": null,
      "outputs": [
        {
          "output_type": "execute_result",
          "data": {
            "text/plain": [
              "coal                0.000000\n",
              "oil                -7.403502\n",
              "gas                 4.405963\n",
              "nuclear             0.000000\n",
              "solar               0.744627\n",
              "wind                0.652774\n",
              "hydro              -2.036844\n",
              "other_renewables    3.166697\n",
              "dtype: float64"
            ]
          },
          "metadata": {
            "tags": []
          },
          "execution_count": 345
        }
      ]
    },
    {
      "cell_type": "code",
      "metadata": {
        "colab": {
          "base_uri": "https://localhost:8080/",
          "height": 314
        },
        "id": "bbhRsx52FiwW",
        "outputId": "1c119205-e457-4752-9a90-278e81fed1d0"
      },
      "source": [
        "# Kenya\n",
        "\n",
        "Year_2013_Kenya = Year_2013[Year_2013['Entity'] == 'Kenya'].copy(deep= True)\n",
        "Year_2013_Kenya\n",
        "\n",
        "for index, rows in Year_2013_Kenya.iterrows(): \n",
        "    # Creating a list for the current row \n",
        "    Kenya_2013 = ([rows.percent_coal_electricity, rows.percent_oil_electricity, rows.percent_gas_electricity, \n",
        "                   rows.percent_nuclear_electricity, rows.percent_solar_electricity, \n",
        "                   rows.percent_wind_electricity, rows.percent_hydro_electricity, \n",
        "                   rows.percent_other_renewables])\n",
        "    print(Kenya_2013)\n",
        "\n",
        "Kenya_Usage_df = pd.DataFrame({\n",
        "    \"2013\":Kenya_2013,\n",
        "    \"2019\":Kenya_2019,\n",
        "    }, index= c)\n",
        "\n",
        "Kenya_Usage_df"
      ],
      "execution_count": null,
      "outputs": [
        {
          "output_type": "stream",
          "text": [
            "[0.0, 30.222956234516932, 0.0, 0.0, 0.3656954111124219, 0.21233927096850305, 46.077621800165154, 23.121387283236995]\n"
          ],
          "name": "stdout"
        },
        {
          "output_type": "execute_result",
          "data": {
            "text/html": [
              "<div>\n",
              "<style scoped>\n",
              "    .dataframe tbody tr th:only-of-type {\n",
              "        vertical-align: middle;\n",
              "    }\n",
              "\n",
              "    .dataframe tbody tr th {\n",
              "        vertical-align: top;\n",
              "    }\n",
              "\n",
              "    .dataframe thead th {\n",
              "        text-align: right;\n",
              "    }\n",
              "</style>\n",
              "<table border=\"1\" class=\"dataframe\">\n",
              "  <thead>\n",
              "    <tr style=\"text-align: right;\">\n",
              "      <th></th>\n",
              "      <th>2013</th>\n",
              "      <th>2019</th>\n",
              "    </tr>\n",
              "  </thead>\n",
              "  <tbody>\n",
              "    <tr>\n",
              "      <th>coal</th>\n",
              "      <td>0.000000</td>\n",
              "      <td>0.000000</td>\n",
              "    </tr>\n",
              "    <tr>\n",
              "      <th>oil</th>\n",
              "      <td>30.222956</td>\n",
              "      <td>19.252529</td>\n",
              "    </tr>\n",
              "    <tr>\n",
              "      <th>gas</th>\n",
              "      <td>0.000000</td>\n",
              "      <td>0.000000</td>\n",
              "    </tr>\n",
              "    <tr>\n",
              "      <th>nuclear</th>\n",
              "      <td>0.000000</td>\n",
              "      <td>0.000000</td>\n",
              "    </tr>\n",
              "    <tr>\n",
              "      <th>solar</th>\n",
              "      <td>0.365695</td>\n",
              "      <td>2.228699</td>\n",
              "    </tr>\n",
              "    <tr>\n",
              "      <th>wind</th>\n",
              "      <td>0.212339</td>\n",
              "      <td>6.171781</td>\n",
              "    </tr>\n",
              "    <tr>\n",
              "      <th>hydro</th>\n",
              "      <td>46.077622</td>\n",
              "      <td>25.564318</td>\n",
              "    </tr>\n",
              "    <tr>\n",
              "      <th>other_renewables</th>\n",
              "      <td>23.121387</td>\n",
              "      <td>46.782673</td>\n",
              "    </tr>\n",
              "  </tbody>\n",
              "</table>\n",
              "</div>"
            ],
            "text/plain": [
              "                       2013       2019\n",
              "coal               0.000000   0.000000\n",
              "oil               30.222956  19.252529\n",
              "gas                0.000000   0.000000\n",
              "nuclear            0.000000   0.000000\n",
              "solar              0.365695   2.228699\n",
              "wind               0.212339   6.171781\n",
              "hydro             46.077622  25.564318\n",
              "other_renewables  23.121387  46.782673"
            ]
          },
          "metadata": {
            "tags": []
          },
          "execution_count": 346
        }
      ]
    },
    {
      "cell_type": "code",
      "metadata": {
        "colab": {
          "base_uri": "https://localhost:8080/",
          "height": 312
        },
        "id": "LKGRdNWLFm8v",
        "outputId": "fc362998-181d-4595-ed79-c6536dbc0ef7"
      },
      "source": [
        "Kenya_Usage_df.plot(kind=\"barh\")\n",
        "plt.title(\"Kenya 2013 vs 2019 Sources\")\n",
        "plt.xlabel(\"Electricity (%)\")\n",
        "plt.ylabel(\"Sources of Electricity\")"
      ],
      "execution_count": null,
      "outputs": [
        {
          "output_type": "execute_result",
          "data": {
            "text/plain": [
              "Text(0, 0.5, 'Sources of Electricity')"
            ]
          },
          "metadata": {
            "tags": []
          },
          "execution_count": 347
        },
        {
          "output_type": "display_data",
          "data": {
            "image/png": "[encoded data removed]",
            "text/plain": [
              "<Figure size 432x288 with 1 Axes>"
            ]
          },
          "metadata": {
            "tags": [],
            "needs_background": "light"
          }
        }
      ]
    },
    {
      "cell_type": "code",
      "metadata": {
        "id": "hRrNUJzYFrcW",
        "colab": {
          "base_uri": "https://localhost:8080/"
        },
        "outputId": "4d47ebe0-7a9d-4f89-df6b-d8148664bee2"
      },
      "source": [
        "Kenya_growth = Kenya_Usage_df['2019'] - Kenya_Usage_df['2013']\n",
        "Kenya_growth\n",
        "# Other renewables have seen more growth while hydro has seen the least"
      ],
      "execution_count": null,
      "outputs": [
        {
          "output_type": "execute_result",
          "data": {
            "text/plain": [
              "coal                 0.000000\n",
              "oil                -10.970428\n",
              "gas                  0.000000\n",
              "nuclear              0.000000\n",
              "solar                1.863003\n",
              "wind                 5.959442\n",
              "hydro              -20.513304\n",
              "other_renewables    23.661286\n",
              "dtype: float64"
            ]
          },
          "metadata": {
            "tags": []
          },
          "execution_count": 348
        }
      ]
    },
    {
      "cell_type": "markdown",
      "metadata": {
        "id": "BYLUn_ryWkNL"
      },
      "source": [
        "# RECOMMENDATION"
      ]
    },
    {
      "cell_type": "markdown",
      "metadata": {
        "id": "bYJHcuiiWq66"
      },
      "source": [
        "The data from 2011 showed room for growth especially in regions outside major cities, where electricity access was very low. It was also noticed that areas with higher access to electricity are the regions generally known to be higher contributors to the economy, hence are regions of higher median income. These areas are generally more developed. To achieve growth of the economy as expected by Vision 2030, electricity access to these less developed regions could improve their economic conditions. A recommendation could be to research solar lamps as an energy source for low income houses. Additionally, counties should be involved in national electricity development plans. Countrywide, electricity access is growing steadily as of 2016 but more needs to be done if the targets of 80% by 2020 and 100% connectivity by 2022 are to be met. Renewables are recommended as strides have already been made and Kenya has a wealth of natural resources (wind, solar and geothermal) that it can exploit. This will help expedite the goal of sustainability as expected from the Paris Agreement. Finally there also  needs to be improved data collection in Kenya and Africa (in general) in order to more effectively track Kenya’s progress."
      ]
    }
  ]
}