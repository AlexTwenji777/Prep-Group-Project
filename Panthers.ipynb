{
  "nbformat": 4,
  "nbformat_minor": 0,
  "metadata": {
    "colab": {
      "name": "Copy of Panthers.ipynb",
      "provenance": [],
      "collapsed_sections": [
        "KC8jERBm7HiU",
        "dgebB6r9CczN",
        "J3PYw8kaoVyk",
        "BHwH3RUFbXu_"
      ]
    },
    "kernelspec": {
      "name": "python3",
      "display_name": "Python 3"
    }
  },
  "cells": [
    {
      "cell_type": "markdown",
      "metadata": {
        "id": "osOCWUno68ZC"
      },
      "source": [
        "Kenya’s goal is to reach 100% electricity connectivity by 2022. This is to enable a green economy run by 100% sustainable energy in terms of electricity generation and consumption. Additionally, in accordance with the Paris Agreement, Kenya committed itself to tackling climate change. The country’s determined contribution (National Determined Contribution), which is pegged on the 2013 Kenya Climate Change Action Plan, promises to reduce greenhouse gas (GHG) emissions by 30% by 2030 from 2015 (Ministry\n",
        "of Environment and Natural Resources 2015).\n",
        "\n",
        "The goal of this project is to determine what the current consumption of electricity is, type of energy source and how does it compare over the duration of the data and the Vision 2030 goals?"
      ]
    },
    {
      "cell_type": "markdown",
      "metadata": {
        "id": "KC8jERBm7HiU"
      },
      "source": [
        "# DATA PREPARATION"
      ]
    },
    {
      "cell_type": "code",
      "metadata": {
        "id": "W1tyOBER6sv-"
      },
      "source": [
        "# Loading libraries into our environment\n",
        "\n",
        "import pandas as pd\n",
        "import numpy as np\n",
        "import seaborn as sns\n",
        "import matplotlib.pyplot as plt\n",
        "%matplotlib inline"
      ],
      "execution_count": 1,
      "outputs": []
    },
    {
      "cell_type": "code",
      "metadata": {
        "id": "_3303Vb97xKr"
      },
      "source": [
        "# Loading the datasets into the environment\n",
        "\n",
        "Energy_2020 = pd.read_csv('Energy_Main_Lighting_Energy_Sources.csv')\n",
        "Energy_2017 = pd.read_csv('Main_Lighting_Energy_Sources_averaged_to_Districts_in_2009.csv')"
      ],
      "execution_count": 2,
      "outputs": []
    },
    {
      "cell_type": "code",
      "metadata": {
        "colab": {
          "base_uri": "https://localhost:8080/",
          "height": 0
        },
        "id": "vSVR706m8I3W",
        "outputId": "e20197f4-cca1-4749-bfae-14361a20658c"
      },
      "source": [
        "# Previewing Energy 2020\n",
        "Energy_2020.head()"
      ],
      "execution_count": 3,
      "outputs": [
        {
          "output_type": "execute_result",
          "data": {
            "text/html": [
              "<div>\n",
              "<style scoped>\n",
              "    .dataframe tbody tr th:only-of-type {\n",
              "        vertical-align: middle;\n",
              "    }\n",
              "\n",
              "    .dataframe tbody tr th {\n",
              "        vertical-align: top;\n",
              "    }\n",
              "\n",
              "    .dataframe thead th {\n",
              "        text-align: right;\n",
              "    }\n",
              "</style>\n",
              "<table border=\"1\" class=\"dataframe\">\n",
              "  <thead>\n",
              "    <tr style=\"text-align: right;\">\n",
              "      <th></th>\n",
              "      <th>OBJECTID</th>\n",
              "      <th>County</th>\n",
              "      <th>Electricty_percentage</th>\n",
              "      <th>Pressure_Lamp_percentage</th>\n",
              "      <th>Lantern_percentage</th>\n",
              "      <th>Tin_Lamp_percebntage</th>\n",
              "      <th>Gas_Lamp_percentage</th>\n",
              "      <th>Fuel_wood_percentage</th>\n",
              "      <th>Solar_percentage</th>\n",
              "      <th>Other_Lighting_percentage</th>\n",
              "      <th>Number_of_households_with_electricity</th>\n",
              "      <th>Number_of_households_with_Pressure_Lamp</th>\n",
              "      <th>Number_of_households_with_Lantern</th>\n",
              "      <th>Number_of_households_with_Tin_Lamp</th>\n",
              "      <th>Number_of_households_with_Gas_Lamp</th>\n",
              "      <th>Number_of_households_with_Fuel_wood</th>\n",
              "      <th>Number_of_households_with_Solar</th>\n",
              "      <th>Number_of_households_with_Other</th>\n",
              "      <th>Households</th>\n",
              "      <th>Shape_Length</th>\n",
              "      <th>Shape_Area</th>\n",
              "    </tr>\n",
              "  </thead>\n",
              "  <tbody>\n",
              "    <tr>\n",
              "      <th>0</th>\n",
              "      <td>1</td>\n",
              "      <td>BARINGO</td>\n",
              "      <td>10</td>\n",
              "      <td>0</td>\n",
              "      <td>39</td>\n",
              "      <td>20</td>\n",
              "      <td>1</td>\n",
              "      <td>2</td>\n",
              "      <td>28</td>\n",
              "      <td>0</td>\n",
              "      <td>10583</td>\n",
              "      <td>437</td>\n",
              "      <td>43488</td>\n",
              "      <td>22238</td>\n",
              "      <td>796</td>\n",
              "      <td>1902</td>\n",
              "      <td>30734</td>\n",
              "      <td>471</td>\n",
              "      <td>110649</td>\n",
              "      <td>6.333111</td>\n",
              "      <td>0.888242</td>\n",
              "    </tr>\n",
              "    <tr>\n",
              "      <th>1</th>\n",
              "      <td>2</td>\n",
              "      <td>BOMET</td>\n",
              "      <td>4</td>\n",
              "      <td>0</td>\n",
              "      <td>65</td>\n",
              "      <td>26</td>\n",
              "      <td>1</td>\n",
              "      <td>3</td>\n",
              "      <td>1</td>\n",
              "      <td>0</td>\n",
              "      <td>7552</td>\n",
              "      <td>581</td>\n",
              "      <td>113311</td>\n",
              "      <td>45434</td>\n",
              "      <td>1135</td>\n",
              "      <td>4958</td>\n",
              "      <td>1444</td>\n",
              "      <td>499</td>\n",
              "      <td>174914</td>\n",
              "      <td>2.101561</td>\n",
              "      <td>0.116672</td>\n",
              "    </tr>\n",
              "    <tr>\n",
              "      <th>2</th>\n",
              "      <td>3</td>\n",
              "      <td>BUNGOMA</td>\n",
              "      <td>5</td>\n",
              "      <td>1</td>\n",
              "      <td>27</td>\n",
              "      <td>67</td>\n",
              "      <td>1</td>\n",
              "      <td>0</td>\n",
              "      <td>1</td>\n",
              "      <td>0</td>\n",
              "      <td>12219</td>\n",
              "      <td>1351</td>\n",
              "      <td>72256</td>\n",
              "      <td>180120</td>\n",
              "      <td>1704</td>\n",
              "      <td>1223</td>\n",
              "      <td>1493</td>\n",
              "      <td>458</td>\n",
              "      <td>270824</td>\n",
              "      <td>3.173881</td>\n",
              "      <td>0.244750</td>\n",
              "    </tr>\n",
              "    <tr>\n",
              "      <th>3</th>\n",
              "      <td>4</td>\n",
              "      <td>BUSIA</td>\n",
              "      <td>6</td>\n",
              "      <td>0</td>\n",
              "      <td>22</td>\n",
              "      <td>71</td>\n",
              "      <td>0</td>\n",
              "      <td>0</td>\n",
              "      <td>0</td>\n",
              "      <td>0</td>\n",
              "      <td>9253</td>\n",
              "      <td>494</td>\n",
              "      <td>33283</td>\n",
              "      <td>108949</td>\n",
              "      <td>709</td>\n",
              "      <td>633</td>\n",
              "      <td>566</td>\n",
              "      <td>338</td>\n",
              "      <td>154225</td>\n",
              "      <td>3.009087</td>\n",
              "      <td>0.136848</td>\n",
              "    </tr>\n",
              "    <tr>\n",
              "      <th>4</th>\n",
              "      <td>5</td>\n",
              "      <td>EMBU</td>\n",
              "      <td>7</td>\n",
              "      <td>0</td>\n",
              "      <td>47</td>\n",
              "      <td>28</td>\n",
              "      <td>1</td>\n",
              "      <td>1</td>\n",
              "      <td>15</td>\n",
              "      <td>0</td>\n",
              "      <td>5547</td>\n",
              "      <td>220</td>\n",
              "      <td>36321</td>\n",
              "      <td>21891</td>\n",
              "      <td>449</td>\n",
              "      <td>1155</td>\n",
              "      <td>11744</td>\n",
              "      <td>228</td>\n",
              "      <td>77555</td>\n",
              "      <td>3.373973</td>\n",
              "      <td>0.227949</td>\n",
              "    </tr>\n",
              "  </tbody>\n",
              "</table>\n",
              "</div>"
            ],
            "text/plain": [
              "   OBJECTID   County  ...  Shape_Length  Shape_Area\n",
              "0         1  BARINGO  ...      6.333111    0.888242\n",
              "1         2    BOMET  ...      2.101561    0.116672\n",
              "2         3  BUNGOMA  ...      3.173881    0.244750\n",
              "3         4    BUSIA  ...      3.009087    0.136848\n",
              "4         5     EMBU  ...      3.373973    0.227949\n",
              "\n",
              "[5 rows x 21 columns]"
            ]
          },
          "metadata": {
            "tags": []
          },
          "execution_count": 3
        }
      ]
    },
    {
      "cell_type": "code",
      "metadata": {
        "colab": {
          "base_uri": "https://localhost:8080/",
          "height": 0
        },
        "id": "xvpvHcvn8SPH",
        "outputId": "5a751489-87bb-4ff4-c700-c9c88b50bff7"
      },
      "source": [
        "# Previewing Energy 2017\n",
        "Energy_2017.head()"
      ],
      "execution_count": 4,
      "outputs": [
        {
          "output_type": "execute_result",
          "data": {
            "text/html": [
              "<div>\n",
              "<style scoped>\n",
              "    .dataframe tbody tr th:only-of-type {\n",
              "        vertical-align: middle;\n",
              "    }\n",
              "\n",
              "    .dataframe tbody tr th {\n",
              "        vertical-align: top;\n",
              "    }\n",
              "\n",
              "    .dataframe thead th {\n",
              "        text-align: right;\n",
              "    }\n",
              "</style>\n",
              "<table border=\"1\" class=\"dataframe\">\n",
              "  <thead>\n",
              "    <tr style=\"text-align: right;\">\n",
              "      <th></th>\n",
              "      <th>_District</th>\n",
              "      <th>Rural_/_Urban</th>\n",
              "      <th>%_of_households_with_electricty</th>\n",
              "      <th>%_of_households_with_Pressure_Lamp</th>\n",
              "      <th>%_of_households_with_Lantern</th>\n",
              "      <th>%_of_households_with_Tin_Lamp</th>\n",
              "      <th>%_of_households_with_Gas_Lamp</th>\n",
              "      <th>%_of_households_with_Fuel_wood</th>\n",
              "      <th>%_of_households_with_Solar</th>\n",
              "      <th>%_of_households_with_Other</th>\n",
              "      <th>Housheolds</th>\n",
              "      <th>No_of_households_with_electricity</th>\n",
              "      <th>No_of_households_with_Pressure_Lamp</th>\n",
              "      <th>No_of_households_with_Lantern</th>\n",
              "      <th>No_of_households_with_Tin_Lamp</th>\n",
              "      <th>No_of_households_with_Gas_Lamp</th>\n",
              "      <th>No_of_households_with_Fuel_wood</th>\n",
              "      <th>No_of_households_with_Solar</th>\n",
              "      <th>No_of_households_with_Other</th>\n",
              "      <th>Province</th>\n",
              "      <th>County</th>\n",
              "      <th>Census_Table</th>\n",
              "      <th>MTEF</th>\n",
              "      <th>MTP</th>\n",
              "      <th>Longtitude</th>\n",
              "      <th>Latitude</th>\n",
              "      <th>Geolocation</th>\n",
              "      <th>OBJECTID</th>\n",
              "    </tr>\n",
              "  </thead>\n",
              "  <tbody>\n",
              "    <tr>\n",
              "      <th>0</th>\n",
              "      <td>MERU CENTRAL</td>\n",
              "      <td>Urban</td>\n",
              "      <td>NaN</td>\n",
              "      <td>NaN</td>\n",
              "      <td>NaN</td>\n",
              "      <td>NaN</td>\n",
              "      <td>NaN</td>\n",
              "      <td>NaN</td>\n",
              "      <td>NaN</td>\n",
              "      <td>NaN</td>\n",
              "      <td>0</td>\n",
              "      <td>0</td>\n",
              "      <td>0</td>\n",
              "      <td>0</td>\n",
              "      <td>0</td>\n",
              "      <td>0</td>\n",
              "      <td>0</td>\n",
              "      <td>0</td>\n",
              "      <td>0</td>\n",
              "      <td>EASTERN</td>\n",
              "      <td>Meru</td>\n",
              "      <td>Table 10b: Urban Households by main type of Li...</td>\n",
              "      <td>Physical Infrastructure</td>\n",
              "      <td>Energy</td>\n",
              "      <td>37.583307</td>\n",
              "      <td>0.001444</td>\n",
              "      <td>(0.001443681, 37.58330732)</td>\n",
              "      <td>0</td>\n",
              "    </tr>\n",
              "    <tr>\n",
              "      <th>1</th>\n",
              "      <td>KAKAMEGA SOUTH</td>\n",
              "      <td>Urban</td>\n",
              "      <td>NaN</td>\n",
              "      <td>NaN</td>\n",
              "      <td>NaN</td>\n",
              "      <td>NaN</td>\n",
              "      <td>NaN</td>\n",
              "      <td>NaN</td>\n",
              "      <td>NaN</td>\n",
              "      <td>NaN</td>\n",
              "      <td>0</td>\n",
              "      <td>0</td>\n",
              "      <td>0</td>\n",
              "      <td>0</td>\n",
              "      <td>0</td>\n",
              "      <td>0</td>\n",
              "      <td>0</td>\n",
              "      <td>0</td>\n",
              "      <td>0</td>\n",
              "      <td>WESTERN</td>\n",
              "      <td>Kakamega</td>\n",
              "      <td>Table 10a: Rural Households by main type of Li...</td>\n",
              "      <td>Physical Infrastructure</td>\n",
              "      <td>Energy</td>\n",
              "      <td>34.707748</td>\n",
              "      <td>0.190562</td>\n",
              "      <td>(0.190561619, 34.7077479)</td>\n",
              "      <td>1</td>\n",
              "    </tr>\n",
              "    <tr>\n",
              "      <th>2</th>\n",
              "      <td>NYANDARUA NORTH</td>\n",
              "      <td>Urban</td>\n",
              "      <td>6.3%</td>\n",
              "      <td>0.6%</td>\n",
              "      <td>51.6%</td>\n",
              "      <td>32.1%</td>\n",
              "      <td>0.8%</td>\n",
              "      <td>0.4%</td>\n",
              "      <td>7.9%</td>\n",
              "      <td>0.2%</td>\n",
              "      <td>52503</td>\n",
              "      <td>3332</td>\n",
              "      <td>302</td>\n",
              "      <td>27102</td>\n",
              "      <td>16865</td>\n",
              "      <td>395</td>\n",
              "      <td>214</td>\n",
              "      <td>4173</td>\n",
              "      <td>120</td>\n",
              "      <td>CENTRAL</td>\n",
              "      <td>Nyandarua</td>\n",
              "      <td>Table 10b: Urban Households by main type of Li...</td>\n",
              "      <td>Physical Infrastructure</td>\n",
              "      <td>Energy</td>\n",
              "      <td>36.423431</td>\n",
              "      <td>-0.144561</td>\n",
              "      <td>(-0.144560572, 36.42343108)</td>\n",
              "      <td>2</td>\n",
              "    </tr>\n",
              "    <tr>\n",
              "      <th>3</th>\n",
              "      <td>NYANDARUA SOUTH</td>\n",
              "      <td>Urban</td>\n",
              "      <td>6%</td>\n",
              "      <td>0.6%</td>\n",
              "      <td>62.8%</td>\n",
              "      <td>24.3%</td>\n",
              "      <td>0.6%</td>\n",
              "      <td>0.2%</td>\n",
              "      <td>5.3%</td>\n",
              "      <td>0.1%</td>\n",
              "      <td>61936</td>\n",
              "      <td>3741</td>\n",
              "      <td>387</td>\n",
              "      <td>38900</td>\n",
              "      <td>15077</td>\n",
              "      <td>384</td>\n",
              "      <td>103</td>\n",
              "      <td>3256</td>\n",
              "      <td>88</td>\n",
              "      <td>CENTRAL</td>\n",
              "      <td>Nyandarua</td>\n",
              "      <td>Table 10b: Urban Households by main type of Li...</td>\n",
              "      <td>Physical Infrastructure</td>\n",
              "      <td>Energy</td>\n",
              "      <td>36.556513</td>\n",
              "      <td>-0.533045</td>\n",
              "      <td>(-0.533045224, 36.55651343)</td>\n",
              "      <td>3</td>\n",
              "    </tr>\n",
              "    <tr>\n",
              "      <th>4</th>\n",
              "      <td>NYERI NORTH</td>\n",
              "      <td>Urban</td>\n",
              "      <td>14.5%</td>\n",
              "      <td>1%</td>\n",
              "      <td>41.4%</td>\n",
              "      <td>34.3%</td>\n",
              "      <td>0.6%</td>\n",
              "      <td>0.8%</td>\n",
              "      <td>7.2%</td>\n",
              "      <td>0.2%</td>\n",
              "      <td>81307</td>\n",
              "      <td>11774</td>\n",
              "      <td>775</td>\n",
              "      <td>33686</td>\n",
              "      <td>27884</td>\n",
              "      <td>514</td>\n",
              "      <td>651</td>\n",
              "      <td>5868</td>\n",
              "      <td>155</td>\n",
              "      <td>CENTRAL</td>\n",
              "      <td>Nyeri</td>\n",
              "      <td>Table 10b: Urban Households by main type of Li...</td>\n",
              "      <td>Physical Infrastructure</td>\n",
              "      <td>Energy</td>\n",
              "      <td>36.981144</td>\n",
              "      <td>-0.266587</td>\n",
              "      <td>(-0.266587082, 36.9811441)</td>\n",
              "      <td>4</td>\n",
              "    </tr>\n",
              "  </tbody>\n",
              "</table>\n",
              "</div>"
            ],
            "text/plain": [
              "         _District Rural_/_Urban  ...                  Geolocation OBJECTID\n",
              "0     MERU CENTRAL         Urban  ...   (0.001443681, 37.58330732)        0\n",
              "1   KAKAMEGA SOUTH         Urban  ...    (0.190561619, 34.7077479)        1\n",
              "2  NYANDARUA NORTH         Urban  ...  (-0.144560572, 36.42343108)        2\n",
              "3  NYANDARUA SOUTH         Urban  ...  (-0.533045224, 36.55651343)        3\n",
              "4      NYERI NORTH         Urban  ...   (-0.266587082, 36.9811441)        4\n",
              "\n",
              "[5 rows x 28 columns]"
            ]
          },
          "metadata": {
            "tags": []
          },
          "execution_count": 4
        }
      ]
    },
    {
      "cell_type": "code",
      "metadata": {
        "colab": {
          "base_uri": "https://localhost:8080/"
        },
        "id": "XwNRRd2z8aOt",
        "outputId": "6631b794-f2c7-45c0-b512-9457d4a6da64"
      },
      "source": [
        "# Understanding the information contained in Energy 2020 columns\n",
        "Energy_2020.info()"
      ],
      "execution_count": 5,
      "outputs": [
        {
          "output_type": "stream",
          "text": [
            "<class 'pandas.core.frame.DataFrame'>\n",
            "RangeIndex: 47 entries, 0 to 46\n",
            "Data columns (total 21 columns):\n",
            " #   Column                                   Non-Null Count  Dtype  \n",
            "---  ------                                   --------------  -----  \n",
            " 0   OBJECTID                                 47 non-null     int64  \n",
            " 1   County                                   47 non-null     object \n",
            " 2   Electricty_percentage                    47 non-null     int64  \n",
            " 3   Pressure_Lamp_percentage                 47 non-null     int64  \n",
            " 4   Lantern_percentage                       47 non-null     int64  \n",
            " 5   Tin_Lamp_percebntage                     47 non-null     int64  \n",
            " 6   Gas_Lamp_percentage                      47 non-null     int64  \n",
            " 7   Fuel_wood_percentage                     47 non-null     int64  \n",
            " 8   Solar_percentage                         47 non-null     int64  \n",
            " 9   Other_Lighting_percentage                47 non-null     int64  \n",
            " 10  Number_of_households_with_electricity    47 non-null     int64  \n",
            " 11  Number_of_households_with_Pressure_Lamp  47 non-null     int64  \n",
            " 12  Number_of_households_with_Lantern        47 non-null     int64  \n",
            " 13  Number_of_households_with_Tin_Lamp       47 non-null     int64  \n",
            " 14  Number_of_households_with_Gas_Lamp       47 non-null     int64  \n",
            " 15  Number_of_households_with_Fuel_wood      47 non-null     int64  \n",
            " 16  Number_of_households_with_Solar          47 non-null     int64  \n",
            " 17  Number_of_households_with_Other          47 non-null     int64  \n",
            " 18  Households                               47 non-null     int64  \n",
            " 19  Shape_Length                             47 non-null     float64\n",
            " 20  Shape_Area                               47 non-null     float64\n",
            "dtypes: float64(2), int64(18), object(1)\n",
            "memory usage: 7.8+ KB\n"
          ],
          "name": "stdout"
        }
      ]
    },
    {
      "cell_type": "code",
      "metadata": {
        "colab": {
          "base_uri": "https://localhost:8080/"
        },
        "id": "R1Pag78B9Shv",
        "outputId": "0d477a81-9f8d-4b7a-ac5b-d87aa431948b"
      },
      "source": [
        "# Understanding the information contained in Energy 2017 columns\n",
        "Energy_2017.info()"
      ],
      "execution_count": 6,
      "outputs": [
        {
          "output_type": "stream",
          "text": [
            "<class 'pandas.core.frame.DataFrame'>\n",
            "RangeIndex: 316 entries, 0 to 315\n",
            "Data columns (total 28 columns):\n",
            " #   Column                               Non-Null Count  Dtype  \n",
            "---  ------                               --------------  -----  \n",
            " 0   _District                            316 non-null    object \n",
            " 1   Rural_/_Urban                        316 non-null    object \n",
            " 2   %_of_households_with_electricty      290 non-null    object \n",
            " 3   %_of_households_with_Pressure_Lamp   290 non-null    object \n",
            " 4   %_of_households_with_Lantern         290 non-null    object \n",
            " 5   %_of_households_with_Tin_Lamp        290 non-null    object \n",
            " 6   %_of_households_with_Gas_Lamp        290 non-null    object \n",
            " 7   %_of_households_with_Fuel_wood       290 non-null    object \n",
            " 8   %_of_households_with_Solar           290 non-null    object \n",
            " 9   %_of_households_with_Other           290 non-null    object \n",
            " 10  Housheolds                           316 non-null    int64  \n",
            " 11  No_of_households_with_electricity    316 non-null    int64  \n",
            " 12  No_of_households_with_Pressure_Lamp  316 non-null    int64  \n",
            " 13  No_of_households_with_Lantern        316 non-null    int64  \n",
            " 14  No_of_households_with_Tin_Lamp       316 non-null    int64  \n",
            " 15  No_of_households_with_Gas_Lamp       316 non-null    int64  \n",
            " 16  No_of_households_with_Fuel_wood      316 non-null    int64  \n",
            " 17  No_of_households_with_Solar          316 non-null    int64  \n",
            " 18  No_of_households_with_Other          316 non-null    int64  \n",
            " 19  Province                             316 non-null    object \n",
            " 20  County                               316 non-null    object \n",
            " 21  Census_Table                         316 non-null    object \n",
            " 22  MTEF                                 316 non-null    object \n",
            " 23  MTP                                  316 non-null    object \n",
            " 24  Longtitude                           314 non-null    float64\n",
            " 25  Latitude                             314 non-null    float64\n",
            " 26  Geolocation                          314 non-null    object \n",
            " 27  OBJECTID                             316 non-null    int64  \n",
            "dtypes: float64(2), int64(10), object(16)\n",
            "memory usage: 69.2+ KB\n"
          ],
          "name": "stdout"
        }
      ]
    },
    {
      "cell_type": "code",
      "metadata": {
        "id": "Ao0W849T9Z6a"
      },
      "source": [
        "# Dropping unrequired fields from Energy 2020\n",
        "\n",
        "Energy_2020.drop(['Electricty_percentage', 'Pressure_Lamp_percentage', 'Lantern_percentage', 'Tin_Lamp_percebntage', 'Gas_Lamp_percentage', 'Fuel_wood_percentage', 'Solar_percentage', 'Other_Lighting_percentage'], axis= 1, inplace= True)\n",
        "Energy_2020.drop(['OBJECTID','Shape_Length', 'Shape_Area'], axis= 1, inplace= True)"
      ],
      "execution_count": 7,
      "outputs": []
    },
    {
      "cell_type": "code",
      "metadata": {
        "id": "URpnctTH-Xa9"
      },
      "source": [
        "# Dropping unrequired fields from Energy 2017\n",
        "Energy_2017.drop(['%_of_households_with_electricty', '%_of_households_with_Pressure_Lamp', '%_of_households_with_Lantern', '%_of_households_with_Tin_Lamp', '%_of_households_with_Gas_Lamp', '%_of_households_with_Fuel_wood'], axis= 1, inplace= True)\n",
        "Energy_2017.drop(['%_of_households_with_Solar', '%_of_households_with_Other', 'Province', 'Census_Table', 'MTEF', 'MTP', 'Longtitude', 'Latitude', 'Geolocation', 'OBJECTID'], axis= 1, inplace= True)"
      ],
      "execution_count": 8,
      "outputs": []
    },
    {
      "cell_type": "code",
      "metadata": {
        "colab": {
          "base_uri": "https://localhost:8080/",
          "height": 0
        },
        "id": "ZVSS93_KA6TD",
        "outputId": "67669a33-d946-46da-f3ca-9f6fc8f66976"
      },
      "source": [
        "# Viewing the new table Energy 2020\n",
        "Energy_2020.head()"
      ],
      "execution_count": 9,
      "outputs": [
        {
          "output_type": "execute_result",
          "data": {
            "text/html": [
              "<div>\n",
              "<style scoped>\n",
              "    .dataframe tbody tr th:only-of-type {\n",
              "        vertical-align: middle;\n",
              "    }\n",
              "\n",
              "    .dataframe tbody tr th {\n",
              "        vertical-align: top;\n",
              "    }\n",
              "\n",
              "    .dataframe thead th {\n",
              "        text-align: right;\n",
              "    }\n",
              "</style>\n",
              "<table border=\"1\" class=\"dataframe\">\n",
              "  <thead>\n",
              "    <tr style=\"text-align: right;\">\n",
              "      <th></th>\n",
              "      <th>County</th>\n",
              "      <th>Number_of_households_with_electricity</th>\n",
              "      <th>Number_of_households_with_Pressure_Lamp</th>\n",
              "      <th>Number_of_households_with_Lantern</th>\n",
              "      <th>Number_of_households_with_Tin_Lamp</th>\n",
              "      <th>Number_of_households_with_Gas_Lamp</th>\n",
              "      <th>Number_of_households_with_Fuel_wood</th>\n",
              "      <th>Number_of_households_with_Solar</th>\n",
              "      <th>Number_of_households_with_Other</th>\n",
              "      <th>Households</th>\n",
              "    </tr>\n",
              "  </thead>\n",
              "  <tbody>\n",
              "    <tr>\n",
              "      <th>0</th>\n",
              "      <td>BARINGO</td>\n",
              "      <td>10583</td>\n",
              "      <td>437</td>\n",
              "      <td>43488</td>\n",
              "      <td>22238</td>\n",
              "      <td>796</td>\n",
              "      <td>1902</td>\n",
              "      <td>30734</td>\n",
              "      <td>471</td>\n",
              "      <td>110649</td>\n",
              "    </tr>\n",
              "    <tr>\n",
              "      <th>1</th>\n",
              "      <td>BOMET</td>\n",
              "      <td>7552</td>\n",
              "      <td>581</td>\n",
              "      <td>113311</td>\n",
              "      <td>45434</td>\n",
              "      <td>1135</td>\n",
              "      <td>4958</td>\n",
              "      <td>1444</td>\n",
              "      <td>499</td>\n",
              "      <td>174914</td>\n",
              "    </tr>\n",
              "    <tr>\n",
              "      <th>2</th>\n",
              "      <td>BUNGOMA</td>\n",
              "      <td>12219</td>\n",
              "      <td>1351</td>\n",
              "      <td>72256</td>\n",
              "      <td>180120</td>\n",
              "      <td>1704</td>\n",
              "      <td>1223</td>\n",
              "      <td>1493</td>\n",
              "      <td>458</td>\n",
              "      <td>270824</td>\n",
              "    </tr>\n",
              "    <tr>\n",
              "      <th>3</th>\n",
              "      <td>BUSIA</td>\n",
              "      <td>9253</td>\n",
              "      <td>494</td>\n",
              "      <td>33283</td>\n",
              "      <td>108949</td>\n",
              "      <td>709</td>\n",
              "      <td>633</td>\n",
              "      <td>566</td>\n",
              "      <td>338</td>\n",
              "      <td>154225</td>\n",
              "    </tr>\n",
              "    <tr>\n",
              "      <th>4</th>\n",
              "      <td>EMBU</td>\n",
              "      <td>5547</td>\n",
              "      <td>220</td>\n",
              "      <td>36321</td>\n",
              "      <td>21891</td>\n",
              "      <td>449</td>\n",
              "      <td>1155</td>\n",
              "      <td>11744</td>\n",
              "      <td>228</td>\n",
              "      <td>77555</td>\n",
              "    </tr>\n",
              "  </tbody>\n",
              "</table>\n",
              "</div>"
            ],
            "text/plain": [
              "    County  ...  Households\n",
              "0  BARINGO  ...      110649\n",
              "1    BOMET  ...      174914\n",
              "2  BUNGOMA  ...      270824\n",
              "3    BUSIA  ...      154225\n",
              "4     EMBU  ...       77555\n",
              "\n",
              "[5 rows x 10 columns]"
            ]
          },
          "metadata": {
            "tags": []
          },
          "execution_count": 9
        }
      ]
    },
    {
      "cell_type": "code",
      "metadata": {
        "colab": {
          "base_uri": "https://localhost:8080/",
          "height": 0
        },
        "id": "1rxTuB3sBBkY",
        "outputId": "2c8ac8f2-ee0b-497f-c862-aaf05e2586e3"
      },
      "source": [
        "# Viewing the new table Energy 2017\n",
        "Energy_2017.head()"
      ],
      "execution_count": 10,
      "outputs": [
        {
          "output_type": "execute_result",
          "data": {
            "text/html": [
              "<div>\n",
              "<style scoped>\n",
              "    .dataframe tbody tr th:only-of-type {\n",
              "        vertical-align: middle;\n",
              "    }\n",
              "\n",
              "    .dataframe tbody tr th {\n",
              "        vertical-align: top;\n",
              "    }\n",
              "\n",
              "    .dataframe thead th {\n",
              "        text-align: right;\n",
              "    }\n",
              "</style>\n",
              "<table border=\"1\" class=\"dataframe\">\n",
              "  <thead>\n",
              "    <tr style=\"text-align: right;\">\n",
              "      <th></th>\n",
              "      <th>_District</th>\n",
              "      <th>Rural_/_Urban</th>\n",
              "      <th>Housheolds</th>\n",
              "      <th>No_of_households_with_electricity</th>\n",
              "      <th>No_of_households_with_Pressure_Lamp</th>\n",
              "      <th>No_of_households_with_Lantern</th>\n",
              "      <th>No_of_households_with_Tin_Lamp</th>\n",
              "      <th>No_of_households_with_Gas_Lamp</th>\n",
              "      <th>No_of_households_with_Fuel_wood</th>\n",
              "      <th>No_of_households_with_Solar</th>\n",
              "      <th>No_of_households_with_Other</th>\n",
              "      <th>County</th>\n",
              "    </tr>\n",
              "  </thead>\n",
              "  <tbody>\n",
              "    <tr>\n",
              "      <th>0</th>\n",
              "      <td>MERU CENTRAL</td>\n",
              "      <td>Urban</td>\n",
              "      <td>0</td>\n",
              "      <td>0</td>\n",
              "      <td>0</td>\n",
              "      <td>0</td>\n",
              "      <td>0</td>\n",
              "      <td>0</td>\n",
              "      <td>0</td>\n",
              "      <td>0</td>\n",
              "      <td>0</td>\n",
              "      <td>Meru</td>\n",
              "    </tr>\n",
              "    <tr>\n",
              "      <th>1</th>\n",
              "      <td>KAKAMEGA SOUTH</td>\n",
              "      <td>Urban</td>\n",
              "      <td>0</td>\n",
              "      <td>0</td>\n",
              "      <td>0</td>\n",
              "      <td>0</td>\n",
              "      <td>0</td>\n",
              "      <td>0</td>\n",
              "      <td>0</td>\n",
              "      <td>0</td>\n",
              "      <td>0</td>\n",
              "      <td>Kakamega</td>\n",
              "    </tr>\n",
              "    <tr>\n",
              "      <th>2</th>\n",
              "      <td>NYANDARUA NORTH</td>\n",
              "      <td>Urban</td>\n",
              "      <td>52503</td>\n",
              "      <td>3332</td>\n",
              "      <td>302</td>\n",
              "      <td>27102</td>\n",
              "      <td>16865</td>\n",
              "      <td>395</td>\n",
              "      <td>214</td>\n",
              "      <td>4173</td>\n",
              "      <td>120</td>\n",
              "      <td>Nyandarua</td>\n",
              "    </tr>\n",
              "    <tr>\n",
              "      <th>3</th>\n",
              "      <td>NYANDARUA SOUTH</td>\n",
              "      <td>Urban</td>\n",
              "      <td>61936</td>\n",
              "      <td>3741</td>\n",
              "      <td>387</td>\n",
              "      <td>38900</td>\n",
              "      <td>15077</td>\n",
              "      <td>384</td>\n",
              "      <td>103</td>\n",
              "      <td>3256</td>\n",
              "      <td>88</td>\n",
              "      <td>Nyandarua</td>\n",
              "    </tr>\n",
              "    <tr>\n",
              "      <th>4</th>\n",
              "      <td>NYERI NORTH</td>\n",
              "      <td>Urban</td>\n",
              "      <td>81307</td>\n",
              "      <td>11774</td>\n",
              "      <td>775</td>\n",
              "      <td>33686</td>\n",
              "      <td>27884</td>\n",
              "      <td>514</td>\n",
              "      <td>651</td>\n",
              "      <td>5868</td>\n",
              "      <td>155</td>\n",
              "      <td>Nyeri</td>\n",
              "    </tr>\n",
              "  </tbody>\n",
              "</table>\n",
              "</div>"
            ],
            "text/plain": [
              "         _District Rural_/_Urban  ...  No_of_households_with_Other     County\n",
              "0     MERU CENTRAL         Urban  ...                            0       Meru\n",
              "1   KAKAMEGA SOUTH         Urban  ...                            0   Kakamega\n",
              "2  NYANDARUA NORTH         Urban  ...                          120  Nyandarua\n",
              "3  NYANDARUA SOUTH         Urban  ...                           88  Nyandarua\n",
              "4      NYERI NORTH         Urban  ...                          155      Nyeri\n",
              "\n",
              "[5 rows x 12 columns]"
            ]
          },
          "metadata": {
            "tags": []
          },
          "execution_count": 10
        }
      ]
    },
    {
      "cell_type": "code",
      "metadata": {
        "id": "s5oUHkw0BGvI"
      },
      "source": [
        "# Making the data consistent\n",
        "Energy_2020.columns = Energy_2020.columns.str.replace('Number','No')\n",
        "Energy_2017.drop('Rural_/_Urban', axis= 1, inplace= True)"
      ],
      "execution_count": 11,
      "outputs": []
    },
    {
      "cell_type": "code",
      "metadata": {
        "colab": {
          "base_uri": "https://localhost:8080/",
          "height": 0
        },
        "id": "nBSWcnAxCK9H",
        "outputId": "c27be353-e583-4dc8-dc98-9b597595baf7"
      },
      "source": [
        "# Prepared Table for Energy 2020\n",
        "Energy_2020.head()"
      ],
      "execution_count": 12,
      "outputs": [
        {
          "output_type": "execute_result",
          "data": {
            "text/html": [
              "<div>\n",
              "<style scoped>\n",
              "    .dataframe tbody tr th:only-of-type {\n",
              "        vertical-align: middle;\n",
              "    }\n",
              "\n",
              "    .dataframe tbody tr th {\n",
              "        vertical-align: top;\n",
              "    }\n",
              "\n",
              "    .dataframe thead th {\n",
              "        text-align: right;\n",
              "    }\n",
              "</style>\n",
              "<table border=\"1\" class=\"dataframe\">\n",
              "  <thead>\n",
              "    <tr style=\"text-align: right;\">\n",
              "      <th></th>\n",
              "      <th>County</th>\n",
              "      <th>No_of_households_with_electricity</th>\n",
              "      <th>No_of_households_with_Pressure_Lamp</th>\n",
              "      <th>No_of_households_with_Lantern</th>\n",
              "      <th>No_of_households_with_Tin_Lamp</th>\n",
              "      <th>No_of_households_with_Gas_Lamp</th>\n",
              "      <th>No_of_households_with_Fuel_wood</th>\n",
              "      <th>No_of_households_with_Solar</th>\n",
              "      <th>No_of_households_with_Other</th>\n",
              "      <th>Households</th>\n",
              "    </tr>\n",
              "  </thead>\n",
              "  <tbody>\n",
              "    <tr>\n",
              "      <th>0</th>\n",
              "      <td>BARINGO</td>\n",
              "      <td>10583</td>\n",
              "      <td>437</td>\n",
              "      <td>43488</td>\n",
              "      <td>22238</td>\n",
              "      <td>796</td>\n",
              "      <td>1902</td>\n",
              "      <td>30734</td>\n",
              "      <td>471</td>\n",
              "      <td>110649</td>\n",
              "    </tr>\n",
              "    <tr>\n",
              "      <th>1</th>\n",
              "      <td>BOMET</td>\n",
              "      <td>7552</td>\n",
              "      <td>581</td>\n",
              "      <td>113311</td>\n",
              "      <td>45434</td>\n",
              "      <td>1135</td>\n",
              "      <td>4958</td>\n",
              "      <td>1444</td>\n",
              "      <td>499</td>\n",
              "      <td>174914</td>\n",
              "    </tr>\n",
              "    <tr>\n",
              "      <th>2</th>\n",
              "      <td>BUNGOMA</td>\n",
              "      <td>12219</td>\n",
              "      <td>1351</td>\n",
              "      <td>72256</td>\n",
              "      <td>180120</td>\n",
              "      <td>1704</td>\n",
              "      <td>1223</td>\n",
              "      <td>1493</td>\n",
              "      <td>458</td>\n",
              "      <td>270824</td>\n",
              "    </tr>\n",
              "    <tr>\n",
              "      <th>3</th>\n",
              "      <td>BUSIA</td>\n",
              "      <td>9253</td>\n",
              "      <td>494</td>\n",
              "      <td>33283</td>\n",
              "      <td>108949</td>\n",
              "      <td>709</td>\n",
              "      <td>633</td>\n",
              "      <td>566</td>\n",
              "      <td>338</td>\n",
              "      <td>154225</td>\n",
              "    </tr>\n",
              "    <tr>\n",
              "      <th>4</th>\n",
              "      <td>EMBU</td>\n",
              "      <td>5547</td>\n",
              "      <td>220</td>\n",
              "      <td>36321</td>\n",
              "      <td>21891</td>\n",
              "      <td>449</td>\n",
              "      <td>1155</td>\n",
              "      <td>11744</td>\n",
              "      <td>228</td>\n",
              "      <td>77555</td>\n",
              "    </tr>\n",
              "  </tbody>\n",
              "</table>\n",
              "</div>"
            ],
            "text/plain": [
              "    County  ...  Households\n",
              "0  BARINGO  ...      110649\n",
              "1    BOMET  ...      174914\n",
              "2  BUNGOMA  ...      270824\n",
              "3    BUSIA  ...      154225\n",
              "4     EMBU  ...       77555\n",
              "\n",
              "[5 rows x 10 columns]"
            ]
          },
          "metadata": {
            "tags": []
          },
          "execution_count": 12
        }
      ]
    },
    {
      "cell_type": "code",
      "metadata": {
        "colab": {
          "base_uri": "https://localhost:8080/",
          "height": 0
        },
        "id": "As3IOz4zCNom",
        "outputId": "a02c0ae1-ee9c-4e55-dcc3-ae4658d05d45"
      },
      "source": [
        "# Prepared Table for Energy 2017\n",
        "Energy_2017.head()"
      ],
      "execution_count": 13,
      "outputs": [
        {
          "output_type": "execute_result",
          "data": {
            "text/html": [
              "<div>\n",
              "<style scoped>\n",
              "    .dataframe tbody tr th:only-of-type {\n",
              "        vertical-align: middle;\n",
              "    }\n",
              "\n",
              "    .dataframe tbody tr th {\n",
              "        vertical-align: top;\n",
              "    }\n",
              "\n",
              "    .dataframe thead th {\n",
              "        text-align: right;\n",
              "    }\n",
              "</style>\n",
              "<table border=\"1\" class=\"dataframe\">\n",
              "  <thead>\n",
              "    <tr style=\"text-align: right;\">\n",
              "      <th></th>\n",
              "      <th>_District</th>\n",
              "      <th>Housheolds</th>\n",
              "      <th>No_of_households_with_electricity</th>\n",
              "      <th>No_of_households_with_Pressure_Lamp</th>\n",
              "      <th>No_of_households_with_Lantern</th>\n",
              "      <th>No_of_households_with_Tin_Lamp</th>\n",
              "      <th>No_of_households_with_Gas_Lamp</th>\n",
              "      <th>No_of_households_with_Fuel_wood</th>\n",
              "      <th>No_of_households_with_Solar</th>\n",
              "      <th>No_of_households_with_Other</th>\n",
              "      <th>County</th>\n",
              "    </tr>\n",
              "  </thead>\n",
              "  <tbody>\n",
              "    <tr>\n",
              "      <th>0</th>\n",
              "      <td>MERU CENTRAL</td>\n",
              "      <td>0</td>\n",
              "      <td>0</td>\n",
              "      <td>0</td>\n",
              "      <td>0</td>\n",
              "      <td>0</td>\n",
              "      <td>0</td>\n",
              "      <td>0</td>\n",
              "      <td>0</td>\n",
              "      <td>0</td>\n",
              "      <td>Meru</td>\n",
              "    </tr>\n",
              "    <tr>\n",
              "      <th>1</th>\n",
              "      <td>KAKAMEGA SOUTH</td>\n",
              "      <td>0</td>\n",
              "      <td>0</td>\n",
              "      <td>0</td>\n",
              "      <td>0</td>\n",
              "      <td>0</td>\n",
              "      <td>0</td>\n",
              "      <td>0</td>\n",
              "      <td>0</td>\n",
              "      <td>0</td>\n",
              "      <td>Kakamega</td>\n",
              "    </tr>\n",
              "    <tr>\n",
              "      <th>2</th>\n",
              "      <td>NYANDARUA NORTH</td>\n",
              "      <td>52503</td>\n",
              "      <td>3332</td>\n",
              "      <td>302</td>\n",
              "      <td>27102</td>\n",
              "      <td>16865</td>\n",
              "      <td>395</td>\n",
              "      <td>214</td>\n",
              "      <td>4173</td>\n",
              "      <td>120</td>\n",
              "      <td>Nyandarua</td>\n",
              "    </tr>\n",
              "    <tr>\n",
              "      <th>3</th>\n",
              "      <td>NYANDARUA SOUTH</td>\n",
              "      <td>61936</td>\n",
              "      <td>3741</td>\n",
              "      <td>387</td>\n",
              "      <td>38900</td>\n",
              "      <td>15077</td>\n",
              "      <td>384</td>\n",
              "      <td>103</td>\n",
              "      <td>3256</td>\n",
              "      <td>88</td>\n",
              "      <td>Nyandarua</td>\n",
              "    </tr>\n",
              "    <tr>\n",
              "      <th>4</th>\n",
              "      <td>NYERI NORTH</td>\n",
              "      <td>81307</td>\n",
              "      <td>11774</td>\n",
              "      <td>775</td>\n",
              "      <td>33686</td>\n",
              "      <td>27884</td>\n",
              "      <td>514</td>\n",
              "      <td>651</td>\n",
              "      <td>5868</td>\n",
              "      <td>155</td>\n",
              "      <td>Nyeri</td>\n",
              "    </tr>\n",
              "  </tbody>\n",
              "</table>\n",
              "</div>"
            ],
            "text/plain": [
              "         _District  Housheolds  ...  No_of_households_with_Other     County\n",
              "0     MERU CENTRAL           0  ...                            0       Meru\n",
              "1   KAKAMEGA SOUTH           0  ...                            0   Kakamega\n",
              "2  NYANDARUA NORTH       52503  ...                          120  Nyandarua\n",
              "3  NYANDARUA SOUTH       61936  ...                           88  Nyandarua\n",
              "4      NYERI NORTH       81307  ...                          155      Nyeri\n",
              "\n",
              "[5 rows x 11 columns]"
            ]
          },
          "metadata": {
            "tags": []
          },
          "execution_count": 13
        }
      ]
    },
    {
      "cell_type": "code",
      "metadata": {
        "id": "pmSgIHBKCQ0K"
      },
      "source": [
        ""
      ],
      "execution_count": 13,
      "outputs": []
    },
    {
      "cell_type": "markdown",
      "metadata": {
        "id": "dgebB6r9CczN"
      },
      "source": [
        "# DATA CLEANING"
      ]
    },
    {
      "cell_type": "markdown",
      "metadata": {
        "id": "vdw18Thp9t_z"
      },
      "source": [
        "## Validity of the data"
      ]
    },
    {
      "cell_type": "code",
      "metadata": {
        "colab": {
          "base_uri": "https://localhost:8080/",
          "height": 0
        },
        "id": "FohlT8guIvXr",
        "outputId": "98e68f43-1c52-4172-c69d-8e1664dd6273"
      },
      "source": [
        "#2017 dataset column name rectification\n",
        "Energy_2017.rename(columns= {'Housheolds': 'Households'}, inplace = True)\n",
        "Energy_2017.head(2)"
      ],
      "execution_count": 14,
      "outputs": [
        {
          "output_type": "execute_result",
          "data": {
            "text/html": [
              "<div>\n",
              "<style scoped>\n",
              "    .dataframe tbody tr th:only-of-type {\n",
              "        vertical-align: middle;\n",
              "    }\n",
              "\n",
              "    .dataframe tbody tr th {\n",
              "        vertical-align: top;\n",
              "    }\n",
              "\n",
              "    .dataframe thead th {\n",
              "        text-align: right;\n",
              "    }\n",
              "</style>\n",
              "<table border=\"1\" class=\"dataframe\">\n",
              "  <thead>\n",
              "    <tr style=\"text-align: right;\">\n",
              "      <th></th>\n",
              "      <th>_District</th>\n",
              "      <th>Households</th>\n",
              "      <th>No_of_households_with_electricity</th>\n",
              "      <th>No_of_households_with_Pressure_Lamp</th>\n",
              "      <th>No_of_households_with_Lantern</th>\n",
              "      <th>No_of_households_with_Tin_Lamp</th>\n",
              "      <th>No_of_households_with_Gas_Lamp</th>\n",
              "      <th>No_of_households_with_Fuel_wood</th>\n",
              "      <th>No_of_households_with_Solar</th>\n",
              "      <th>No_of_households_with_Other</th>\n",
              "      <th>County</th>\n",
              "    </tr>\n",
              "  </thead>\n",
              "  <tbody>\n",
              "    <tr>\n",
              "      <th>0</th>\n",
              "      <td>MERU CENTRAL</td>\n",
              "      <td>0</td>\n",
              "      <td>0</td>\n",
              "      <td>0</td>\n",
              "      <td>0</td>\n",
              "      <td>0</td>\n",
              "      <td>0</td>\n",
              "      <td>0</td>\n",
              "      <td>0</td>\n",
              "      <td>0</td>\n",
              "      <td>Meru</td>\n",
              "    </tr>\n",
              "    <tr>\n",
              "      <th>1</th>\n",
              "      <td>KAKAMEGA SOUTH</td>\n",
              "      <td>0</td>\n",
              "      <td>0</td>\n",
              "      <td>0</td>\n",
              "      <td>0</td>\n",
              "      <td>0</td>\n",
              "      <td>0</td>\n",
              "      <td>0</td>\n",
              "      <td>0</td>\n",
              "      <td>0</td>\n",
              "      <td>Kakamega</td>\n",
              "    </tr>\n",
              "  </tbody>\n",
              "</table>\n",
              "</div>"
            ],
            "text/plain": [
              "        _District  Households  ...  No_of_households_with_Other    County\n",
              "0    MERU CENTRAL           0  ...                            0      Meru\n",
              "1  KAKAMEGA SOUTH           0  ...                            0  Kakamega\n",
              "\n",
              "[2 rows x 11 columns]"
            ]
          },
          "metadata": {
            "tags": []
          },
          "execution_count": 14
        }
      ]
    },
    {
      "cell_type": "code",
      "metadata": {
        "colab": {
          "base_uri": "https://localhost:8080/"
        },
        "id": "ZJissaId9_3m",
        "outputId": "a81490a4-bd01-41ad-8938-9c94be59350c"
      },
      "source": [
        "#Using the str.strip function on the column name to strip any leading and trailing spaces  \n",
        "Energy_2017['County'] = Energy_2017['County'].str.strip()\n",
        "Energy_2020['County'] = Energy_2020['County'].str.strip()\n",
        "\n",
        "# Displaying the resulting dataframe\n",
        "Energy_2017.head(4)\n",
        "Energy_2020.head(2)\n",
        "\n",
        "#checking for errors/anomalies in records\n",
        "Energy_2017['County'].unique()\n",
        "Energy_2020['County'].unique()\n"
      ],
      "execution_count": 15,
      "outputs": [
        {
          "output_type": "execute_result",
          "data": {
            "text/plain": [
              "array(['BARINGO', 'BOMET', 'BUNGOMA', 'BUSIA', 'EMBU', 'GARISSA',\n",
              "       'HOMABAY', 'ISIOLO', 'KAJIADO', 'KAKAMEGA', 'ELGEYO-MARAKWET',\n",
              "       'KERICHO', 'KIAMBU', 'KILIFI', 'KIRINYAGA', 'KISII', 'KISUMU',\n",
              "       'KITUI', 'KWALE', 'LAIKIPIA', 'LAMU', 'MACHAKOS', 'MAKUENI',\n",
              "       'MANDERA', 'MARSABIT', 'MERU', 'MIGORI', 'MOMBASA', 'MURANGA',\n",
              "       'NAIROBI', 'NAKURU', 'NANDI', 'NAROK', 'NYAMIRA', 'NYANDARUA',\n",
              "       'NYERI', 'SAMBURU', 'SIAYA', 'TAITA-TAVETA', 'TANA-RIVER',\n",
              "       'THARAKA-NITHI', 'TRANS-NZOIA', 'TURKANA', 'UASIN-GISHU', 'VIHIGA',\n",
              "       'WAJIR', 'WEST POKOT'], dtype=object)"
            ]
          },
          "metadata": {
            "tags": []
          },
          "execution_count": 15
        }
      ]
    },
    {
      "cell_type": "code",
      "metadata": {
        "colab": {
          "base_uri": "https://localhost:8080/"
        },
        "id": "Hxzm4u49BaGJ",
        "outputId": "5c66b035-aa1c-4626-e600-f85103a45c3e"
      },
      "source": [
        "#Using str.replace() function on the respective 2017 column to remove the apostrophe Murang'a \n",
        "# \n",
        "\n",
        "Energy_2017['County'] = Energy_2017['County'].str.replace(\"'\",\"\")\n",
        "\n",
        "# Displaying the resulting dataframe\n",
        "Energy_2017['County'].unique()"
      ],
      "execution_count": 16,
      "outputs": [
        {
          "output_type": "execute_result",
          "data": {
            "text/plain": [
              "array(['Meru', 'Kakamega', 'Nyandarua', 'Nyeri', 'Kirinyaga', 'Muranga',\n",
              "       'Kiambu', 'Mombasa', 'Kwale', 'Kilifi', 'Tana River', 'Lamu',\n",
              "       'Taita Taveta', 'Marsabit', 'Isiolo', 'Tharaka Nithi', 'Embu',\n",
              "       'Kitui', 'Machakos', 'West Pokot', 'Makueni', 'Nairobi', 'Garissa',\n",
              "       'Wajir', 'Mandera', 'Siaya', 'Kisumu', 'Homa Bay', 'Migori',\n",
              "       'Kisii', 'Nyamira', 'Turkana', 'Samburu', 'Trans Nzoia', 'Baringo',\n",
              "       'Uasin Gishu', 'Elgeyo Marakwet', 'Nandi', 'Laikipia', 'Nakuru',\n",
              "       'Narok', 'Kajiado', 'Kericho', 'Bomet', 'Vihiga', 'Bungoma',\n",
              "       'Busia'], dtype=object)"
            ]
          },
          "metadata": {
            "tags": []
          },
          "execution_count": 16
        }
      ]
    },
    {
      "cell_type": "code",
      "metadata": {
        "colab": {
          "base_uri": "https://localhost:8080/"
        },
        "id": "emhVsk1tFs-x",
        "outputId": "91c01b5c-7c46-4501-ead8-091df3667087"
      },
      "source": [
        "#Using str.replace() function on the respective 2020 column to remove the hyphens \n",
        "# \n",
        "\n",
        "Energy_2020['County'] = Energy_2020['County'].str.replace(\"-\",\" \")\n",
        "\n",
        "# Displaying the resulting dataframe\n",
        "Energy_2020['County'].unique()"
      ],
      "execution_count": 17,
      "outputs": [
        {
          "output_type": "execute_result",
          "data": {
            "text/plain": [
              "array(['BARINGO', 'BOMET', 'BUNGOMA', 'BUSIA', 'EMBU', 'GARISSA',\n",
              "       'HOMABAY', 'ISIOLO', 'KAJIADO', 'KAKAMEGA', 'ELGEYO MARAKWET',\n",
              "       'KERICHO', 'KIAMBU', 'KILIFI', 'KIRINYAGA', 'KISII', 'KISUMU',\n",
              "       'KITUI', 'KWALE', 'LAIKIPIA', 'LAMU', 'MACHAKOS', 'MAKUENI',\n",
              "       'MANDERA', 'MARSABIT', 'MERU', 'MIGORI', 'MOMBASA', 'MURANGA',\n",
              "       'NAIROBI', 'NAKURU', 'NANDI', 'NAROK', 'NYAMIRA', 'NYANDARUA',\n",
              "       'NYERI', 'SAMBURU', 'SIAYA', 'TAITA TAVETA', 'TANA RIVER',\n",
              "       'THARAKA NITHI', 'TRANS NZOIA', 'TURKANA', 'UASIN GISHU', 'VIHIGA',\n",
              "       'WAJIR', 'WEST POKOT'], dtype=object)"
            ]
          },
          "metadata": {
            "tags": []
          },
          "execution_count": 17
        }
      ]
    },
    {
      "cell_type": "markdown",
      "metadata": {
        "id": "10BdigCu-QbU"
      },
      "source": [
        "## Accuracy of the data"
      ]
    },
    {
      "cell_type": "code",
      "metadata": {
        "colab": {
          "base_uri": "https://localhost:8080/",
          "height": 0
        },
        "id": "AGnc2bH4Iaqz",
        "outputId": "d249557f-e391-43c8-ce73-17fd77808959"
      },
      "source": [
        "Energy_2017.head(1)"
      ],
      "execution_count": 18,
      "outputs": [
        {
          "output_type": "execute_result",
          "data": {
            "text/html": [
              "<div>\n",
              "<style scoped>\n",
              "    .dataframe tbody tr th:only-of-type {\n",
              "        vertical-align: middle;\n",
              "    }\n",
              "\n",
              "    .dataframe tbody tr th {\n",
              "        vertical-align: top;\n",
              "    }\n",
              "\n",
              "    .dataframe thead th {\n",
              "        text-align: right;\n",
              "    }\n",
              "</style>\n",
              "<table border=\"1\" class=\"dataframe\">\n",
              "  <thead>\n",
              "    <tr style=\"text-align: right;\">\n",
              "      <th></th>\n",
              "      <th>_District</th>\n",
              "      <th>Households</th>\n",
              "      <th>No_of_households_with_electricity</th>\n",
              "      <th>No_of_households_with_Pressure_Lamp</th>\n",
              "      <th>No_of_households_with_Lantern</th>\n",
              "      <th>No_of_households_with_Tin_Lamp</th>\n",
              "      <th>No_of_households_with_Gas_Lamp</th>\n",
              "      <th>No_of_households_with_Fuel_wood</th>\n",
              "      <th>No_of_households_with_Solar</th>\n",
              "      <th>No_of_households_with_Other</th>\n",
              "      <th>County</th>\n",
              "    </tr>\n",
              "  </thead>\n",
              "  <tbody>\n",
              "    <tr>\n",
              "      <th>0</th>\n",
              "      <td>MERU CENTRAL</td>\n",
              "      <td>0</td>\n",
              "      <td>0</td>\n",
              "      <td>0</td>\n",
              "      <td>0</td>\n",
              "      <td>0</td>\n",
              "      <td>0</td>\n",
              "      <td>0</td>\n",
              "      <td>0</td>\n",
              "      <td>0</td>\n",
              "      <td>Meru</td>\n",
              "    </tr>\n",
              "  </tbody>\n",
              "</table>\n",
              "</div>"
            ],
            "text/plain": [
              "      _District  Households  ...  No_of_households_with_Other  County\n",
              "0  MERU CENTRAL           0  ...                            0    Meru\n",
              "\n",
              "[1 rows x 11 columns]"
            ]
          },
          "metadata": {
            "tags": []
          },
          "execution_count": 18
        }
      ]
    },
    {
      "cell_type": "code",
      "metadata": {
        "colab": {
          "base_uri": "https://localhost:8080/",
          "height": 0
        },
        "id": "G5XKX2Qe-Tm0",
        "outputId": "59b2add4-66e0-44da-ddd7-462587cb4af8"
      },
      "source": [
        "# In-record & cross-datasets error checks\n",
        "#2017 dataset accuracy check\n",
        "e = Energy_2017['No_of_households_with_electricity'] + Energy_2017['No_of_households_with_Pressure_Lamp'] +Energy_2017['No_of_households_with_Lantern'] + Energy_2017['No_of_households_with_Tin_Lamp'] + Energy_2017['No_of_households_with_Gas_Lamp'] + Energy_2017['No_of_households_with_Fuel_wood'] + Energy_2017['No_of_households_with_Solar'] + Energy_2017['No_of_households_with_Other']\n",
        "Energy_2017[Energy_2017['Households'] != e]"
      ],
      "execution_count": 19,
      "outputs": [
        {
          "output_type": "execute_result",
          "data": {
            "text/html": [
              "<div>\n",
              "<style scoped>\n",
              "    .dataframe tbody tr th:only-of-type {\n",
              "        vertical-align: middle;\n",
              "    }\n",
              "\n",
              "    .dataframe tbody tr th {\n",
              "        vertical-align: top;\n",
              "    }\n",
              "\n",
              "    .dataframe thead th {\n",
              "        text-align: right;\n",
              "    }\n",
              "</style>\n",
              "<table border=\"1\" class=\"dataframe\">\n",
              "  <thead>\n",
              "    <tr style=\"text-align: right;\">\n",
              "      <th></th>\n",
              "      <th>_District</th>\n",
              "      <th>Households</th>\n",
              "      <th>No_of_households_with_electricity</th>\n",
              "      <th>No_of_households_with_Pressure_Lamp</th>\n",
              "      <th>No_of_households_with_Lantern</th>\n",
              "      <th>No_of_households_with_Tin_Lamp</th>\n",
              "      <th>No_of_households_with_Gas_Lamp</th>\n",
              "      <th>No_of_households_with_Fuel_wood</th>\n",
              "      <th>No_of_households_with_Solar</th>\n",
              "      <th>No_of_households_with_Other</th>\n",
              "      <th>County</th>\n",
              "    </tr>\n",
              "  </thead>\n",
              "  <tbody>\n",
              "  </tbody>\n",
              "</table>\n",
              "</div>"
            ],
            "text/plain": [
              "Empty DataFrame\n",
              "Columns: [_District, Households, No_of_households_with_electricity, No_of_households_with_Pressure_Lamp, No_of_households_with_Lantern, No_of_households_with_Tin_Lamp, No_of_households_with_Gas_Lamp, No_of_households_with_Fuel_wood, No_of_households_with_Solar, No_of_households_with_Other, County]\n",
              "Index: []"
            ]
          },
          "metadata": {
            "tags": []
          },
          "execution_count": 19
        }
      ]
    },
    {
      "cell_type": "code",
      "metadata": {
        "colab": {
          "base_uri": "https://localhost:8080/",
          "height": 0
        },
        "id": "6iSKhMGiK8ba",
        "outputId": "47610984-8724-4780-d6ae-af53ad1ce34a"
      },
      "source": [
        "# In-record & cross-datasets error checks\n",
        "#2020 dataset accuracy check\n",
        "e1 = Energy_2020['No_of_households_with_electricity'] + Energy_2020['No_of_households_with_Pressure_Lamp'] +Energy_2020['No_of_households_with_Lantern'] + Energy_2020['No_of_households_with_Tin_Lamp'] + Energy_2020['No_of_households_with_Gas_Lamp'] + Energy_2020['No_of_households_with_Fuel_wood'] + Energy_2020['No_of_households_with_Solar'] + Energy_2020['No_of_households_with_Other']\n",
        "Energy_2020[Energy_2020['Households'] != e1]"
      ],
      "execution_count": 20,
      "outputs": [
        {
          "output_type": "execute_result",
          "data": {
            "text/html": [
              "<div>\n",
              "<style scoped>\n",
              "    .dataframe tbody tr th:only-of-type {\n",
              "        vertical-align: middle;\n",
              "    }\n",
              "\n",
              "    .dataframe tbody tr th {\n",
              "        vertical-align: top;\n",
              "    }\n",
              "\n",
              "    .dataframe thead th {\n",
              "        text-align: right;\n",
              "    }\n",
              "</style>\n",
              "<table border=\"1\" class=\"dataframe\">\n",
              "  <thead>\n",
              "    <tr style=\"text-align: right;\">\n",
              "      <th></th>\n",
              "      <th>County</th>\n",
              "      <th>No_of_households_with_electricity</th>\n",
              "      <th>No_of_households_with_Pressure_Lamp</th>\n",
              "      <th>No_of_households_with_Lantern</th>\n",
              "      <th>No_of_households_with_Tin_Lamp</th>\n",
              "      <th>No_of_households_with_Gas_Lamp</th>\n",
              "      <th>No_of_households_with_Fuel_wood</th>\n",
              "      <th>No_of_households_with_Solar</th>\n",
              "      <th>No_of_households_with_Other</th>\n",
              "      <th>Households</th>\n",
              "    </tr>\n",
              "  </thead>\n",
              "  <tbody>\n",
              "  </tbody>\n",
              "</table>\n",
              "</div>"
            ],
            "text/plain": [
              "Empty DataFrame\n",
              "Columns: [County, No_of_households_with_electricity, No_of_households_with_Pressure_Lamp, No_of_households_with_Lantern, No_of_households_with_Tin_Lamp, No_of_households_with_Gas_Lamp, No_of_households_with_Fuel_wood, No_of_households_with_Solar, No_of_households_with_Other, Households]\n",
              "Index: []"
            ]
          },
          "metadata": {
            "tags": []
          },
          "execution_count": 20
        }
      ]
    },
    {
      "cell_type": "markdown",
      "metadata": {
        "id": "beRWFPmW-UXS"
      },
      "source": [
        "## Completeness of the data"
      ]
    },
    {
      "cell_type": "code",
      "metadata": {
        "colab": {
          "base_uri": "https://localhost:8080/"
        },
        "id": "V41TZIsl-Yva",
        "outputId": "03ad8d10-0919-4837-b563-d1e511747347"
      },
      "source": [
        "# Checking if there is any missing value in 2017 dataset as a whole\n",
        "Energy_2017.isnull().any()\n",
        "\n",
        "# Checking if there is any missing value in 2020 dataset as a whole\n",
        "Energy_2020.isnull().any()\n",
        "\n",
        "\n",
        "# Checking if there is any missing value across each column and if so how many\n",
        "# 2017 dataset\n",
        "Energy_2017.isnull().sum()\n",
        "# 2020 dataset\n",
        "Energy_2020.isnull().sum()"
      ],
      "execution_count": 21,
      "outputs": [
        {
          "output_type": "execute_result",
          "data": {
            "text/plain": [
              "County                                 0\n",
              "No_of_households_with_electricity      0\n",
              "No_of_households_with_Pressure_Lamp    0\n",
              "No_of_households_with_Lantern          0\n",
              "No_of_households_with_Tin_Lamp         0\n",
              "No_of_households_with_Gas_Lamp         0\n",
              "No_of_households_with_Fuel_wood        0\n",
              "No_of_households_with_Solar            0\n",
              "No_of_households_with_Other            0\n",
              "Households                             0\n",
              "dtype: int64"
            ]
          },
          "metadata": {
            "tags": []
          },
          "execution_count": 21
        }
      ]
    },
    {
      "cell_type": "markdown",
      "metadata": {
        "id": "UPJ6M5Um-afO"
      },
      "source": [
        "## Consistency of the data"
      ]
    },
    {
      "cell_type": "code",
      "metadata": {
        "colab": {
          "base_uri": "https://localhost:8080/",
          "height": 0
        },
        "id": "E0LpNYm-O0bw",
        "outputId": "2be31ecf-dc4e-4375-bab2-ef799e4d16fa"
      },
      "source": [
        "Energy_2017.head(1)"
      ],
      "execution_count": 22,
      "outputs": [
        {
          "output_type": "execute_result",
          "data": {
            "text/html": [
              "<div>\n",
              "<style scoped>\n",
              "    .dataframe tbody tr th:only-of-type {\n",
              "        vertical-align: middle;\n",
              "    }\n",
              "\n",
              "    .dataframe tbody tr th {\n",
              "        vertical-align: top;\n",
              "    }\n",
              "\n",
              "    .dataframe thead th {\n",
              "        text-align: right;\n",
              "    }\n",
              "</style>\n",
              "<table border=\"1\" class=\"dataframe\">\n",
              "  <thead>\n",
              "    <tr style=\"text-align: right;\">\n",
              "      <th></th>\n",
              "      <th>_District</th>\n",
              "      <th>Households</th>\n",
              "      <th>No_of_households_with_electricity</th>\n",
              "      <th>No_of_households_with_Pressure_Lamp</th>\n",
              "      <th>No_of_households_with_Lantern</th>\n",
              "      <th>No_of_households_with_Tin_Lamp</th>\n",
              "      <th>No_of_households_with_Gas_Lamp</th>\n",
              "      <th>No_of_households_with_Fuel_wood</th>\n",
              "      <th>No_of_households_with_Solar</th>\n",
              "      <th>No_of_households_with_Other</th>\n",
              "      <th>County</th>\n",
              "    </tr>\n",
              "  </thead>\n",
              "  <tbody>\n",
              "    <tr>\n",
              "      <th>0</th>\n",
              "      <td>MERU CENTRAL</td>\n",
              "      <td>0</td>\n",
              "      <td>0</td>\n",
              "      <td>0</td>\n",
              "      <td>0</td>\n",
              "      <td>0</td>\n",
              "      <td>0</td>\n",
              "      <td>0</td>\n",
              "      <td>0</td>\n",
              "      <td>0</td>\n",
              "      <td>Meru</td>\n",
              "    </tr>\n",
              "  </tbody>\n",
              "</table>\n",
              "</div>"
            ],
            "text/plain": [
              "      _District  Households  ...  No_of_households_with_Other  County\n",
              "0  MERU CENTRAL           0  ...                            0    Meru\n",
              "\n",
              "[1 rows x 11 columns]"
            ]
          },
          "metadata": {
            "tags": []
          },
          "execution_count": 22
        }
      ]
    },
    {
      "cell_type": "code",
      "metadata": {
        "colab": {
          "base_uri": "https://localhost:8080/",
          "height": 0
        },
        "id": "QaYoB6kl-eXc",
        "outputId": "1f256ed1-bb7c-4dc5-f13a-db63de55e2b9"
      },
      "source": [
        "#Checking for duplicates\n",
        "#2017 dataset (used households since some district names were duplicated but not the records)\n",
        "Energy_2017[Energy_2017['Households'].duplicated() ==True]\n",
        "#Rachuonyo was ignored because its household numbers different values\n",
        "#Energy_2017[Energy_2017.duplicated(['_District'])==True].sort_values('_District')\n",
        "\n",
        "#2020 dataset\n",
        "Energy_2020[Energy_2020['County'].duplicated() ==True]\n"
      ],
      "execution_count": 23,
      "outputs": [
        {
          "output_type": "execute_result",
          "data": {
            "text/html": [
              "<div>\n",
              "<style scoped>\n",
              "    .dataframe tbody tr th:only-of-type {\n",
              "        vertical-align: middle;\n",
              "    }\n",
              "\n",
              "    .dataframe tbody tr th {\n",
              "        vertical-align: top;\n",
              "    }\n",
              "\n",
              "    .dataframe thead th {\n",
              "        text-align: right;\n",
              "    }\n",
              "</style>\n",
              "<table border=\"1\" class=\"dataframe\">\n",
              "  <thead>\n",
              "    <tr style=\"text-align: right;\">\n",
              "      <th></th>\n",
              "      <th>County</th>\n",
              "      <th>No_of_households_with_electricity</th>\n",
              "      <th>No_of_households_with_Pressure_Lamp</th>\n",
              "      <th>No_of_households_with_Lantern</th>\n",
              "      <th>No_of_households_with_Tin_Lamp</th>\n",
              "      <th>No_of_households_with_Gas_Lamp</th>\n",
              "      <th>No_of_households_with_Fuel_wood</th>\n",
              "      <th>No_of_households_with_Solar</th>\n",
              "      <th>No_of_households_with_Other</th>\n",
              "      <th>Households</th>\n",
              "    </tr>\n",
              "  </thead>\n",
              "  <tbody>\n",
              "  </tbody>\n",
              "</table>\n",
              "</div>"
            ],
            "text/plain": [
              "Empty DataFrame\n",
              "Columns: [County, No_of_households_with_electricity, No_of_households_with_Pressure_Lamp, No_of_households_with_Lantern, No_of_households_with_Tin_Lamp, No_of_households_with_Gas_Lamp, No_of_households_with_Fuel_wood, No_of_households_with_Solar, No_of_households_with_Other, Households]\n",
              "Index: []"
            ]
          },
          "metadata": {
            "tags": []
          },
          "execution_count": 23
        }
      ]
    },
    {
      "cell_type": "markdown",
      "metadata": {
        "id": "yk3F8pVG-evG"
      },
      "source": [
        "## Uniformity of the data"
      ]
    },
    {
      "cell_type": "code",
      "metadata": {
        "colab": {
          "base_uri": "https://localhost:8080/",
          "height": 0
        },
        "id": "EynbiWJA-ibQ",
        "outputId": "6765bc9b-e89e-4dbd-a3ad-412e5a27cb25"
      },
      "source": [
        "#Standardization of column names\n",
        "#Using strip(), lower() and replace() functions \n",
        "#2017 dataset\n",
        "Energy_2017.columns = Energy_2017.columns.str.strip().str.lower()\n",
        "Energy_2017.head(1)\n",
        "\n",
        "#2020 dataset\n",
        "Energy_2020.columns = Energy_2020.columns.str.strip().str.lower()\n",
        "Energy_2020.head(1)\n"
      ],
      "execution_count": 24,
      "outputs": [
        {
          "output_type": "execute_result",
          "data": {
            "text/html": [
              "<div>\n",
              "<style scoped>\n",
              "    .dataframe tbody tr th:only-of-type {\n",
              "        vertical-align: middle;\n",
              "    }\n",
              "\n",
              "    .dataframe tbody tr th {\n",
              "        vertical-align: top;\n",
              "    }\n",
              "\n",
              "    .dataframe thead th {\n",
              "        text-align: right;\n",
              "    }\n",
              "</style>\n",
              "<table border=\"1\" class=\"dataframe\">\n",
              "  <thead>\n",
              "    <tr style=\"text-align: right;\">\n",
              "      <th></th>\n",
              "      <th>county</th>\n",
              "      <th>no_of_households_with_electricity</th>\n",
              "      <th>no_of_households_with_pressure_lamp</th>\n",
              "      <th>no_of_households_with_lantern</th>\n",
              "      <th>no_of_households_with_tin_lamp</th>\n",
              "      <th>no_of_households_with_gas_lamp</th>\n",
              "      <th>no_of_households_with_fuel_wood</th>\n",
              "      <th>no_of_households_with_solar</th>\n",
              "      <th>no_of_households_with_other</th>\n",
              "      <th>households</th>\n",
              "    </tr>\n",
              "  </thead>\n",
              "  <tbody>\n",
              "    <tr>\n",
              "      <th>0</th>\n",
              "      <td>BARINGO</td>\n",
              "      <td>10583</td>\n",
              "      <td>437</td>\n",
              "      <td>43488</td>\n",
              "      <td>22238</td>\n",
              "      <td>796</td>\n",
              "      <td>1902</td>\n",
              "      <td>30734</td>\n",
              "      <td>471</td>\n",
              "      <td>110649</td>\n",
              "    </tr>\n",
              "  </tbody>\n",
              "</table>\n",
              "</div>"
            ],
            "text/plain": [
              "    county  ...  households\n",
              "0  BARINGO  ...      110649\n",
              "\n",
              "[1 rows x 10 columns]"
            ]
          },
          "metadata": {
            "tags": []
          },
          "execution_count": 24
        }
      ]
    },
    {
      "cell_type": "code",
      "metadata": {
        "colab": {
          "base_uri": "https://localhost:8080/"
        },
        "id": "MTsgFUrlSP9E",
        "outputId": "cb913c57-370e-49db-d7b4-f8fc51303f5e"
      },
      "source": [
        "#checking data types\n",
        "#2017 dataset\n",
        "Energy_2017.info()\n",
        "\n",
        "#2020 dataset\n",
        "Energy_2020.info()\n"
      ],
      "execution_count": 25,
      "outputs": [
        {
          "output_type": "stream",
          "text": [
            "<class 'pandas.core.frame.DataFrame'>\n",
            "RangeIndex: 316 entries, 0 to 315\n",
            "Data columns (total 11 columns):\n",
            " #   Column                               Non-Null Count  Dtype \n",
            "---  ------                               --------------  ----- \n",
            " 0   _district                            316 non-null    object\n",
            " 1   households                           316 non-null    int64 \n",
            " 2   no_of_households_with_electricity    316 non-null    int64 \n",
            " 3   no_of_households_with_pressure_lamp  316 non-null    int64 \n",
            " 4   no_of_households_with_lantern        316 non-null    int64 \n",
            " 5   no_of_households_with_tin_lamp       316 non-null    int64 \n",
            " 6   no_of_households_with_gas_lamp       316 non-null    int64 \n",
            " 7   no_of_households_with_fuel_wood      316 non-null    int64 \n",
            " 8   no_of_households_with_solar          316 non-null    int64 \n",
            " 9   no_of_households_with_other          316 non-null    int64 \n",
            " 10  county                               316 non-null    object\n",
            "dtypes: int64(9), object(2)\n",
            "memory usage: 27.3+ KB\n",
            "<class 'pandas.core.frame.DataFrame'>\n",
            "RangeIndex: 47 entries, 0 to 46\n",
            "Data columns (total 10 columns):\n",
            " #   Column                               Non-Null Count  Dtype \n",
            "---  ------                               --------------  ----- \n",
            " 0   county                               47 non-null     object\n",
            " 1   no_of_households_with_electricity    47 non-null     int64 \n",
            " 2   no_of_households_with_pressure_lamp  47 non-null     int64 \n",
            " 3   no_of_households_with_lantern        47 non-null     int64 \n",
            " 4   no_of_households_with_tin_lamp       47 non-null     int64 \n",
            " 5   no_of_households_with_gas_lamp       47 non-null     int64 \n",
            " 6   no_of_households_with_fuel_wood      47 non-null     int64 \n",
            " 7   no_of_households_with_solar          47 non-null     int64 \n",
            " 8   no_of_households_with_other          47 non-null     int64 \n",
            " 9   households                           47 non-null     int64 \n",
            "dtypes: int64(9), object(1)\n",
            "memory usage: 3.8+ KB\n"
          ],
          "name": "stdout"
        }
      ]
    },
    {
      "cell_type": "code",
      "metadata": {
        "colab": {
          "base_uri": "https://localhost:8080/",
          "height": 0
        },
        "id": "bkRy1WQnSnZL",
        "outputId": "b1c9e5a7-6e52-4521-cbc9-8f1a855cf771"
      },
      "source": [
        "#2017 dataset group by to create a dataset of counties only like the 2020 datset\n",
        "#Energy1_2017 = Energy_2017.groupby(['no_of_households_with_electricity', 'no_of_households_with_pressure_lamp', 'no_of_households_with_lantern', 'no_of_households_with_tin_lamp', 'no_of_households_with_gas_lamp', 'no_of_households_with_fuel_wood', 'no_of_households_with_solar','no_of_households_with_other'])['county'].sum().reset_index()\n",
        "Energy1_2017 = Energy_2017.groupby(['county'])['no_of_households_with_electricity', 'no_of_households_with_pressure_lamp', 'no_of_households_with_lantern', 'no_of_households_with_tin_lamp', 'no_of_households_with_gas_lamp', 'no_of_households_with_fuel_wood', 'no_of_households_with_solar','no_of_households_with_other', 'households'].sum().reset_index()\n",
        "Energy1_2017\n",
        "#g1 = df1.groupby( [ \"Name\", \"City\"] ).count().reset_index()\n",
        "\n"
      ],
      "execution_count": 26,
      "outputs": [
        {
          "output_type": "stream",
          "text": [
            "/usr/local/lib/python3.6/dist-packages/ipykernel_launcher.py:3: FutureWarning: Indexing with multiple keys (implicitly converted to a tuple of keys) will be deprecated, use a list instead.\n",
            "  This is separate from the ipykernel package so we can avoid doing imports until\n"
          ],
          "name": "stderr"
        },
        {
          "output_type": "execute_result",
          "data": {
            "text/html": [
              "<div>\n",
              "<style scoped>\n",
              "    .dataframe tbody tr th:only-of-type {\n",
              "        vertical-align: middle;\n",
              "    }\n",
              "\n",
              "    .dataframe tbody tr th {\n",
              "        vertical-align: top;\n",
              "    }\n",
              "\n",
              "    .dataframe thead th {\n",
              "        text-align: right;\n",
              "    }\n",
              "</style>\n",
              "<table border=\"1\" class=\"dataframe\">\n",
              "  <thead>\n",
              "    <tr style=\"text-align: right;\">\n",
              "      <th></th>\n",
              "      <th>county</th>\n",
              "      <th>no_of_households_with_electricity</th>\n",
              "      <th>no_of_households_with_pressure_lamp</th>\n",
              "      <th>no_of_households_with_lantern</th>\n",
              "      <th>no_of_households_with_tin_lamp</th>\n",
              "      <th>no_of_households_with_gas_lamp</th>\n",
              "      <th>no_of_households_with_fuel_wood</th>\n",
              "      <th>no_of_households_with_solar</th>\n",
              "      <th>no_of_households_with_other</th>\n",
              "      <th>households</th>\n",
              "    </tr>\n",
              "  </thead>\n",
              "  <tbody>\n",
              "    <tr>\n",
              "      <th>0</th>\n",
              "      <td>Baringo</td>\n",
              "      <td>10583</td>\n",
              "      <td>437</td>\n",
              "      <td>43488</td>\n",
              "      <td>22238</td>\n",
              "      <td>796</td>\n",
              "      <td>30734</td>\n",
              "      <td>1902</td>\n",
              "      <td>471</td>\n",
              "      <td>110649</td>\n",
              "    </tr>\n",
              "    <tr>\n",
              "      <th>1</th>\n",
              "      <td>Bomet</td>\n",
              "      <td>7552</td>\n",
              "      <td>581</td>\n",
              "      <td>113311</td>\n",
              "      <td>45434</td>\n",
              "      <td>1135</td>\n",
              "      <td>1444</td>\n",
              "      <td>4958</td>\n",
              "      <td>499</td>\n",
              "      <td>174914</td>\n",
              "    </tr>\n",
              "    <tr>\n",
              "      <th>2</th>\n",
              "      <td>Bungoma</td>\n",
              "      <td>12219</td>\n",
              "      <td>1351</td>\n",
              "      <td>72256</td>\n",
              "      <td>180120</td>\n",
              "      <td>1704</td>\n",
              "      <td>1493</td>\n",
              "      <td>1223</td>\n",
              "      <td>458</td>\n",
              "      <td>270824</td>\n",
              "    </tr>\n",
              "    <tr>\n",
              "      <th>3</th>\n",
              "      <td>Busia</td>\n",
              "      <td>9253</td>\n",
              "      <td>494</td>\n",
              "      <td>33283</td>\n",
              "      <td>108949</td>\n",
              "      <td>709</td>\n",
              "      <td>566</td>\n",
              "      <td>633</td>\n",
              "      <td>338</td>\n",
              "      <td>154225</td>\n",
              "    </tr>\n",
              "    <tr>\n",
              "      <th>4</th>\n",
              "      <td>Elgeyo Marakwet</td>\n",
              "      <td>5547</td>\n",
              "      <td>220</td>\n",
              "      <td>36321</td>\n",
              "      <td>21891</td>\n",
              "      <td>449</td>\n",
              "      <td>11744</td>\n",
              "      <td>1155</td>\n",
              "      <td>228</td>\n",
              "      <td>77555</td>\n",
              "    </tr>\n",
              "    <tr>\n",
              "      <th>5</th>\n",
              "      <td>Embu</td>\n",
              "      <td>19611</td>\n",
              "      <td>992</td>\n",
              "      <td>46512</td>\n",
              "      <td>57535</td>\n",
              "      <td>778</td>\n",
              "      <td>1114</td>\n",
              "      <td>4515</td>\n",
              "      <td>626</td>\n",
              "      <td>131683</td>\n",
              "    </tr>\n",
              "    <tr>\n",
              "      <th>6</th>\n",
              "      <td>Garissa</td>\n",
              "      <td>11405</td>\n",
              "      <td>552</td>\n",
              "      <td>20272</td>\n",
              "      <td>31642</td>\n",
              "      <td>17277</td>\n",
              "      <td>10251</td>\n",
              "      <td>364</td>\n",
              "      <td>6827</td>\n",
              "      <td>98590</td>\n",
              "    </tr>\n",
              "    <tr>\n",
              "      <th>7</th>\n",
              "      <td>Homa Bay</td>\n",
              "      <td>6850</td>\n",
              "      <td>980</td>\n",
              "      <td>43788</td>\n",
              "      <td>150440</td>\n",
              "      <td>1067</td>\n",
              "      <td>823</td>\n",
              "      <td>2081</td>\n",
              "      <td>226</td>\n",
              "      <td>206255</td>\n",
              "    </tr>\n",
              "    <tr>\n",
              "      <th>8</th>\n",
              "      <td>Isiolo</td>\n",
              "      <td>5800</td>\n",
              "      <td>154</td>\n",
              "      <td>9751</td>\n",
              "      <td>6113</td>\n",
              "      <td>781</td>\n",
              "      <td>7283</td>\n",
              "      <td>429</td>\n",
              "      <td>1015</td>\n",
              "      <td>31326</td>\n",
              "    </tr>\n",
              "    <tr>\n",
              "      <th>9</th>\n",
              "      <td>Kajiado</td>\n",
              "      <td>69098</td>\n",
              "      <td>1430</td>\n",
              "      <td>32788</td>\n",
              "      <td>62031</td>\n",
              "      <td>706</td>\n",
              "      <td>3804</td>\n",
              "      <td>1827</td>\n",
              "      <td>1780</td>\n",
              "      <td>173464</td>\n",
              "    </tr>\n",
              "    <tr>\n",
              "      <th>10</th>\n",
              "      <td>Kakamega</td>\n",
              "      <td>19959</td>\n",
              "      <td>1791</td>\n",
              "      <td>100156</td>\n",
              "      <td>226650</td>\n",
              "      <td>2718</td>\n",
              "      <td>1367</td>\n",
              "      <td>2555</td>\n",
              "      <td>483</td>\n",
              "      <td>355679</td>\n",
              "    </tr>\n",
              "    <tr>\n",
              "      <th>11</th>\n",
              "      <td>Kericho</td>\n",
              "      <td>15005</td>\n",
              "      <td>505</td>\n",
              "      <td>58865</td>\n",
              "      <td>49875</td>\n",
              "      <td>587</td>\n",
              "      <td>361</td>\n",
              "      <td>2171</td>\n",
              "      <td>212</td>\n",
              "      <td>127581</td>\n",
              "    </tr>\n",
              "    <tr>\n",
              "      <th>12</th>\n",
              "      <td>Kiambu</td>\n",
              "      <td>255704</td>\n",
              "      <td>3345</td>\n",
              "      <td>125860</td>\n",
              "      <td>89701</td>\n",
              "      <td>1428</td>\n",
              "      <td>735</td>\n",
              "      <td>3811</td>\n",
              "      <td>1866</td>\n",
              "      <td>482450</td>\n",
              "    </tr>\n",
              "    <tr>\n",
              "      <th>13</th>\n",
              "      <td>Kilifi</td>\n",
              "      <td>33423</td>\n",
              "      <td>1433</td>\n",
              "      <td>33735</td>\n",
              "      <td>125005</td>\n",
              "      <td>911</td>\n",
              "      <td>3471</td>\n",
              "      <td>1121</td>\n",
              "      <td>665</td>\n",
              "      <td>199764</td>\n",
              "    </tr>\n",
              "    <tr>\n",
              "      <th>14</th>\n",
              "      <td>Kirinyaga</td>\n",
              "      <td>25353</td>\n",
              "      <td>1028</td>\n",
              "      <td>51589</td>\n",
              "      <td>69116</td>\n",
              "      <td>1005</td>\n",
              "      <td>413</td>\n",
              "      <td>5349</td>\n",
              "      <td>367</td>\n",
              "      <td>154220</td>\n",
              "    </tr>\n",
              "    <tr>\n",
              "      <th>15</th>\n",
              "      <td>Kisii</td>\n",
              "      <td>20965</td>\n",
              "      <td>1033</td>\n",
              "      <td>87971</td>\n",
              "      <td>154632</td>\n",
              "      <td>1490</td>\n",
              "      <td>711</td>\n",
              "      <td>2536</td>\n",
              "      <td>345</td>\n",
              "      <td>269683</td>\n",
              "    </tr>\n",
              "    <tr>\n",
              "      <th>16</th>\n",
              "      <td>Kisumu</td>\n",
              "      <td>41551</td>\n",
              "      <td>1256</td>\n",
              "      <td>52543</td>\n",
              "      <td>127278</td>\n",
              "      <td>921</td>\n",
              "      <td>513</td>\n",
              "      <td>2265</td>\n",
              "      <td>392</td>\n",
              "      <td>226719</td>\n",
              "    </tr>\n",
              "    <tr>\n",
              "      <th>17</th>\n",
              "      <td>Kitui</td>\n",
              "      <td>9850</td>\n",
              "      <td>1192</td>\n",
              "      <td>111037</td>\n",
              "      <td>64450</td>\n",
              "      <td>1372</td>\n",
              "      <td>10311</td>\n",
              "      <td>6002</td>\n",
              "      <td>1277</td>\n",
              "      <td>205491</td>\n",
              "    </tr>\n",
              "    <tr>\n",
              "      <th>18</th>\n",
              "      <td>Kwale</td>\n",
              "      <td>12888</td>\n",
              "      <td>713</td>\n",
              "      <td>16063</td>\n",
              "      <td>89118</td>\n",
              "      <td>419</td>\n",
              "      <td>1522</td>\n",
              "      <td>998</td>\n",
              "      <td>326</td>\n",
              "      <td>122047</td>\n",
              "    </tr>\n",
              "    <tr>\n",
              "      <th>19</th>\n",
              "      <td>Laikipia</td>\n",
              "      <td>18222</td>\n",
              "      <td>542</td>\n",
              "      <td>36366</td>\n",
              "      <td>35413</td>\n",
              "      <td>740</td>\n",
              "      <td>5276</td>\n",
              "      <td>6127</td>\n",
              "      <td>428</td>\n",
              "      <td>103114</td>\n",
              "    </tr>\n",
              "    <tr>\n",
              "      <th>20</th>\n",
              "      <td>Lamu</td>\n",
              "      <td>3767</td>\n",
              "      <td>135</td>\n",
              "      <td>7211</td>\n",
              "      <td>8752</td>\n",
              "      <td>158</td>\n",
              "      <td>560</td>\n",
              "      <td>1173</td>\n",
              "      <td>428</td>\n",
              "      <td>22184</td>\n",
              "    </tr>\n",
              "    <tr>\n",
              "      <th>21</th>\n",
              "      <td>Machakos</td>\n",
              "      <td>45067</td>\n",
              "      <td>1846</td>\n",
              "      <td>143523</td>\n",
              "      <td>63999</td>\n",
              "      <td>1355</td>\n",
              "      <td>565</td>\n",
              "      <td>6973</td>\n",
              "      <td>1172</td>\n",
              "      <td>264500</td>\n",
              "    </tr>\n",
              "    <tr>\n",
              "      <th>22</th>\n",
              "      <td>Makueni</td>\n",
              "      <td>10912</td>\n",
              "      <td>816</td>\n",
              "      <td>117991</td>\n",
              "      <td>47245</td>\n",
              "      <td>859</td>\n",
              "      <td>1136</td>\n",
              "      <td>7002</td>\n",
              "      <td>517</td>\n",
              "      <td>186478</td>\n",
              "    </tr>\n",
              "    <tr>\n",
              "      <th>23</th>\n",
              "      <td>Mandera</td>\n",
              "      <td>3198</td>\n",
              "      <td>271</td>\n",
              "      <td>41321</td>\n",
              "      <td>16989</td>\n",
              "      <td>13845</td>\n",
              "      <td>45240</td>\n",
              "      <td>293</td>\n",
              "      <td>4340</td>\n",
              "      <td>125497</td>\n",
              "    </tr>\n",
              "    <tr>\n",
              "      <th>24</th>\n",
              "      <td>Marsabit</td>\n",
              "      <td>4258</td>\n",
              "      <td>69</td>\n",
              "      <td>13084</td>\n",
              "      <td>6953</td>\n",
              "      <td>1665</td>\n",
              "      <td>27355</td>\n",
              "      <td>678</td>\n",
              "      <td>2879</td>\n",
              "      <td>56941</td>\n",
              "    </tr>\n",
              "    <tr>\n",
              "      <th>25</th>\n",
              "      <td>Meru</td>\n",
              "      <td>50004</td>\n",
              "      <td>2388</td>\n",
              "      <td>112946</td>\n",
              "      <td>183198</td>\n",
              "      <td>3018</td>\n",
              "      <td>7015</td>\n",
              "      <td>20938</td>\n",
              "      <td>1519</td>\n",
              "      <td>381026</td>\n",
              "    </tr>\n",
              "    <tr>\n",
              "      <th>26</th>\n",
              "      <td>Migori</td>\n",
              "      <td>9551</td>\n",
              "      <td>1015</td>\n",
              "      <td>46080</td>\n",
              "      <td>119675</td>\n",
              "      <td>1057</td>\n",
              "      <td>1051</td>\n",
              "      <td>1485</td>\n",
              "      <td>297</td>\n",
              "      <td>180211</td>\n",
              "    </tr>\n",
              "    <tr>\n",
              "      <th>27</th>\n",
              "      <td>Mombasa</td>\n",
              "      <td>158588</td>\n",
              "      <td>2748</td>\n",
              "      <td>43057</td>\n",
              "      <td>61236</td>\n",
              "      <td>512</td>\n",
              "      <td>530</td>\n",
              "      <td>385</td>\n",
              "      <td>1644</td>\n",
              "      <td>268700</td>\n",
              "    </tr>\n",
              "    <tr>\n",
              "      <th>28</th>\n",
              "      <td>Muranga</td>\n",
              "      <td>33847</td>\n",
              "      <td>1306</td>\n",
              "      <td>95784</td>\n",
              "      <td>103722</td>\n",
              "      <td>1296</td>\n",
              "      <td>555</td>\n",
              "      <td>5594</td>\n",
              "      <td>386</td>\n",
              "      <td>242490</td>\n",
              "    </tr>\n",
              "    <tr>\n",
              "      <th>29</th>\n",
              "      <td>Nairobi</td>\n",
              "      <td>712859</td>\n",
              "      <td>10324</td>\n",
              "      <td>128173</td>\n",
              "      <td>123551</td>\n",
              "      <td>1251</td>\n",
              "      <td>622</td>\n",
              "      <td>992</td>\n",
              "      <td>7244</td>\n",
              "      <td>985016</td>\n",
              "    </tr>\n",
              "    <tr>\n",
              "      <th>30</th>\n",
              "      <td>Nakuru</td>\n",
              "      <td>139430</td>\n",
              "      <td>2271</td>\n",
              "      <td>147950</td>\n",
              "      <td>103605</td>\n",
              "      <td>1994</td>\n",
              "      <td>3398</td>\n",
              "      <td>9261</td>\n",
              "      <td>1927</td>\n",
              "      <td>409836</td>\n",
              "    </tr>\n",
              "    <tr>\n",
              "      <th>31</th>\n",
              "      <td>Nandi</td>\n",
              "      <td>9788</td>\n",
              "      <td>504</td>\n",
              "      <td>64865</td>\n",
              "      <td>75638</td>\n",
              "      <td>796</td>\n",
              "      <td>316</td>\n",
              "      <td>1920</td>\n",
              "      <td>246</td>\n",
              "      <td>154073</td>\n",
              "    </tr>\n",
              "    <tr>\n",
              "      <th>32</th>\n",
              "      <td>Narok</td>\n",
              "      <td>9903</td>\n",
              "      <td>826</td>\n",
              "      <td>49009</td>\n",
              "      <td>91422</td>\n",
              "      <td>861</td>\n",
              "      <td>12977</td>\n",
              "      <td>2301</td>\n",
              "      <td>1921</td>\n",
              "      <td>169220</td>\n",
              "    </tr>\n",
              "    <tr>\n",
              "      <th>33</th>\n",
              "      <td>Nyamira</td>\n",
              "      <td>6486</td>\n",
              "      <td>453</td>\n",
              "      <td>42674</td>\n",
              "      <td>54798</td>\n",
              "      <td>586</td>\n",
              "      <td>297</td>\n",
              "      <td>1024</td>\n",
              "      <td>67</td>\n",
              "      <td>106385</td>\n",
              "    </tr>\n",
              "    <tr>\n",
              "      <th>34</th>\n",
              "      <td>Nyandarua</td>\n",
              "      <td>15086</td>\n",
              "      <td>875</td>\n",
              "      <td>79351</td>\n",
              "      <td>38225</td>\n",
              "      <td>911</td>\n",
              "      <td>391</td>\n",
              "      <td>8653</td>\n",
              "      <td>387</td>\n",
              "      <td>143879</td>\n",
              "    </tr>\n",
              "    <tr>\n",
              "      <th>35</th>\n",
              "      <td>Nyeri</td>\n",
              "      <td>53086</td>\n",
              "      <td>1641</td>\n",
              "      <td>69517</td>\n",
              "      <td>66305</td>\n",
              "      <td>1038</td>\n",
              "      <td>1004</td>\n",
              "      <td>8626</td>\n",
              "      <td>486</td>\n",
              "      <td>201703</td>\n",
              "    </tr>\n",
              "    <tr>\n",
              "      <th>36</th>\n",
              "      <td>Samburu</td>\n",
              "      <td>2949</td>\n",
              "      <td>165</td>\n",
              "      <td>5074</td>\n",
              "      <td>9239</td>\n",
              "      <td>444</td>\n",
              "      <td>28451</td>\n",
              "      <td>658</td>\n",
              "      <td>374</td>\n",
              "      <td>47354</td>\n",
              "    </tr>\n",
              "    <tr>\n",
              "      <th>37</th>\n",
              "      <td>Siaya</td>\n",
              "      <td>8615</td>\n",
              "      <td>858</td>\n",
              "      <td>41128</td>\n",
              "      <td>145066</td>\n",
              "      <td>885</td>\n",
              "      <td>440</td>\n",
              "      <td>1772</td>\n",
              "      <td>270</td>\n",
              "      <td>199034</td>\n",
              "    </tr>\n",
              "    <tr>\n",
              "      <th>38</th>\n",
              "      <td>Taita Taveta</td>\n",
              "      <td>10653</td>\n",
              "      <td>353</td>\n",
              "      <td>32595</td>\n",
              "      <td>24732</td>\n",
              "      <td>257</td>\n",
              "      <td>412</td>\n",
              "      <td>1638</td>\n",
              "      <td>450</td>\n",
              "      <td>71090</td>\n",
              "    </tr>\n",
              "    <tr>\n",
              "      <th>39</th>\n",
              "      <td>Tana River</td>\n",
              "      <td>1184</td>\n",
              "      <td>86</td>\n",
              "      <td>9590</td>\n",
              "      <td>31438</td>\n",
              "      <td>604</td>\n",
              "      <td>2785</td>\n",
              "      <td>448</td>\n",
              "      <td>1279</td>\n",
              "      <td>47414</td>\n",
              "    </tr>\n",
              "    <tr>\n",
              "      <th>40</th>\n",
              "      <td>Tharaka Nithi</td>\n",
              "      <td>826</td>\n",
              "      <td>93</td>\n",
              "      <td>3801</td>\n",
              "      <td>18194</td>\n",
              "      <td>154</td>\n",
              "      <td>1652</td>\n",
              "      <td>2307</td>\n",
              "      <td>366</td>\n",
              "      <td>27393</td>\n",
              "    </tr>\n",
              "    <tr>\n",
              "      <th>41</th>\n",
              "      <td>Trans Nzoia</td>\n",
              "      <td>15121</td>\n",
              "      <td>977</td>\n",
              "      <td>65971</td>\n",
              "      <td>84035</td>\n",
              "      <td>1088</td>\n",
              "      <td>994</td>\n",
              "      <td>1442</td>\n",
              "      <td>489</td>\n",
              "      <td>170117</td>\n",
              "    </tr>\n",
              "    <tr>\n",
              "      <th>42</th>\n",
              "      <td>Turkana</td>\n",
              "      <td>3017</td>\n",
              "      <td>224</td>\n",
              "      <td>10571</td>\n",
              "      <td>13523</td>\n",
              "      <td>694</td>\n",
              "      <td>89894</td>\n",
              "      <td>946</td>\n",
              "      <td>4322</td>\n",
              "      <td>123191</td>\n",
              "    </tr>\n",
              "    <tr>\n",
              "      <th>43</th>\n",
              "      <td>Uasin Gishu</td>\n",
              "      <td>56534</td>\n",
              "      <td>1218</td>\n",
              "      <td>89231</td>\n",
              "      <td>50506</td>\n",
              "      <td>782</td>\n",
              "      <td>628</td>\n",
              "      <td>2357</td>\n",
              "      <td>1035</td>\n",
              "      <td>202291</td>\n",
              "    </tr>\n",
              "    <tr>\n",
              "      <th>44</th>\n",
              "      <td>Vihiga</td>\n",
              "      <td>8678</td>\n",
              "      <td>547</td>\n",
              "      <td>35132</td>\n",
              "      <td>76480</td>\n",
              "      <td>1038</td>\n",
              "      <td>582</td>\n",
              "      <td>761</td>\n",
              "      <td>129</td>\n",
              "      <td>123347</td>\n",
              "    </tr>\n",
              "    <tr>\n",
              "      <th>45</th>\n",
              "      <td>Wajir</td>\n",
              "      <td>3039</td>\n",
              "      <td>98</td>\n",
              "      <td>27923</td>\n",
              "      <td>14948</td>\n",
              "      <td>9767</td>\n",
              "      <td>26296</td>\n",
              "      <td>155</td>\n",
              "      <td>6348</td>\n",
              "      <td>88574</td>\n",
              "    </tr>\n",
              "    <tr>\n",
              "      <th>46</th>\n",
              "      <td>West Pokot</td>\n",
              "      <td>2456</td>\n",
              "      <td>104</td>\n",
              "      <td>20880</td>\n",
              "      <td>22021</td>\n",
              "      <td>467</td>\n",
              "      <td>46980</td>\n",
              "      <td>469</td>\n",
              "      <td>400</td>\n",
              "      <td>93777</td>\n",
              "    </tr>\n",
              "  </tbody>\n",
              "</table>\n",
              "</div>"
            ],
            "text/plain": [
              "             county  ...  households\n",
              "0           Baringo  ...      110649\n",
              "1             Bomet  ...      174914\n",
              "2           Bungoma  ...      270824\n",
              "3             Busia  ...      154225\n",
              "4   Elgeyo Marakwet  ...       77555\n",
              "5              Embu  ...      131683\n",
              "6           Garissa  ...       98590\n",
              "7          Homa Bay  ...      206255\n",
              "8            Isiolo  ...       31326\n",
              "9           Kajiado  ...      173464\n",
              "10         Kakamega  ...      355679\n",
              "11          Kericho  ...      127581\n",
              "12           Kiambu  ...      482450\n",
              "13           Kilifi  ...      199764\n",
              "14        Kirinyaga  ...      154220\n",
              "15            Kisii  ...      269683\n",
              "16           Kisumu  ...      226719\n",
              "17            Kitui  ...      205491\n",
              "18            Kwale  ...      122047\n",
              "19         Laikipia  ...      103114\n",
              "20             Lamu  ...       22184\n",
              "21         Machakos  ...      264500\n",
              "22          Makueni  ...      186478\n",
              "23          Mandera  ...      125497\n",
              "24         Marsabit  ...       56941\n",
              "25             Meru  ...      381026\n",
              "26           Migori  ...      180211\n",
              "27          Mombasa  ...      268700\n",
              "28          Muranga  ...      242490\n",
              "29          Nairobi  ...      985016\n",
              "30           Nakuru  ...      409836\n",
              "31            Nandi  ...      154073\n",
              "32            Narok  ...      169220\n",
              "33          Nyamira  ...      106385\n",
              "34        Nyandarua  ...      143879\n",
              "35            Nyeri  ...      201703\n",
              "36          Samburu  ...       47354\n",
              "37            Siaya  ...      199034\n",
              "38     Taita Taveta  ...       71090\n",
              "39       Tana River  ...       47414\n",
              "40    Tharaka Nithi  ...       27393\n",
              "41      Trans Nzoia  ...      170117\n",
              "42          Turkana  ...      123191\n",
              "43      Uasin Gishu  ...      202291\n",
              "44           Vihiga  ...      123347\n",
              "45            Wajir  ...       88574\n",
              "46       West Pokot  ...       93777\n",
              "\n",
              "[47 rows x 10 columns]"
            ]
          },
          "metadata": {
            "tags": []
          },
          "execution_count": 26
        }
      ]
    },
    {
      "cell_type": "code",
      "metadata": {
        "colab": {
          "base_uri": "https://localhost:8080/"
        },
        "id": "tnYbmrYP2cAu",
        "outputId": "ee3cb224-e339-4d4f-f394-05c99a1436de"
      },
      "source": [
        "#overall % elect\n",
        "(Energy_2020['no_of_households_with_electricity'] +Energy_2020['no_of_households_with_solar']).sum()/Energy_2020['households'].sum()"
      ],
      "execution_count": 27,
      "outputs": [
        {
          "output_type": "execute_result",
          "data": {
            "text/plain": [
              "0.27210475784886645"
            ]
          },
          "metadata": {
            "tags": []
          },
          "execution_count": 27
        }
      ]
    },
    {
      "cell_type": "markdown",
      "metadata": {
        "id": "erUFUImWnw5o"
      },
      "source": [
        "Having carried out the above steps, it was observed that the two datasets were in fact the same original dataset based on 2011 data that had undergone cleaning. Additional research and data sourcing was carried out and the result was the adoption of the following data into our analysis\n"
      ]
    },
    {
      "cell_type": "markdown",
      "metadata": {
        "id": "J3PYw8kaoVyk"
      },
      "source": [
        "# DATA PREPARATION 2\n"
      ]
    },
    {
      "cell_type": "code",
      "metadata": {
        "id": "OwnI1OgxoUux",
        "colab": {
          "base_uri": "https://localhost:8080/",
          "height": 0
        },
        "outputId": "0e595f07-51e4-4c40-acb1-dba947fbee3b"
      },
      "source": [
        "# Energy data from 2009\n",
        "Energy_2009 = pd.read_csv('kenya-access-to-electricity-rates-per-county.csv')\n",
        "Energy_2009.head()"
      ],
      "execution_count": 28,
      "outputs": [
        {
          "output_type": "execute_result",
          "data": {
            "text/html": [
              "<div>\n",
              "<style scoped>\n",
              "    .dataframe tbody tr th:only-of-type {\n",
              "        vertical-align: middle;\n",
              "    }\n",
              "\n",
              "    .dataframe tbody tr th {\n",
              "        vertical-align: top;\n",
              "    }\n",
              "\n",
              "    .dataframe thead th {\n",
              "        text-align: right;\n",
              "    }\n",
              "</style>\n",
              "<table border=\"1\" class=\"dataframe\">\n",
              "  <thead>\n",
              "    <tr style=\"text-align: right;\">\n",
              "      <th></th>\n",
              "      <th>Country</th>\n",
              "      <th>Counties</th>\n",
              "      <th>Access to electricity</th>\n",
              "    </tr>\n",
              "  </thead>\n",
              "  <tbody>\n",
              "    <tr>\n",
              "      <th>0</th>\n",
              "      <td>Kenya</td>\n",
              "      <td>National Average</td>\n",
              "      <td>23.0</td>\n",
              "    </tr>\n",
              "    <tr>\n",
              "      <th>1</th>\n",
              "      <td>Kenya</td>\n",
              "      <td>Baringo</td>\n",
              "      <td>9.6</td>\n",
              "    </tr>\n",
              "    <tr>\n",
              "      <th>2</th>\n",
              "      <td>Kenya</td>\n",
              "      <td>Bomet</td>\n",
              "      <td>4.3</td>\n",
              "    </tr>\n",
              "    <tr>\n",
              "      <th>3</th>\n",
              "      <td>Kenya</td>\n",
              "      <td>Bungoma</td>\n",
              "      <td>4.5</td>\n",
              "    </tr>\n",
              "    <tr>\n",
              "      <th>4</th>\n",
              "      <td>Kenya</td>\n",
              "      <td>Busia</td>\n",
              "      <td>6.0</td>\n",
              "    </tr>\n",
              "  </tbody>\n",
              "</table>\n",
              "</div>"
            ],
            "text/plain": [
              "  Country          Counties  Access to electricity\n",
              "0   Kenya  National Average                   23.0\n",
              "1   Kenya           Baringo                    9.6\n",
              "2   Kenya             Bomet                    4.3\n",
              "3   Kenya           Bungoma                    4.5\n",
              "4   Kenya             Busia                    6.0"
            ]
          },
          "metadata": {
            "tags": []
          },
          "execution_count": 28
        }
      ]
    },
    {
      "cell_type": "code",
      "metadata": {
        "id": "VjoDamnqoStS",
        "colab": {
          "base_uri": "https://localhost:8080/",
          "height": 0
        },
        "outputId": "8aa85584-c0ef-47d3-ef5d-6c8f0f906161"
      },
      "source": [
        "# Making the above consistent with the previous data\n",
        "Energy_2009.rename(columns= {'Counties': 'County', 'Access to electricity': 'percent_access_to_electricity' }, inplace = True)\n",
        "Energy_2009.columns = Energy_2009.columns.str.strip().str.lower()\n",
        "copy_2009 = Energy_2009.copy(deep=True)\n",
        "Energy_2009.head()"
      ],
      "execution_count": 29,
      "outputs": [
        {
          "output_type": "execute_result",
          "data": {
            "text/html": [
              "<div>\n",
              "<style scoped>\n",
              "    .dataframe tbody tr th:only-of-type {\n",
              "        vertical-align: middle;\n",
              "    }\n",
              "\n",
              "    .dataframe tbody tr th {\n",
              "        vertical-align: top;\n",
              "    }\n",
              "\n",
              "    .dataframe thead th {\n",
              "        text-align: right;\n",
              "    }\n",
              "</style>\n",
              "<table border=\"1\" class=\"dataframe\">\n",
              "  <thead>\n",
              "    <tr style=\"text-align: right;\">\n",
              "      <th></th>\n",
              "      <th>country</th>\n",
              "      <th>county</th>\n",
              "      <th>percent_access_to_electricity</th>\n",
              "    </tr>\n",
              "  </thead>\n",
              "  <tbody>\n",
              "    <tr>\n",
              "      <th>0</th>\n",
              "      <td>Kenya</td>\n",
              "      <td>National Average</td>\n",
              "      <td>23.0</td>\n",
              "    </tr>\n",
              "    <tr>\n",
              "      <th>1</th>\n",
              "      <td>Kenya</td>\n",
              "      <td>Baringo</td>\n",
              "      <td>9.6</td>\n",
              "    </tr>\n",
              "    <tr>\n",
              "      <th>2</th>\n",
              "      <td>Kenya</td>\n",
              "      <td>Bomet</td>\n",
              "      <td>4.3</td>\n",
              "    </tr>\n",
              "    <tr>\n",
              "      <th>3</th>\n",
              "      <td>Kenya</td>\n",
              "      <td>Bungoma</td>\n",
              "      <td>4.5</td>\n",
              "    </tr>\n",
              "    <tr>\n",
              "      <th>4</th>\n",
              "      <td>Kenya</td>\n",
              "      <td>Busia</td>\n",
              "      <td>6.0</td>\n",
              "    </tr>\n",
              "  </tbody>\n",
              "</table>\n",
              "</div>"
            ],
            "text/plain": [
              "  country            county  percent_access_to_electricity\n",
              "0   Kenya  National Average                           23.0\n",
              "1   Kenya           Baringo                            9.6\n",
              "2   Kenya             Bomet                            4.3\n",
              "3   Kenya           Bungoma                            4.5\n",
              "4   Kenya             Busia                            6.0"
            ]
          },
          "metadata": {
            "tags": []
          },
          "execution_count": 29
        }
      ]
    },
    {
      "cell_type": "code",
      "metadata": {
        "id": "o2B-J75bEGFx"
      },
      "source": [
        "# Loading the world bank datasets into the environment\n",
        "\n",
        "Source = pd.read_csv('share-elec-by-source.csv')\n",
        "Fossil_Fuels = pd.read_csv('share-electricity-fossil-fuels.csv')\n",
        "Carbon = pd.read_csv('share-electricity-low-carbon.csv')\n",
        "Renewables = pd.read_csv('share-electricity-renewables.csv')\n",
        "Electricity_access = pd.read_csv('share-of-the-population-with-access-to-electricity.csv')"
      ],
      "execution_count": 30,
      "outputs": []
    },
    {
      "cell_type": "code",
      "metadata": {
        "colab": {
          "base_uri": "https://localhost:8080/",
          "height": 0
        },
        "id": "NbDCCp-7GVRh",
        "outputId": "5824801e-9c6e-40c4-b80d-4f2a51c0164b"
      },
      "source": [
        "# Previewing the datasets above\n",
        "Source.head()"
      ],
      "execution_count": 31,
      "outputs": [
        {
          "output_type": "execute_result",
          "data": {
            "text/html": [
              "<div>\n",
              "<style scoped>\n",
              "    .dataframe tbody tr th:only-of-type {\n",
              "        vertical-align: middle;\n",
              "    }\n",
              "\n",
              "    .dataframe tbody tr th {\n",
              "        vertical-align: top;\n",
              "    }\n",
              "\n",
              "    .dataframe thead th {\n",
              "        text-align: right;\n",
              "    }\n",
              "</style>\n",
              "<table border=\"1\" class=\"dataframe\">\n",
              "  <thead>\n",
              "    <tr style=\"text-align: right;\">\n",
              "      <th></th>\n",
              "      <th>Entity</th>\n",
              "      <th>Code</th>\n",
              "      <th>Year</th>\n",
              "      <th>Coal (% electricity)</th>\n",
              "      <th>Oil (% electricity)</th>\n",
              "      <th>Gas (% electricity)</th>\n",
              "      <th>Nuclear (% electricity)</th>\n",
              "      <th>Solar (% electricity)</th>\n",
              "      <th>Wind (% electricity)</th>\n",
              "      <th>Hydro (% electricity)</th>\n",
              "      <th>Other renewables (% electricity)</th>\n",
              "    </tr>\n",
              "  </thead>\n",
              "  <tbody>\n",
              "    <tr>\n",
              "      <th>0</th>\n",
              "      <td>Afghanistan</td>\n",
              "      <td>AFG</td>\n",
              "      <td>2000</td>\n",
              "      <td>0.0</td>\n",
              "      <td>0.0</td>\n",
              "      <td>33.190578</td>\n",
              "      <td>0.0</td>\n",
              "      <td>0.0</td>\n",
              "      <td>0.0</td>\n",
              "      <td>66.809422</td>\n",
              "      <td>0.0</td>\n",
              "    </tr>\n",
              "    <tr>\n",
              "      <th>1</th>\n",
              "      <td>Afghanistan</td>\n",
              "      <td>AFG</td>\n",
              "      <td>2001</td>\n",
              "      <td>0.0</td>\n",
              "      <td>0.0</td>\n",
              "      <td>15.878378</td>\n",
              "      <td>0.0</td>\n",
              "      <td>0.0</td>\n",
              "      <td>0.0</td>\n",
              "      <td>84.121622</td>\n",
              "      <td>0.0</td>\n",
              "    </tr>\n",
              "    <tr>\n",
              "      <th>2</th>\n",
              "      <td>Afghanistan</td>\n",
              "      <td>AFG</td>\n",
              "      <td>2002</td>\n",
              "      <td>0.0</td>\n",
              "      <td>0.0</td>\n",
              "      <td>19.213974</td>\n",
              "      <td>0.0</td>\n",
              "      <td>0.0</td>\n",
              "      <td>0.0</td>\n",
              "      <td>80.786026</td>\n",
              "      <td>0.0</td>\n",
              "    </tr>\n",
              "    <tr>\n",
              "      <th>3</th>\n",
              "      <td>Afghanistan</td>\n",
              "      <td>AFG</td>\n",
              "      <td>2003</td>\n",
              "      <td>0.0</td>\n",
              "      <td>0.0</td>\n",
              "      <td>32.907348</td>\n",
              "      <td>0.0</td>\n",
              "      <td>0.0</td>\n",
              "      <td>0.0</td>\n",
              "      <td>67.092652</td>\n",
              "      <td>0.0</td>\n",
              "    </tr>\n",
              "    <tr>\n",
              "      <th>4</th>\n",
              "      <td>Afghanistan</td>\n",
              "      <td>AFG</td>\n",
              "      <td>2004</td>\n",
              "      <td>0.0</td>\n",
              "      <td>0.0</td>\n",
              "      <td>36.800895</td>\n",
              "      <td>0.0</td>\n",
              "      <td>0.0</td>\n",
              "      <td>0.0</td>\n",
              "      <td>63.199105</td>\n",
              "      <td>0.0</td>\n",
              "    </tr>\n",
              "  </tbody>\n",
              "</table>\n",
              "</div>"
            ],
            "text/plain": [
              "        Entity Code  ...  Hydro (% electricity)  Other renewables (% electricity)\n",
              "0  Afghanistan  AFG  ...              66.809422                               0.0\n",
              "1  Afghanistan  AFG  ...              84.121622                               0.0\n",
              "2  Afghanistan  AFG  ...              80.786026                               0.0\n",
              "3  Afghanistan  AFG  ...              67.092652                               0.0\n",
              "4  Afghanistan  AFG  ...              63.199105                               0.0\n",
              "\n",
              "[5 rows x 11 columns]"
            ]
          },
          "metadata": {
            "tags": []
          },
          "execution_count": 31
        }
      ]
    },
    {
      "cell_type": "code",
      "metadata": {
        "colab": {
          "base_uri": "https://localhost:8080/",
          "height": 0
        },
        "id": "RS6icTl9Gat-",
        "outputId": "fbbfd761-bcc9-4bd2-fe6d-23d396a23dba"
      },
      "source": [
        "Fossil_Fuels.head()"
      ],
      "execution_count": 32,
      "outputs": [
        {
          "output_type": "execute_result",
          "data": {
            "text/html": [
              "<div>\n",
              "<style scoped>\n",
              "    .dataframe tbody tr th:only-of-type {\n",
              "        vertical-align: middle;\n",
              "    }\n",
              "\n",
              "    .dataframe tbody tr th {\n",
              "        vertical-align: top;\n",
              "    }\n",
              "\n",
              "    .dataframe thead th {\n",
              "        text-align: right;\n",
              "    }\n",
              "</style>\n",
              "<table border=\"1\" class=\"dataframe\">\n",
              "  <thead>\n",
              "    <tr style=\"text-align: right;\">\n",
              "      <th></th>\n",
              "      <th>Entity</th>\n",
              "      <th>Code</th>\n",
              "      <th>Year</th>\n",
              "      <th>Fossil fuels (% electricity)</th>\n",
              "    </tr>\n",
              "  </thead>\n",
              "  <tbody>\n",
              "    <tr>\n",
              "      <th>0</th>\n",
              "      <td>Afghanistan</td>\n",
              "      <td>AFG</td>\n",
              "      <td>2000</td>\n",
              "      <td>33.190578</td>\n",
              "    </tr>\n",
              "    <tr>\n",
              "      <th>1</th>\n",
              "      <td>Afghanistan</td>\n",
              "      <td>AFG</td>\n",
              "      <td>2001</td>\n",
              "      <td>15.878378</td>\n",
              "    </tr>\n",
              "    <tr>\n",
              "      <th>2</th>\n",
              "      <td>Afghanistan</td>\n",
              "      <td>AFG</td>\n",
              "      <td>2002</td>\n",
              "      <td>19.213974</td>\n",
              "    </tr>\n",
              "    <tr>\n",
              "      <th>3</th>\n",
              "      <td>Afghanistan</td>\n",
              "      <td>AFG</td>\n",
              "      <td>2003</td>\n",
              "      <td>32.907348</td>\n",
              "    </tr>\n",
              "    <tr>\n",
              "      <th>4</th>\n",
              "      <td>Afghanistan</td>\n",
              "      <td>AFG</td>\n",
              "      <td>2004</td>\n",
              "      <td>36.800895</td>\n",
              "    </tr>\n",
              "  </tbody>\n",
              "</table>\n",
              "</div>"
            ],
            "text/plain": [
              "        Entity Code  Year  Fossil fuels (% electricity)\n",
              "0  Afghanistan  AFG  2000                     33.190578\n",
              "1  Afghanistan  AFG  2001                     15.878378\n",
              "2  Afghanistan  AFG  2002                     19.213974\n",
              "3  Afghanistan  AFG  2003                     32.907348\n",
              "4  Afghanistan  AFG  2004                     36.800895"
            ]
          },
          "metadata": {
            "tags": []
          },
          "execution_count": 32
        }
      ]
    },
    {
      "cell_type": "code",
      "metadata": {
        "colab": {
          "base_uri": "https://localhost:8080/",
          "height": 0
        },
        "id": "chfBWuuVGd-D",
        "outputId": "fc8831d1-b8e6-48c6-9101-cec250a4ffa4"
      },
      "source": [
        "Carbon.head()"
      ],
      "execution_count": 33,
      "outputs": [
        {
          "output_type": "execute_result",
          "data": {
            "text/html": [
              "<div>\n",
              "<style scoped>\n",
              "    .dataframe tbody tr th:only-of-type {\n",
              "        vertical-align: middle;\n",
              "    }\n",
              "\n",
              "    .dataframe tbody tr th {\n",
              "        vertical-align: top;\n",
              "    }\n",
              "\n",
              "    .dataframe thead th {\n",
              "        text-align: right;\n",
              "    }\n",
              "</style>\n",
              "<table border=\"1\" class=\"dataframe\">\n",
              "  <thead>\n",
              "    <tr style=\"text-align: right;\">\n",
              "      <th></th>\n",
              "      <th>Entity</th>\n",
              "      <th>Code</th>\n",
              "      <th>Year</th>\n",
              "      <th>Low-carbon electricity (% electricity)</th>\n",
              "    </tr>\n",
              "  </thead>\n",
              "  <tbody>\n",
              "    <tr>\n",
              "      <th>0</th>\n",
              "      <td>Afghanistan</td>\n",
              "      <td>AFG</td>\n",
              "      <td>2000</td>\n",
              "      <td>66.809422</td>\n",
              "    </tr>\n",
              "    <tr>\n",
              "      <th>1</th>\n",
              "      <td>Afghanistan</td>\n",
              "      <td>AFG</td>\n",
              "      <td>2001</td>\n",
              "      <td>84.121622</td>\n",
              "    </tr>\n",
              "    <tr>\n",
              "      <th>2</th>\n",
              "      <td>Afghanistan</td>\n",
              "      <td>AFG</td>\n",
              "      <td>2002</td>\n",
              "      <td>80.786026</td>\n",
              "    </tr>\n",
              "    <tr>\n",
              "      <th>3</th>\n",
              "      <td>Afghanistan</td>\n",
              "      <td>AFG</td>\n",
              "      <td>2003</td>\n",
              "      <td>67.092652</td>\n",
              "    </tr>\n",
              "    <tr>\n",
              "      <th>4</th>\n",
              "      <td>Afghanistan</td>\n",
              "      <td>AFG</td>\n",
              "      <td>2004</td>\n",
              "      <td>63.199105</td>\n",
              "    </tr>\n",
              "  </tbody>\n",
              "</table>\n",
              "</div>"
            ],
            "text/plain": [
              "        Entity Code  Year  Low-carbon electricity (% electricity)\n",
              "0  Afghanistan  AFG  2000                               66.809422\n",
              "1  Afghanistan  AFG  2001                               84.121622\n",
              "2  Afghanistan  AFG  2002                               80.786026\n",
              "3  Afghanistan  AFG  2003                               67.092652\n",
              "4  Afghanistan  AFG  2004                               63.199105"
            ]
          },
          "metadata": {
            "tags": []
          },
          "execution_count": 33
        }
      ]
    },
    {
      "cell_type": "code",
      "metadata": {
        "colab": {
          "base_uri": "https://localhost:8080/",
          "height": 0
        },
        "id": "VVT7X-85GguC",
        "outputId": "6adecf52-17c9-4617-caa7-d73ef4300645"
      },
      "source": [
        "Renewables.head()"
      ],
      "execution_count": 34,
      "outputs": [
        {
          "output_type": "execute_result",
          "data": {
            "text/html": [
              "<div>\n",
              "<style scoped>\n",
              "    .dataframe tbody tr th:only-of-type {\n",
              "        vertical-align: middle;\n",
              "    }\n",
              "\n",
              "    .dataframe tbody tr th {\n",
              "        vertical-align: top;\n",
              "    }\n",
              "\n",
              "    .dataframe thead th {\n",
              "        text-align: right;\n",
              "    }\n",
              "</style>\n",
              "<table border=\"1\" class=\"dataframe\">\n",
              "  <thead>\n",
              "    <tr style=\"text-align: right;\">\n",
              "      <th></th>\n",
              "      <th>Entity</th>\n",
              "      <th>Code</th>\n",
              "      <th>Year</th>\n",
              "      <th>Renewables (% electricity)</th>\n",
              "    </tr>\n",
              "  </thead>\n",
              "  <tbody>\n",
              "    <tr>\n",
              "      <th>0</th>\n",
              "      <td>Afghanistan</td>\n",
              "      <td>AFG</td>\n",
              "      <td>2000</td>\n",
              "      <td>66.809422</td>\n",
              "    </tr>\n",
              "    <tr>\n",
              "      <th>1</th>\n",
              "      <td>Afghanistan</td>\n",
              "      <td>AFG</td>\n",
              "      <td>2001</td>\n",
              "      <td>84.121622</td>\n",
              "    </tr>\n",
              "    <tr>\n",
              "      <th>2</th>\n",
              "      <td>Afghanistan</td>\n",
              "      <td>AFG</td>\n",
              "      <td>2002</td>\n",
              "      <td>80.786026</td>\n",
              "    </tr>\n",
              "    <tr>\n",
              "      <th>3</th>\n",
              "      <td>Afghanistan</td>\n",
              "      <td>AFG</td>\n",
              "      <td>2003</td>\n",
              "      <td>67.092652</td>\n",
              "    </tr>\n",
              "    <tr>\n",
              "      <th>4</th>\n",
              "      <td>Afghanistan</td>\n",
              "      <td>AFG</td>\n",
              "      <td>2004</td>\n",
              "      <td>63.199105</td>\n",
              "    </tr>\n",
              "  </tbody>\n",
              "</table>\n",
              "</div>"
            ],
            "text/plain": [
              "        Entity Code  Year  Renewables (% electricity)\n",
              "0  Afghanistan  AFG  2000                   66.809422\n",
              "1  Afghanistan  AFG  2001                   84.121622\n",
              "2  Afghanistan  AFG  2002                   80.786026\n",
              "3  Afghanistan  AFG  2003                   67.092652\n",
              "4  Afghanistan  AFG  2004                   63.199105"
            ]
          },
          "metadata": {
            "tags": []
          },
          "execution_count": 34
        }
      ]
    },
    {
      "cell_type": "code",
      "metadata": {
        "colab": {
          "base_uri": "https://localhost:8080/",
          "height": 0
        },
        "id": "1NFrpW0gGjG7",
        "outputId": "37dc3f87-81ae-4d4a-9408-8b61f125b4bd"
      },
      "source": [
        "Electricity_access.head()"
      ],
      "execution_count": 35,
      "outputs": [
        {
          "output_type": "execute_result",
          "data": {
            "text/html": [
              "<div>\n",
              "<style scoped>\n",
              "    .dataframe tbody tr th:only-of-type {\n",
              "        vertical-align: middle;\n",
              "    }\n",
              "\n",
              "    .dataframe tbody tr th {\n",
              "        vertical-align: top;\n",
              "    }\n",
              "\n",
              "    .dataframe thead th {\n",
              "        text-align: right;\n",
              "    }\n",
              "</style>\n",
              "<table border=\"1\" class=\"dataframe\">\n",
              "  <thead>\n",
              "    <tr style=\"text-align: right;\">\n",
              "      <th></th>\n",
              "      <th>Entity</th>\n",
              "      <th>Code</th>\n",
              "      <th>Year</th>\n",
              "      <th>Access to electricity (% of population)</th>\n",
              "    </tr>\n",
              "  </thead>\n",
              "  <tbody>\n",
              "    <tr>\n",
              "      <th>0</th>\n",
              "      <td>Afghanistan</td>\n",
              "      <td>AFG</td>\n",
              "      <td>1990</td>\n",
              "      <td>0.01</td>\n",
              "    </tr>\n",
              "    <tr>\n",
              "      <th>1</th>\n",
              "      <td>Afghanistan</td>\n",
              "      <td>AFG</td>\n",
              "      <td>1991</td>\n",
              "      <td>0.01</td>\n",
              "    </tr>\n",
              "    <tr>\n",
              "      <th>2</th>\n",
              "      <td>Afghanistan</td>\n",
              "      <td>AFG</td>\n",
              "      <td>1992</td>\n",
              "      <td>0.01</td>\n",
              "    </tr>\n",
              "    <tr>\n",
              "      <th>3</th>\n",
              "      <td>Afghanistan</td>\n",
              "      <td>AFG</td>\n",
              "      <td>1993</td>\n",
              "      <td>0.01</td>\n",
              "    </tr>\n",
              "    <tr>\n",
              "      <th>4</th>\n",
              "      <td>Afghanistan</td>\n",
              "      <td>AFG</td>\n",
              "      <td>1994</td>\n",
              "      <td>0.01</td>\n",
              "    </tr>\n",
              "  </tbody>\n",
              "</table>\n",
              "</div>"
            ],
            "text/plain": [
              "        Entity Code  Year  Access to electricity (% of population)\n",
              "0  Afghanistan  AFG  1990                                     0.01\n",
              "1  Afghanistan  AFG  1991                                     0.01\n",
              "2  Afghanistan  AFG  1992                                     0.01\n",
              "3  Afghanistan  AFG  1993                                     0.01\n",
              "4  Afghanistan  AFG  1994                                     0.01"
            ]
          },
          "metadata": {
            "tags": []
          },
          "execution_count": 35
        }
      ]
    },
    {
      "cell_type": "code",
      "metadata": {
        "id": "9jIkd6S0GlMi"
      },
      "source": [
        "# All data sets have values from 2000 that include all countries in the world.\n",
        "# We'll need to access only data relative to Kenya\n",
        "Source = Source[Source.Entity == 'Kenya']\n",
        "Fossil_Fuels = Fossil_Fuels[Fossil_Fuels.Entity == 'Kenya']\n",
        "Carbon = Carbon[Carbon.Entity == 'Kenya']\n",
        "Renewables = Renewables[Renewables.Entity == 'Kenya']\n",
        "Electricity_access = Electricity_access[Electricity_access.Entity == 'Kenya']"
      ],
      "execution_count": 36,
      "outputs": []
    },
    {
      "cell_type": "code",
      "metadata": {
        "id": "VxU_DNRbHeBp"
      },
      "source": [
        "# We'll also drop the irrelevant column Code\n",
        "Source.drop('Code', axis= 1, inplace=True)\n",
        "Fossil_Fuels.drop('Code', axis= 1, inplace=True)\n",
        "Carbon.drop('Code', axis= 1, inplace= True)\n",
        "Renewables.drop('Code', axis= 1, inplace= True)\n",
        "Electricity_access.drop('Code', axis= 1, inplace=True)"
      ],
      "execution_count": 37,
      "outputs": []
    },
    {
      "cell_type": "code",
      "metadata": {
        "colab": {
          "base_uri": "https://localhost:8080/",
          "height": 0
        },
        "id": "5MZkib8vJUdJ",
        "outputId": "902649ad-5ced-41eb-a131-1a232616fed8"
      },
      "source": [
        "# Previewing the data\n",
        "Source.head()"
      ],
      "execution_count": 38,
      "outputs": [
        {
          "output_type": "execute_result",
          "data": {
            "text/html": [
              "<div>\n",
              "<style scoped>\n",
              "    .dataframe tbody tr th:only-of-type {\n",
              "        vertical-align: middle;\n",
              "    }\n",
              "\n",
              "    .dataframe tbody tr th {\n",
              "        vertical-align: top;\n",
              "    }\n",
              "\n",
              "    .dataframe thead th {\n",
              "        text-align: right;\n",
              "    }\n",
              "</style>\n",
              "<table border=\"1\" class=\"dataframe\">\n",
              "  <thead>\n",
              "    <tr style=\"text-align: right;\">\n",
              "      <th></th>\n",
              "      <th>Entity</th>\n",
              "      <th>Year</th>\n",
              "      <th>Coal (% electricity)</th>\n",
              "      <th>Oil (% electricity)</th>\n",
              "      <th>Gas (% electricity)</th>\n",
              "      <th>Nuclear (% electricity)</th>\n",
              "      <th>Solar (% electricity)</th>\n",
              "      <th>Wind (% electricity)</th>\n",
              "      <th>Hydro (% electricity)</th>\n",
              "      <th>Other renewables (% electricity)</th>\n",
              "    </tr>\n",
              "  </thead>\n",
              "  <tbody>\n",
              "    <tr>\n",
              "      <th>2600</th>\n",
              "      <td>Kenya</td>\n",
              "      <td>2000</td>\n",
              "      <td>0.0</td>\n",
              "      <td>49.259990</td>\n",
              "      <td>0.0</td>\n",
              "      <td>0.0</td>\n",
              "      <td>0.0</td>\n",
              "      <td>0.0</td>\n",
              "      <td>32.363098</td>\n",
              "      <td>18.376912</td>\n",
              "    </tr>\n",
              "    <tr>\n",
              "      <th>2601</th>\n",
              "      <td>Kenya</td>\n",
              "      <td>2001</td>\n",
              "      <td>0.0</td>\n",
              "      <td>30.873068</td>\n",
              "      <td>0.0</td>\n",
              "      <td>0.0</td>\n",
              "      <td>0.0</td>\n",
              "      <td>0.0</td>\n",
              "      <td>51.796212</td>\n",
              "      <td>17.330721</td>\n",
              "    </tr>\n",
              "    <tr>\n",
              "      <th>2602</th>\n",
              "      <td>Kenya</td>\n",
              "      <td>2002</td>\n",
              "      <td>0.0</td>\n",
              "      <td>20.244108</td>\n",
              "      <td>0.0</td>\n",
              "      <td>0.0</td>\n",
              "      <td>0.0</td>\n",
              "      <td>0.0</td>\n",
              "      <td>64.983165</td>\n",
              "      <td>14.772727</td>\n",
              "    </tr>\n",
              "    <tr>\n",
              "      <th>2603</th>\n",
              "      <td>Kenya</td>\n",
              "      <td>2003</td>\n",
              "      <td>0.0</td>\n",
              "      <td>15.064731</td>\n",
              "      <td>0.0</td>\n",
              "      <td>0.0</td>\n",
              "      <td>0.0</td>\n",
              "      <td>0.0</td>\n",
              "      <td>63.299333</td>\n",
              "      <td>21.635936</td>\n",
              "    </tr>\n",
              "    <tr>\n",
              "      <th>2604</th>\n",
              "      <td>Kenya</td>\n",
              "      <td>2004</td>\n",
              "      <td>0.0</td>\n",
              "      <td>23.143224</td>\n",
              "      <td>0.0</td>\n",
              "      <td>0.0</td>\n",
              "      <td>0.0</td>\n",
              "      <td>0.0</td>\n",
              "      <td>52.081423</td>\n",
              "      <td>24.775353</td>\n",
              "    </tr>\n",
              "  </tbody>\n",
              "</table>\n",
              "</div>"
            ],
            "text/plain": [
              "     Entity  Year  ...  Hydro (% electricity)  Other renewables (% electricity)\n",
              "2600  Kenya  2000  ...              32.363098                         18.376912\n",
              "2601  Kenya  2001  ...              51.796212                         17.330721\n",
              "2602  Kenya  2002  ...              64.983165                         14.772727\n",
              "2603  Kenya  2003  ...              63.299333                         21.635936\n",
              "2604  Kenya  2004  ...              52.081423                         24.775353\n",
              "\n",
              "[5 rows x 10 columns]"
            ]
          },
          "metadata": {
            "tags": []
          },
          "execution_count": 38
        }
      ]
    },
    {
      "cell_type": "code",
      "metadata": {
        "colab": {
          "base_uri": "https://localhost:8080/",
          "height": 0
        },
        "id": "I8T82F9kJ2Qr",
        "outputId": "c76565e0-03ca-4fc1-93cf-80f5477d607d"
      },
      "source": [
        "Fossil_Fuels.head()"
      ],
      "execution_count": 39,
      "outputs": [
        {
          "output_type": "execute_result",
          "data": {
            "text/html": [
              "<div>\n",
              "<style scoped>\n",
              "    .dataframe tbody tr th:only-of-type {\n",
              "        vertical-align: middle;\n",
              "    }\n",
              "\n",
              "    .dataframe tbody tr th {\n",
              "        vertical-align: top;\n",
              "    }\n",
              "\n",
              "    .dataframe thead th {\n",
              "        text-align: right;\n",
              "    }\n",
              "</style>\n",
              "<table border=\"1\" class=\"dataframe\">\n",
              "  <thead>\n",
              "    <tr style=\"text-align: right;\">\n",
              "      <th></th>\n",
              "      <th>Entity</th>\n",
              "      <th>Year</th>\n",
              "      <th>Fossil fuels (% electricity)</th>\n",
              "    </tr>\n",
              "  </thead>\n",
              "  <tbody>\n",
              "    <tr>\n",
              "      <th>2245</th>\n",
              "      <td>Kenya</td>\n",
              "      <td>2000</td>\n",
              "      <td>49.259990</td>\n",
              "    </tr>\n",
              "    <tr>\n",
              "      <th>2246</th>\n",
              "      <td>Kenya</td>\n",
              "      <td>2001</td>\n",
              "      <td>30.873068</td>\n",
              "    </tr>\n",
              "    <tr>\n",
              "      <th>2247</th>\n",
              "      <td>Kenya</td>\n",
              "      <td>2002</td>\n",
              "      <td>20.244108</td>\n",
              "    </tr>\n",
              "    <tr>\n",
              "      <th>2248</th>\n",
              "      <td>Kenya</td>\n",
              "      <td>2003</td>\n",
              "      <td>15.064731</td>\n",
              "    </tr>\n",
              "    <tr>\n",
              "      <th>2249</th>\n",
              "      <td>Kenya</td>\n",
              "      <td>2004</td>\n",
              "      <td>23.143224</td>\n",
              "    </tr>\n",
              "  </tbody>\n",
              "</table>\n",
              "</div>"
            ],
            "text/plain": [
              "     Entity  Year  Fossil fuels (% electricity)\n",
              "2245  Kenya  2000                     49.259990\n",
              "2246  Kenya  2001                     30.873068\n",
              "2247  Kenya  2002                     20.244108\n",
              "2248  Kenya  2003                     15.064731\n",
              "2249  Kenya  2004                     23.143224"
            ]
          },
          "metadata": {
            "tags": []
          },
          "execution_count": 39
        }
      ]
    },
    {
      "cell_type": "code",
      "metadata": {
        "colab": {
          "base_uri": "https://localhost:8080/",
          "height": 0
        },
        "id": "N5VkBiZ0KF2s",
        "outputId": "ee74b57a-6e01-4ede-975e-6f880b62669f"
      },
      "source": [
        "Carbon.head()"
      ],
      "execution_count": 40,
      "outputs": [
        {
          "output_type": "execute_result",
          "data": {
            "text/html": [
              "<div>\n",
              "<style scoped>\n",
              "    .dataframe tbody tr th:only-of-type {\n",
              "        vertical-align: middle;\n",
              "    }\n",
              "\n",
              "    .dataframe tbody tr th {\n",
              "        vertical-align: top;\n",
              "    }\n",
              "\n",
              "    .dataframe thead th {\n",
              "        text-align: right;\n",
              "    }\n",
              "</style>\n",
              "<table border=\"1\" class=\"dataframe\">\n",
              "  <thead>\n",
              "    <tr style=\"text-align: right;\">\n",
              "      <th></th>\n",
              "      <th>Entity</th>\n",
              "      <th>Year</th>\n",
              "      <th>Low-carbon electricity (% electricity)</th>\n",
              "    </tr>\n",
              "  </thead>\n",
              "  <tbody>\n",
              "    <tr>\n",
              "      <th>2600</th>\n",
              "      <td>Kenya</td>\n",
              "      <td>2000</td>\n",
              "      <td>50.740010</td>\n",
              "    </tr>\n",
              "    <tr>\n",
              "      <th>2601</th>\n",
              "      <td>Kenya</td>\n",
              "      <td>2001</td>\n",
              "      <td>69.126932</td>\n",
              "    </tr>\n",
              "    <tr>\n",
              "      <th>2602</th>\n",
              "      <td>Kenya</td>\n",
              "      <td>2002</td>\n",
              "      <td>79.755892</td>\n",
              "    </tr>\n",
              "    <tr>\n",
              "      <th>2603</th>\n",
              "      <td>Kenya</td>\n",
              "      <td>2003</td>\n",
              "      <td>84.935269</td>\n",
              "    </tr>\n",
              "    <tr>\n",
              "      <th>2604</th>\n",
              "      <td>Kenya</td>\n",
              "      <td>2004</td>\n",
              "      <td>76.856776</td>\n",
              "    </tr>\n",
              "  </tbody>\n",
              "</table>\n",
              "</div>"
            ],
            "text/plain": [
              "     Entity  Year  Low-carbon electricity (% electricity)\n",
              "2600  Kenya  2000                               50.740010\n",
              "2601  Kenya  2001                               69.126932\n",
              "2602  Kenya  2002                               79.755892\n",
              "2603  Kenya  2003                               84.935269\n",
              "2604  Kenya  2004                               76.856776"
            ]
          },
          "metadata": {
            "tags": []
          },
          "execution_count": 40
        }
      ]
    },
    {
      "cell_type": "code",
      "metadata": {
        "colab": {
          "base_uri": "https://localhost:8080/",
          "height": 0
        },
        "id": "oLO4ZVzWKJZC",
        "outputId": "2bdce6ac-0da2-46f0-a10f-a5c82c773683"
      },
      "source": [
        "Renewables.head()"
      ],
      "execution_count": 41,
      "outputs": [
        {
          "output_type": "execute_result",
          "data": {
            "text/html": [
              "<div>\n",
              "<style scoped>\n",
              "    .dataframe tbody tr th:only-of-type {\n",
              "        vertical-align: middle;\n",
              "    }\n",
              "\n",
              "    .dataframe tbody tr th {\n",
              "        vertical-align: top;\n",
              "    }\n",
              "\n",
              "    .dataframe thead th {\n",
              "        text-align: right;\n",
              "    }\n",
              "</style>\n",
              "<table border=\"1\" class=\"dataframe\">\n",
              "  <thead>\n",
              "    <tr style=\"text-align: right;\">\n",
              "      <th></th>\n",
              "      <th>Entity</th>\n",
              "      <th>Year</th>\n",
              "      <th>Renewables (% electricity)</th>\n",
              "    </tr>\n",
              "  </thead>\n",
              "  <tbody>\n",
              "    <tr>\n",
              "      <th>2600</th>\n",
              "      <td>Kenya</td>\n",
              "      <td>2000</td>\n",
              "      <td>50.740010</td>\n",
              "    </tr>\n",
              "    <tr>\n",
              "      <th>2601</th>\n",
              "      <td>Kenya</td>\n",
              "      <td>2001</td>\n",
              "      <td>69.126932</td>\n",
              "    </tr>\n",
              "    <tr>\n",
              "      <th>2602</th>\n",
              "      <td>Kenya</td>\n",
              "      <td>2002</td>\n",
              "      <td>79.755892</td>\n",
              "    </tr>\n",
              "    <tr>\n",
              "      <th>2603</th>\n",
              "      <td>Kenya</td>\n",
              "      <td>2003</td>\n",
              "      <td>84.935269</td>\n",
              "    </tr>\n",
              "    <tr>\n",
              "      <th>2604</th>\n",
              "      <td>Kenya</td>\n",
              "      <td>2004</td>\n",
              "      <td>76.856776</td>\n",
              "    </tr>\n",
              "  </tbody>\n",
              "</table>\n",
              "</div>"
            ],
            "text/plain": [
              "     Entity  Year  Renewables (% electricity)\n",
              "2600  Kenya  2000                   50.740010\n",
              "2601  Kenya  2001                   69.126932\n",
              "2602  Kenya  2002                   79.755892\n",
              "2603  Kenya  2003                   84.935269\n",
              "2604  Kenya  2004                   76.856776"
            ]
          },
          "metadata": {
            "tags": []
          },
          "execution_count": 41
        }
      ]
    },
    {
      "cell_type": "code",
      "metadata": {
        "colab": {
          "base_uri": "https://localhost:8080/",
          "height": 0
        },
        "id": "t9890u00KTtG",
        "outputId": "abb62c84-61d9-49dc-ef3f-cd0c0d80c048"
      },
      "source": [
        "Electricity_access.head()"
      ],
      "execution_count": 42,
      "outputs": [
        {
          "output_type": "execute_result",
          "data": {
            "text/html": [
              "<div>\n",
              "<style scoped>\n",
              "    .dataframe tbody tr th:only-of-type {\n",
              "        vertical-align: middle;\n",
              "    }\n",
              "\n",
              "    .dataframe tbody tr th {\n",
              "        vertical-align: top;\n",
              "    }\n",
              "\n",
              "    .dataframe thead th {\n",
              "        text-align: right;\n",
              "    }\n",
              "</style>\n",
              "<table border=\"1\" class=\"dataframe\">\n",
              "  <thead>\n",
              "    <tr style=\"text-align: right;\">\n",
              "      <th></th>\n",
              "      <th>Entity</th>\n",
              "      <th>Year</th>\n",
              "      <th>Access to electricity (% of population)</th>\n",
              "    </tr>\n",
              "  </thead>\n",
              "  <tbody>\n",
              "    <tr>\n",
              "      <th>3159</th>\n",
              "      <td>Kenya</td>\n",
              "      <td>1990</td>\n",
              "      <td>3.318390</td>\n",
              "    </tr>\n",
              "    <tr>\n",
              "      <th>3160</th>\n",
              "      <td>Kenya</td>\n",
              "      <td>1991</td>\n",
              "      <td>4.614890</td>\n",
              "    </tr>\n",
              "    <tr>\n",
              "      <th>3161</th>\n",
              "      <td>Kenya</td>\n",
              "      <td>1992</td>\n",
              "      <td>5.910881</td>\n",
              "    </tr>\n",
              "    <tr>\n",
              "      <th>3162</th>\n",
              "      <td>Kenya</td>\n",
              "      <td>1993</td>\n",
              "      <td>10.900000</td>\n",
              "    </tr>\n",
              "    <tr>\n",
              "      <th>3163</th>\n",
              "      <td>Kenya</td>\n",
              "      <td>1994</td>\n",
              "      <td>8.490625</td>\n",
              "    </tr>\n",
              "  </tbody>\n",
              "</table>\n",
              "</div>"
            ],
            "text/plain": [
              "     Entity  Year  Access to electricity (% of population)\n",
              "3159  Kenya  1990                                 3.318390\n",
              "3160  Kenya  1991                                 4.614890\n",
              "3161  Kenya  1992                                 5.910881\n",
              "3162  Kenya  1993                                10.900000\n",
              "3163  Kenya  1994                                 8.490625"
            ]
          },
          "metadata": {
            "tags": []
          },
          "execution_count": 42
        }
      ]
    },
    {
      "cell_type": "code",
      "metadata": {
        "id": "ByLC1qPyKWoI"
      },
      "source": [
        "# Consistency in columns\n",
        "Source.columns = ['Entity', 'Year', 'Coal_percent_of_electricity', 'Oil_percent_of_electricity', 'Gas_percent_of_electricity', 'Nuclear_percent_of_electricity', 'Solar_percent_of_electricity',\n",
        "                  'Wind_percent_of_electricity', 'Hydro_percent_of_electricity', 'Other_renewables_percent_of_electricity']\n",
        "Fossil_Fuels.columns = ['Entity', 'Year', 'Fossil_Fuels_percent_of_electricity']\n",
        "Carbon.columns = ['Entity', 'Year', 'Low_carbon_percent_of_electricity']\n",
        "Renewables.columns = ['Entity', 'Year', 'Renewables_percent_of_electricity']\n",
        "Electricity_access.columns = ['Entity', 'Year', 'percent_access_to_electricity']"
      ],
      "execution_count": 43,
      "outputs": []
    },
    {
      "cell_type": "markdown",
      "metadata": {
        "id": "BHwH3RUFbXu_"
      },
      "source": [
        "# DATA CLEANING 2"
      ]
    },
    {
      "cell_type": "code",
      "metadata": {
        "colab": {
          "base_uri": "https://localhost:8080/",
          "height": 0
        },
        "id": "sNDyfo3ikHp1",
        "outputId": "ea73b17d-a2a5-40f0-949a-7d3b8e23b19c"
      },
      "source": [
        "#dropping average row from Energy dataset\n",
        "Energy_2009.drop([0], axis=0, inplace=True)\n",
        "Energy_2009.head(3)\n"
      ],
      "execution_count": 44,
      "outputs": [
        {
          "output_type": "execute_result",
          "data": {
            "text/html": [
              "<div>\n",
              "<style scoped>\n",
              "    .dataframe tbody tr th:only-of-type {\n",
              "        vertical-align: middle;\n",
              "    }\n",
              "\n",
              "    .dataframe tbody tr th {\n",
              "        vertical-align: top;\n",
              "    }\n",
              "\n",
              "    .dataframe thead th {\n",
              "        text-align: right;\n",
              "    }\n",
              "</style>\n",
              "<table border=\"1\" class=\"dataframe\">\n",
              "  <thead>\n",
              "    <tr style=\"text-align: right;\">\n",
              "      <th></th>\n",
              "      <th>country</th>\n",
              "      <th>county</th>\n",
              "      <th>percent_access_to_electricity</th>\n",
              "    </tr>\n",
              "  </thead>\n",
              "  <tbody>\n",
              "    <tr>\n",
              "      <th>1</th>\n",
              "      <td>Kenya</td>\n",
              "      <td>Baringo</td>\n",
              "      <td>9.6</td>\n",
              "    </tr>\n",
              "    <tr>\n",
              "      <th>2</th>\n",
              "      <td>Kenya</td>\n",
              "      <td>Bomet</td>\n",
              "      <td>4.3</td>\n",
              "    </tr>\n",
              "    <tr>\n",
              "      <th>3</th>\n",
              "      <td>Kenya</td>\n",
              "      <td>Bungoma</td>\n",
              "      <td>4.5</td>\n",
              "    </tr>\n",
              "  </tbody>\n",
              "</table>\n",
              "</div>"
            ],
            "text/plain": [
              "  country   county  percent_access_to_electricity\n",
              "1   Kenya  Baringo                            9.6\n",
              "2   Kenya    Bomet                            4.3\n",
              "3   Kenya  Bungoma                            4.5"
            ]
          },
          "metadata": {
            "tags": []
          },
          "execution_count": 44
        }
      ]
    },
    {
      "cell_type": "code",
      "metadata": {
        "colab": {
          "base_uri": "https://localhost:8080/"
        },
        "id": "ZP99_EPGmUiu",
        "outputId": "9f6780be-f0ad-4cef-be13-5c4bfc334472"
      },
      "source": [
        "#checking for null values\n",
        "Energy_2009.isnull().sum()"
      ],
      "execution_count": 45,
      "outputs": [
        {
          "output_type": "execute_result",
          "data": {
            "text/plain": [
              "country                          1\n",
              "county                           1\n",
              "percent_access_to_electricity    1\n",
              "dtype: int64"
            ]
          },
          "metadata": {
            "tags": []
          },
          "execution_count": 45
        }
      ]
    },
    {
      "cell_type": "code",
      "metadata": {
        "colab": {
          "base_uri": "https://localhost:8080/"
        },
        "id": "jw9BdkfumweN",
        "outputId": "95b03ac0-e189-434a-b9a1-1182c39b0910"
      },
      "source": [
        "#dropping null values\n",
        "Energy_2009.dropna(inplace=True)\n",
        "Energy_2009.isnull().sum()"
      ],
      "execution_count": 46,
      "outputs": [
        {
          "output_type": "execute_result",
          "data": {
            "text/plain": [
              "country                          0\n",
              "county                           0\n",
              "percent_access_to_electricity    0\n",
              "dtype: int64"
            ]
          },
          "metadata": {
            "tags": []
          },
          "execution_count": 46
        }
      ]
    },
    {
      "cell_type": "code",
      "metadata": {
        "colab": {
          "base_uri": "https://localhost:8080/",
          "height": 0
        },
        "id": "YShix3JCoXMp",
        "outputId": "4447d2cc-d11d-422b-cb92-36ec8b2743b2"
      },
      "source": [
        "#reseting the index\n",
        "Energy_2009 = Energy_2009.reset_index()\n",
        "Energy_2009.head(3)\n"
      ],
      "execution_count": 47,
      "outputs": [
        {
          "output_type": "execute_result",
          "data": {
            "text/html": [
              "<div>\n",
              "<style scoped>\n",
              "    .dataframe tbody tr th:only-of-type {\n",
              "        vertical-align: middle;\n",
              "    }\n",
              "\n",
              "    .dataframe tbody tr th {\n",
              "        vertical-align: top;\n",
              "    }\n",
              "\n",
              "    .dataframe thead th {\n",
              "        text-align: right;\n",
              "    }\n",
              "</style>\n",
              "<table border=\"1\" class=\"dataframe\">\n",
              "  <thead>\n",
              "    <tr style=\"text-align: right;\">\n",
              "      <th></th>\n",
              "      <th>index</th>\n",
              "      <th>country</th>\n",
              "      <th>county</th>\n",
              "      <th>percent_access_to_electricity</th>\n",
              "    </tr>\n",
              "  </thead>\n",
              "  <tbody>\n",
              "    <tr>\n",
              "      <th>0</th>\n",
              "      <td>1</td>\n",
              "      <td>Kenya</td>\n",
              "      <td>Baringo</td>\n",
              "      <td>9.6</td>\n",
              "    </tr>\n",
              "    <tr>\n",
              "      <th>1</th>\n",
              "      <td>2</td>\n",
              "      <td>Kenya</td>\n",
              "      <td>Bomet</td>\n",
              "      <td>4.3</td>\n",
              "    </tr>\n",
              "    <tr>\n",
              "      <th>2</th>\n",
              "      <td>3</td>\n",
              "      <td>Kenya</td>\n",
              "      <td>Bungoma</td>\n",
              "      <td>4.5</td>\n",
              "    </tr>\n",
              "  </tbody>\n",
              "</table>\n",
              "</div>"
            ],
            "text/plain": [
              "   index country   county  percent_access_to_electricity\n",
              "0      1   Kenya  Baringo                            9.6\n",
              "1      2   Kenya    Bomet                            4.3\n",
              "2      3   Kenya  Bungoma                            4.5"
            ]
          },
          "metadata": {
            "tags": []
          },
          "execution_count": 47
        }
      ]
    },
    {
      "cell_type": "code",
      "metadata": {
        "colab": {
          "base_uri": "https://localhost:8080/",
          "height": 0
        },
        "id": "MgXZHRbgotm9",
        "outputId": "b13e6686-fec2-4083-9909-e7d5b7f5cb32"
      },
      "source": [
        "#drop extra index column\n",
        "Energy_2009.drop(['index'], axis=1, inplace=True)\n",
        "Energy_2009.head()"
      ],
      "execution_count": 48,
      "outputs": [
        {
          "output_type": "execute_result",
          "data": {
            "text/html": [
              "<div>\n",
              "<style scoped>\n",
              "    .dataframe tbody tr th:only-of-type {\n",
              "        vertical-align: middle;\n",
              "    }\n",
              "\n",
              "    .dataframe tbody tr th {\n",
              "        vertical-align: top;\n",
              "    }\n",
              "\n",
              "    .dataframe thead th {\n",
              "        text-align: right;\n",
              "    }\n",
              "</style>\n",
              "<table border=\"1\" class=\"dataframe\">\n",
              "  <thead>\n",
              "    <tr style=\"text-align: right;\">\n",
              "      <th></th>\n",
              "      <th>country</th>\n",
              "      <th>county</th>\n",
              "      <th>percent_access_to_electricity</th>\n",
              "    </tr>\n",
              "  </thead>\n",
              "  <tbody>\n",
              "    <tr>\n",
              "      <th>0</th>\n",
              "      <td>Kenya</td>\n",
              "      <td>Baringo</td>\n",
              "      <td>9.6</td>\n",
              "    </tr>\n",
              "    <tr>\n",
              "      <th>1</th>\n",
              "      <td>Kenya</td>\n",
              "      <td>Bomet</td>\n",
              "      <td>4.3</td>\n",
              "    </tr>\n",
              "    <tr>\n",
              "      <th>2</th>\n",
              "      <td>Kenya</td>\n",
              "      <td>Bungoma</td>\n",
              "      <td>4.5</td>\n",
              "    </tr>\n",
              "    <tr>\n",
              "      <th>3</th>\n",
              "      <td>Kenya</td>\n",
              "      <td>Busia</td>\n",
              "      <td>6.0</td>\n",
              "    </tr>\n",
              "    <tr>\n",
              "      <th>4</th>\n",
              "      <td>Kenya</td>\n",
              "      <td>Elgeiyo-Marakwet</td>\n",
              "      <td>7.2</td>\n",
              "    </tr>\n",
              "  </tbody>\n",
              "</table>\n",
              "</div>"
            ],
            "text/plain": [
              "  country            county  percent_access_to_electricity\n",
              "0   Kenya           Baringo                            9.6\n",
              "1   Kenya             Bomet                            4.3\n",
              "2   Kenya           Bungoma                            4.5\n",
              "3   Kenya             Busia                            6.0\n",
              "4   Kenya  Elgeiyo-Marakwet                            7.2"
            ]
          },
          "metadata": {
            "tags": []
          },
          "execution_count": 48
        }
      ]
    },
    {
      "cell_type": "code",
      "metadata": {
        "id": "N5nKvV6ANE43",
        "colab": {
          "base_uri": "https://localhost:8080/",
          "height": 0
        },
        "outputId": "bf18dfb8-c7df-44a9-ec30-e41ea8f7c31b"
      },
      "source": [
        "#dropping fossil table as it's the same as the Oil % column in Source table.\n",
        "#dropping Carbon table as it's the same as the renewables table.\n",
        "#Appending renewables to the Sources column.\n",
        "\n",
        "Source['percent_total_renewables'] = Renewables['Renewables_percent_of_electricity']\n",
        "Source.head()"
      ],
      "execution_count": 49,
      "outputs": [
        {
          "output_type": "execute_result",
          "data": {
            "text/html": [
              "<div>\n",
              "<style scoped>\n",
              "    .dataframe tbody tr th:only-of-type {\n",
              "        vertical-align: middle;\n",
              "    }\n",
              "\n",
              "    .dataframe tbody tr th {\n",
              "        vertical-align: top;\n",
              "    }\n",
              "\n",
              "    .dataframe thead th {\n",
              "        text-align: right;\n",
              "    }\n",
              "</style>\n",
              "<table border=\"1\" class=\"dataframe\">\n",
              "  <thead>\n",
              "    <tr style=\"text-align: right;\">\n",
              "      <th></th>\n",
              "      <th>Entity</th>\n",
              "      <th>Year</th>\n",
              "      <th>Coal_percent_of_electricity</th>\n",
              "      <th>Oil_percent_of_electricity</th>\n",
              "      <th>Gas_percent_of_electricity</th>\n",
              "      <th>Nuclear_percent_of_electricity</th>\n",
              "      <th>Solar_percent_of_electricity</th>\n",
              "      <th>Wind_percent_of_electricity</th>\n",
              "      <th>Hydro_percent_of_electricity</th>\n",
              "      <th>Other_renewables_percent_of_electricity</th>\n",
              "      <th>percent_total_renewables</th>\n",
              "    </tr>\n",
              "  </thead>\n",
              "  <tbody>\n",
              "    <tr>\n",
              "      <th>2600</th>\n",
              "      <td>Kenya</td>\n",
              "      <td>2000</td>\n",
              "      <td>0.0</td>\n",
              "      <td>49.259990</td>\n",
              "      <td>0.0</td>\n",
              "      <td>0.0</td>\n",
              "      <td>0.0</td>\n",
              "      <td>0.0</td>\n",
              "      <td>32.363098</td>\n",
              "      <td>18.376912</td>\n",
              "      <td>50.740010</td>\n",
              "    </tr>\n",
              "    <tr>\n",
              "      <th>2601</th>\n",
              "      <td>Kenya</td>\n",
              "      <td>2001</td>\n",
              "      <td>0.0</td>\n",
              "      <td>30.873068</td>\n",
              "      <td>0.0</td>\n",
              "      <td>0.0</td>\n",
              "      <td>0.0</td>\n",
              "      <td>0.0</td>\n",
              "      <td>51.796212</td>\n",
              "      <td>17.330721</td>\n",
              "      <td>69.126932</td>\n",
              "    </tr>\n",
              "    <tr>\n",
              "      <th>2602</th>\n",
              "      <td>Kenya</td>\n",
              "      <td>2002</td>\n",
              "      <td>0.0</td>\n",
              "      <td>20.244108</td>\n",
              "      <td>0.0</td>\n",
              "      <td>0.0</td>\n",
              "      <td>0.0</td>\n",
              "      <td>0.0</td>\n",
              "      <td>64.983165</td>\n",
              "      <td>14.772727</td>\n",
              "      <td>79.755892</td>\n",
              "    </tr>\n",
              "    <tr>\n",
              "      <th>2603</th>\n",
              "      <td>Kenya</td>\n",
              "      <td>2003</td>\n",
              "      <td>0.0</td>\n",
              "      <td>15.064731</td>\n",
              "      <td>0.0</td>\n",
              "      <td>0.0</td>\n",
              "      <td>0.0</td>\n",
              "      <td>0.0</td>\n",
              "      <td>63.299333</td>\n",
              "      <td>21.635936</td>\n",
              "      <td>84.935269</td>\n",
              "    </tr>\n",
              "    <tr>\n",
              "      <th>2604</th>\n",
              "      <td>Kenya</td>\n",
              "      <td>2004</td>\n",
              "      <td>0.0</td>\n",
              "      <td>23.143224</td>\n",
              "      <td>0.0</td>\n",
              "      <td>0.0</td>\n",
              "      <td>0.0</td>\n",
              "      <td>0.0</td>\n",
              "      <td>52.081423</td>\n",
              "      <td>24.775353</td>\n",
              "      <td>76.856776</td>\n",
              "    </tr>\n",
              "  </tbody>\n",
              "</table>\n",
              "</div>"
            ],
            "text/plain": [
              "     Entity  ...  percent_total_renewables\n",
              "2600  Kenya  ...                 50.740010\n",
              "2601  Kenya  ...                 69.126932\n",
              "2602  Kenya  ...                 79.755892\n",
              "2603  Kenya  ...                 84.935269\n",
              "2604  Kenya  ...                 76.856776\n",
              "\n",
              "[5 rows x 11 columns]"
            ]
          },
          "metadata": {
            "tags": []
          },
          "execution_count": 49
        }
      ]
    },
    {
      "cell_type": "code",
      "metadata": {
        "colab": {
          "base_uri": "https://localhost:8080/",
          "height": 0
        },
        "id": "dTQLf5hCcfWm",
        "outputId": "3c82b0f7-439d-42b2-cd69-00a4cdba19a2"
      },
      "source": [
        "#Standardization of column names\n",
        "#Using strip(), lower() and replace() functions \n",
        "#Source table\n",
        "Source.columns = Source.columns.str.strip().str.lower()\n",
        "Source.head(1)\n"
      ],
      "execution_count": 50,
      "outputs": [
        {
          "output_type": "execute_result",
          "data": {
            "text/html": [
              "<div>\n",
              "<style scoped>\n",
              "    .dataframe tbody tr th:only-of-type {\n",
              "        vertical-align: middle;\n",
              "    }\n",
              "\n",
              "    .dataframe tbody tr th {\n",
              "        vertical-align: top;\n",
              "    }\n",
              "\n",
              "    .dataframe thead th {\n",
              "        text-align: right;\n",
              "    }\n",
              "</style>\n",
              "<table border=\"1\" class=\"dataframe\">\n",
              "  <thead>\n",
              "    <tr style=\"text-align: right;\">\n",
              "      <th></th>\n",
              "      <th>entity</th>\n",
              "      <th>year</th>\n",
              "      <th>coal_percent_of_electricity</th>\n",
              "      <th>oil_percent_of_electricity</th>\n",
              "      <th>gas_percent_of_electricity</th>\n",
              "      <th>nuclear_percent_of_electricity</th>\n",
              "      <th>solar_percent_of_electricity</th>\n",
              "      <th>wind_percent_of_electricity</th>\n",
              "      <th>hydro_percent_of_electricity</th>\n",
              "      <th>other_renewables_percent_of_electricity</th>\n",
              "      <th>percent_total_renewables</th>\n",
              "    </tr>\n",
              "  </thead>\n",
              "  <tbody>\n",
              "    <tr>\n",
              "      <th>2600</th>\n",
              "      <td>Kenya</td>\n",
              "      <td>2000</td>\n",
              "      <td>0.0</td>\n",
              "      <td>49.25999</td>\n",
              "      <td>0.0</td>\n",
              "      <td>0.0</td>\n",
              "      <td>0.0</td>\n",
              "      <td>0.0</td>\n",
              "      <td>32.363098</td>\n",
              "      <td>18.376912</td>\n",
              "      <td>50.74001</td>\n",
              "    </tr>\n",
              "  </tbody>\n",
              "</table>\n",
              "</div>"
            ],
            "text/plain": [
              "     entity  ...  percent_total_renewables\n",
              "2600  Kenya  ...                  50.74001\n",
              "\n",
              "[1 rows x 11 columns]"
            ]
          },
          "metadata": {
            "tags": []
          },
          "execution_count": 50
        }
      ]
    },
    {
      "cell_type": "code",
      "metadata": {
        "colab": {
          "base_uri": "https://localhost:8080/",
          "height": 0
        },
        "id": "vs5t6KXQdcb8",
        "outputId": "1df4b694-cd80-4c7b-c437-420e6250111a"
      },
      "source": [
        "#reseting the index column\n",
        "Source = Source.reset_index()\n",
        "Source.head()"
      ],
      "execution_count": 51,
      "outputs": [
        {
          "output_type": "execute_result",
          "data": {
            "text/html": [
              "<div>\n",
              "<style scoped>\n",
              "    .dataframe tbody tr th:only-of-type {\n",
              "        vertical-align: middle;\n",
              "    }\n",
              "\n",
              "    .dataframe tbody tr th {\n",
              "        vertical-align: top;\n",
              "    }\n",
              "\n",
              "    .dataframe thead th {\n",
              "        text-align: right;\n",
              "    }\n",
              "</style>\n",
              "<table border=\"1\" class=\"dataframe\">\n",
              "  <thead>\n",
              "    <tr style=\"text-align: right;\">\n",
              "      <th></th>\n",
              "      <th>index</th>\n",
              "      <th>entity</th>\n",
              "      <th>year</th>\n",
              "      <th>coal_percent_of_electricity</th>\n",
              "      <th>oil_percent_of_electricity</th>\n",
              "      <th>gas_percent_of_electricity</th>\n",
              "      <th>nuclear_percent_of_electricity</th>\n",
              "      <th>solar_percent_of_electricity</th>\n",
              "      <th>wind_percent_of_electricity</th>\n",
              "      <th>hydro_percent_of_electricity</th>\n",
              "      <th>other_renewables_percent_of_electricity</th>\n",
              "      <th>percent_total_renewables</th>\n",
              "    </tr>\n",
              "  </thead>\n",
              "  <tbody>\n",
              "    <tr>\n",
              "      <th>0</th>\n",
              "      <td>2600</td>\n",
              "      <td>Kenya</td>\n",
              "      <td>2000</td>\n",
              "      <td>0.0</td>\n",
              "      <td>49.259990</td>\n",
              "      <td>0.0</td>\n",
              "      <td>0.0</td>\n",
              "      <td>0.0</td>\n",
              "      <td>0.0</td>\n",
              "      <td>32.363098</td>\n",
              "      <td>18.376912</td>\n",
              "      <td>50.740010</td>\n",
              "    </tr>\n",
              "    <tr>\n",
              "      <th>1</th>\n",
              "      <td>2601</td>\n",
              "      <td>Kenya</td>\n",
              "      <td>2001</td>\n",
              "      <td>0.0</td>\n",
              "      <td>30.873068</td>\n",
              "      <td>0.0</td>\n",
              "      <td>0.0</td>\n",
              "      <td>0.0</td>\n",
              "      <td>0.0</td>\n",
              "      <td>51.796212</td>\n",
              "      <td>17.330721</td>\n",
              "      <td>69.126932</td>\n",
              "    </tr>\n",
              "    <tr>\n",
              "      <th>2</th>\n",
              "      <td>2602</td>\n",
              "      <td>Kenya</td>\n",
              "      <td>2002</td>\n",
              "      <td>0.0</td>\n",
              "      <td>20.244108</td>\n",
              "      <td>0.0</td>\n",
              "      <td>0.0</td>\n",
              "      <td>0.0</td>\n",
              "      <td>0.0</td>\n",
              "      <td>64.983165</td>\n",
              "      <td>14.772727</td>\n",
              "      <td>79.755892</td>\n",
              "    </tr>\n",
              "    <tr>\n",
              "      <th>3</th>\n",
              "      <td>2603</td>\n",
              "      <td>Kenya</td>\n",
              "      <td>2003</td>\n",
              "      <td>0.0</td>\n",
              "      <td>15.064731</td>\n",
              "      <td>0.0</td>\n",
              "      <td>0.0</td>\n",
              "      <td>0.0</td>\n",
              "      <td>0.0</td>\n",
              "      <td>63.299333</td>\n",
              "      <td>21.635936</td>\n",
              "      <td>84.935269</td>\n",
              "    </tr>\n",
              "    <tr>\n",
              "      <th>4</th>\n",
              "      <td>2604</td>\n",
              "      <td>Kenya</td>\n",
              "      <td>2004</td>\n",
              "      <td>0.0</td>\n",
              "      <td>23.143224</td>\n",
              "      <td>0.0</td>\n",
              "      <td>0.0</td>\n",
              "      <td>0.0</td>\n",
              "      <td>0.0</td>\n",
              "      <td>52.081423</td>\n",
              "      <td>24.775353</td>\n",
              "      <td>76.856776</td>\n",
              "    </tr>\n",
              "  </tbody>\n",
              "</table>\n",
              "</div>"
            ],
            "text/plain": [
              "   index  ... percent_total_renewables\n",
              "0   2600  ...                50.740010\n",
              "1   2601  ...                69.126932\n",
              "2   2602  ...                79.755892\n",
              "3   2603  ...                84.935269\n",
              "4   2604  ...                76.856776\n",
              "\n",
              "[5 rows x 12 columns]"
            ]
          },
          "metadata": {
            "tags": []
          },
          "execution_count": 51
        }
      ]
    },
    {
      "cell_type": "code",
      "metadata": {
        "colab": {
          "base_uri": "https://localhost:8080/",
          "height": 0
        },
        "id": "yeAmtrTFdovA",
        "outputId": "21e31419-05dd-489b-e424-3d5b274eb36b"
      },
      "source": [
        "#drop extra index column\n",
        "Source.drop('index', axis=1, inplace=True)\n",
        "Source.head(1)"
      ],
      "execution_count": 52,
      "outputs": [
        {
          "output_type": "execute_result",
          "data": {
            "text/html": [
              "<div>\n",
              "<style scoped>\n",
              "    .dataframe tbody tr th:only-of-type {\n",
              "        vertical-align: middle;\n",
              "    }\n",
              "\n",
              "    .dataframe tbody tr th {\n",
              "        vertical-align: top;\n",
              "    }\n",
              "\n",
              "    .dataframe thead th {\n",
              "        text-align: right;\n",
              "    }\n",
              "</style>\n",
              "<table border=\"1\" class=\"dataframe\">\n",
              "  <thead>\n",
              "    <tr style=\"text-align: right;\">\n",
              "      <th></th>\n",
              "      <th>entity</th>\n",
              "      <th>year</th>\n",
              "      <th>coal_percent_of_electricity</th>\n",
              "      <th>oil_percent_of_electricity</th>\n",
              "      <th>gas_percent_of_electricity</th>\n",
              "      <th>nuclear_percent_of_electricity</th>\n",
              "      <th>solar_percent_of_electricity</th>\n",
              "      <th>wind_percent_of_electricity</th>\n",
              "      <th>hydro_percent_of_electricity</th>\n",
              "      <th>other_renewables_percent_of_electricity</th>\n",
              "      <th>percent_total_renewables</th>\n",
              "    </tr>\n",
              "  </thead>\n",
              "  <tbody>\n",
              "    <tr>\n",
              "      <th>0</th>\n",
              "      <td>Kenya</td>\n",
              "      <td>2000</td>\n",
              "      <td>0.0</td>\n",
              "      <td>49.25999</td>\n",
              "      <td>0.0</td>\n",
              "      <td>0.0</td>\n",
              "      <td>0.0</td>\n",
              "      <td>0.0</td>\n",
              "      <td>32.363098</td>\n",
              "      <td>18.376912</td>\n",
              "      <td>50.74001</td>\n",
              "    </tr>\n",
              "  </tbody>\n",
              "</table>\n",
              "</div>"
            ],
            "text/plain": [
              "  entity  ...  percent_total_renewables\n",
              "0  Kenya  ...                  50.74001\n",
              "\n",
              "[1 rows x 11 columns]"
            ]
          },
          "metadata": {
            "tags": []
          },
          "execution_count": 52
        }
      ]
    },
    {
      "cell_type": "code",
      "metadata": {
        "colab": {
          "base_uri": "https://localhost:8080/",
          "height": 0
        },
        "id": "_-k-ISm3bDMa",
        "outputId": "4d0d8cf5-19ce-496b-dba2-8a04f40abd11"
      },
      "source": [
        "#Previewing the table\n",
        "Electricity_access.head()"
      ],
      "execution_count": 53,
      "outputs": [
        {
          "output_type": "execute_result",
          "data": {
            "text/html": [
              "<div>\n",
              "<style scoped>\n",
              "    .dataframe tbody tr th:only-of-type {\n",
              "        vertical-align: middle;\n",
              "    }\n",
              "\n",
              "    .dataframe tbody tr th {\n",
              "        vertical-align: top;\n",
              "    }\n",
              "\n",
              "    .dataframe thead th {\n",
              "        text-align: right;\n",
              "    }\n",
              "</style>\n",
              "<table border=\"1\" class=\"dataframe\">\n",
              "  <thead>\n",
              "    <tr style=\"text-align: right;\">\n",
              "      <th></th>\n",
              "      <th>Entity</th>\n",
              "      <th>Year</th>\n",
              "      <th>percent_access_to_electricity</th>\n",
              "    </tr>\n",
              "  </thead>\n",
              "  <tbody>\n",
              "    <tr>\n",
              "      <th>3159</th>\n",
              "      <td>Kenya</td>\n",
              "      <td>1990</td>\n",
              "      <td>3.318390</td>\n",
              "    </tr>\n",
              "    <tr>\n",
              "      <th>3160</th>\n",
              "      <td>Kenya</td>\n",
              "      <td>1991</td>\n",
              "      <td>4.614890</td>\n",
              "    </tr>\n",
              "    <tr>\n",
              "      <th>3161</th>\n",
              "      <td>Kenya</td>\n",
              "      <td>1992</td>\n",
              "      <td>5.910881</td>\n",
              "    </tr>\n",
              "    <tr>\n",
              "      <th>3162</th>\n",
              "      <td>Kenya</td>\n",
              "      <td>1993</td>\n",
              "      <td>10.900000</td>\n",
              "    </tr>\n",
              "    <tr>\n",
              "      <th>3163</th>\n",
              "      <td>Kenya</td>\n",
              "      <td>1994</td>\n",
              "      <td>8.490625</td>\n",
              "    </tr>\n",
              "  </tbody>\n",
              "</table>\n",
              "</div>"
            ],
            "text/plain": [
              "     Entity  Year  percent_access_to_electricity\n",
              "3159  Kenya  1990                       3.318390\n",
              "3160  Kenya  1991                       4.614890\n",
              "3161  Kenya  1992                       5.910881\n",
              "3162  Kenya  1993                      10.900000\n",
              "3163  Kenya  1994                       8.490625"
            ]
          },
          "metadata": {
            "tags": []
          },
          "execution_count": 53
        }
      ]
    },
    {
      "cell_type": "code",
      "metadata": {
        "colab": {
          "base_uri": "https://localhost:8080/",
          "height": 0
        },
        "id": "VPmuGgXfbHPg",
        "outputId": "1c680da7-150b-4ae3-8c50-9525e85a6b09"
      },
      "source": [
        "#Standardization of column names\n",
        "#Using strip(), lower() and replace() functions \n",
        "#Electricity table\n",
        "Electricity_access.columns = Electricity_access.columns.str.strip().str.lower()\n",
        "Electricity_access.head(1)"
      ],
      "execution_count": 54,
      "outputs": [
        {
          "output_type": "execute_result",
          "data": {
            "text/html": [
              "<div>\n",
              "<style scoped>\n",
              "    .dataframe tbody tr th:only-of-type {\n",
              "        vertical-align: middle;\n",
              "    }\n",
              "\n",
              "    .dataframe tbody tr th {\n",
              "        vertical-align: top;\n",
              "    }\n",
              "\n",
              "    .dataframe thead th {\n",
              "        text-align: right;\n",
              "    }\n",
              "</style>\n",
              "<table border=\"1\" class=\"dataframe\">\n",
              "  <thead>\n",
              "    <tr style=\"text-align: right;\">\n",
              "      <th></th>\n",
              "      <th>entity</th>\n",
              "      <th>year</th>\n",
              "      <th>percent_access_to_electricity</th>\n",
              "    </tr>\n",
              "  </thead>\n",
              "  <tbody>\n",
              "    <tr>\n",
              "      <th>3159</th>\n",
              "      <td>Kenya</td>\n",
              "      <td>1990</td>\n",
              "      <td>3.31839</td>\n",
              "    </tr>\n",
              "  </tbody>\n",
              "</table>\n",
              "</div>"
            ],
            "text/plain": [
              "     entity  year  percent_access_to_electricity\n",
              "3159  Kenya  1990                        3.31839"
            ]
          },
          "metadata": {
            "tags": []
          },
          "execution_count": 54
        }
      ]
    },
    {
      "cell_type": "code",
      "metadata": {
        "colab": {
          "base_uri": "https://localhost:8080/",
          "height": 0
        },
        "id": "sh8p_gWIc9ib",
        "outputId": "1e273363-53a8-473b-a843-dd838bfffed4"
      },
      "source": [
        "#reseting the index column\n",
        "Electricity_access = Electricity_access.reset_index()\n",
        "Electricity_access.head()"
      ],
      "execution_count": 55,
      "outputs": [
        {
          "output_type": "execute_result",
          "data": {
            "text/html": [
              "<div>\n",
              "<style scoped>\n",
              "    .dataframe tbody tr th:only-of-type {\n",
              "        vertical-align: middle;\n",
              "    }\n",
              "\n",
              "    .dataframe tbody tr th {\n",
              "        vertical-align: top;\n",
              "    }\n",
              "\n",
              "    .dataframe thead th {\n",
              "        text-align: right;\n",
              "    }\n",
              "</style>\n",
              "<table border=\"1\" class=\"dataframe\">\n",
              "  <thead>\n",
              "    <tr style=\"text-align: right;\">\n",
              "      <th></th>\n",
              "      <th>index</th>\n",
              "      <th>entity</th>\n",
              "      <th>year</th>\n",
              "      <th>percent_access_to_electricity</th>\n",
              "    </tr>\n",
              "  </thead>\n",
              "  <tbody>\n",
              "    <tr>\n",
              "      <th>0</th>\n",
              "      <td>3159</td>\n",
              "      <td>Kenya</td>\n",
              "      <td>1990</td>\n",
              "      <td>3.318390</td>\n",
              "    </tr>\n",
              "    <tr>\n",
              "      <th>1</th>\n",
              "      <td>3160</td>\n",
              "      <td>Kenya</td>\n",
              "      <td>1991</td>\n",
              "      <td>4.614890</td>\n",
              "    </tr>\n",
              "    <tr>\n",
              "      <th>2</th>\n",
              "      <td>3161</td>\n",
              "      <td>Kenya</td>\n",
              "      <td>1992</td>\n",
              "      <td>5.910881</td>\n",
              "    </tr>\n",
              "    <tr>\n",
              "      <th>3</th>\n",
              "      <td>3162</td>\n",
              "      <td>Kenya</td>\n",
              "      <td>1993</td>\n",
              "      <td>10.900000</td>\n",
              "    </tr>\n",
              "    <tr>\n",
              "      <th>4</th>\n",
              "      <td>3163</td>\n",
              "      <td>Kenya</td>\n",
              "      <td>1994</td>\n",
              "      <td>8.490625</td>\n",
              "    </tr>\n",
              "  </tbody>\n",
              "</table>\n",
              "</div>"
            ],
            "text/plain": [
              "   index entity  year  percent_access_to_electricity\n",
              "0   3159  Kenya  1990                       3.318390\n",
              "1   3160  Kenya  1991                       4.614890\n",
              "2   3161  Kenya  1992                       5.910881\n",
              "3   3162  Kenya  1993                      10.900000\n",
              "4   3163  Kenya  1994                       8.490625"
            ]
          },
          "metadata": {
            "tags": []
          },
          "execution_count": 55
        }
      ]
    },
    {
      "cell_type": "code",
      "metadata": {
        "colab": {
          "base_uri": "https://localhost:8080/",
          "height": 0
        },
        "id": "-fZAypDReKeW",
        "outputId": "c6a3f39b-5caa-49a8-f935-e42cce81d3b3"
      },
      "source": [
        "#drop extra index column\n",
        "Electricity_access.drop('index', axis=1, inplace=True)\n",
        "Electricity_access.head(1)"
      ],
      "execution_count": 56,
      "outputs": [
        {
          "output_type": "execute_result",
          "data": {
            "text/html": [
              "<div>\n",
              "<style scoped>\n",
              "    .dataframe tbody tr th:only-of-type {\n",
              "        vertical-align: middle;\n",
              "    }\n",
              "\n",
              "    .dataframe tbody tr th {\n",
              "        vertical-align: top;\n",
              "    }\n",
              "\n",
              "    .dataframe thead th {\n",
              "        text-align: right;\n",
              "    }\n",
              "</style>\n",
              "<table border=\"1\" class=\"dataframe\">\n",
              "  <thead>\n",
              "    <tr style=\"text-align: right;\">\n",
              "      <th></th>\n",
              "      <th>entity</th>\n",
              "      <th>year</th>\n",
              "      <th>percent_access_to_electricity</th>\n",
              "    </tr>\n",
              "  </thead>\n",
              "  <tbody>\n",
              "    <tr>\n",
              "      <th>0</th>\n",
              "      <td>Kenya</td>\n",
              "      <td>1990</td>\n",
              "      <td>3.31839</td>\n",
              "    </tr>\n",
              "  </tbody>\n",
              "</table>\n",
              "</div>"
            ],
            "text/plain": [
              "  entity  year  percent_access_to_electricity\n",
              "0  Kenya  1990                        3.31839"
            ]
          },
          "metadata": {
            "tags": []
          },
          "execution_count": 56
        }
      ]
    },
    {
      "cell_type": "markdown",
      "metadata": {
        "id": "hc07-Iy4eYnL"
      },
      "source": [
        "# DATA ANALYSIS"
      ]
    },
    {
      "cell_type": "markdown",
      "metadata": {
        "id": "V3RMRODuh2Nw"
      },
      "source": [
        "## Compare 2009 and 2011 datasets"
      ]
    },
    {
      "cell_type": "markdown",
      "metadata": {
        "id": "zF8j5jhGh9nV"
      },
      "source": [
        "### Compare households with electricity (%) 2009-2011\n",
        "\n"
      ]
    },
    {
      "cell_type": "code",
      "metadata": {
        "colab": {
          "base_uri": "https://localhost:8080/",
          "height": 0
        },
        "id": "8828r7mAiBQW",
        "outputId": "4e6f717e-fcef-419a-fe5f-67ebe06543d3"
      },
      "source": [
        "#2011 dataset preview\n",
        "Energy_2011 = Energy1_2017.copy(deep= True)\n",
        "Energy_2011.head(1)\n",
        "\n",
        "#2009 dataset preview\n",
        "#Energy_2009.head(2)"
      ],
      "execution_count": 57,
      "outputs": [
        {
          "output_type": "execute_result",
          "data": {
            "text/html": [
              "<div>\n",
              "<style scoped>\n",
              "    .dataframe tbody tr th:only-of-type {\n",
              "        vertical-align: middle;\n",
              "    }\n",
              "\n",
              "    .dataframe tbody tr th {\n",
              "        vertical-align: top;\n",
              "    }\n",
              "\n",
              "    .dataframe thead th {\n",
              "        text-align: right;\n",
              "    }\n",
              "</style>\n",
              "<table border=\"1\" class=\"dataframe\">\n",
              "  <thead>\n",
              "    <tr style=\"text-align: right;\">\n",
              "      <th></th>\n",
              "      <th>county</th>\n",
              "      <th>no_of_households_with_electricity</th>\n",
              "      <th>no_of_households_with_pressure_lamp</th>\n",
              "      <th>no_of_households_with_lantern</th>\n",
              "      <th>no_of_households_with_tin_lamp</th>\n",
              "      <th>no_of_households_with_gas_lamp</th>\n",
              "      <th>no_of_households_with_fuel_wood</th>\n",
              "      <th>no_of_households_with_solar</th>\n",
              "      <th>no_of_households_with_other</th>\n",
              "      <th>households</th>\n",
              "    </tr>\n",
              "  </thead>\n",
              "  <tbody>\n",
              "    <tr>\n",
              "      <th>0</th>\n",
              "      <td>Baringo</td>\n",
              "      <td>10583</td>\n",
              "      <td>437</td>\n",
              "      <td>43488</td>\n",
              "      <td>22238</td>\n",
              "      <td>796</td>\n",
              "      <td>30734</td>\n",
              "      <td>1902</td>\n",
              "      <td>471</td>\n",
              "      <td>110649</td>\n",
              "    </tr>\n",
              "  </tbody>\n",
              "</table>\n",
              "</div>"
            ],
            "text/plain": [
              "    county  ...  households\n",
              "0  Baringo  ...      110649\n",
              "\n",
              "[1 rows x 10 columns]"
            ]
          },
          "metadata": {
            "tags": []
          },
          "execution_count": 57
        }
      ]
    },
    {
      "cell_type": "code",
      "metadata": {
        "colab": {
          "base_uri": "https://localhost:8080/",
          "height": 0
        },
        "id": "xcgCnc1xlFNx",
        "outputId": "b1b8bd83-de17-4b6f-c0af-bbf8294a6093"
      },
      "source": [
        "#Calculating % of households with electricity in 2011 dataset\n",
        "e = (Energy_2011['no_of_households_with_electricity'] + Energy_2011['no_of_households_with_solar'])/(Energy_2011['households'])\n",
        "e1 = e*100\n",
        "#calculating difference in electricity connectivity between 2009 and 2011\n",
        "\n",
        "Energy_2011['percent_growth_elec_2009_2011'] = e1 - Energy_2009['percent_access_to_electricity']\n",
        "Energy_2011.head()"
      ],
      "execution_count": 58,
      "outputs": [
        {
          "output_type": "execute_result",
          "data": {
            "text/html": [
              "<div>\n",
              "<style scoped>\n",
              "    .dataframe tbody tr th:only-of-type {\n",
              "        vertical-align: middle;\n",
              "    }\n",
              "\n",
              "    .dataframe tbody tr th {\n",
              "        vertical-align: top;\n",
              "    }\n",
              "\n",
              "    .dataframe thead th {\n",
              "        text-align: right;\n",
              "    }\n",
              "</style>\n",
              "<table border=\"1\" class=\"dataframe\">\n",
              "  <thead>\n",
              "    <tr style=\"text-align: right;\">\n",
              "      <th></th>\n",
              "      <th>county</th>\n",
              "      <th>no_of_households_with_electricity</th>\n",
              "      <th>no_of_households_with_pressure_lamp</th>\n",
              "      <th>no_of_households_with_lantern</th>\n",
              "      <th>no_of_households_with_tin_lamp</th>\n",
              "      <th>no_of_households_with_gas_lamp</th>\n",
              "      <th>no_of_households_with_fuel_wood</th>\n",
              "      <th>no_of_households_with_solar</th>\n",
              "      <th>no_of_households_with_other</th>\n",
              "      <th>households</th>\n",
              "      <th>percent_growth_elec_2009_2011</th>\n",
              "    </tr>\n",
              "  </thead>\n",
              "  <tbody>\n",
              "    <tr>\n",
              "      <th>0</th>\n",
              "      <td>Baringo</td>\n",
              "      <td>10583</td>\n",
              "      <td>437</td>\n",
              "      <td>43488</td>\n",
              "      <td>22238</td>\n",
              "      <td>796</td>\n",
              "      <td>30734</td>\n",
              "      <td>1902</td>\n",
              "      <td>471</td>\n",
              "      <td>110649</td>\n",
              "      <td>1.683428</td>\n",
              "    </tr>\n",
              "    <tr>\n",
              "      <th>1</th>\n",
              "      <td>Bomet</td>\n",
              "      <td>7552</td>\n",
              "      <td>581</td>\n",
              "      <td>113311</td>\n",
              "      <td>45434</td>\n",
              "      <td>1135</td>\n",
              "      <td>1444</td>\n",
              "      <td>4958</td>\n",
              "      <td>499</td>\n",
              "      <td>174914</td>\n",
              "      <td>2.852086</td>\n",
              "    </tr>\n",
              "    <tr>\n",
              "      <th>2</th>\n",
              "      <td>Bungoma</td>\n",
              "      <td>12219</td>\n",
              "      <td>1351</td>\n",
              "      <td>72256</td>\n",
              "      <td>180120</td>\n",
              "      <td>1704</td>\n",
              "      <td>1493</td>\n",
              "      <td>1223</td>\n",
              "      <td>458</td>\n",
              "      <td>270824</td>\n",
              "      <td>0.463371</td>\n",
              "    </tr>\n",
              "    <tr>\n",
              "      <th>3</th>\n",
              "      <td>Busia</td>\n",
              "      <td>9253</td>\n",
              "      <td>494</td>\n",
              "      <td>33283</td>\n",
              "      <td>108949</td>\n",
              "      <td>709</td>\n",
              "      <td>566</td>\n",
              "      <td>633</td>\n",
              "      <td>338</td>\n",
              "      <td>154225</td>\n",
              "      <td>0.410115</td>\n",
              "    </tr>\n",
              "    <tr>\n",
              "      <th>4</th>\n",
              "      <td>Elgeyo Marakwet</td>\n",
              "      <td>5547</td>\n",
              "      <td>220</td>\n",
              "      <td>36321</td>\n",
              "      <td>21891</td>\n",
              "      <td>449</td>\n",
              "      <td>11744</td>\n",
              "      <td>1155</td>\n",
              "      <td>228</td>\n",
              "      <td>77555</td>\n",
              "      <td>1.441609</td>\n",
              "    </tr>\n",
              "  </tbody>\n",
              "</table>\n",
              "</div>"
            ],
            "text/plain": [
              "            county  ...  percent_growth_elec_2009_2011\n",
              "0          Baringo  ...                       1.683428\n",
              "1            Bomet  ...                       2.852086\n",
              "2          Bungoma  ...                       0.463371\n",
              "3            Busia  ...                       0.410115\n",
              "4  Elgeyo Marakwet  ...                       1.441609\n",
              "\n",
              "[5 rows x 11 columns]"
            ]
          },
          "metadata": {
            "tags": []
          },
          "execution_count": 58
        }
      ]
    },
    {
      "cell_type": "markdown",
      "metadata": {
        "id": "OCSEa23F4dnt"
      },
      "source": [
        "### County with highest growth between 2009 and 2011 in terms of Electricity access"
      ]
    },
    {
      "cell_type": "code",
      "metadata": {
        "colab": {
          "base_uri": "https://localhost:8080/",
          "height": 0
        },
        "id": "JC6womPp4ifC",
        "outputId": "f04bca18-1545-4601-d3f1-e6c637f90370"
      },
      "source": [
        "#county with largest growth/ % change between 2009 and 2011\n",
        "larg = Energy_2011['percent_growth_elec_2009_2011'].max()\n",
        "larg\n",
        "Energy_2011.loc[Energy_2011['percent_growth_elec_2009_2011'] == larg]"
      ],
      "execution_count": 59,
      "outputs": [
        {
          "output_type": "execute_result",
          "data": {
            "text/html": [
              "<div>\n",
              "<style scoped>\n",
              "    .dataframe tbody tr th:only-of-type {\n",
              "        vertical-align: middle;\n",
              "    }\n",
              "\n",
              "    .dataframe tbody tr th {\n",
              "        vertical-align: top;\n",
              "    }\n",
              "\n",
              "    .dataframe thead th {\n",
              "        text-align: right;\n",
              "    }\n",
              "</style>\n",
              "<table border=\"1\" class=\"dataframe\">\n",
              "  <thead>\n",
              "    <tr style=\"text-align: right;\">\n",
              "      <th></th>\n",
              "      <th>county</th>\n",
              "      <th>no_of_households_with_electricity</th>\n",
              "      <th>no_of_households_with_pressure_lamp</th>\n",
              "      <th>no_of_households_with_lantern</th>\n",
              "      <th>no_of_households_with_tin_lamp</th>\n",
              "      <th>no_of_households_with_gas_lamp</th>\n",
              "      <th>no_of_households_with_fuel_wood</th>\n",
              "      <th>no_of_households_with_solar</th>\n",
              "      <th>no_of_households_with_other</th>\n",
              "      <th>households</th>\n",
              "      <th>percent_growth_elec_2009_2011</th>\n",
              "    </tr>\n",
              "  </thead>\n",
              "  <tbody>\n",
              "    <tr>\n",
              "      <th>9</th>\n",
              "      <td>Kajiado</td>\n",
              "      <td>69098</td>\n",
              "      <td>1430</td>\n",
              "      <td>32788</td>\n",
              "      <td>62031</td>\n",
              "      <td>706</td>\n",
              "      <td>3804</td>\n",
              "      <td>1827</td>\n",
              "      <td>1780</td>\n",
              "      <td>173464</td>\n",
              "      <td>40.387446</td>\n",
              "    </tr>\n",
              "  </tbody>\n",
              "</table>\n",
              "</div>"
            ],
            "text/plain": [
              "    county  ...  percent_growth_elec_2009_2011\n",
              "9  Kajiado  ...                      40.387446\n",
              "\n",
              "[1 rows x 11 columns]"
            ]
          },
          "metadata": {
            "tags": []
          },
          "execution_count": 59
        }
      ]
    },
    {
      "cell_type": "markdown",
      "metadata": {
        "id": "pgprBoRc4poC"
      },
      "source": [
        "### County with lowest growth between 2009 and 2011 in terms of Electricity access"
      ]
    },
    {
      "cell_type": "code",
      "metadata": {
        "colab": {
          "base_uri": "https://localhost:8080/",
          "height": 0
        },
        "id": "RDab7hCW4sOx",
        "outputId": "1e04a50c-4103-4ca1-c940-55c12e132910"
      },
      "source": [
        "#county with lowest growth/ % change between 2009 and 2011\n",
        "smal = Energy_2011['percent_growth_elec_2009_2011'].min()\n",
        "smal\n",
        "Energy_2011.loc[Energy_2011['percent_growth_elec_2009_2011'] == smal]"
      ],
      "execution_count": 60,
      "outputs": [
        {
          "output_type": "execute_result",
          "data": {
            "text/html": [
              "<div>\n",
              "<style scoped>\n",
              "    .dataframe tbody tr th:only-of-type {\n",
              "        vertical-align: middle;\n",
              "    }\n",
              "\n",
              "    .dataframe tbody tr th {\n",
              "        vertical-align: top;\n",
              "    }\n",
              "\n",
              "    .dataframe thead th {\n",
              "        text-align: right;\n",
              "    }\n",
              "</style>\n",
              "<table border=\"1\" class=\"dataframe\">\n",
              "  <thead>\n",
              "    <tr style=\"text-align: right;\">\n",
              "      <th></th>\n",
              "      <th>county</th>\n",
              "      <th>no_of_households_with_electricity</th>\n",
              "      <th>no_of_households_with_pressure_lamp</th>\n",
              "      <th>no_of_households_with_lantern</th>\n",
              "      <th>no_of_households_with_tin_lamp</th>\n",
              "      <th>no_of_households_with_gas_lamp</th>\n",
              "      <th>no_of_households_with_fuel_wood</th>\n",
              "      <th>no_of_households_with_solar</th>\n",
              "      <th>no_of_households_with_other</th>\n",
              "      <th>households</th>\n",
              "      <th>percent_growth_elec_2009_2011</th>\n",
              "    </tr>\n",
              "  </thead>\n",
              "  <tbody>\n",
              "    <tr>\n",
              "      <th>29</th>\n",
              "      <td>Nairobi</td>\n",
              "      <td>712859</td>\n",
              "      <td>10324</td>\n",
              "      <td>128173</td>\n",
              "      <td>123551</td>\n",
              "      <td>1251</td>\n",
              "      <td>622</td>\n",
              "      <td>992</td>\n",
              "      <td>7244</td>\n",
              "      <td>985016</td>\n",
              "      <td>0.071006</td>\n",
              "    </tr>\n",
              "  </tbody>\n",
              "</table>\n",
              "</div>"
            ],
            "text/plain": [
              "     county  ...  percent_growth_elec_2009_2011\n",
              "29  Nairobi  ...                       0.071006\n",
              "\n",
              "[1 rows x 11 columns]"
            ]
          },
          "metadata": {
            "tags": []
          },
          "execution_count": 60
        }
      ]
    },
    {
      "cell_type": "markdown",
      "metadata": {
        "id": "MKHIDZZJYKnF"
      },
      "source": [
        "### 2009 Electricity Accessibility compared to World Bank records(2009)"
      ]
    },
    {
      "cell_type": "code",
      "metadata": {
        "colab": {
          "base_uri": "https://localhost:8080/",
          "height": 0
        },
        "id": "NiffdAZlYtUv",
        "outputId": "8f668df6-df30-42c2-add1-816db36df115"
      },
      "source": [
        "copy_2009.head()"
      ],
      "execution_count": 61,
      "outputs": [
        {
          "output_type": "execute_result",
          "data": {
            "text/html": [
              "<div>\n",
              "<style scoped>\n",
              "    .dataframe tbody tr th:only-of-type {\n",
              "        vertical-align: middle;\n",
              "    }\n",
              "\n",
              "    .dataframe tbody tr th {\n",
              "        vertical-align: top;\n",
              "    }\n",
              "\n",
              "    .dataframe thead th {\n",
              "        text-align: right;\n",
              "    }\n",
              "</style>\n",
              "<table border=\"1\" class=\"dataframe\">\n",
              "  <thead>\n",
              "    <tr style=\"text-align: right;\">\n",
              "      <th></th>\n",
              "      <th>country</th>\n",
              "      <th>county</th>\n",
              "      <th>percent_access_to_electricity</th>\n",
              "    </tr>\n",
              "  </thead>\n",
              "  <tbody>\n",
              "    <tr>\n",
              "      <th>0</th>\n",
              "      <td>Kenya</td>\n",
              "      <td>National Average</td>\n",
              "      <td>23.0</td>\n",
              "    </tr>\n",
              "    <tr>\n",
              "      <th>1</th>\n",
              "      <td>Kenya</td>\n",
              "      <td>Baringo</td>\n",
              "      <td>9.6</td>\n",
              "    </tr>\n",
              "    <tr>\n",
              "      <th>2</th>\n",
              "      <td>Kenya</td>\n",
              "      <td>Bomet</td>\n",
              "      <td>4.3</td>\n",
              "    </tr>\n",
              "    <tr>\n",
              "      <th>3</th>\n",
              "      <td>Kenya</td>\n",
              "      <td>Bungoma</td>\n",
              "      <td>4.5</td>\n",
              "    </tr>\n",
              "    <tr>\n",
              "      <th>4</th>\n",
              "      <td>Kenya</td>\n",
              "      <td>Busia</td>\n",
              "      <td>6.0</td>\n",
              "    </tr>\n",
              "  </tbody>\n",
              "</table>\n",
              "</div>"
            ],
            "text/plain": [
              "  country            county  percent_access_to_electricity\n",
              "0   Kenya  National Average                           23.0\n",
              "1   Kenya           Baringo                            9.6\n",
              "2   Kenya             Bomet                            4.3\n",
              "3   Kenya           Bungoma                            4.5\n",
              "4   Kenya             Busia                            6.0"
            ]
          },
          "metadata": {
            "tags": []
          },
          "execution_count": 61
        }
      ]
    },
    {
      "cell_type": "code",
      "metadata": {
        "colab": {
          "base_uri": "https://localhost:8080/"
        },
        "id": "cw9LGWvtZIAc",
        "outputId": "35467a5e-0d6d-4737-b827-2bb545c6c11a"
      },
      "source": [
        "#from copy_2009 we have the country average as 23% we can check whether 2009 dataset aligns\n",
        "#with World Bank dataset.\n",
        "Electricity_access.iloc[19, 2:] == 23"
      ],
      "execution_count": 62,
      "outputs": [
        {
          "output_type": "execute_result",
          "data": {
            "text/plain": [
              "percent_access_to_electricity    True\n",
              "Name: 19, dtype: bool"
            ]
          },
          "metadata": {
            "tags": []
          },
          "execution_count": 62
        }
      ]
    },
    {
      "cell_type": "markdown",
      "metadata": {
        "id": "YWfvzJ-GiB3y"
      },
      "source": [
        "### Compare households without electricity (%) 2009-2011"
      ]
    },
    {
      "cell_type": "code",
      "metadata": {
        "colab": {
          "base_uri": "https://localhost:8080/",
          "height": 0
        },
        "id": "MizzadopiGtP",
        "outputId": "4be5fd14-8c11-4df9-fe27-35a2f5513017"
      },
      "source": [
        "#Non renewable energy in this year as country hadn’t started projects (*except hydro)\n",
        "#2009\n",
        "Energy_2009['percent_without_elec'] = (100-(Energy_2009['percent_access_to_electricity']))\n",
        "Energy_2009.head()\n",
        "\n",
        "#2011\n",
        "#% with electricity\n",
        "Energy_2011['percent_with_elec'] = e1\n",
        "Energy_2011.head()\n",
        "#% without electricity\n",
        "Energy_2011['percent_without_elec'] = (100 -e1)\n",
        "Energy_2011.head()"
      ],
      "execution_count": 63,
      "outputs": [
        {
          "output_type": "execute_result",
          "data": {
            "text/html": [
              "<div>\n",
              "<style scoped>\n",
              "    .dataframe tbody tr th:only-of-type {\n",
              "        vertical-align: middle;\n",
              "    }\n",
              "\n",
              "    .dataframe tbody tr th {\n",
              "        vertical-align: top;\n",
              "    }\n",
              "\n",
              "    .dataframe thead th {\n",
              "        text-align: right;\n",
              "    }\n",
              "</style>\n",
              "<table border=\"1\" class=\"dataframe\">\n",
              "  <thead>\n",
              "    <tr style=\"text-align: right;\">\n",
              "      <th></th>\n",
              "      <th>county</th>\n",
              "      <th>no_of_households_with_electricity</th>\n",
              "      <th>no_of_households_with_pressure_lamp</th>\n",
              "      <th>no_of_households_with_lantern</th>\n",
              "      <th>no_of_households_with_tin_lamp</th>\n",
              "      <th>no_of_households_with_gas_lamp</th>\n",
              "      <th>no_of_households_with_fuel_wood</th>\n",
              "      <th>no_of_households_with_solar</th>\n",
              "      <th>no_of_households_with_other</th>\n",
              "      <th>households</th>\n",
              "      <th>percent_growth_elec_2009_2011</th>\n",
              "      <th>percent_with_elec</th>\n",
              "      <th>percent_without_elec</th>\n",
              "    </tr>\n",
              "  </thead>\n",
              "  <tbody>\n",
              "    <tr>\n",
              "      <th>0</th>\n",
              "      <td>Baringo</td>\n",
              "      <td>10583</td>\n",
              "      <td>437</td>\n",
              "      <td>43488</td>\n",
              "      <td>22238</td>\n",
              "      <td>796</td>\n",
              "      <td>30734</td>\n",
              "      <td>1902</td>\n",
              "      <td>471</td>\n",
              "      <td>110649</td>\n",
              "      <td>1.683428</td>\n",
              "      <td>11.283428</td>\n",
              "      <td>88.716572</td>\n",
              "    </tr>\n",
              "    <tr>\n",
              "      <th>1</th>\n",
              "      <td>Bomet</td>\n",
              "      <td>7552</td>\n",
              "      <td>581</td>\n",
              "      <td>113311</td>\n",
              "      <td>45434</td>\n",
              "      <td>1135</td>\n",
              "      <td>1444</td>\n",
              "      <td>4958</td>\n",
              "      <td>499</td>\n",
              "      <td>174914</td>\n",
              "      <td>2.852086</td>\n",
              "      <td>7.152086</td>\n",
              "      <td>92.847914</td>\n",
              "    </tr>\n",
              "    <tr>\n",
              "      <th>2</th>\n",
              "      <td>Bungoma</td>\n",
              "      <td>12219</td>\n",
              "      <td>1351</td>\n",
              "      <td>72256</td>\n",
              "      <td>180120</td>\n",
              "      <td>1704</td>\n",
              "      <td>1493</td>\n",
              "      <td>1223</td>\n",
              "      <td>458</td>\n",
              "      <td>270824</td>\n",
              "      <td>0.463371</td>\n",
              "      <td>4.963371</td>\n",
              "      <td>95.036629</td>\n",
              "    </tr>\n",
              "    <tr>\n",
              "      <th>3</th>\n",
              "      <td>Busia</td>\n",
              "      <td>9253</td>\n",
              "      <td>494</td>\n",
              "      <td>33283</td>\n",
              "      <td>108949</td>\n",
              "      <td>709</td>\n",
              "      <td>566</td>\n",
              "      <td>633</td>\n",
              "      <td>338</td>\n",
              "      <td>154225</td>\n",
              "      <td>0.410115</td>\n",
              "      <td>6.410115</td>\n",
              "      <td>93.589885</td>\n",
              "    </tr>\n",
              "    <tr>\n",
              "      <th>4</th>\n",
              "      <td>Elgeyo Marakwet</td>\n",
              "      <td>5547</td>\n",
              "      <td>220</td>\n",
              "      <td>36321</td>\n",
              "      <td>21891</td>\n",
              "      <td>449</td>\n",
              "      <td>11744</td>\n",
              "      <td>1155</td>\n",
              "      <td>228</td>\n",
              "      <td>77555</td>\n",
              "      <td>1.441609</td>\n",
              "      <td>8.641609</td>\n",
              "      <td>91.358391</td>\n",
              "    </tr>\n",
              "  </tbody>\n",
              "</table>\n",
              "</div>"
            ],
            "text/plain": [
              "            county  ...  percent_without_elec\n",
              "0          Baringo  ...             88.716572\n",
              "1            Bomet  ...             92.847914\n",
              "2          Bungoma  ...             95.036629\n",
              "3            Busia  ...             93.589885\n",
              "4  Elgeyo Marakwet  ...             91.358391\n",
              "\n",
              "[5 rows x 13 columns]"
            ]
          },
          "metadata": {
            "tags": []
          },
          "execution_count": 63
        }
      ]
    },
    {
      "cell_type": "markdown",
      "metadata": {
        "id": "sN7BR6LpoVZa"
      },
      "source": [
        "### Compare households with electricity (%) 2009-2011"
      ]
    },
    {
      "cell_type": "code",
      "metadata": {
        "colab": {
          "base_uri": "https://localhost:8080/",
          "height": 0
        },
        "id": "bwpOasUhfT0T",
        "outputId": "4af1ccf0-c99e-43bf-c40a-f6a577b4b904"
      },
      "source": [
        "# Comparing overall accessibility to electricity in Kenya between 2009 and 2011\n",
        "#creating variable 2009 overal country accessibility to Elec\n",
        "v2009 = copy_2009.iloc[0, 2]\n",
        "v2009\n",
        "#variable to store/reference overall 2019 connectivity to Elec  \n",
        "o19 = (Energy_2011['no_of_households_with_electricity'] + Energy_2011['no_of_households_with_solar']).sum()/(Energy_2011['households']).sum()\n",
        "v2011 = round(o19*100,1)\n",
        "v2011\n",
        "#list to store years compared\n",
        "l = [2009,2011]\n",
        "#var to store both 2009 and 2011 accessibility values as list\n",
        "a = [v2009,v2011]\n",
        "\n",
        "#Plotting comparison\n",
        "plt.figure(figsize = (10, 5)) \n",
        "  \n",
        "# creating the bar plot \n",
        "plt.bar(l, a,color ='maroon',  width = 0.5) \n",
        "  \n",
        "plt.xlabel(\"YEAR\") \n",
        "plt.ylabel(\"Access to Electricity(%)\") \n",
        "plt.title(\"Comparison Between 2009 and 2011 Access to Electricity\") \n",
        "plt.xticks(np.arange(2009, 2012,1.0))\n",
        "plt.show() \n",
        "\n",
        "\n",
        "\n"
      ],
      "execution_count": 64,
      "outputs": [
        {
          "output_type": "display_data",
          "data": {
            "image/png": "[encoded data removed]",
            "text/plain": [
              "<Figure size 720x360 with 1 Axes>"
            ]
          },
          "metadata": {
            "tags": [],
            "needs_background": "light"
          }
        }
      ]
    },
    {
      "cell_type": "markdown",
      "metadata": {
        "id": "mv8i2LaQiLxr"
      },
      "source": [
        "## 2011 analysis: Compare renewable energy 2011 with World Bank\n",
        "\n"
      ]
    },
    {
      "cell_type": "markdown",
      "metadata": {
        "id": "PyTQI9RK5McZ"
      },
      "source": [
        "### Most Common Energy Source for Electricity across Kenyan Counties"
      ]
    },
    {
      "cell_type": "code",
      "metadata": {
        "colab": {
          "base_uri": "https://localhost:8080/",
          "height": 0
        },
        "id": "sWQcNYYp5Oi9",
        "outputId": "290e3bf4-5321-40ad-ce7a-b554466c9548"
      },
      "source": [
        "copy_2011 = Energy_2011.copy(deep=True)\n",
        "copy_2011.head()"
      ],
      "execution_count": 65,
      "outputs": [
        {
          "output_type": "execute_result",
          "data": {
            "text/html": [
              "<div>\n",
              "<style scoped>\n",
              "    .dataframe tbody tr th:only-of-type {\n",
              "        vertical-align: middle;\n",
              "    }\n",
              "\n",
              "    .dataframe tbody tr th {\n",
              "        vertical-align: top;\n",
              "    }\n",
              "\n",
              "    .dataframe thead th {\n",
              "        text-align: right;\n",
              "    }\n",
              "</style>\n",
              "<table border=\"1\" class=\"dataframe\">\n",
              "  <thead>\n",
              "    <tr style=\"text-align: right;\">\n",
              "      <th></th>\n",
              "      <th>county</th>\n",
              "      <th>no_of_households_with_electricity</th>\n",
              "      <th>no_of_households_with_pressure_lamp</th>\n",
              "      <th>no_of_households_with_lantern</th>\n",
              "      <th>no_of_households_with_tin_lamp</th>\n",
              "      <th>no_of_households_with_gas_lamp</th>\n",
              "      <th>no_of_households_with_fuel_wood</th>\n",
              "      <th>no_of_households_with_solar</th>\n",
              "      <th>no_of_households_with_other</th>\n",
              "      <th>households</th>\n",
              "      <th>percent_growth_elec_2009_2011</th>\n",
              "      <th>percent_with_elec</th>\n",
              "      <th>percent_without_elec</th>\n",
              "    </tr>\n",
              "  </thead>\n",
              "  <tbody>\n",
              "    <tr>\n",
              "      <th>0</th>\n",
              "      <td>Baringo</td>\n",
              "      <td>10583</td>\n",
              "      <td>437</td>\n",
              "      <td>43488</td>\n",
              "      <td>22238</td>\n",
              "      <td>796</td>\n",
              "      <td>30734</td>\n",
              "      <td>1902</td>\n",
              "      <td>471</td>\n",
              "      <td>110649</td>\n",
              "      <td>1.683428</td>\n",
              "      <td>11.283428</td>\n",
              "      <td>88.716572</td>\n",
              "    </tr>\n",
              "    <tr>\n",
              "      <th>1</th>\n",
              "      <td>Bomet</td>\n",
              "      <td>7552</td>\n",
              "      <td>581</td>\n",
              "      <td>113311</td>\n",
              "      <td>45434</td>\n",
              "      <td>1135</td>\n",
              "      <td>1444</td>\n",
              "      <td>4958</td>\n",
              "      <td>499</td>\n",
              "      <td>174914</td>\n",
              "      <td>2.852086</td>\n",
              "      <td>7.152086</td>\n",
              "      <td>92.847914</td>\n",
              "    </tr>\n",
              "    <tr>\n",
              "      <th>2</th>\n",
              "      <td>Bungoma</td>\n",
              "      <td>12219</td>\n",
              "      <td>1351</td>\n",
              "      <td>72256</td>\n",
              "      <td>180120</td>\n",
              "      <td>1704</td>\n",
              "      <td>1493</td>\n",
              "      <td>1223</td>\n",
              "      <td>458</td>\n",
              "      <td>270824</td>\n",
              "      <td>0.463371</td>\n",
              "      <td>4.963371</td>\n",
              "      <td>95.036629</td>\n",
              "    </tr>\n",
              "    <tr>\n",
              "      <th>3</th>\n",
              "      <td>Busia</td>\n",
              "      <td>9253</td>\n",
              "      <td>494</td>\n",
              "      <td>33283</td>\n",
              "      <td>108949</td>\n",
              "      <td>709</td>\n",
              "      <td>566</td>\n",
              "      <td>633</td>\n",
              "      <td>338</td>\n",
              "      <td>154225</td>\n",
              "      <td>0.410115</td>\n",
              "      <td>6.410115</td>\n",
              "      <td>93.589885</td>\n",
              "    </tr>\n",
              "    <tr>\n",
              "      <th>4</th>\n",
              "      <td>Elgeyo Marakwet</td>\n",
              "      <td>5547</td>\n",
              "      <td>220</td>\n",
              "      <td>36321</td>\n",
              "      <td>21891</td>\n",
              "      <td>449</td>\n",
              "      <td>11744</td>\n",
              "      <td>1155</td>\n",
              "      <td>228</td>\n",
              "      <td>77555</td>\n",
              "      <td>1.441609</td>\n",
              "      <td>8.641609</td>\n",
              "      <td>91.358391</td>\n",
              "    </tr>\n",
              "  </tbody>\n",
              "</table>\n",
              "</div>"
            ],
            "text/plain": [
              "            county  ...  percent_without_elec\n",
              "0          Baringo  ...             88.716572\n",
              "1            Bomet  ...             92.847914\n",
              "2          Bungoma  ...             95.036629\n",
              "3            Busia  ...             93.589885\n",
              "4  Elgeyo Marakwet  ...             91.358391\n",
              "\n",
              "[5 rows x 13 columns]"
            ]
          },
          "metadata": {
            "tags": []
          },
          "execution_count": 65
        }
      ]
    },
    {
      "cell_type": "code",
      "metadata": {
        "colab": {
          "base_uri": "https://localhost:8080/",
          "height": 0
        },
        "id": "2LIM_Qkw5Svb",
        "outputId": "f6192309-6422-4e88-f070-3d5da5bd3b44"
      },
      "source": [
        "#most common/ most prevalent energy source for electricity across Kenya\n",
        "#dropping irrelevant columns and csaving into a new dataframe\n",
        "mc = Energy_2011.drop(['percent_growth_elec_2009_2011','percent_with_elec','percent_without_elec'], axis=1)\n",
        "#grouping by aggregating all rows\n",
        "mc1 = mc.groupby([True]*len(mc)).sum() \n",
        "\n",
        "#showing the relevant column with the highest number\n",
        "mc1.columns.max()"
      ],
      "execution_count": 66,
      "outputs": [
        {
          "output_type": "execute_result",
          "data": {
            "application/vnd.google.colaboratory.intrinsic+json": {
              "type": "string"
            },
            "text/plain": [
              "'no_of_households_with_tin_lamp'"
            ]
          },
          "metadata": {
            "tags": []
          },
          "execution_count": 66
        }
      ]
    },
    {
      "cell_type": "code",
      "metadata": {
        "colab": {
          "base_uri": "https://localhost:8080/"
        },
        "id": "9xQ0Dbpr5Z1J",
        "outputId": "211b6f1e-a184-4730-b5f4-2088ace7590f"
      },
      "source": [
        "#Getting the distribution of households in descending order of most used source for elec\n",
        "mc_list = mc1.sum()\n",
        "mc_list.sort_values(ascending=False)"
      ],
      "execution_count": 67,
      "outputs": [
        {
          "output_type": "execute_result",
          "data": {
            "text/plain": [
              "households                             8767954\n",
              "no_of_households_with_tin_lamp         3373126\n",
              "no_of_households_with_lantern          2670387\n",
              "no_of_households_with_electricity      1989740\n",
              "no_of_households_with_fuel_wood         396062\n",
              "no_of_households_with_solar             142273\n",
              "no_of_households_with_gas_lamp           84375\n",
              "no_of_households_with_other              59751\n",
              "no_of_households_with_pressure_lamp      52240\n",
              "dtype: int64"
            ]
          },
          "metadata": {
            "tags": []
          },
          "execution_count": 67
        }
      ]
    },
    {
      "cell_type": "code",
      "metadata": {
        "colab": {
          "base_uri": "https://localhost:8080/"
        },
        "id": "fH-5y7hM5dQ_",
        "outputId": "7d3be6f5-61d6-4fed-df6c-47630ad126fd"
      },
      "source": [
        "#in terms of % of total households(tin lamps)\n",
        "round((mc1['no_of_households_with_tin_lamp'])/(mc1['households'])*100,2)"
      ],
      "execution_count": 68,
      "outputs": [
        {
          "output_type": "execute_result",
          "data": {
            "text/plain": [
              "True    38.47\n",
              "dtype: float64"
            ]
          },
          "metadata": {
            "tags": []
          },
          "execution_count": 68
        }
      ]
    },
    {
      "cell_type": "markdown",
      "metadata": {
        "id": "SWBNtCel5V1x"
      },
      "source": [
        "### Type of Energy Source for Electricity Mostly relied on by individual counties"
      ]
    },
    {
      "cell_type": "markdown",
      "metadata": {
        "id": "JR6yhUnD5wan"
      },
      "source": [
        "Electricity use in %"
      ]
    },
    {
      "cell_type": "code",
      "metadata": {
        "colab": {
          "base_uri": "https://localhost:8080/"
        },
        "id": "RPKFDpOE5oc5",
        "outputId": "4e46b351-7208-48d7-f9d8-285cf8fa3082"
      },
      "source": [
        "#Electricity highest counties by proportion\n",
        "#% elec pop per county\n",
        "copy_2011['percent_using_elec_source'] = round((copy_2011['no_of_households_with_electricity']/copy_2011['households'])*100,2)\n",
        "copy_2011.head()\n",
        "\n",
        "#Electricity highest counties in %\n",
        "eh = copy_2011.groupby('county')['percent_using_elec_source'].sum()\n",
        "eh.nlargest(3)"
      ],
      "execution_count": 69,
      "outputs": [
        {
          "output_type": "execute_result",
          "data": {
            "text/plain": [
              "county\n",
              "Nairobi    72.37\n",
              "Mombasa    59.02\n",
              "Kiambu     53.00\n",
              "Name: percent_using_elec_source, dtype: float64"
            ]
          },
          "metadata": {
            "tags": []
          },
          "execution_count": 69
        }
      ]
    },
    {
      "cell_type": "code",
      "metadata": {
        "colab": {
          "base_uri": "https://localhost:8080/"
        },
        "id": "fS9T_AjZ52NO",
        "outputId": "881651ef-4395-43ec-f972-5a82f7ce82e8"
      },
      "source": [
        "#Electricity scarce counties by proportion in %\n",
        "eh.nsmallest(3)"
      ],
      "execution_count": 70,
      "outputs": [
        {
          "output_type": "execute_result",
          "data": {
            "text/plain": [
              "county\n",
              "Turkana       2.45\n",
              "Tana River    2.50\n",
              "Mandera       2.55\n",
              "Name: percent_using_elec_source, dtype: float64"
            ]
          },
          "metadata": {
            "tags": []
          },
          "execution_count": 70
        }
      ]
    },
    {
      "cell_type": "markdown",
      "metadata": {
        "id": "ZQ8uK1ef57CF"
      },
      "source": [
        "Pressure lamp use in %"
      ]
    },
    {
      "cell_type": "code",
      "metadata": {
        "colab": {
          "base_uri": "https://localhost:8080/"
        },
        "id": "rLNUmaGv57_Y",
        "outputId": "591a1cda-668f-458c-e83d-6c68323b2dfa"
      },
      "source": [
        "#Pressure lamp use highest counties by proportion\n",
        "#% pressure lamp use pop per county\n",
        "copy_2011['percent_using_pressure_lamp'] = round((copy_2011['no_of_households_with_pressure_lamp']/copy_2011['households'])*100,2)\n",
        "copy_2011.head()\n",
        "\n",
        "#Pressure lamp use highest counties in %\n",
        "plh = copy_2011.groupby('county')['percent_using_pressure_lamp'].sum()\n",
        "plh.nlargest(3)"
      ],
      "execution_count": 71,
      "outputs": [
        {
          "output_type": "execute_result",
          "data": {
            "text/plain": [
              "county\n",
              "Nairobi    1.05\n",
              "Mombasa    1.02\n",
              "Kajiado    0.82\n",
              "Name: percent_using_pressure_lamp, dtype: float64"
            ]
          },
          "metadata": {
            "tags": []
          },
          "execution_count": 71
        }
      ]
    },
    {
      "cell_type": "code",
      "metadata": {
        "colab": {
          "base_uri": "https://localhost:8080/"
        },
        "id": "pGmkbCLr6AXc",
        "outputId": "4e6d4ac0-98fc-491f-f076-9f4c33e586f1"
      },
      "source": [
        "#Pressure lamp least use counties by proportion in %\n",
        "plh.nsmallest(3)"
      ],
      "execution_count": 72,
      "outputs": [
        {
          "output_type": "execute_result",
          "data": {
            "text/plain": [
              "county\n",
              "Wajir         0.11\n",
              "West Pokot    0.11\n",
              "Marsabit      0.12\n",
              "Name: percent_using_pressure_lamp, dtype: float64"
            ]
          },
          "metadata": {
            "tags": []
          },
          "execution_count": 72
        }
      ]
    },
    {
      "cell_type": "markdown",
      "metadata": {
        "id": "gUvfSKKU6rX4"
      },
      "source": [
        "Lantern use in %"
      ]
    },
    {
      "cell_type": "code",
      "metadata": {
        "colab": {
          "base_uri": "https://localhost:8080/"
        },
        "id": "z0PgBgLP6sYk",
        "outputId": "7899e488-9c03-43f2-eee0-aa188dab34c1"
      },
      "source": [
        "#Lantern use highest counties by proportion\n",
        "#% lantern use pop per county\n",
        "copy_2011['percent_using_lantern'] = round((copy_2011['no_of_households_with_lantern']/copy_2011['households'])*100,2)\n",
        "copy_2011.head()\n",
        "\n",
        "#Lantern use highest counties in %\n",
        "lh = copy_2011.groupby('county')['percent_using_lantern'].sum()\n",
        "lh.nlargest(3)"
      ],
      "execution_count": 73,
      "outputs": [
        {
          "output_type": "execute_result",
          "data": {
            "text/plain": [
              "county\n",
              "Bomet        64.78\n",
              "Makueni      63.27\n",
              "Nyandarua    55.15\n",
              "Name: percent_using_lantern, dtype: float64"
            ]
          },
          "metadata": {
            "tags": []
          },
          "execution_count": 73
        }
      ]
    },
    {
      "cell_type": "code",
      "metadata": {
        "colab": {
          "base_uri": "https://localhost:8080/"
        },
        "id": "GHka2yBa60qr",
        "outputId": "a49ee863-6f04-4acc-8492-85a487c9ae9c"
      },
      "source": [
        "#Lantern least use counties by proportion in %\n",
        "lh.nsmallest(3)"
      ],
      "execution_count": 74,
      "outputs": [
        {
          "output_type": "execute_result",
          "data": {
            "text/plain": [
              "county\n",
              "Turkana     8.58\n",
              "Samburu    10.72\n",
              "Nairobi    13.01\n",
              "Name: percent_using_lantern, dtype: float64"
            ]
          },
          "metadata": {
            "tags": []
          },
          "execution_count": 74
        }
      ]
    },
    {
      "cell_type": "markdown",
      "metadata": {
        "id": "Q4pkzeVA656i"
      },
      "source": [
        "Tin Lamp use in %"
      ]
    },
    {
      "cell_type": "code",
      "metadata": {
        "colab": {
          "base_uri": "https://localhost:8080/"
        },
        "id": "WWJJPAD066t2",
        "outputId": "4aba72be-106c-414d-92c9-65e4cc25d12f"
      },
      "source": [
        "#Tin lamp use highest counties by proportion\n",
        "#% tin lamp use pop per county\n",
        "copy_2011['percent_using_tin_lamp'] = round((copy_2011['no_of_households_with_tin_lamp']/copy_2011['households'])*100,2)\n",
        "copy_2011.head()\n",
        "\n",
        "#Tin lamp use highest counties in %\n",
        "tlh = copy_2011.groupby('county')['percent_using_tin_lamp'].sum()\n",
        "tlh.nlargest(3)"
      ],
      "execution_count": 75,
      "outputs": [
        {
          "output_type": "execute_result",
          "data": {
            "text/plain": [
              "county\n",
              "Kwale       73.02\n",
              "Homa Bay    72.94\n",
              "Siaya       72.89\n",
              "Name: percent_using_tin_lamp, dtype: float64"
            ]
          },
          "metadata": {
            "tags": []
          },
          "execution_count": 75
        }
      ]
    },
    {
      "cell_type": "code",
      "metadata": {
        "colab": {
          "base_uri": "https://localhost:8080/"
        },
        "id": "he-E07JI7B4v",
        "outputId": "0c070391-7bcc-4652-d163-3a9e7b10d866"
      },
      "source": [
        "#Tin lamp least use counties by proportion in %\n",
        "tlh.nsmallest(3)"
      ],
      "execution_count": 76,
      "outputs": [
        {
          "output_type": "execute_result",
          "data": {
            "text/plain": [
              "county\n",
              "Turkana     10.98\n",
              "Marsabit    12.21\n",
              "Nairobi     12.54\n",
              "Name: percent_using_tin_lamp, dtype: float64"
            ]
          },
          "metadata": {
            "tags": []
          },
          "execution_count": 76
        }
      ]
    },
    {
      "cell_type": "markdown",
      "metadata": {
        "id": "Ng5EmfgV7Fts"
      },
      "source": [
        "Gas Lamp use in %"
      ]
    },
    {
      "cell_type": "code",
      "metadata": {
        "colab": {
          "base_uri": "https://localhost:8080/"
        },
        "id": "rjxhBK8N7G3E",
        "outputId": "a9db92d6-8d9d-4f59-bdf6-bd995968ab69"
      },
      "source": [
        "#Gas lamp use highest counties by proportion\n",
        "#% gas lamp use pop per county\n",
        "copy_2011['percent_using_gas_lamp'] = round((copy_2011['no_of_households_with_gas_lamp']/copy_2011['households'])*100,2)\n",
        "copy_2011.head()\n",
        "\n",
        "#Gas lamp use highest counties in %\n",
        "glh = copy_2011.groupby('county')['percent_using_gas_lamp'].sum()\n",
        "glh.nlargest(3)"
      ],
      "execution_count": 77,
      "outputs": [
        {
          "output_type": "execute_result",
          "data": {
            "text/plain": [
              "county\n",
              "Garissa    17.52\n",
              "Mandera    11.03\n",
              "Wajir      11.03\n",
              "Name: percent_using_gas_lamp, dtype: float64"
            ]
          },
          "metadata": {
            "tags": []
          },
          "execution_count": 77
        }
      ]
    },
    {
      "cell_type": "code",
      "metadata": {
        "colab": {
          "base_uri": "https://localhost:8080/"
        },
        "id": "zNk4_iwP7Nnn",
        "outputId": "767c78ae-909e-4157-d37b-6f2e5bf7c775"
      },
      "source": [
        "#Gas lamp least use counties by proportion in %\n",
        "glh.nsmallest(3)"
      ],
      "execution_count": 78,
      "outputs": [
        {
          "output_type": "execute_result",
          "data": {
            "text/plain": [
              "county\n",
              "Nairobi    0.13\n",
              "Mombasa    0.19\n",
              "Kiambu     0.30\n",
              "Name: percent_using_gas_lamp, dtype: float64"
            ]
          },
          "metadata": {
            "tags": []
          },
          "execution_count": 78
        }
      ]
    },
    {
      "cell_type": "markdown",
      "metadata": {
        "id": "dVGZ2wdz7TQo"
      },
      "source": [
        "Wood use in %"
      ]
    },
    {
      "cell_type": "code",
      "metadata": {
        "id": "i0Zv3SLX7UNZ",
        "colab": {
          "base_uri": "https://localhost:8080/"
        },
        "outputId": "04bf8405-aa93-4fda-d57b-4bec8a9f007d"
      },
      "source": [
        "#Wood use highest counties by proportion\n",
        "#% wood use pop per county\n",
        "copy_2011['percent_using_fuel_wood'] = round((copy_2011['no_of_households_with_fuel_wood']/copy_2011['households'])*100,2)\n",
        "copy_2011.head()\n",
        "\n",
        "#Wood use highest counties in %\n",
        "wh = copy_2011.groupby('county')['percent_using_fuel_wood'].sum()\n",
        "wh.nlargest(3)"
      ],
      "execution_count": 79,
      "outputs": [
        {
          "output_type": "execute_result",
          "data": {
            "text/plain": [
              "county\n",
              "Turkana       72.97\n",
              "Samburu       60.08\n",
              "West Pokot    50.10\n",
              "Name: percent_using_fuel_wood, dtype: float64"
            ]
          },
          "metadata": {
            "tags": []
          },
          "execution_count": 79
        }
      ]
    },
    {
      "cell_type": "code",
      "metadata": {
        "id": "Bgc7a5Jm7Yad",
        "colab": {
          "base_uri": "https://localhost:8080/"
        },
        "outputId": "f2786eb9-927d-4483-98ab-65e930e6e0fd"
      },
      "source": [
        "#Wood least use counties by proportion in %\n",
        "wh.nsmallest(3)"
      ],
      "execution_count": 80,
      "outputs": [
        {
          "output_type": "execute_result",
          "data": {
            "text/plain": [
              "county\n",
              "Nairobi    0.06\n",
              "Kiambu     0.15\n",
              "Mombasa    0.20\n",
              "Name: percent_using_fuel_wood, dtype: float64"
            ]
          },
          "metadata": {
            "tags": []
          },
          "execution_count": 80
        }
      ]
    },
    {
      "cell_type": "markdown",
      "metadata": {
        "id": "XPCQtaa-7cw6"
      },
      "source": [
        "Solar use in %"
      ]
    },
    {
      "cell_type": "code",
      "metadata": {
        "id": "bxL0i4vO7biY",
        "colab": {
          "base_uri": "https://localhost:8080/"
        },
        "outputId": "9c748d86-43db-41df-98b3-4e04678891fc"
      },
      "source": [
        "#Solar use highest counties by proportion\n",
        "#% solar use pop per county\n",
        "copy_2011['percent_using_solar'] = round((copy_2011['no_of_households_with_solar']/copy_2011['households'])*100,2)\n",
        "copy_2011.head()\n",
        "\n",
        "#Solar use highest counties in %\n",
        "sh = copy_2011.groupby('county')['percent_using_solar'].sum()\n",
        "sh.nlargest(3)"
      ],
      "execution_count": 81,
      "outputs": [
        {
          "output_type": "execute_result",
          "data": {
            "text/plain": [
              "county\n",
              "Tharaka Nithi    8.42\n",
              "Nyandarua        6.01\n",
              "Laikipia         5.94\n",
              "Name: percent_using_solar, dtype: float64"
            ]
          },
          "metadata": {
            "tags": []
          },
          "execution_count": 81
        }
      ]
    },
    {
      "cell_type": "code",
      "metadata": {
        "id": "iwx3cBPP7k2D",
        "colab": {
          "base_uri": "https://localhost:8080/"
        },
        "outputId": "a46a121d-1826-470d-8be5-ebe938dac747"
      },
      "source": [
        "#Solar least use counties by proportion in %\n",
        "sh.nsmallest(3)"
      ],
      "execution_count": 82,
      "outputs": [
        {
          "output_type": "execute_result",
          "data": {
            "text/plain": [
              "county\n",
              "Nairobi    0.10\n",
              "Mombasa    0.14\n",
              "Wajir      0.17\n",
              "Name: percent_using_solar, dtype: float64"
            ]
          },
          "metadata": {
            "tags": []
          },
          "execution_count": 82
        }
      ]
    },
    {
      "cell_type": "markdown",
      "metadata": {
        "id": "tZveiQkw7o2M"
      },
      "source": [
        "Other sources in %"
      ]
    },
    {
      "cell_type": "code",
      "metadata": {
        "id": "57BFtA167rv3",
        "colab": {
          "base_uri": "https://localhost:8080/"
        },
        "outputId": "955489bf-9c57-4d19-a1a4-d11a5f571daa"
      },
      "source": [
        "#Other source use highest counties by proportion\n",
        "#% other source use pop per county\n",
        "copy_2011['percent_using_other'] = round((copy_2011['no_of_households_with_other']/copy_2011['households'])*100,2)\n",
        "copy_2011.head()\n",
        "\n",
        "#Solar use highest counties in %\n",
        "oh = copy_2011.groupby('county')['percent_using_other'].sum()\n",
        "oh.nlargest(3)"
      ],
      "execution_count": 83,
      "outputs": [
        {
          "output_type": "execute_result",
          "data": {
            "text/plain": [
              "county\n",
              "Wajir       7.17\n",
              "Garissa     6.92\n",
              "Marsabit    5.06\n",
              "Name: percent_using_other, dtype: float64"
            ]
          },
          "metadata": {
            "tags": []
          },
          "execution_count": 83
        }
      ]
    },
    {
      "cell_type": "code",
      "metadata": {
        "id": "XGPvRgso7vqg",
        "colab": {
          "base_uri": "https://localhost:8080/"
        },
        "outputId": "29d02812-6bbe-4b6c-cf17-b21f17ab9dd4"
      },
      "source": [
        "#Other source least use counties by proportion in %\n",
        "oh.nsmallest(3)"
      ],
      "execution_count": 84,
      "outputs": [
        {
          "output_type": "execute_result",
          "data": {
            "text/plain": [
              "county\n",
              "Nyamira     0.06\n",
              "Vihiga      0.10\n",
              "Homa Bay    0.11\n",
              "Name: percent_using_other, dtype: float64"
            ]
          },
          "metadata": {
            "tags": []
          },
          "execution_count": 84
        }
      ]
    },
    {
      "cell_type": "markdown",
      "metadata": {
        "id": "ugi7EHu65vwP"
      },
      "source": [
        "### Comparison between renewable energy 2011 with World Bank"
      ]
    },
    {
      "cell_type": "code",
      "metadata": {
        "colab": {
          "base_uri": "https://localhost:8080/"
        },
        "id": "wcM7jWHkzZps",
        "outputId": "baddac03-1957-40ae-a83a-e1f44db05178"
      },
      "source": [
        "#Electricity connectivity 2011 in %\n",
        "Electricity_total = (Energy_2011['no_of_households_with_electricity'].sum() + Energy_2011['no_of_households_with_solar'].sum()) / Energy_2011['households'].sum()\n",
        "e2011 = round(Electricity_total * 100, 2)\n",
        "e2011\n",
        "#but W.B showed 29% access in 2011\n",
        "\n",
        "e2011 == Electricity_access.iloc[21, 2:]"
      ],
      "execution_count": 85,
      "outputs": [
        {
          "output_type": "execute_result",
          "data": {
            "text/plain": [
              "percent_access_to_electricity    False\n",
              "Name: 21, dtype: bool"
            ]
          },
          "metadata": {
            "tags": []
          },
          "execution_count": 85
        }
      ]
    },
    {
      "cell_type": "code",
      "metadata": {
        "colab": {
          "base_uri": "https://localhost:8080/"
        },
        "id": "Wp2CIBuvuAfo",
        "outputId": "d1b5ec88-f4ed-46c6-dfa3-ff17359e2401"
      },
      "source": [
        "# Check if 2011 solar adds up to 0.305242% as reported by World Bank\n",
        "Solar = Energy_2011['no_of_households_with_solar'].sum() / (Energy_2011['no_of_households_with_electricity'].sum() + Energy_2011['no_of_households_with_solar'].sum())\n",
        "Solar_percentage = Solar * 100\n",
        "round(Solar_percentage,2)\n",
        "#Source.loc[Source.year == 2011, 'solar_percent_of_electricity'] / Solar_percentage\n",
        "# Value shows that the World Bank solar percentage is lower than the 2011 dataset from Open Data."
      ],
      "execution_count": 86,
      "outputs": [
        {
          "output_type": "execute_result",
          "data": {
            "text/plain": [
              "6.67"
            ]
          },
          "metadata": {
            "tags": []
          },
          "execution_count": 86
        }
      ]
    },
    {
      "cell_type": "code",
      "metadata": {
        "colab": {
          "base_uri": "https://localhost:8080/"
        },
        "id": "ryfmpg06uPSd",
        "outputId": "d82e1f41-992b-4938-e455-c9f4bba14ff1"
      },
      "source": [
        "# Check if 2011 electricity percentage matches hydro as reported by World Bank\n",
        "Electricity = Energy_2011['no_of_households_with_electricity'].sum() / (Energy_2011['no_of_households_with_electricity'].sum() + Energy_2011['no_of_households_with_solar'].sum())\n",
        "Elec_percentage = round(Electricity * 100,2)\n",
        "Elec_percentage\n",
        "# Source.loc[Source.year == 2011, ''] / Solar_percentage"
      ],
      "execution_count": 87,
      "outputs": [
        {
          "output_type": "execute_result",
          "data": {
            "text/plain": [
              "93.33"
            ]
          },
          "metadata": {
            "tags": []
          },
          "execution_count": 87
        }
      ]
    },
    {
      "cell_type": "markdown",
      "metadata": {
        "id": "WxUmZ0RjYrYo"
      },
      "source": [
        "## WORLD BANK DATASETS"
      ]
    },
    {
      "cell_type": "markdown",
      "metadata": {
        "id": "T6VH7v9sY0Pn"
      },
      "source": [
        "### Compare general stats for Kenya (2009 & 2011) with World Bank datasets for Validity\n",
        "\n"
      ]
    },
    {
      "cell_type": "code",
      "metadata": {
        "id": "Tk_cVidSYwaw"
      },
      "source": [
        "#sum 2009,11 and compare WB corresponding years. Bar chart(09/11)"
      ],
      "execution_count": 88,
      "outputs": []
    },
    {
      "cell_type": "markdown",
      "metadata": {
        "id": "43OlJDzHZCxl"
      },
      "source": [
        "### Observe share of the population with access to electricity over the years (trend)\n"
      ]
    },
    {
      "cell_type": "code",
      "metadata": {
        "colab": {
          "base_uri": "https://localhost:8080/",
          "height": 0
        },
        "id": "MujFqhriZIUv",
        "outputId": "73c8b8ed-ed73-450a-a6e0-de982bc477c6"
      },
      "source": [
        "#population with electricity over the years\n",
        "Electricity_access.head()\n",
        "\n",
        "Electricity_access.plot(x='year', y='percent_access_to_electricity',figsize= (20,10), label ='Access to Electricity')\n",
        "plt.title('Proportion of Kenyan Population with Access to Electricity')\n",
        "plt.xlabel('YEAR')\n",
        "plt.ylabel('Population with Access to Electricity(%)')\n",
        "plt.show()\n",
        "\n",
        "##possible recommendations: try and explain reason for dips using secondary sources of data\n"
      ],
      "execution_count": 89,
      "outputs": [
        {
          "output_type": "display_data",
          "data": {
            "image/png": "[encoded data removed]",
            "text/plain": [
              "<Figure size 1440x720 with 1 Axes>"
            ]
          },
          "metadata": {
            "tags": [],
            "needs_background": "light"
          }
        }
      ]
    },
    {
      "cell_type": "markdown",
      "metadata": {
        "id": "X3YTNIbhZKMu"
      },
      "source": [
        "### Observe share of electricity by source over the years (trend)"
      ]
    },
    {
      "cell_type": "code",
      "metadata": {
        "colab": {
          "base_uri": "https://localhost:8080/",
          "height": 0
        },
        "id": "XUkk2lM9ZO3E",
        "outputId": "94e4b77d-4baf-41d0-cf0d-2165c46b27a0"
      },
      "source": [
        "#share of electricity by source over the years\n",
        "Source.head()\n",
        "\n",
        "#defining what to plot and how to do it\n",
        "plt.figure(figsize= (20,10))\n",
        "plt.plot(Source['year'], Source['coal_percent_of_electricity'],'r', label='Coal')\n",
        "plt.plot(Source['year'], Source['oil_percent_of_electricity'], 'b', label='Oil')\n",
        "plt.plot(Source['year'], Source['hydro_percent_of_electricity'], 'g', label='Hydro')\n",
        "plt.plot(Source['year'], Source['gas_percent_of_electricity'], 'c', label= 'Gas')\n",
        "plt.plot(Source['year'], Source['nuclear_percent_of_electricity'], 'm', label='Nuclear')\n",
        "plt.plot(Source['year'], Source['solar_percent_of_electricity'], 'y', label='Solar')\n",
        "plt.plot(Source['year'], Source['wind_percent_of_electricity'], 'k', label='Wind')\n",
        "plt.plot(Source['year'], Source['other_renewables_percent_of_electricity'], '0.6', label='Other Renewables')\n",
        "\n",
        "\n",
        "#plotting all the types onto the same plot for comparison\n",
        "plt.title('Proportion of Energy Type Sources for Electricity Used in Kenya')\n",
        "plt.xlabel('YEAR')\n",
        "plt.ylabel('Percentage Source Type of Electricity(%)')\n",
        "plt.xticks(np.arange(min(Source['year']), max(Source['year']), 2.0))\n",
        "plt.legend()\n",
        "plt.show()\n",
        "\n"
      ],
      "execution_count": 90,
      "outputs": [
        {
          "output_type": "display_data",
          "data": {
            "image/png": "[encoded data removed]",
            "text/plain": [
              "<Figure size 1440x720 with 1 Axes>"
            ]
          },
          "metadata": {
            "tags": [],
            "needs_background": "light"
          }
        }
      ]
    },
    {
      "cell_type": "markdown",
      "metadata": {
        "id": "2JyZPbjPZPsd"
      },
      "source": [
        "### Observe share of electricity with fossil fuels over the years (trend)"
      ]
    },
    {
      "cell_type": "code",
      "metadata": {
        "colab": {
          "base_uri": "https://localhost:8080/",
          "height": 0
        },
        "id": "vrMg64HCuYNG",
        "outputId": "2f687b2c-efae-41ec-fb7a-3bccc68590c2"
      },
      "source": [
        "#Fossil fuel usage will be the sum of all carbon sourced energy forms\n",
        "#creating a column to reflect that\n",
        "#Nuclear energy was not included as a fossil fuel\n",
        "Source['fossil_percent_of_electricity'] = Source['coal_percent_of_electricity'] + Source['oil_percent_of_electricity'] + Source['gas_percent_of_electricity']\n",
        "Source.head()\n",
        "\n",
        "#plotting the share of fossil fuel over the years\n",
        "Source.plot(x='year', y='fossil_percent_of_electricity',figsize= (20,10), label= 'Fossil')\n",
        "plt.title('Proportion of Fossil Fuel as Electricity Source in Kenya')\n",
        "plt.xlabel('Years')\n",
        "plt.ylabel('Fossil Fuel as Electricity Source(%)')\n",
        "plt.xticks(np.arange(min(Source['year']), max(Source['year']), 2.0))\n",
        "plt.show()\n"
      ],
      "execution_count": 91,
      "outputs": [
        {
          "output_type": "display_data",
          "data": {
            "image/png": "[encoded data removed]",
            "text/plain": [
              "<Figure size 1440x720 with 1 Axes>"
            ]
          },
          "metadata": {
            "tags": [],
            "needs_background": "light"
          }
        }
      ]
    },
    {
      "cell_type": "markdown",
      "metadata": {
        "id": "i55z1lvIZUUX"
      },
      "source": [
        "### Observe trend of carbon emissions over the years\n"
      ]
    },
    {
      "cell_type": "code",
      "metadata": {
        "id": "jv8H0bWqxlpP"
      },
      "source": [
        "#The trend of Carbon Emissions can be tracked by the trend of the use of fossil fuel as shown above/previous cell."
      ],
      "execution_count": 92,
      "outputs": []
    },
    {
      "cell_type": "markdown",
      "metadata": {
        "id": "Ajr3xGGNZZLd"
      },
      "source": [
        "### Observe share of electricity with renewable energy over the years (trend)\n"
      ]
    },
    {
      "cell_type": "code",
      "metadata": {
        "colab": {
          "base_uri": "https://localhost:8080/",
          "height": 0
        },
        "id": "8WpchpN9Zcs3",
        "outputId": "0eb3ccc8-1489-477d-83ac-123050fb9cf0"
      },
      "source": [
        "#Renewables usage\n",
        "#plotting the share of renewables over the years\n",
        "Source.plot(x='year', y='percent_total_renewables',figsize= (20,10), label = 'Renewables')\n",
        "plt.title('Proportion of Renewables as Electricity Source in Kenya')\n",
        "plt.xlabel('Years')\n",
        "plt.ylabel('Renewables as Electricity Source(%)')\n",
        "plt.xticks(np.arange(min(Source['year']), max(Source['year']), 2.0))\n",
        "plt.show()\n"
      ],
      "execution_count": 93,
      "outputs": [
        {
          "output_type": "display_data",
          "data": {
            "image/png": "[encoded data removed]",
            "text/plain": [
              "<Figure size 1440x720 with 1 Axes>"
            ]
          },
          "metadata": {
            "tags": [],
            "needs_background": "light"
          }
        }
      ]
    },
    {
      "cell_type": "markdown",
      "metadata": {
        "id": "vyf3aPh_Zdjn"
      },
      "source": [
        "### Comparison of electricity with renewable vs fossil fuel"
      ]
    },
    {
      "cell_type": "code",
      "metadata": {
        "colab": {
          "base_uri": "https://localhost:8080/",
          "height": 0
        },
        "id": "1SCd4wzlZigJ",
        "outputId": "36b8bf8a-3255-49f0-aa6e-e5577d82ed73"
      },
      "source": [
        "#plotting both together to view the trends simultaneously over the years\n",
        "#defining what to plot and how to do it\n",
        "plt.figure(figsize= (20,10))\n",
        "plt.plot(Source['year'], Source['fossil_percent_of_electricity'],'r', label='Fossil')\n",
        "plt.plot(Source['year'], Source['percent_total_renewables'], 'g', label='Renewables')\n",
        "\n",
        "\n",
        "#plotting both types onto the same plot for comparison\n",
        "plt.title('Proportion of Fossil Vs Renewable Energy as Electricity Sources Used in Kenya')\n",
        "plt.xlabel('YEAR')\n",
        "plt.ylabel('Source of Electricity(%)')\n",
        "plt.xticks(np.arange(min(Source['year']), max(Source['year']), 2.0))\n",
        "plt.legend()\n",
        "plt.show()\n"
      ],
      "execution_count": 94,
      "outputs": [
        {
          "output_type": "display_data",
          "data": {
            "image/png": "[encoded data removed]",
            "text/plain": [
              "<Figure size 1440x720 with 1 Axes>"
            ]
          },
          "metadata": {
            "tags": [],
            "needs_background": "light"
          }
        }
      ]
    },
    {
      "cell_type": "markdown",
      "metadata": {
        "id": "EXPyFRSb056Z"
      },
      "source": [
        "### Is the country in line with 30% reduction of fossil fuel from 2015?"
      ]
    },
    {
      "cell_type": "code",
      "metadata": {
        "id": "QnbRp_QD07Oo"
      },
      "source": [
        "#2019 - 2015 fossil fuel, is it == to 30%?"
      ],
      "execution_count": 95,
      "outputs": []
    },
    {
      "cell_type": "markdown",
      "metadata": {
        "id": "fH00NuemQri9"
      },
      "source": [
        "### Is the country in line to achieve 80% renewable energy as the primary energy source?(2020)"
      ]
    },
    {
      "cell_type": "code",
      "metadata": {
        "id": "9nwAwBgvQv_H"
      },
      "source": [
        "#check renewable % by 2019, then forecast to 2020?"
      ],
      "execution_count": 96,
      "outputs": []
    },
    {
      "cell_type": "markdown",
      "metadata": {
        "id": "VxmzeliJZjXF"
      },
      "source": [
        "### Is the country in line to achieve 100% renewable energy as the primary energy source?(2022)"
      ]
    },
    {
      "cell_type": "code",
      "metadata": {
        "id": "zjzyaynDZnVx"
      },
      "source": [
        "#renewable plot up to 2019 average that over the remaining year for 2020 and 2022???"
      ],
      "execution_count": 97,
      "outputs": []
    }
  ]
}
